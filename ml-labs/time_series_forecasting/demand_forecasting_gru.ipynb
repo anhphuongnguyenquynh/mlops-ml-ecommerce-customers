{
 "cells": [
  {
   "cell_type": "markdown",
   "metadata": {},
   "source": [
    "# Import libraries"
   ]
  },
  {
   "cell_type": "code",
   "execution_count": 1,
   "metadata": {},
   "outputs": [],
   "source": [
    "import torch.nn as nn\n",
    "import matplotlib.pyplot as plt \n",
    "import copy \n",
    "import random\n",
    "import sys\n",
    "import numpy as np \n",
    "import pandas as pd\n",
    "import torch\n",
    "from sklearn.preprocessing import MinMaxScaler \n",
    "\n"
   ]
  },
  {
   "cell_type": "markdown",
   "metadata": {},
   "source": [
    "# Load dataset"
   ]
  },
  {
   "cell_type": "code",
   "execution_count": 2,
   "metadata": {},
   "outputs": [],
   "source": [
    "olist_orders = pd.read_csv(\"/Users/phuongnguyen/Documents/Code Github/mlops-ml-ecommerce-customers/sample_files/olist_dataset/olist_orders_dataset.csv\")"
   ]
  },
  {
   "cell_type": "code",
   "execution_count": 3,
   "metadata": {},
   "outputs": [
    {
     "data": {
      "text/html": [
       "<div>\n",
       "<style scoped>\n",
       "    .dataframe tbody tr th:only-of-type {\n",
       "        vertical-align: middle;\n",
       "    }\n",
       "\n",
       "    .dataframe tbody tr th {\n",
       "        vertical-align: top;\n",
       "    }\n",
       "\n",
       "    .dataframe thead th {\n",
       "        text-align: right;\n",
       "    }\n",
       "</style>\n",
       "<table border=\"1\" class=\"dataframe\">\n",
       "  <thead>\n",
       "    <tr style=\"text-align: right;\">\n",
       "      <th></th>\n",
       "      <th>order_id</th>\n",
       "      <th>customer_id</th>\n",
       "      <th>order_status</th>\n",
       "      <th>order_purchase_timestamp</th>\n",
       "      <th>order_approved_at</th>\n",
       "      <th>order_delivered_carrier_date</th>\n",
       "      <th>order_delivered_customer_date</th>\n",
       "      <th>order_estimated_delivery_date</th>\n",
       "      <th>purchase_datetime</th>\n",
       "      <th>purchase_date</th>\n",
       "      <th>purchase_month</th>\n",
       "    </tr>\n",
       "  </thead>\n",
       "  <tbody>\n",
       "    <tr>\n",
       "      <th>0</th>\n",
       "      <td>e481f51cbdc54678b7cc49136f2d6af7</td>\n",
       "      <td>9ef432eb6251297304e76186b10a928d</td>\n",
       "      <td>delivered</td>\n",
       "      <td>2017-10-02 10:56:33</td>\n",
       "      <td>2017-10-02 11:07:15</td>\n",
       "      <td>2017-10-04 19:55:00</td>\n",
       "      <td>2017-10-10 21:25:13</td>\n",
       "      <td>2017-10-18 00:00:00</td>\n",
       "      <td>2017-10-02 10:56:33</td>\n",
       "      <td>2017-10-02</td>\n",
       "      <td>2017-10</td>\n",
       "    </tr>\n",
       "    <tr>\n",
       "      <th>1</th>\n",
       "      <td>53cdb2fc8bc7dce0b6741e2150273451</td>\n",
       "      <td>b0830fb4747a6c6d20dea0b8c802d7ef</td>\n",
       "      <td>delivered</td>\n",
       "      <td>2018-07-24 20:41:37</td>\n",
       "      <td>2018-07-26 03:24:27</td>\n",
       "      <td>2018-07-26 14:31:00</td>\n",
       "      <td>2018-08-07 15:27:45</td>\n",
       "      <td>2018-08-13 00:00:00</td>\n",
       "      <td>2018-07-24 20:41:37</td>\n",
       "      <td>2018-07-24</td>\n",
       "      <td>2018-07</td>\n",
       "    </tr>\n",
       "    <tr>\n",
       "      <th>2</th>\n",
       "      <td>47770eb9100c2d0c44946d9cf07ec65d</td>\n",
       "      <td>41ce2a54c0b03bf3443c3d931a367089</td>\n",
       "      <td>delivered</td>\n",
       "      <td>2018-08-08 08:38:49</td>\n",
       "      <td>2018-08-08 08:55:23</td>\n",
       "      <td>2018-08-08 13:50:00</td>\n",
       "      <td>2018-08-17 18:06:29</td>\n",
       "      <td>2018-09-04 00:00:00</td>\n",
       "      <td>2018-08-08 08:38:49</td>\n",
       "      <td>2018-08-08</td>\n",
       "      <td>2018-08</td>\n",
       "    </tr>\n",
       "    <tr>\n",
       "      <th>3</th>\n",
       "      <td>949d5b44dbf5de918fe9c16f97b45f8a</td>\n",
       "      <td>f88197465ea7920adcdbec7375364d82</td>\n",
       "      <td>delivered</td>\n",
       "      <td>2017-11-18 19:28:06</td>\n",
       "      <td>2017-11-18 19:45:59</td>\n",
       "      <td>2017-11-22 13:39:59</td>\n",
       "      <td>2017-12-02 00:28:42</td>\n",
       "      <td>2017-12-15 00:00:00</td>\n",
       "      <td>2017-11-18 19:28:06</td>\n",
       "      <td>2017-11-18</td>\n",
       "      <td>2017-11</td>\n",
       "    </tr>\n",
       "    <tr>\n",
       "      <th>4</th>\n",
       "      <td>ad21c59c0840e6cb83a9ceb5573f8159</td>\n",
       "      <td>8ab97904e6daea8866dbdbc4fb7aad2c</td>\n",
       "      <td>delivered</td>\n",
       "      <td>2018-02-13 21:18:39</td>\n",
       "      <td>2018-02-13 22:20:29</td>\n",
       "      <td>2018-02-14 19:46:34</td>\n",
       "      <td>2018-02-16 18:17:02</td>\n",
       "      <td>2018-02-26 00:00:00</td>\n",
       "      <td>2018-02-13 21:18:39</td>\n",
       "      <td>2018-02-13</td>\n",
       "      <td>2018-02</td>\n",
       "    </tr>\n",
       "  </tbody>\n",
       "</table>\n",
       "</div>"
      ],
      "text/plain": [
       "                           order_id                       customer_id  \\\n",
       "0  e481f51cbdc54678b7cc49136f2d6af7  9ef432eb6251297304e76186b10a928d   \n",
       "1  53cdb2fc8bc7dce0b6741e2150273451  b0830fb4747a6c6d20dea0b8c802d7ef   \n",
       "2  47770eb9100c2d0c44946d9cf07ec65d  41ce2a54c0b03bf3443c3d931a367089   \n",
       "3  949d5b44dbf5de918fe9c16f97b45f8a  f88197465ea7920adcdbec7375364d82   \n",
       "4  ad21c59c0840e6cb83a9ceb5573f8159  8ab97904e6daea8866dbdbc4fb7aad2c   \n",
       "\n",
       "  order_status order_purchase_timestamp    order_approved_at  \\\n",
       "0    delivered      2017-10-02 10:56:33  2017-10-02 11:07:15   \n",
       "1    delivered      2018-07-24 20:41:37  2018-07-26 03:24:27   \n",
       "2    delivered      2018-08-08 08:38:49  2018-08-08 08:55:23   \n",
       "3    delivered      2017-11-18 19:28:06  2017-11-18 19:45:59   \n",
       "4    delivered      2018-02-13 21:18:39  2018-02-13 22:20:29   \n",
       "\n",
       "  order_delivered_carrier_date order_delivered_customer_date  \\\n",
       "0          2017-10-04 19:55:00           2017-10-10 21:25:13   \n",
       "1          2018-07-26 14:31:00           2018-08-07 15:27:45   \n",
       "2          2018-08-08 13:50:00           2018-08-17 18:06:29   \n",
       "3          2017-11-22 13:39:59           2017-12-02 00:28:42   \n",
       "4          2018-02-14 19:46:34           2018-02-16 18:17:02   \n",
       "\n",
       "  order_estimated_delivery_date   purchase_datetime purchase_date  \\\n",
       "0           2017-10-18 00:00:00 2017-10-02 10:56:33    2017-10-02   \n",
       "1           2018-08-13 00:00:00 2018-07-24 20:41:37    2018-07-24   \n",
       "2           2018-09-04 00:00:00 2018-08-08 08:38:49    2018-08-08   \n",
       "3           2017-12-15 00:00:00 2017-11-18 19:28:06    2017-11-18   \n",
       "4           2018-02-26 00:00:00 2018-02-13 21:18:39    2018-02-13   \n",
       "\n",
       "  purchase_month  \n",
       "0        2017-10  \n",
       "1        2018-07  \n",
       "2        2018-08  \n",
       "3        2017-11  \n",
       "4        2018-02  "
      ]
     },
     "execution_count": 3,
     "metadata": {},
     "output_type": "execute_result"
    }
   ],
   "source": [
    "### Extract monthly sales\n",
    "# Convert order purchase timestamp to_datetime\n",
    "olist_orders['purchase_datetime'] = pd.to_datetime(olist_orders['order_purchase_timestamp'])\n",
    "# Get date only\n",
    "olist_orders['purchase_date'] = olist_orders['purchase_datetime'].dt.date\n",
    "# Get month only\n",
    "olist_orders['purchase_month'] = olist_orders['purchase_datetime'].dt.strftime('%Y-%m')\n",
    "\n",
    "olist_orders.head(5)"
   ]
  },
  {
   "cell_type": "code",
   "execution_count": 4,
   "metadata": {},
   "outputs": [
    {
     "data": {
      "text/html": [
       "<div>\n",
       "<style scoped>\n",
       "    .dataframe tbody tr th:only-of-type {\n",
       "        vertical-align: middle;\n",
       "    }\n",
       "\n",
       "    .dataframe tbody tr th {\n",
       "        vertical-align: top;\n",
       "    }\n",
       "\n",
       "    .dataframe thead th {\n",
       "        text-align: right;\n",
       "    }\n",
       "</style>\n",
       "<table border=\"1\" class=\"dataframe\">\n",
       "  <thead>\n",
       "    <tr style=\"text-align: right;\">\n",
       "      <th></th>\n",
       "      <th>month</th>\n",
       "      <th>no_orders</th>\n",
       "    </tr>\n",
       "  </thead>\n",
       "  <tbody>\n",
       "    <tr>\n",
       "      <th>24</th>\n",
       "      <td>2018-10</td>\n",
       "      <td>4</td>\n",
       "    </tr>\n",
       "    <tr>\n",
       "      <th>23</th>\n",
       "      <td>2018-09</td>\n",
       "      <td>16</td>\n",
       "    </tr>\n",
       "    <tr>\n",
       "      <th>22</th>\n",
       "      <td>2018-08</td>\n",
       "      <td>6512</td>\n",
       "    </tr>\n",
       "    <tr>\n",
       "      <th>21</th>\n",
       "      <td>2018-07</td>\n",
       "      <td>6292</td>\n",
       "    </tr>\n",
       "    <tr>\n",
       "      <th>20</th>\n",
       "      <td>2018-06</td>\n",
       "      <td>6167</td>\n",
       "    </tr>\n",
       "  </tbody>\n",
       "</table>\n",
       "</div>"
      ],
      "text/plain": [
       "      month  no_orders\n",
       "24  2018-10          4\n",
       "23  2018-09         16\n",
       "22  2018-08       6512\n",
       "21  2018-07       6292\n",
       "20  2018-06       6167"
      ]
     },
     "execution_count": 4,
     "metadata": {},
     "output_type": "execute_result"
    }
   ],
   "source": [
    "#Group by month, number of orders\n",
    "orders_bymonth = olist_orders.groupby('purchase_month')['order_id'].nunique().reset_index()\n",
    "orders_bymonth.columns = ['month', 'no_orders']\n",
    "#Sort ascending month\n",
    "orders_bymonth = orders_bymonth.sort_values('month', ascending = False)\n",
    "orders_bymonth.head(5)"
   ]
  },
  {
   "cell_type": "code",
   "execution_count": 5,
   "metadata": {},
   "outputs": [
    {
     "data": {
      "text/html": [
       "<div>\n",
       "<style scoped>\n",
       "    .dataframe tbody tr th:only-of-type {\n",
       "        vertical-align: middle;\n",
       "    }\n",
       "\n",
       "    .dataframe tbody tr th {\n",
       "        vertical-align: top;\n",
       "    }\n",
       "\n",
       "    .dataframe thead th {\n",
       "        text-align: right;\n",
       "    }\n",
       "</style>\n",
       "<table border=\"1\" class=\"dataframe\">\n",
       "  <thead>\n",
       "    <tr style=\"text-align: right;\">\n",
       "      <th></th>\n",
       "      <th>date</th>\n",
       "      <th>no_orders</th>\n",
       "    </tr>\n",
       "  </thead>\n",
       "  <tbody>\n",
       "    <tr>\n",
       "      <th>633</th>\n",
       "      <td>2018-10-17</td>\n",
       "      <td>1</td>\n",
       "    </tr>\n",
       "    <tr>\n",
       "      <th>632</th>\n",
       "      <td>2018-10-16</td>\n",
       "      <td>1</td>\n",
       "    </tr>\n",
       "    <tr>\n",
       "      <th>631</th>\n",
       "      <td>2018-10-03</td>\n",
       "      <td>1</td>\n",
       "    </tr>\n",
       "    <tr>\n",
       "      <th>630</th>\n",
       "      <td>2018-10-01</td>\n",
       "      <td>1</td>\n",
       "    </tr>\n",
       "    <tr>\n",
       "      <th>629</th>\n",
       "      <td>2018-09-29</td>\n",
       "      <td>1</td>\n",
       "    </tr>\n",
       "  </tbody>\n",
       "</table>\n",
       "</div>"
      ],
      "text/plain": [
       "           date  no_orders\n",
       "633  2018-10-17          1\n",
       "632  2018-10-16          1\n",
       "631  2018-10-03          1\n",
       "630  2018-10-01          1\n",
       "629  2018-09-29          1"
      ]
     },
     "execution_count": 5,
     "metadata": {},
     "output_type": "execute_result"
    }
   ],
   "source": [
    "#Group by date, number of orders\n",
    "orders_bydate = olist_orders.groupby('purchase_date')['order_id'].nunique().reset_index()\n",
    "orders_bydate.columns = ['date', 'no_orders']\n",
    "orders_bydate = orders_bydate.sort_values('date', ascending = False)\n",
    "orders_bydate.head(5)"
   ]
  },
  {
   "cell_type": "code",
   "execution_count": 6,
   "metadata": {},
   "outputs": [
    {
     "data": {
      "image/png": "[encoded data removed]",
      "text/plain": [
       "<Figure size 640x480 with 1 Axes>"
      ]
     },
     "metadata": {},
     "output_type": "display_data"
    }
   ],
   "source": [
    "orders_bydate.plot()\n",
    "plt.show()"
   ]
  },
  {
   "cell_type": "code",
   "execution_count": 7,
   "metadata": {},
   "outputs": [
    {
     "data": {
      "image/png": "[encoded data removed]",
      "text/plain": [
       "<Figure size 640x480 with 1 Axes>"
      ]
     },
     "metadata": {},
     "output_type": "display_data"
    }
   ],
   "source": [
    "# Remove outliers\n",
    "orders_bydate_filtered = orders_bydate.loc[orders_bydate['no_orders'] < 400]\n",
    "\n",
    "orders_bydate_filtered.plot()\n",
    "plt.show()\n"
   ]
  },
  {
   "cell_type": "markdown",
   "metadata": {},
   "source": [
    "# Preparing datasets for training"
   ]
  },
  {
   "cell_type": "code",
   "execution_count": 8,
   "metadata": {},
   "outputs": [],
   "source": [
    "orders_bydate_gru = orders_bydate_filtered.copy()"
   ]
  },
  {
   "cell_type": "code",
   "execution_count": 9,
   "metadata": {},
   "outputs": [],
   "source": [
    "#set_index by date, make sure sort descending correctly\n",
    "# orders_bydate_rnn.set_index('date', inplace = True)\n",
    "# orders_bydate_rnn.head(5)"
   ]
  },
  {
   "cell_type": "code",
   "execution_count": 10,
   "metadata": {},
   "outputs": [],
   "source": [
    "orders_bydate_gru.sort_values('date', inplace = True)"
   ]
  },
  {
   "cell_type": "code",
   "execution_count": 11,
   "metadata": {},
   "outputs": [
    {
     "data": {
      "text/html": [
       "<div>\n",
       "<style scoped>\n",
       "    .dataframe tbody tr th:only-of-type {\n",
       "        vertical-align: middle;\n",
       "    }\n",
       "\n",
       "    .dataframe tbody tr th {\n",
       "        vertical-align: top;\n",
       "    }\n",
       "\n",
       "    .dataframe thead th {\n",
       "        text-align: right;\n",
       "    }\n",
       "</style>\n",
       "<table border=\"1\" class=\"dataframe\">\n",
       "  <thead>\n",
       "    <tr style=\"text-align: right;\">\n",
       "      <th></th>\n",
       "      <th>date</th>\n",
       "      <th>no_orders</th>\n",
       "    </tr>\n",
       "  </thead>\n",
       "  <tbody>\n",
       "    <tr>\n",
       "      <th>0</th>\n",
       "      <td>2016-09-04</td>\n",
       "      <td>1</td>\n",
       "    </tr>\n",
       "    <tr>\n",
       "      <th>1</th>\n",
       "      <td>2016-09-05</td>\n",
       "      <td>1</td>\n",
       "    </tr>\n",
       "    <tr>\n",
       "      <th>2</th>\n",
       "      <td>2016-09-13</td>\n",
       "      <td>1</td>\n",
       "    </tr>\n",
       "    <tr>\n",
       "      <th>3</th>\n",
       "      <td>2016-09-15</td>\n",
       "      <td>1</td>\n",
       "    </tr>\n",
       "    <tr>\n",
       "      <th>4</th>\n",
       "      <td>2016-10-02</td>\n",
       "      <td>1</td>\n",
       "    </tr>\n",
       "    <tr>\n",
       "      <th>...</th>\n",
       "      <td>...</td>\n",
       "      <td>...</td>\n",
       "    </tr>\n",
       "    <tr>\n",
       "      <th>629</th>\n",
       "      <td>2018-09-29</td>\n",
       "      <td>1</td>\n",
       "    </tr>\n",
       "    <tr>\n",
       "      <th>630</th>\n",
       "      <td>2018-10-01</td>\n",
       "      <td>1</td>\n",
       "    </tr>\n",
       "    <tr>\n",
       "      <th>631</th>\n",
       "      <td>2018-10-03</td>\n",
       "      <td>1</td>\n",
       "    </tr>\n",
       "    <tr>\n",
       "      <th>632</th>\n",
       "      <td>2018-10-16</td>\n",
       "      <td>1</td>\n",
       "    </tr>\n",
       "    <tr>\n",
       "      <th>633</th>\n",
       "      <td>2018-10-17</td>\n",
       "      <td>1</td>\n",
       "    </tr>\n",
       "  </tbody>\n",
       "</table>\n",
       "<p>631 rows × 2 columns</p>\n",
       "</div>"
      ],
      "text/plain": [
       "           date  no_orders\n",
       "0    2016-09-04          1\n",
       "1    2016-09-05          1\n",
       "2    2016-09-13          1\n",
       "3    2016-09-15          1\n",
       "4    2016-10-02          1\n",
       "..          ...        ...\n",
       "629  2018-09-29          1\n",
       "630  2018-10-01          1\n",
       "631  2018-10-03          1\n",
       "632  2018-10-16          1\n",
       "633  2018-10-17          1\n",
       "\n",
       "[631 rows x 2 columns]"
      ]
     },
     "execution_count": 11,
     "metadata": {},
     "output_type": "execute_result"
    }
   ],
   "source": [
    "orders_bydate_gru"
   ]
  },
  {
   "cell_type": "code",
   "execution_count": 12,
   "metadata": {},
   "outputs": [],
   "source": [
    "#Normalize time series in range [0,1] \n",
    "scaler = MinMaxScaler()\n",
    "#df_scaled = scaler.fit_transform(orders_bydate_gru)\n",
    "orders_bydate_gru['scaled_orders'] = scaler.fit_transform(orders_bydate_gru[['no_orders']])"
   ]
  },
  {
   "cell_type": "code",
   "execution_count": 13,
   "metadata": {},
   "outputs": [
    {
     "data": {
      "text/html": [
       "<div>\n",
       "<style scoped>\n",
       "    .dataframe tbody tr th:only-of-type {\n",
       "        vertical-align: middle;\n",
       "    }\n",
       "\n",
       "    .dataframe tbody tr th {\n",
       "        vertical-align: top;\n",
       "    }\n",
       "\n",
       "    .dataframe thead th {\n",
       "        text-align: right;\n",
       "    }\n",
       "</style>\n",
       "<table border=\"1\" class=\"dataframe\">\n",
       "  <thead>\n",
       "    <tr style=\"text-align: right;\">\n",
       "      <th></th>\n",
       "      <th>date</th>\n",
       "      <th>no_orders</th>\n",
       "      <th>scaled_orders</th>\n",
       "    </tr>\n",
       "  </thead>\n",
       "  <tbody>\n",
       "    <tr>\n",
       "      <th>0</th>\n",
       "      <td>2016-09-04</td>\n",
       "      <td>1</td>\n",
       "      <td>0.0</td>\n",
       "    </tr>\n",
       "    <tr>\n",
       "      <th>1</th>\n",
       "      <td>2016-09-05</td>\n",
       "      <td>1</td>\n",
       "      <td>0.0</td>\n",
       "    </tr>\n",
       "    <tr>\n",
       "      <th>2</th>\n",
       "      <td>2016-09-13</td>\n",
       "      <td>1</td>\n",
       "      <td>0.0</td>\n",
       "    </tr>\n",
       "    <tr>\n",
       "      <th>3</th>\n",
       "      <td>2016-09-15</td>\n",
       "      <td>1</td>\n",
       "      <td>0.0</td>\n",
       "    </tr>\n",
       "    <tr>\n",
       "      <th>4</th>\n",
       "      <td>2016-10-02</td>\n",
       "      <td>1</td>\n",
       "      <td>0.0</td>\n",
       "    </tr>\n",
       "    <tr>\n",
       "      <th>...</th>\n",
       "      <td>...</td>\n",
       "      <td>...</td>\n",
       "      <td>...</td>\n",
       "    </tr>\n",
       "    <tr>\n",
       "      <th>629</th>\n",
       "      <td>2018-09-29</td>\n",
       "      <td>1</td>\n",
       "      <td>0.0</td>\n",
       "    </tr>\n",
       "    <tr>\n",
       "      <th>630</th>\n",
       "      <td>2018-10-01</td>\n",
       "      <td>1</td>\n",
       "      <td>0.0</td>\n",
       "    </tr>\n",
       "    <tr>\n",
       "      <th>631</th>\n",
       "      <td>2018-10-03</td>\n",
       "      <td>1</td>\n",
       "      <td>0.0</td>\n",
       "    </tr>\n",
       "    <tr>\n",
       "      <th>632</th>\n",
       "      <td>2018-10-16</td>\n",
       "      <td>1</td>\n",
       "      <td>0.0</td>\n",
       "    </tr>\n",
       "    <tr>\n",
       "      <th>633</th>\n",
       "      <td>2018-10-17</td>\n",
       "      <td>1</td>\n",
       "      <td>0.0</td>\n",
       "    </tr>\n",
       "  </tbody>\n",
       "</table>\n",
       "<p>631 rows × 3 columns</p>\n",
       "</div>"
      ],
      "text/plain": [
       "           date  no_orders  scaled_orders\n",
       "0    2016-09-04          1            0.0\n",
       "1    2016-09-05          1            0.0\n",
       "2    2016-09-13          1            0.0\n",
       "3    2016-09-15          1            0.0\n",
       "4    2016-10-02          1            0.0\n",
       "..          ...        ...            ...\n",
       "629  2018-09-29          1            0.0\n",
       "630  2018-10-01          1            0.0\n",
       "631  2018-10-03          1            0.0\n",
       "632  2018-10-16          1            0.0\n",
       "633  2018-10-17          1            0.0\n",
       "\n",
       "[631 rows x 3 columns]"
      ]
     },
     "execution_count": 13,
     "metadata": {},
     "output_type": "execute_result"
    }
   ],
   "source": [
    "orders_bydate_gru"
   ]
  },
  {
   "cell_type": "code",
   "execution_count": 14,
   "metadata": {},
   "outputs": [],
   "source": [
    "def create_sequences(data, window_size):\n",
    "    sequences = []\n",
    "    labels = []\n",
    "    for i in range(len(data) - window_size):\n",
    "        seq = data[i: i + window_size]\n",
    "        label = data[i+ window_size]\n",
    "        sequences.append(seq)\n",
    "        labels.append(label)\n",
    "    return np.array(sequences), np.array(labels)"
   ]
  },
  {
   "cell_type": "code",
   "execution_count": 15,
   "metadata": {},
   "outputs": [],
   "source": [
    "window_size = 10\n",
    "data = orders_bydate_gru['scaled_orders'].values\n",
    "X, y = create_sequences(data, window_size)"
   ]
  },
  {
   "cell_type": "code",
   "execution_count": 16,
   "metadata": {},
   "outputs": [
    {
     "data": {
      "text/plain": [
       "(621, 10)"
      ]
     },
     "execution_count": 16,
     "metadata": {},
     "output_type": "execute_result"
    }
   ],
   "source": [
    "X.shape"
   ]
  },
  {
   "cell_type": "code",
   "execution_count": 17,
   "metadata": {},
   "outputs": [
    {
     "data": {
      "text/plain": [
       "(621,)"
      ]
     },
     "execution_count": 17,
     "metadata": {},
     "output_type": "execute_result"
    }
   ],
   "source": [
    "y.shape"
   ]
  },
  {
   "cell_type": "code",
   "execution_count": 18,
   "metadata": {},
   "outputs": [],
   "source": [
    "# Reshape X to (samples, seq_len, 1) for RNN input\n",
    "X = X.reshape(X.shape[0], X.shape[1], 1)\n",
    "y = y.reshape(-1, 1)"
   ]
  },
  {
   "cell_type": "code",
   "execution_count": 19,
   "metadata": {},
   "outputs": [
    {
     "data": {
      "text/plain": [
       "(621, 10, 1)"
      ]
     },
     "execution_count": 19,
     "metadata": {},
     "output_type": "execute_result"
    }
   ],
   "source": [
    "X.shape"
   ]
  },
  {
   "cell_type": "code",
   "execution_count": 20,
   "metadata": {},
   "outputs": [
    {
     "data": {
      "text/plain": [
       "(621, 1)"
      ]
     },
     "execution_count": 20,
     "metadata": {},
     "output_type": "execute_result"
    }
   ],
   "source": [
    "y.shape"
   ]
  },
  {
   "cell_type": "markdown",
   "metadata": {},
   "source": [
    "# Create a custom dataset for class for Pytorch Dataloader"
   ]
  },
  {
   "cell_type": "code",
   "execution_count": 21,
   "metadata": {},
   "outputs": [],
   "source": [
    "# Split the data into training and test sets\n",
    "train_size = int(0.7 * len(X))\n",
    "X_train, X_test = X[:train_size], X[train_size:]\n",
    "y_train, y_test = y[:train_size], y[train_size:]"
   ]
  },
  {
   "cell_type": "code",
   "execution_count": 22,
   "metadata": {},
   "outputs": [
    {
     "data": {
      "text/plain": [
       "(187, 10, 1)"
      ]
     },
     "execution_count": 22,
     "metadata": {},
     "output_type": "execute_result"
    }
   ],
   "source": [
    "X_test.shape"
   ]
  },
  {
   "cell_type": "code",
   "execution_count": 23,
   "metadata": {},
   "outputs": [],
   "source": [
    "X_test_tensor = torch.tensor(X, dtype = torch.float32)"
   ]
  },
  {
   "cell_type": "code",
   "execution_count": 24,
   "metadata": {},
   "outputs": [],
   "source": [
    "from torch.utils.data import DataLoader, Dataset\n",
    "class RNNDataset(Dataset):\n",
    "    def __init__(self, X, y):\n",
    "        self.X = torch.tensor(X, dtype = torch.float32)\n",
    "        self.y = torch.tensor(y, dtype = torch.float32)\n",
    "\n",
    "    def __len__(self):\n",
    "        return len(self.X)\n",
    "    \n",
    "    def __getitem__(self, index):\n",
    "        return self.X[index], self.y[index]"
   ]
  },
  {
   "cell_type": "markdown",
   "metadata": {},
   "source": [
    "# GRU Model"
   ]
  },
  {
   "cell_type": "code",
   "execution_count": 25,
   "metadata": {},
   "outputs": [],
   "source": [
    "import torch.nn as nn\n",
    "class GRU(nn.Module):\n",
    "    def __init__(self, hidden_size, in_size = 1, out_size = 1):\n",
    "        super(GRU, self).__init__()\n",
    "        self.gru = nn.GRU(input_size = in_size, hidden_size = hidden_size, batch_first = True)\n",
    "        self.fc = nn.Linear(hidden_size, out_size)\n",
    "\n",
    "    def forward(self, x, h = None):\n",
    "        out, _ = self.gru(x, h)\n",
    "        last_hidden_states = out[:,-1]\n",
    "        out = self.fc(last_hidden_states)\n",
    "        return out    "
   ]
  },
  {
   "cell_type": "code",
   "execution_count": 26,
   "metadata": {},
   "outputs": [],
   "source": [
    "class RNN(nn.Module):\n",
    "    def __init__(self, hidden_size, in_size = 1, out_size = 1):\n",
    "        super(RNN, self).__init__()\n",
    "        self.rnn = nn.RNN(input_size = in_size,\n",
    "                            hidden_size = hidden_size,\n",
    "                            batch_first = True)\n",
    "        self.fc = nn.Linear(hidden_size, out_size)\n",
    "    \n",
    "    def forward(self, x, h = None):\n",
    "        out, _ = self.rnn(x, h)\n",
    "        last_hidden_states = out[:, -1]\n",
    "        out = self.fc(last_hidden_states)\n",
    "        return out"
   ]
  },
  {
   "cell_type": "code",
   "execution_count": 27,
   "metadata": {},
   "outputs": [
    {
     "data": {
      "text/plain": [
       "OrderedDict([('gru.weight_ih_l0',\n",
       "              tensor([[-0.1449],\n",
       "                      [ 0.0942],\n",
       "                      [ 0.0911],\n",
       "                      [ 0.1264],\n",
       "                      [ 0.0298],\n",
       "                      [ 0.0980],\n",
       "                      [-0.0116],\n",
       "                      [-0.0041],\n",
       "                      [ 0.1241],\n",
       "                      [ 0.0804],\n",
       "                      [-0.0392],\n",
       "                      [-0.1179],\n",
       "                      [ 0.0007],\n",
       "                      [-0.1333],\n",
       "                      [ 0.1247],\n",
       "                      [ 0.1593],\n",
       "                      [-0.1066],\n",
       "                      [-0.0735],\n",
       "                      [-0.0443],\n",
       "                      [-0.0416],\n",
       "                      [-0.1147],\n",
       "                      [ 0.0342],\n",
       "                      [-0.0270],\n",
       "                      [ 0.1509],\n",
       "                      [-0.0464],\n",
       "                      [-0.1252],\n",
       "                      [ 0.0518],\n",
       "                      [-0.1564],\n",
       "                      [ 0.0379],\n",
       "                      [-0.0417],\n",
       "                      [-0.1353],\n",
       "                      [ 0.0723],\n",
       "                      [ 0.0173],\n",
       "                      [-0.0235],\n",
       "                      [ 0.0381],\n",
       "                      [ 0.1032],\n",
       "                      [ 0.1078],\n",
       "                      [-0.1728],\n",
       "                      [ 0.0605],\n",
       "                      [-0.0647],\n",
       "                      [ 0.1275],\n",
       "                      [-0.1669],\n",
       "                      [ 0.0535],\n",
       "                      [ 0.1110],\n",
       "                      [ 0.0007],\n",
       "                      [-0.0767],\n",
       "                      [-0.1336],\n",
       "                      [ 0.1708],\n",
       "                      [ 0.1416],\n",
       "                      [-0.0864],\n",
       "                      [-0.1162],\n",
       "                      [ 0.0073],\n",
       "                      [ 0.1590],\n",
       "                      [-0.0211],\n",
       "                      [-0.0890],\n",
       "                      [-0.0100],\n",
       "                      [ 0.1462],\n",
       "                      [-0.0617],\n",
       "                      [-0.0058],\n",
       "                      [ 0.0200],\n",
       "                      [ 0.1685],\n",
       "                      [-0.1398],\n",
       "                      [ 0.1276],\n",
       "                      [ 0.1528],\n",
       "                      [-0.0368],\n",
       "                      [ 0.0404],\n",
       "                      [-0.0060],\n",
       "                      [-0.0289],\n",
       "                      [ 0.1035],\n",
       "                      [ 0.1353],\n",
       "                      [-0.1710],\n",
       "                      [ 0.0067],\n",
       "                      [ 0.0639],\n",
       "                      [-0.1427],\n",
       "                      [ 0.1451],\n",
       "                      [ 0.0777],\n",
       "                      [ 0.1272],\n",
       "                      [-0.0234],\n",
       "                      [ 0.1000],\n",
       "                      [-0.1380],\n",
       "                      [ 0.0306],\n",
       "                      [ 0.0665],\n",
       "                      [-0.0713],\n",
       "                      [-0.0370],\n",
       "                      [-0.0820],\n",
       "                      [-0.0698],\n",
       "                      [ 0.0365],\n",
       "                      [ 0.0196],\n",
       "                      [ 0.0966],\n",
       "                      [ 0.0738],\n",
       "                      [-0.0377],\n",
       "                      [-0.1224],\n",
       "                      [-0.1482],\n",
       "                      [-0.0973],\n",
       "                      [-0.1339],\n",
       "                      [ 0.0051]])),\n",
       "             ('gru.weight_hh_l0',\n",
       "              tensor([[-0.1435, -0.0473, -0.0447,  ...,  0.1399, -0.1355,  0.1483],\n",
       "                      [-0.0544, -0.0525,  0.0969,  ...,  0.0665,  0.0526,  0.0196],\n",
       "                      [ 0.0477, -0.0007,  0.0560,  ...,  0.0273,  0.1712, -0.1610],\n",
       "                      ...,\n",
       "                      [-0.1486,  0.0331, -0.1538,  ...,  0.0893,  0.1732, -0.1082],\n",
       "                      [ 0.0479, -0.0838, -0.1396,  ..., -0.0145,  0.1028,  0.1431],\n",
       "                      [ 0.0720, -0.0118,  0.1261,  ...,  0.0026, -0.0233,  0.1568]])),\n",
       "             ('gru.bias_ih_l0',\n",
       "              tensor([ 0.0600, -0.0346,  0.0488, -0.0848,  0.1741,  0.1403, -0.0696,  0.0794,\n",
       "                      -0.1016,  0.1653,  0.1577,  0.0723, -0.1711,  0.0617,  0.1631,  0.0824,\n",
       "                      -0.0598,  0.1535,  0.0515,  0.0797,  0.0235,  0.0302, -0.1080, -0.0806,\n",
       "                      -0.0030,  0.1006,  0.0957,  0.0614,  0.1340,  0.0203, -0.0978,  0.0552,\n",
       "                      -0.0084, -0.0031, -0.0123,  0.1105, -0.1501, -0.1688, -0.1099,  0.0640,\n",
       "                       0.0745,  0.0826, -0.1649,  0.0829, -0.0511, -0.0943,  0.0398, -0.1705,\n",
       "                       0.1221, -0.1584, -0.0678,  0.1744, -0.1622,  0.1145, -0.1106,  0.1149,\n",
       "                       0.1612, -0.1465, -0.0773, -0.0768, -0.0777,  0.1071, -0.0447, -0.1016,\n",
       "                      -0.0838,  0.0279, -0.1328, -0.1455,  0.1135, -0.0212, -0.0514,  0.0024,\n",
       "                       0.1413, -0.0117, -0.0346,  0.0936, -0.1435, -0.0074, -0.1417, -0.0377,\n",
       "                       0.0200, -0.0077, -0.0519,  0.1281,  0.0597, -0.0798,  0.1304,  0.1414,\n",
       "                       0.0493, -0.0432,  0.0723, -0.1490, -0.1472,  0.1540, -0.0097, -0.0240])),\n",
       "             ('gru.bias_hh_l0',\n",
       "              tensor([-0.1594, -0.0442,  0.1241, -0.0496,  0.0263,  0.0706, -0.0703, -0.1170,\n",
       "                      -0.0253,  0.0023, -0.0286,  0.0744,  0.0587,  0.0733, -0.0775,  0.1631,\n",
       "                      -0.0581, -0.0879,  0.1425, -0.0567, -0.0963,  0.0241,  0.0843, -0.0427,\n",
       "                      -0.1504, -0.0229, -0.1650, -0.0443, -0.0523, -0.1084, -0.0051,  0.1698,\n",
       "                      -0.1371,  0.0819,  0.0457,  0.0985,  0.0775, -0.0093, -0.0409, -0.0934,\n",
       "                      -0.0011, -0.1379,  0.0341, -0.1466,  0.0810,  0.0103,  0.1183, -0.0964,\n",
       "                      -0.1304,  0.0800, -0.1320, -0.1236, -0.0112,  0.0530, -0.1625, -0.1058,\n",
       "                       0.1721,  0.1037, -0.0743, -0.1567,  0.0176,  0.0002, -0.0603,  0.1548,\n",
       "                      -0.0098,  0.1086, -0.0555, -0.0036,  0.1513, -0.0625,  0.1647,  0.1322,\n",
       "                       0.0829, -0.0271,  0.0818,  0.1596,  0.0848, -0.0928, -0.0573, -0.0803,\n",
       "                      -0.1390,  0.0256,  0.1036,  0.0780,  0.1269, -0.0719,  0.1627,  0.1105,\n",
       "                      -0.1103, -0.1265, -0.0853, -0.1247, -0.0819, -0.0907,  0.0715, -0.1482])),\n",
       "             ('fc.weight',\n",
       "              tensor([[ 0.0595, -0.0550, -0.1499, -0.1341,  0.0464,  0.1457,  0.0387,  0.1238,\n",
       "                        0.1119,  0.1282, -0.0092,  0.0398, -0.0470,  0.1528,  0.0501,  0.0985,\n",
       "                        0.0918, -0.1571, -0.0558,  0.0437,  0.0201,  0.0051,  0.0302, -0.1674,\n",
       "                       -0.1469, -0.1413, -0.0041, -0.1078, -0.0618, -0.0637,  0.0305,  0.0198]])),\n",
       "             ('fc.bias', tensor([-0.0863]))])"
      ]
     },
     "execution_count": 27,
     "metadata": {},
     "output_type": "execute_result"
    }
   ],
   "source": [
    "gru_model = GRU(hidden_size = 32)\n",
    "gru_model.state_dict()"
   ]
  },
  {
   "cell_type": "code",
   "execution_count": 28,
   "metadata": {},
   "outputs": [],
   "source": [
    "# Make predictions with model\n",
    "with torch.inference_mode(): \n",
    "    y_preds = gru_model(X_test_tensor)"
   ]
  },
  {
   "cell_type": "code",
   "execution_count": 29,
   "metadata": {},
   "outputs": [
    {
     "data": {
      "text/plain": [
       "torch.Size([621, 1])"
      ]
     },
     "execution_count": 29,
     "metadata": {},
     "output_type": "execute_result"
    }
   ],
   "source": [
    "y_preds.shape"
   ]
  },
  {
   "cell_type": "markdown",
   "metadata": {},
   "source": [
    "# Hyperparameters"
   ]
  },
  {
   "cell_type": "code",
   "execution_count": 30,
   "metadata": {},
   "outputs": [],
   "source": [
    "hidden_size = 32\n",
    "learning_rate = 0.02\n",
    "training_epochs = 500\n",
    "batch_size = 64"
   ]
  },
  {
   "cell_type": "code",
   "execution_count": 31,
   "metadata": {},
   "outputs": [],
   "source": [
    "#Create Data Loaders\n",
    "train_dataset = RNNDataset(X_train, y_train)\n",
    "train_loader = DataLoader(train_dataset, batch_size=batch_size)\n",
    "test_dataset = RNNDataset(X_test, y_test)\n",
    "test_loader = DataLoader(test_dataset, batch_size=batch_size, shuffle=True)"
   ]
  },
  {
   "cell_type": "code",
   "execution_count": 32,
   "metadata": {},
   "outputs": [
    {
     "data": {
      "text/plain": [
       "<__main__.RNNDataset at 0x3168496a0>"
      ]
     },
     "execution_count": 32,
     "metadata": {},
     "output_type": "execute_result"
    }
   ],
   "source": [
    "train_dataset"
   ]
  },
  {
   "cell_type": "code",
   "execution_count": 33,
   "metadata": {},
   "outputs": [],
   "source": [
    "#Initialize the model, loss function, and optimizer\n",
    "model = GRU(hidden_size=hidden_size)\n",
    "criterion = nn.MSELoss()\n",
    "optimizer = torch.optim.Adam(model.parameters(), lr=learning_rate)"
   ]
  },
  {
   "cell_type": "markdown",
   "metadata": {},
   "source": [
    "# Training"
   ]
  },
  {
   "cell_type": "code",
   "execution_count": 34,
   "metadata": {},
   "outputs": [
    {
     "name": "stdout",
     "output_type": "stream",
     "text": [
      "Epoch 0 - Train Loss: 0.2757 | Test Loss: 0.1850\n",
      "Epoch 10 - Train Loss: 0.0442 | Test Loss: 0.0414\n",
      "Epoch 20 - Train Loss: 0.0393 | Test Loss: 0.0384\n",
      "Epoch 30 - Train Loss: 0.0433 | Test Loss: 0.0385\n",
      "Epoch 40 - Train Loss: 0.0384 | Test Loss: 0.0370\n",
      "Epoch 50 - Train Loss: 0.0362 | Test Loss: 0.0362\n",
      "Epoch 60 - Train Loss: 0.0310 | Test Loss: 0.0324\n",
      "Epoch 70 - Train Loss: 0.0516 | Test Loss: 0.0406\n",
      "Epoch 80 - Train Loss: 0.0348 | Test Loss: 0.0347\n",
      "Epoch 90 - Train Loss: 0.0257 | Test Loss: 0.0349\n"
     ]
    }
   ],
   "source": [
    "# 6. Training loop\n",
    "num_epochs = 100\n",
    "for epoch in range(num_epochs):\n",
    "    ###TRAINING\n",
    "\n",
    "    #Put model in training mode\n",
    "    model.train()\n",
    "\n",
    "    train_loss = 0\n",
    "    #Loop in batch\n",
    "    for X_batch, y_batch in train_loader:\n",
    "        #1. Forward pass on train data using the forward() method inside\n",
    "        y_pred = model(X_batch)\n",
    "\n",
    "        #2. Calculate the loss (how different are our models predictions to the ground truth)\n",
    "        loss = criterion(y_pred, y_batch)\n",
    "\n",
    "        #3. Zero grad of the optimizer\n",
    "        optimizer.zero_grad()\n",
    "\n",
    "        #4. Loss backwards\n",
    "        loss.backward()\n",
    "        \n",
    "        #5. Progress the optimizer\n",
    "        optimizer.step()\n",
    "\n",
    "        #6. Accumulate loss\n",
    "        train_loss += loss.item()\n",
    "\n",
    "    ###TESTING\n",
    "    model.eval()\n",
    "\n",
    "    test_loss = 0\n",
    "\n",
    "    with torch.inference_mode():\n",
    "        #Create loop in batch\n",
    "        for X_batch, y_batch in test_loader:\n",
    "            #1. Forward pass on the test data\n",
    "            y_pred = model(X_batch)\n",
    "\n",
    "            #2. Calculate loss on test data\n",
    "            loss = criterion(y_pred, y_batch)\n",
    "\n",
    "            #3. Accumulate loss\n",
    "            test_loss += loss.item()\n",
    "\n",
    "    if epoch % 10 == 0:\n",
    "        print(f\"Epoch {epoch} - Train Loss: {train_loss:.4f} | Test Loss: {test_loss:.4f}\")"
   ]
  },
  {
   "cell_type": "code",
   "execution_count": 35,
   "metadata": {},
   "outputs": [],
   "source": [
    "# 7. Predict on test set\n",
    "model.eval()\n",
    "with torch.no_grad():\n",
    "    test_inputs = torch.tensor(X_test, dtype=torch.float32)\n",
    "    predictions = model(test_inputs).numpy()\n",
    "\n",
    "# Inverse scale predictions and actuals\n",
    "y_test_inv = scaler.inverse_transform(y_test)\n",
    "predictions_inv = scaler.inverse_transform(predictions)"
   ]
  },
  {
   "cell_type": "code",
   "execution_count": 36,
   "metadata": {},
   "outputs": [
    {
     "data": {
      "image/png": "[encoded data removed]",
      "text/plain": [
       "<Figure size 1000x500 with 1 Axes>"
      ]
     },
     "metadata": {},
     "output_type": "display_data"
    }
   ],
   "source": [
    "# 8. Plot\n",
    "plt.figure(figsize=(10,5))\n",
    "plt.plot(y_test_inv, label='Actual')\n",
    "plt.plot(predictions_inv, label='Predicted')\n",
    "plt.legend()\n",
    "plt.title(\"GRU Time Series Forecast\")\n",
    "plt.show()"
   ]
  },
  {
   "cell_type": "markdown",
   "metadata": {},
   "source": [
    "# Training progress\n"
   ]
  },
  {
   "cell_type": "markdown",
   "metadata": {},
   "source": [
    "References:\n",
    "- My blog: https://open.substack.com/pub/quynhanhphuong/p/gated-recurrent-units-gru?r=1xb8sg&utm_campaign=post&utm_medium=web&showWelcomeOnShare=false\n",
    "- Book: Dive into Deep Learning\n",
    "- Chapter 4: Recurrent Neural Networks in book Time series forecasting using Deep Learning"
   ]
  }
 ],
 "metadata": {
  "kernelspec": {
   "display_name": "Python 3",
   "language": "python",
   "name": "python3"
  },
  "language_info": {
   "codemirror_mode": {
    "name": "ipython",
    "version": 3
   },
   "file_extension": ".py",
   "mimetype": "text/x-python",
   "name": "python",
   "nbconvert_exporter": "python",
   "pygments_lexer": "ipython3",
   "version": "3.9.6"
  }
 },
 "nbformat": 4,
 "nbformat_minor": 2
}
