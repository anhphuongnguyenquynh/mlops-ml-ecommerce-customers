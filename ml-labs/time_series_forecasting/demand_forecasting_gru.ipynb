{
 "cells": [
  {
   "cell_type": "markdown",
   "metadata": {},
   "source": [
    "# Import libraries"
   ]
  },
  {
   "cell_type": "code",
   "execution_count": 38,
   "metadata": {},
   "outputs": [],
   "source": [
    "import torch.nn as nn\n",
    "import matplotlib.pyplot as plt \n",
    "import copy \n",
    "import random\n",
    "import sys\n",
    "import numpy as np \n",
    "import pandas as pd\n",
    "import torch\n",
    "from sklearn.preprocessing import MinMaxScaler \n",
    "\n"
   ]
  },
  {
   "cell_type": "markdown",
   "metadata": {},
   "source": [
    "# Load dataset"
   ]
  },
  {
   "cell_type": "code",
   "execution_count": 39,
   "metadata": {},
   "outputs": [],
   "source": [
    "olist_orders = pd.read_csv(\"/Users/phuongnguyen/Documents/Code Github/mlops-ml-ecommerce-customers/sample_files/olist_dataset/olist_orders_dataset.csv\")"
   ]
  },
  {
   "cell_type": "code",
   "execution_count": 40,
   "metadata": {},
   "outputs": [
    {
     "data": {
      "text/html": [
       "<div>\n",
       "<style scoped>\n",
       "    .dataframe tbody tr th:only-of-type {\n",
       "        vertical-align: middle;\n",
       "    }\n",
       "\n",
       "    .dataframe tbody tr th {\n",
       "        vertical-align: top;\n",
       "    }\n",
       "\n",
       "    .dataframe thead th {\n",
       "        text-align: right;\n",
       "    }\n",
       "</style>\n",
       "<table border=\"1\" class=\"dataframe\">\n",
       "  <thead>\n",
       "    <tr style=\"text-align: right;\">\n",
       "      <th></th>\n",
       "      <th>order_id</th>\n",
       "      <th>customer_id</th>\n",
       "      <th>order_status</th>\n",
       "      <th>order_purchase_timestamp</th>\n",
       "      <th>order_approved_at</th>\n",
       "      <th>order_delivered_carrier_date</th>\n",
       "      <th>order_delivered_customer_date</th>\n",
       "      <th>order_estimated_delivery_date</th>\n",
       "      <th>purchase_datetime</th>\n",
       "      <th>purchase_date</th>\n",
       "      <th>purchase_month</th>\n",
       "    </tr>\n",
       "  </thead>\n",
       "  <tbody>\n",
       "    <tr>\n",
       "      <th>0</th>\n",
       "      <td>e481f51cbdc54678b7cc49136f2d6af7</td>\n",
       "      <td>9ef432eb6251297304e76186b10a928d</td>\n",
       "      <td>delivered</td>\n",
       "      <td>2017-10-02 10:56:33</td>\n",
       "      <td>2017-10-02 11:07:15</td>\n",
       "      <td>2017-10-04 19:55:00</td>\n",
       "      <td>2017-10-10 21:25:13</td>\n",
       "      <td>2017-10-18 00:00:00</td>\n",
       "      <td>2017-10-02 10:56:33</td>\n",
       "      <td>2017-10-02</td>\n",
       "      <td>2017-10</td>\n",
       "    </tr>\n",
       "    <tr>\n",
       "      <th>1</th>\n",
       "      <td>53cdb2fc8bc7dce0b6741e2150273451</td>\n",
       "      <td>b0830fb4747a6c6d20dea0b8c802d7ef</td>\n",
       "      <td>delivered</td>\n",
       "      <td>2018-07-24 20:41:37</td>\n",
       "      <td>2018-07-26 03:24:27</td>\n",
       "      <td>2018-07-26 14:31:00</td>\n",
       "      <td>2018-08-07 15:27:45</td>\n",
       "      <td>2018-08-13 00:00:00</td>\n",
       "      <td>2018-07-24 20:41:37</td>\n",
       "      <td>2018-07-24</td>\n",
       "      <td>2018-07</td>\n",
       "    </tr>\n",
       "    <tr>\n",
       "      <th>2</th>\n",
       "      <td>47770eb9100c2d0c44946d9cf07ec65d</td>\n",
       "      <td>41ce2a54c0b03bf3443c3d931a367089</td>\n",
       "      <td>delivered</td>\n",
       "      <td>2018-08-08 08:38:49</td>\n",
       "      <td>2018-08-08 08:55:23</td>\n",
       "      <td>2018-08-08 13:50:00</td>\n",
       "      <td>2018-08-17 18:06:29</td>\n",
       "      <td>2018-09-04 00:00:00</td>\n",
       "      <td>2018-08-08 08:38:49</td>\n",
       "      <td>2018-08-08</td>\n",
       "      <td>2018-08</td>\n",
       "    </tr>\n",
       "    <tr>\n",
       "      <th>3</th>\n",
       "      <td>949d5b44dbf5de918fe9c16f97b45f8a</td>\n",
       "      <td>f88197465ea7920adcdbec7375364d82</td>\n",
       "      <td>delivered</td>\n",
       "      <td>2017-11-18 19:28:06</td>\n",
       "      <td>2017-11-18 19:45:59</td>\n",
       "      <td>2017-11-22 13:39:59</td>\n",
       "      <td>2017-12-02 00:28:42</td>\n",
       "      <td>2017-12-15 00:00:00</td>\n",
       "      <td>2017-11-18 19:28:06</td>\n",
       "      <td>2017-11-18</td>\n",
       "      <td>2017-11</td>\n",
       "    </tr>\n",
       "    <tr>\n",
       "      <th>4</th>\n",
       "      <td>ad21c59c0840e6cb83a9ceb5573f8159</td>\n",
       "      <td>8ab97904e6daea8866dbdbc4fb7aad2c</td>\n",
       "      <td>delivered</td>\n",
       "      <td>2018-02-13 21:18:39</td>\n",
       "      <td>2018-02-13 22:20:29</td>\n",
       "      <td>2018-02-14 19:46:34</td>\n",
       "      <td>2018-02-16 18:17:02</td>\n",
       "      <td>2018-02-26 00:00:00</td>\n",
       "      <td>2018-02-13 21:18:39</td>\n",
       "      <td>2018-02-13</td>\n",
       "      <td>2018-02</td>\n",
       "    </tr>\n",
       "  </tbody>\n",
       "</table>\n",
       "</div>"
      ],
      "text/plain": [
       "                           order_id                       customer_id  \\\n",
       "0  e481f51cbdc54678b7cc49136f2d6af7  9ef432eb6251297304e76186b10a928d   \n",
       "1  53cdb2fc8bc7dce0b6741e2150273451  b0830fb4747a6c6d20dea0b8c802d7ef   \n",
       "2  47770eb9100c2d0c44946d9cf07ec65d  41ce2a54c0b03bf3443c3d931a367089   \n",
       "3  949d5b44dbf5de918fe9c16f97b45f8a  f88197465ea7920adcdbec7375364d82   \n",
       "4  ad21c59c0840e6cb83a9ceb5573f8159  8ab97904e6daea8866dbdbc4fb7aad2c   \n",
       "\n",
       "  order_status order_purchase_timestamp    order_approved_at  \\\n",
       "0    delivered      2017-10-02 10:56:33  2017-10-02 11:07:15   \n",
       "1    delivered      2018-07-24 20:41:37  2018-07-26 03:24:27   \n",
       "2    delivered      2018-08-08 08:38:49  2018-08-08 08:55:23   \n",
       "3    delivered      2017-11-18 19:28:06  2017-11-18 19:45:59   \n",
       "4    delivered      2018-02-13 21:18:39  2018-02-13 22:20:29   \n",
       "\n",
       "  order_delivered_carrier_date order_delivered_customer_date  \\\n",
       "0          2017-10-04 19:55:00           2017-10-10 21:25:13   \n",
       "1          2018-07-26 14:31:00           2018-08-07 15:27:45   \n",
       "2          2018-08-08 13:50:00           2018-08-17 18:06:29   \n",
       "3          2017-11-22 13:39:59           2017-12-02 00:28:42   \n",
       "4          2018-02-14 19:46:34           2018-02-16 18:17:02   \n",
       "\n",
       "  order_estimated_delivery_date   purchase_datetime purchase_date  \\\n",
       "0           2017-10-18 00:00:00 2017-10-02 10:56:33    2017-10-02   \n",
       "1           2018-08-13 00:00:00 2018-07-24 20:41:37    2018-07-24   \n",
       "2           2018-09-04 00:00:00 2018-08-08 08:38:49    2018-08-08   \n",
       "3           2017-12-15 00:00:00 2017-11-18 19:28:06    2017-11-18   \n",
       "4           2018-02-26 00:00:00 2018-02-13 21:18:39    2018-02-13   \n",
       "\n",
       "  purchase_month  \n",
       "0        2017-10  \n",
       "1        2018-07  \n",
       "2        2018-08  \n",
       "3        2017-11  \n",
       "4        2018-02  "
      ]
     },
     "execution_count": 40,
     "metadata": {},
     "output_type": "execute_result"
    }
   ],
   "source": [
    "### Extract monthly sales\n",
    "# Convert order purchase timestamp to_datetime\n",
    "olist_orders['purchase_datetime'] = pd.to_datetime(olist_orders['order_purchase_timestamp'])\n",
    "# Get date only\n",
    "olist_orders['purchase_date'] = olist_orders['purchase_datetime'].dt.date\n",
    "# Get month only\n",
    "olist_orders['purchase_month'] = olist_orders['purchase_datetime'].dt.strftime('%Y-%m')\n",
    "\n",
    "olist_orders.head(5)"
   ]
  },
  {
   "cell_type": "code",
   "execution_count": 41,
   "metadata": {},
   "outputs": [
    {
     "data": {
      "text/html": [
       "<div>\n",
       "<style scoped>\n",
       "    .dataframe tbody tr th:only-of-type {\n",
       "        vertical-align: middle;\n",
       "    }\n",
       "\n",
       "    .dataframe tbody tr th {\n",
       "        vertical-align: top;\n",
       "    }\n",
       "\n",
       "    .dataframe thead th {\n",
       "        text-align: right;\n",
       "    }\n",
       "</style>\n",
       "<table border=\"1\" class=\"dataframe\">\n",
       "  <thead>\n",
       "    <tr style=\"text-align: right;\">\n",
       "      <th></th>\n",
       "      <th>month</th>\n",
       "      <th>no_orders</th>\n",
       "    </tr>\n",
       "  </thead>\n",
       "  <tbody>\n",
       "    <tr>\n",
       "      <th>24</th>\n",
       "      <td>2018-10</td>\n",
       "      <td>4</td>\n",
       "    </tr>\n",
       "    <tr>\n",
       "      <th>23</th>\n",
       "      <td>2018-09</td>\n",
       "      <td>16</td>\n",
       "    </tr>\n",
       "    <tr>\n",
       "      <th>22</th>\n",
       "      <td>2018-08</td>\n",
       "      <td>6512</td>\n",
       "    </tr>\n",
       "    <tr>\n",
       "      <th>21</th>\n",
       "      <td>2018-07</td>\n",
       "      <td>6292</td>\n",
       "    </tr>\n",
       "    <tr>\n",
       "      <th>20</th>\n",
       "      <td>2018-06</td>\n",
       "      <td>6167</td>\n",
       "    </tr>\n",
       "  </tbody>\n",
       "</table>\n",
       "</div>"
      ],
      "text/plain": [
       "      month  no_orders\n",
       "24  2018-10          4\n",
       "23  2018-09         16\n",
       "22  2018-08       6512\n",
       "21  2018-07       6292\n",
       "20  2018-06       6167"
      ]
     },
     "execution_count": 41,
     "metadata": {},
     "output_type": "execute_result"
    }
   ],
   "source": [
    "#Group by month, number of orders\n",
    "orders_bymonth = olist_orders.groupby('purchase_month')['order_id'].nunique().reset_index()\n",
    "orders_bymonth.columns = ['month', 'no_orders']\n",
    "#Sort ascending month\n",
    "orders_bymonth = orders_bymonth.sort_values('month', ascending = False)\n",
    "orders_bymonth.head(5)"
   ]
  },
  {
   "cell_type": "code",
   "execution_count": 42,
   "metadata": {},
   "outputs": [
    {
     "data": {
      "text/html": [
       "<div>\n",
       "<style scoped>\n",
       "    .dataframe tbody tr th:only-of-type {\n",
       "        vertical-align: middle;\n",
       "    }\n",
       "\n",
       "    .dataframe tbody tr th {\n",
       "        vertical-align: top;\n",
       "    }\n",
       "\n",
       "    .dataframe thead th {\n",
       "        text-align: right;\n",
       "    }\n",
       "</style>\n",
       "<table border=\"1\" class=\"dataframe\">\n",
       "  <thead>\n",
       "    <tr style=\"text-align: right;\">\n",
       "      <th></th>\n",
       "      <th>date</th>\n",
       "      <th>no_orders</th>\n",
       "    </tr>\n",
       "  </thead>\n",
       "  <tbody>\n",
       "    <tr>\n",
       "      <th>633</th>\n",
       "      <td>2018-10-17</td>\n",
       "      <td>1</td>\n",
       "    </tr>\n",
       "    <tr>\n",
       "      <th>632</th>\n",
       "      <td>2018-10-16</td>\n",
       "      <td>1</td>\n",
       "    </tr>\n",
       "    <tr>\n",
       "      <th>631</th>\n",
       "      <td>2018-10-03</td>\n",
       "      <td>1</td>\n",
       "    </tr>\n",
       "    <tr>\n",
       "      <th>630</th>\n",
       "      <td>2018-10-01</td>\n",
       "      <td>1</td>\n",
       "    </tr>\n",
       "    <tr>\n",
       "      <th>629</th>\n",
       "      <td>2018-09-29</td>\n",
       "      <td>1</td>\n",
       "    </tr>\n",
       "  </tbody>\n",
       "</table>\n",
       "</div>"
      ],
      "text/plain": [
       "           date  no_orders\n",
       "633  2018-10-17          1\n",
       "632  2018-10-16          1\n",
       "631  2018-10-03          1\n",
       "630  2018-10-01          1\n",
       "629  2018-09-29          1"
      ]
     },
     "execution_count": 42,
     "metadata": {},
     "output_type": "execute_result"
    }
   ],
   "source": [
    "#Group by date, number of orders\n",
    "orders_bydate = olist_orders.groupby('purchase_date')['order_id'].nunique().reset_index()\n",
    "orders_bydate.columns = ['date', 'no_orders']\n",
    "orders_bydate = orders_bydate.sort_values('date', ascending = False)\n",
    "orders_bydate.head(5)"
   ]
  },
  {
   "cell_type": "code",
   "execution_count": 43,
   "metadata": {},
   "outputs": [
    {
     "data": {
      "image/png": "[encoded data removed]",
      "text/plain": [
       "<Figure size 640x480 with 1 Axes>"
      ]
     },
     "metadata": {},
     "output_type": "display_data"
    }
   ],
   "source": [
    "orders_bydate.plot()\n",
    "plt.show()"
   ]
  },
  {
   "cell_type": "code",
   "execution_count": 44,
   "metadata": {},
   "outputs": [
    {
     "data": {
      "image/png": "[encoded data removed]",
      "text/plain": [
       "<Figure size 640x480 with 1 Axes>"
      ]
     },
     "metadata": {},
     "output_type": "display_data"
    }
   ],
   "source": [
    "# Remove outliers\n",
    "orders_bydate_filtered = orders_bydate.loc[orders_bydate['no_orders'] < 400]\n",
    "\n",
    "orders_bydate_filtered.plot()\n",
    "plt.show()\n"
   ]
  },
  {
   "cell_type": "markdown",
   "metadata": {},
   "source": [
    "# Preparing datasets for training"
   ]
  },
  {
   "cell_type": "code",
   "execution_count": 45,
   "metadata": {},
   "outputs": [],
   "source": [
    "orders_bydate_rnn = orders_bydate_filtered.copy()"
   ]
  },
  {
   "cell_type": "code",
   "execution_count": 46,
   "metadata": {},
   "outputs": [],
   "source": [
    "#set_index by date, make sure sort descending correctly\n",
    "# orders_bydate_rnn.set_index('date', inplace = True)\n",
    "# orders_bydate_rnn.head(5)"
   ]
  },
  {
   "cell_type": "code",
   "execution_count": 47,
   "metadata": {},
   "outputs": [],
   "source": [
    "orders_bydate_rnn.sort_values('date', inplace = True)"
   ]
  },
  {
   "cell_type": "code",
   "execution_count": 48,
   "metadata": {},
   "outputs": [
    {
     "data": {
      "text/html": [
       "<div>\n",
       "<style scoped>\n",
       "    .dataframe tbody tr th:only-of-type {\n",
       "        vertical-align: middle;\n",
       "    }\n",
       "\n",
       "    .dataframe tbody tr th {\n",
       "        vertical-align: top;\n",
       "    }\n",
       "\n",
       "    .dataframe thead th {\n",
       "        text-align: right;\n",
       "    }\n",
       "</style>\n",
       "<table border=\"1\" class=\"dataframe\">\n",
       "  <thead>\n",
       "    <tr style=\"text-align: right;\">\n",
       "      <th></th>\n",
       "      <th>date</th>\n",
       "      <th>no_orders</th>\n",
       "    </tr>\n",
       "  </thead>\n",
       "  <tbody>\n",
       "    <tr>\n",
       "      <th>0</th>\n",
       "      <td>2016-09-04</td>\n",
       "      <td>1</td>\n",
       "    </tr>\n",
       "    <tr>\n",
       "      <th>1</th>\n",
       "      <td>2016-09-05</td>\n",
       "      <td>1</td>\n",
       "    </tr>\n",
       "    <tr>\n",
       "      <th>2</th>\n",
       "      <td>2016-09-13</td>\n",
       "      <td>1</td>\n",
       "    </tr>\n",
       "    <tr>\n",
       "      <th>3</th>\n",
       "      <td>2016-09-15</td>\n",
       "      <td>1</td>\n",
       "    </tr>\n",
       "    <tr>\n",
       "      <th>4</th>\n",
       "      <td>2016-10-02</td>\n",
       "      <td>1</td>\n",
       "    </tr>\n",
       "    <tr>\n",
       "      <th>...</th>\n",
       "      <td>...</td>\n",
       "      <td>...</td>\n",
       "    </tr>\n",
       "    <tr>\n",
       "      <th>629</th>\n",
       "      <td>2018-09-29</td>\n",
       "      <td>1</td>\n",
       "    </tr>\n",
       "    <tr>\n",
       "      <th>630</th>\n",
       "      <td>2018-10-01</td>\n",
       "      <td>1</td>\n",
       "    </tr>\n",
       "    <tr>\n",
       "      <th>631</th>\n",
       "      <td>2018-10-03</td>\n",
       "      <td>1</td>\n",
       "    </tr>\n",
       "    <tr>\n",
       "      <th>632</th>\n",
       "      <td>2018-10-16</td>\n",
       "      <td>1</td>\n",
       "    </tr>\n",
       "    <tr>\n",
       "      <th>633</th>\n",
       "      <td>2018-10-17</td>\n",
       "      <td>1</td>\n",
       "    </tr>\n",
       "  </tbody>\n",
       "</table>\n",
       "<p>631 rows × 2 columns</p>\n",
       "</div>"
      ],
      "text/plain": [
       "           date  no_orders\n",
       "0    2016-09-04          1\n",
       "1    2016-09-05          1\n",
       "2    2016-09-13          1\n",
       "3    2016-09-15          1\n",
       "4    2016-10-02          1\n",
       "..          ...        ...\n",
       "629  2018-09-29          1\n",
       "630  2018-10-01          1\n",
       "631  2018-10-03          1\n",
       "632  2018-10-16          1\n",
       "633  2018-10-17          1\n",
       "\n",
       "[631 rows x 2 columns]"
      ]
     },
     "execution_count": 48,
     "metadata": {},
     "output_type": "execute_result"
    }
   ],
   "source": [
    "orders_bydate_rnn"
   ]
  },
  {
   "cell_type": "code",
   "execution_count": 49,
   "metadata": {},
   "outputs": [],
   "source": [
    "#Normalize time series in range [0,1] \n",
    "scaler = MinMaxScaler()\n",
    "#df_scaled = scaler.fit_transform(orders_bydate_rnn)\n",
    "orders_bydate_rnn['scaled_orders'] = scaler.fit_transform(orders_bydate_rnn[['no_orders']])"
   ]
  },
  {
   "cell_type": "code",
   "execution_count": 50,
   "metadata": {},
   "outputs": [
    {
     "data": {
      "text/html": [
       "<div>\n",
       "<style scoped>\n",
       "    .dataframe tbody tr th:only-of-type {\n",
       "        vertical-align: middle;\n",
       "    }\n",
       "\n",
       "    .dataframe tbody tr th {\n",
       "        vertical-align: top;\n",
       "    }\n",
       "\n",
       "    .dataframe thead th {\n",
       "        text-align: right;\n",
       "    }\n",
       "</style>\n",
       "<table border=\"1\" class=\"dataframe\">\n",
       "  <thead>\n",
       "    <tr style=\"text-align: right;\">\n",
       "      <th></th>\n",
       "      <th>date</th>\n",
       "      <th>no_orders</th>\n",
       "      <th>scaled_orders</th>\n",
       "    </tr>\n",
       "  </thead>\n",
       "  <tbody>\n",
       "    <tr>\n",
       "      <th>0</th>\n",
       "      <td>2016-09-04</td>\n",
       "      <td>1</td>\n",
       "      <td>0.0</td>\n",
       "    </tr>\n",
       "    <tr>\n",
       "      <th>1</th>\n",
       "      <td>2016-09-05</td>\n",
       "      <td>1</td>\n",
       "      <td>0.0</td>\n",
       "    </tr>\n",
       "    <tr>\n",
       "      <th>2</th>\n",
       "      <td>2016-09-13</td>\n",
       "      <td>1</td>\n",
       "      <td>0.0</td>\n",
       "    </tr>\n",
       "    <tr>\n",
       "      <th>3</th>\n",
       "      <td>2016-09-15</td>\n",
       "      <td>1</td>\n",
       "      <td>0.0</td>\n",
       "    </tr>\n",
       "    <tr>\n",
       "      <th>4</th>\n",
       "      <td>2016-10-02</td>\n",
       "      <td>1</td>\n",
       "      <td>0.0</td>\n",
       "    </tr>\n",
       "    <tr>\n",
       "      <th>...</th>\n",
       "      <td>...</td>\n",
       "      <td>...</td>\n",
       "      <td>...</td>\n",
       "    </tr>\n",
       "    <tr>\n",
       "      <th>629</th>\n",
       "      <td>2018-09-29</td>\n",
       "      <td>1</td>\n",
       "      <td>0.0</td>\n",
       "    </tr>\n",
       "    <tr>\n",
       "      <th>630</th>\n",
       "      <td>2018-10-01</td>\n",
       "      <td>1</td>\n",
       "      <td>0.0</td>\n",
       "    </tr>\n",
       "    <tr>\n",
       "      <th>631</th>\n",
       "      <td>2018-10-03</td>\n",
       "      <td>1</td>\n",
       "      <td>0.0</td>\n",
       "    </tr>\n",
       "    <tr>\n",
       "      <th>632</th>\n",
       "      <td>2018-10-16</td>\n",
       "      <td>1</td>\n",
       "      <td>0.0</td>\n",
       "    </tr>\n",
       "    <tr>\n",
       "      <th>633</th>\n",
       "      <td>2018-10-17</td>\n",
       "      <td>1</td>\n",
       "      <td>0.0</td>\n",
       "    </tr>\n",
       "  </tbody>\n",
       "</table>\n",
       "<p>631 rows × 3 columns</p>\n",
       "</div>"
      ],
      "text/plain": [
       "           date  no_orders  scaled_orders\n",
       "0    2016-09-04          1            0.0\n",
       "1    2016-09-05          1            0.0\n",
       "2    2016-09-13          1            0.0\n",
       "3    2016-09-15          1            0.0\n",
       "4    2016-10-02          1            0.0\n",
       "..          ...        ...            ...\n",
       "629  2018-09-29          1            0.0\n",
       "630  2018-10-01          1            0.0\n",
       "631  2018-10-03          1            0.0\n",
       "632  2018-10-16          1            0.0\n",
       "633  2018-10-17          1            0.0\n",
       "\n",
       "[631 rows x 3 columns]"
      ]
     },
     "execution_count": 50,
     "metadata": {},
     "output_type": "execute_result"
    }
   ],
   "source": [
    "orders_bydate_rnn"
   ]
  },
  {
   "cell_type": "code",
   "execution_count": 51,
   "metadata": {},
   "outputs": [],
   "source": [
    "def create_sequences(data, window_size):\n",
    "    sequences = []\n",
    "    labels = []\n",
    "    for i in range(len(data) - window_size):\n",
    "        seq = data[i: i + window_size]\n",
    "        label = data[i+ window_size]\n",
    "        sequences.append(seq)\n",
    "        labels.append(label)\n",
    "    return np.array(sequences), np.array(labels)"
   ]
  },
  {
   "cell_type": "code",
   "execution_count": 52,
   "metadata": {},
   "outputs": [],
   "source": [
    "window_size = 10\n",
    "data = orders_bydate_rnn['scaled_orders'].values\n",
    "X, y = create_sequences(data, window_size)"
   ]
  },
  {
   "cell_type": "code",
   "execution_count": 53,
   "metadata": {},
   "outputs": [
    {
     "data": {
      "text/plain": [
       "(621, 10)"
      ]
     },
     "execution_count": 53,
     "metadata": {},
     "output_type": "execute_result"
    }
   ],
   "source": [
    "X.shape"
   ]
  },
  {
   "cell_type": "code",
   "execution_count": 54,
   "metadata": {},
   "outputs": [
    {
     "data": {
      "text/plain": [
       "(621,)"
      ]
     },
     "execution_count": 54,
     "metadata": {},
     "output_type": "execute_result"
    }
   ],
   "source": [
    "y.shape"
   ]
  },
  {
   "cell_type": "code",
   "execution_count": 55,
   "metadata": {},
   "outputs": [],
   "source": [
    "# Reshape X to (samples, seq_len, 1) for RNN input\n",
    "X = X.reshape(X.shape[0], X.shape[1], 1)\n",
    "y = y.reshape(-1, 1)"
   ]
  },
  {
   "cell_type": "code",
   "execution_count": 56,
   "metadata": {},
   "outputs": [
    {
     "data": {
      "text/plain": [
       "(621, 10, 1)"
      ]
     },
     "execution_count": 56,
     "metadata": {},
     "output_type": "execute_result"
    }
   ],
   "source": [
    "X.shape"
   ]
  },
  {
   "cell_type": "code",
   "execution_count": 57,
   "metadata": {},
   "outputs": [
    {
     "data": {
      "text/plain": [
       "(621, 1)"
      ]
     },
     "execution_count": 57,
     "metadata": {},
     "output_type": "execute_result"
    }
   ],
   "source": [
    "y.shape"
   ]
  },
  {
   "cell_type": "markdown",
   "metadata": {},
   "source": [
    "# Create a custom dataset for class for Pytorch Dataloader"
   ]
  },
  {
   "cell_type": "code",
   "execution_count": 58,
   "metadata": {},
   "outputs": [],
   "source": [
    "# Split the data into training and test sets\n",
    "train_size = int(0.7 * len(X))\n",
    "X_train, X_test = X[:train_size], X[train_size:]\n",
    "y_train, y_test = y[:train_size], y[train_size:]"
   ]
  },
  {
   "cell_type": "code",
   "execution_count": 59,
   "metadata": {},
   "outputs": [
    {
     "data": {
      "text/plain": [
       "(187, 10, 1)"
      ]
     },
     "execution_count": 59,
     "metadata": {},
     "output_type": "execute_result"
    }
   ],
   "source": [
    "X_test.shape"
   ]
  },
  {
   "cell_type": "code",
   "execution_count": 60,
   "metadata": {},
   "outputs": [],
   "source": [
    "X_test_tensor = torch.tensor(X, dtype = torch.float32)"
   ]
  },
  {
   "cell_type": "code",
   "execution_count": 61,
   "metadata": {},
   "outputs": [],
   "source": [
    "from torch.utils.data import DataLoader, Dataset\n",
    "class RNNDataset(Dataset):\n",
    "    def __init__(self, X, y):\n",
    "        self.X = torch.tensor(X, dtype = torch.float32)\n",
    "        self.y = torch.tensor(y, dtype = torch.float32)\n",
    "\n",
    "    def __len__(self):\n",
    "        return len(self.X)\n",
    "    \n",
    "    def __getitem__(self, index):\n",
    "        return self.X[index], self.y[index]"
   ]
  },
  {
   "cell_type": "markdown",
   "metadata": {},
   "source": [
    "# GRU Model"
   ]
  },
  {
   "cell_type": "code",
   "execution_count": 62,
   "metadata": {},
   "outputs": [],
   "source": [
    "import torch.nn as nn\n",
    "class GRU(nn.Module):\n",
    "    def __init__(self, hidden_size, in_size = 1, out_size = 1):\n",
    "        super(GRU, self).__init__()\n",
    "        self.gru = nn.GRU(input_size = in_size, hidden_size = hidden_size, batch_first = True)\n",
    "        self.fc = nn.Linear(hidden_size, out_size)\n",
    "\n",
    "    def forward(self, x, h = None):\n",
    "        out, _ = self.gru(x, h)\n",
    "        last_hidden_states = out[:,-1]\n",
    "        out = self.fc(last_hidden_states)\n",
    "        return out    "
   ]
  },
  {
   "cell_type": "code",
   "execution_count": 63,
   "metadata": {},
   "outputs": [],
   "source": [
    "class RNN(nn.Module):\n",
    "    def __init__(self, hidden_size, in_size = 1, out_size = 1):\n",
    "        super(RNN, self).__init__()\n",
    "        self.rnn = nn.RNN(input_size = in_size,\n",
    "                            hidden_size = hidden_size,\n",
    "                            batch_first = True)\n",
    "        self.fc = nn.Linear(hidden_size, out_size)\n",
    "    \n",
    "    def forward(self, x, h = None):\n",
    "        out, _ = self.rnn(x, h)\n",
    "        last_hidden_states = out[:, -1]\n",
    "        out = self.fc(last_hidden_states)\n",
    "        return out"
   ]
  },
  {
   "cell_type": "code",
   "execution_count": 64,
   "metadata": {},
   "outputs": [
    {
     "data": {
      "text/plain": [
       "OrderedDict([('gru.weight_ih_l0',\n",
       "              tensor([[-0.0173],\n",
       "                      [-0.0256],\n",
       "                      [-0.0131],\n",
       "                      [-0.0012],\n",
       "                      [ 0.0353],\n",
       "                      [ 0.1665],\n",
       "                      [ 0.1004],\n",
       "                      [-0.0013],\n",
       "                      [-0.0358],\n",
       "                      [ 0.1625],\n",
       "                      [-0.1664],\n",
       "                      [ 0.1356],\n",
       "                      [-0.0873],\n",
       "                      [-0.0762],\n",
       "                      [ 0.0678],\n",
       "                      [-0.1695],\n",
       "                      [-0.0630],\n",
       "                      [ 0.1224],\n",
       "                      [ 0.1035],\n",
       "                      [ 0.0899],\n",
       "                      [-0.0002],\n",
       "                      [-0.0344],\n",
       "                      [ 0.0355],\n",
       "                      [ 0.1237],\n",
       "                      [ 0.0181],\n",
       "                      [-0.0377],\n",
       "                      [-0.0818],\n",
       "                      [-0.0636],\n",
       "                      [-0.1096],\n",
       "                      [ 0.1068],\n",
       "                      [ 0.1636],\n",
       "                      [ 0.0824],\n",
       "                      [ 0.0907],\n",
       "                      [-0.0274],\n",
       "                      [-0.0687],\n",
       "                      [ 0.0412],\n",
       "                      [ 0.1470],\n",
       "                      [ 0.1614],\n",
       "                      [ 0.0165],\n",
       "                      [-0.1523],\n",
       "                      [-0.0319],\n",
       "                      [-0.0025],\n",
       "                      [ 0.0683],\n",
       "                      [ 0.0115],\n",
       "                      [ 0.0584],\n",
       "                      [ 0.0025],\n",
       "                      [ 0.1351],\n",
       "                      [-0.1535],\n",
       "                      [ 0.0996],\n",
       "                      [ 0.0393],\n",
       "                      [ 0.1270],\n",
       "                      [-0.0647],\n",
       "                      [-0.1606],\n",
       "                      [ 0.1672],\n",
       "                      [-0.0790],\n",
       "                      [-0.1177],\n",
       "                      [-0.1552],\n",
       "                      [-0.1360],\n",
       "                      [-0.1120],\n",
       "                      [-0.1283],\n",
       "                      [ 0.1031],\n",
       "                      [ 0.1030],\n",
       "                      [-0.0865],\n",
       "                      [-0.0654],\n",
       "                      [ 0.0366],\n",
       "                      [-0.0714],\n",
       "                      [ 0.0075],\n",
       "                      [ 0.1044],\n",
       "                      [-0.0488],\n",
       "                      [-0.0544],\n",
       "                      [-0.1189],\n",
       "                      [ 0.1413],\n",
       "                      [-0.0018],\n",
       "                      [-0.1351],\n",
       "                      [ 0.0726],\n",
       "                      [ 0.1483],\n",
       "                      [ 0.1647],\n",
       "                      [ 0.0722],\n",
       "                      [ 0.0083],\n",
       "                      [-0.0502],\n",
       "                      [ 0.0296],\n",
       "                      [ 0.1160],\n",
       "                      [-0.0664],\n",
       "                      [-0.0845],\n",
       "                      [-0.1031],\n",
       "                      [-0.0084],\n",
       "                      [ 0.1027],\n",
       "                      [-0.1386],\n",
       "                      [ 0.0073],\n",
       "                      [-0.1606],\n",
       "                      [ 0.1323],\n",
       "                      [ 0.0202],\n",
       "                      [ 0.0023],\n",
       "                      [-0.1692],\n",
       "                      [-0.1210],\n",
       "                      [ 0.0510]])),\n",
       "             ('gru.weight_hh_l0',\n",
       "              tensor([[-0.0200,  0.0868,  0.1504,  ..., -0.0805,  0.1453,  0.1283],\n",
       "                      [-0.1168,  0.1541, -0.1131,  ...,  0.0867,  0.1008,  0.1617],\n",
       "                      [-0.0731,  0.1271,  0.0711,  ..., -0.0071, -0.1381,  0.1283],\n",
       "                      ...,\n",
       "                      [-0.1134, -0.1037,  0.0087,  ...,  0.0585, -0.1602, -0.1353],\n",
       "                      [-0.0523,  0.1119,  0.0891,  ...,  0.0873, -0.0625, -0.1045],\n",
       "                      [-0.1384,  0.0609,  0.1555,  ..., -0.0013, -0.1743, -0.1635]])),\n",
       "             ('gru.bias_ih_l0',\n",
       "              tensor([ 0.1397,  0.1343, -0.0802, -0.0227,  0.0837, -0.0199,  0.0117,  0.0125,\n",
       "                       0.0435, -0.1470, -0.1126, -0.0355,  0.1467, -0.0460,  0.0083, -0.1579,\n",
       "                      -0.0697,  0.0295,  0.0224,  0.0536, -0.0601, -0.0932,  0.0981, -0.1553,\n",
       "                       0.0786, -0.0136,  0.1763, -0.0379, -0.1517,  0.1625, -0.1426, -0.1035,\n",
       "                       0.0581, -0.1633, -0.0933, -0.1319,  0.1296,  0.0265, -0.0994,  0.0210,\n",
       "                       0.1656,  0.0358, -0.0822,  0.0462,  0.1448, -0.1142,  0.0191, -0.1296,\n",
       "                      -0.1629, -0.1268, -0.1035, -0.0094,  0.0941, -0.0365,  0.0629,  0.1362,\n",
       "                       0.1331,  0.1256,  0.0144,  0.1025, -0.1641,  0.0807,  0.1146, -0.1059,\n",
       "                      -0.0372, -0.1392, -0.0071,  0.0224,  0.0133, -0.0573, -0.0769,  0.1154,\n",
       "                      -0.0212,  0.0723,  0.0017,  0.0398,  0.0932, -0.0720,  0.0876,  0.0047,\n",
       "                      -0.1600,  0.0487, -0.0313, -0.0887,  0.0574,  0.0042,  0.1074, -0.0659,\n",
       "                       0.0544, -0.1543,  0.0627,  0.1625,  0.1117,  0.0310, -0.0469, -0.0633])),\n",
       "             ('gru.bias_hh_l0',\n",
       "              tensor([-7.8676e-02,  1.0012e-01,  1.1340e-02,  7.1083e-02, -9.0089e-05,\n",
       "                      -7.4332e-03, -3.3202e-03,  8.2313e-02,  1.1145e-01, -1.3924e-01,\n",
       "                      -9.9657e-02, -1.2144e-02, -1.2402e-01,  1.1827e-01, -1.0342e-01,\n",
       "                       5.1586e-02,  2.8316e-02,  1.0275e-01,  3.2290e-02, -8.3045e-02,\n",
       "                       1.2394e-01,  7.5048e-02,  1.6964e-01,  1.0563e-01, -8.2242e-02,\n",
       "                      -2.2886e-02,  1.1453e-01,  1.7279e-01,  4.4900e-02, -1.4156e-01,\n",
       "                       5.6459e-02,  3.9502e-02, -5.7877e-02, -1.0428e-01,  1.2471e-01,\n",
       "                       8.6100e-02,  1.1135e-01,  8.8827e-02,  1.5772e-01, -2.9741e-02,\n",
       "                      -9.2182e-02, -6.4704e-02, -1.1583e-01,  1.7078e-01, -1.6844e-02,\n",
       "                       2.7905e-02,  5.6960e-02, -2.4702e-02,  1.0152e-01, -1.0744e-01,\n",
       "                      -7.4765e-02, -1.1857e-01,  3.0729e-02,  1.3326e-02, -1.6248e-01,\n",
       "                      -1.4830e-01, -4.9827e-02,  1.4447e-01,  1.2676e-01, -1.3690e-01,\n",
       "                       2.8755e-03, -9.7458e-03,  1.4794e-01, -5.4518e-02,  9.7028e-02,\n",
       "                      -7.3229e-02,  1.2062e-01,  1.0722e-01,  2.6386e-03, -1.4611e-01,\n",
       "                      -1.3022e-01,  5.6558e-02,  1.7150e-01, -1.5865e-01,  1.4573e-01,\n",
       "                      -1.5484e-01,  1.0916e-01, -8.0314e-02, -1.2745e-01,  6.5826e-02,\n",
       "                       3.4802e-02, -1.1588e-01, -7.8661e-02,  6.9239e-02, -7.5503e-03,\n",
       "                       6.1067e-03,  1.0097e-01, -4.0030e-02,  9.1634e-02, -4.5688e-02,\n",
       "                       9.2813e-02, -1.4952e-01,  2.1055e-02, -6.4680e-02, -1.4601e-01,\n",
       "                      -7.3862e-02])),\n",
       "             ('fc.weight',\n",
       "              tensor([[-0.1139, -0.0883, -0.1765, -0.0745,  0.1198,  0.1689, -0.1524, -0.1180,\n",
       "                        0.1590,  0.1248,  0.0037, -0.1000,  0.0325, -0.1377, -0.1455,  0.0184,\n",
       "                       -0.1327, -0.0986, -0.1070, -0.0978, -0.1401, -0.0798, -0.0484, -0.0990,\n",
       "                       -0.1570,  0.1752,  0.0971, -0.0684,  0.1686, -0.0186,  0.1050,  0.1655]])),\n",
       "             ('fc.bias', tensor([-0.1271]))])"
      ]
     },
     "execution_count": 64,
     "metadata": {},
     "output_type": "execute_result"
    }
   ],
   "source": [
    "gru_model = GRU(hidden_size = 32)\n",
    "gru_model.state_dict()"
   ]
  },
  {
   "cell_type": "code",
   "execution_count": 65,
   "metadata": {},
   "outputs": [
    {
     "data": {
      "text/plain": [
       "OrderedDict([('rnn.weight_ih_l0',\n",
       "              tensor([[-0.1216],\n",
       "                      [-0.1023],\n",
       "                      [ 0.1130],\n",
       "                      [ 0.1090],\n",
       "                      [ 0.0308],\n",
       "                      [-0.0518],\n",
       "                      [ 0.0064],\n",
       "                      [ 0.1649],\n",
       "                      [-0.0914],\n",
       "                      [-0.0085],\n",
       "                      [ 0.0962],\n",
       "                      [-0.0469],\n",
       "                      [-0.1450],\n",
       "                      [-0.0470],\n",
       "                      [-0.0118],\n",
       "                      [ 0.0903],\n",
       "                      [ 0.1126],\n",
       "                      [ 0.0422],\n",
       "                      [ 0.1199],\n",
       "                      [-0.0216],\n",
       "                      [ 0.1589],\n",
       "                      [ 0.0662],\n",
       "                      [-0.0656],\n",
       "                      [-0.0436],\n",
       "                      [ 0.0144],\n",
       "                      [ 0.0303],\n",
       "                      [-0.0234],\n",
       "                      [ 0.1235],\n",
       "                      [-0.1198],\n",
       "                      [-0.1574],\n",
       "                      [-0.0514],\n",
       "                      [ 0.0516]])),\n",
       "             ('rnn.weight_hh_l0',\n",
       "              tensor([[ 0.0979, -0.1245, -0.1360,  ..., -0.1411,  0.1534, -0.1140],\n",
       "                      [ 0.0634, -0.1463, -0.1231,  ..., -0.1076, -0.0604,  0.1289],\n",
       "                      [-0.1690,  0.0151,  0.0164,  ...,  0.1157, -0.0907,  0.0444],\n",
       "                      ...,\n",
       "                      [-0.0404, -0.0601,  0.0739,  ..., -0.0587, -0.1077,  0.1423],\n",
       "                      [ 0.1551, -0.1043, -0.0209,  ...,  0.1618,  0.0254, -0.0771],\n",
       "                      [ 0.0738,  0.0355, -0.0830,  ...,  0.0461,  0.0897,  0.1140]])),\n",
       "             ('rnn.bias_ih_l0',\n",
       "              tensor([-0.0859, -0.1152,  0.0416, -0.0686,  0.0179,  0.0799,  0.0442, -0.1093,\n",
       "                       0.0726, -0.0373, -0.1109, -0.1311,  0.1487,  0.1168,  0.0817,  0.1189,\n",
       "                       0.0206,  0.0979, -0.0072,  0.0836,  0.0077, -0.0615, -0.0210, -0.0344,\n",
       "                       0.1348, -0.0607,  0.0377,  0.1750, -0.0207, -0.1670,  0.0784, -0.1218])),\n",
       "             ('rnn.bias_hh_l0',\n",
       "              tensor([-0.1604, -0.1445, -0.0148, -0.0615, -0.0625, -0.1167,  0.1178,  0.0355,\n",
       "                      -0.1470, -0.0003, -0.0059, -0.1217,  0.1491, -0.1550, -0.0237,  0.1072,\n",
       "                       0.1761,  0.0773,  0.0383,  0.1264,  0.0273, -0.0627,  0.0351, -0.0315,\n",
       "                       0.0669, -0.1254, -0.0776,  0.0396,  0.0487,  0.1542, -0.0003,  0.1756])),\n",
       "             ('fc.weight',\n",
       "              tensor([[-0.1173,  0.1469,  0.0779,  0.0689,  0.1269,  0.0588,  0.1134, -0.0175,\n",
       "                       -0.0326, -0.0894, -0.0877, -0.0364, -0.0842,  0.1293, -0.1224,  0.1272,\n",
       "                       -0.0768,  0.0054, -0.0547, -0.0386, -0.0104, -0.1591,  0.0728,  0.0657,\n",
       "                        0.0939,  0.0704, -0.1045, -0.1439,  0.1559, -0.0550,  0.1670,  0.1628]])),\n",
       "             ('fc.bias', tensor([0.0681]))])"
      ]
     },
     "execution_count": 65,
     "metadata": {},
     "output_type": "execute_result"
    }
   ],
   "source": [
    "rnn_model = RNN(hidden_size = 32)\n",
    "rnn_model.state_dict()"
   ]
  },
  {
   "cell_type": "code",
   "execution_count": 66,
   "metadata": {},
   "outputs": [],
   "source": [
    "# Make predictions with model\n",
    "with torch.inference_mode(): \n",
    "    y_preds = rnn_model(X_test_tensor)"
   ]
  },
  {
   "cell_type": "code",
   "execution_count": 67,
   "metadata": {},
   "outputs": [],
   "source": [
    "# Make predictions with model\n",
    "with torch.inference_mode(): \n",
    "    y_preds = gru_model(X_test_tensor)"
   ]
  },
  {
   "cell_type": "code",
   "execution_count": 75,
   "metadata": {},
   "outputs": [
    {
     "data": {
      "text/plain": [
       "torch.Size([621, 1])"
      ]
     },
     "execution_count": 75,
     "metadata": {},
     "output_type": "execute_result"
    }
   ],
   "source": [
    "y_preds.shape"
   ]
  },
  {
   "cell_type": "markdown",
   "metadata": {},
   "source": [
    "# Hyperparameters"
   ]
  },
  {
   "cell_type": "code",
   "execution_count": 68,
   "metadata": {},
   "outputs": [],
   "source": [
    "hidden_size = 32\n",
    "learning_rate = 0.02\n",
    "training_epochs = 500\n",
    "batch_size = 64"
   ]
  },
  {
   "cell_type": "code",
   "execution_count": 69,
   "metadata": {},
   "outputs": [],
   "source": [
    "#Create Data Loaders\n",
    "train_dataset = RNNDataset(X_train, y_train)\n",
    "train_loader = DataLoader(train_dataset, batch_size=batch_size)\n",
    "test_dataset = RNNDataset(X_test, y_test)\n",
    "test_loader = DataLoader(test_dataset, batch_size=batch_size, shuffle=True)"
   ]
  },
  {
   "cell_type": "code",
   "execution_count": 70,
   "metadata": {},
   "outputs": [
    {
     "data": {
      "text/plain": [
       "<__main__.RNNDataset at 0x31cc6bd90>"
      ]
     },
     "execution_count": 70,
     "metadata": {},
     "output_type": "execute_result"
    }
   ],
   "source": [
    "train_dataset"
   ]
  },
  {
   "cell_type": "code",
   "execution_count": 71,
   "metadata": {},
   "outputs": [],
   "source": [
    "#Initialize the model, loss function, and optimizer\n",
    "model = GRU(hidden_size=hidden_size)\n",
    "criterion = nn.MSELoss()\n",
    "optimizer = torch.optim.Adam(model.parameters(), lr=learning_rate)"
   ]
  },
  {
   "cell_type": "markdown",
   "metadata": {},
   "source": [
    "# Training"
   ]
  },
  {
   "cell_type": "code",
   "execution_count": 72,
   "metadata": {},
   "outputs": [
    {
     "name": "stdout",
     "output_type": "stream",
     "text": [
      "Epoch 0 - Train Loss: 0.2398 | Test Loss: 0.1566\n"
     ]
    },
    {
     "name": "stdout",
     "output_type": "stream",
     "text": [
      "Epoch 10 - Train Loss: 0.0419 | Test Loss: 0.0388\n",
      "Epoch 20 - Train Loss: 0.0391 | Test Loss: 0.0376\n",
      "Epoch 30 - Train Loss: 0.0643 | Test Loss: 0.0425\n",
      "Epoch 40 - Train Loss: 0.0379 | Test Loss: 0.0378\n",
      "Epoch 50 - Train Loss: 0.0365 | Test Loss: 0.0373\n",
      "Epoch 60 - Train Loss: 0.0353 | Test Loss: 0.0430\n",
      "Epoch 70 - Train Loss: 0.1501 | Test Loss: 0.0520\n",
      "Epoch 80 - Train Loss: 0.0355 | Test Loss: 0.0378\n",
      "Epoch 90 - Train Loss: 0.0325 | Test Loss: 0.0409\n"
     ]
    }
   ],
   "source": [
    "# 6. Training loop\n",
    "num_epochs = 100\n",
    "for epoch in range(num_epochs):\n",
    "    ###TRAINING\n",
    "\n",
    "    #Put model in training mode\n",
    "    model.train()\n",
    "\n",
    "    train_loss = 0\n",
    "    #Loop in batch\n",
    "    for X_batch, y_batch in train_loader:\n",
    "        #1. Forward pass on train data using the forward() method inside\n",
    "        y_pred = model(X_batch)\n",
    "\n",
    "        #2. Calculate the loss (how different are our models predictions to the ground truth)\n",
    "        loss = criterion(y_pred, y_batch)\n",
    "\n",
    "        #3. Zero grad of the optimizer\n",
    "        optimizer.zero_grad()\n",
    "\n",
    "        #4. Loss backwards\n",
    "        loss.backward()\n",
    "        \n",
    "        #5. Progress the optimizer\n",
    "        optimizer.step()\n",
    "\n",
    "        #6. Accumulate loss\n",
    "        train_loss += loss.item()\n",
    "\n",
    "    ###TESTING\n",
    "    model.eval()\n",
    "\n",
    "    test_loss = 0\n",
    "\n",
    "    with torch.inference_mode():\n",
    "        #Create loop in batch\n",
    "        for X_batch, y_batch in test_loader:\n",
    "            #1. Forward pass on the test data\n",
    "            y_pred = model(X_batch)\n",
    "\n",
    "            #2. Calculate loss on test data\n",
    "            loss = criterion(y_pred, y_batch)\n",
    "\n",
    "            #3. Accumulate loss\n",
    "            test_loss += loss.item()\n",
    "\n",
    "    if epoch % 10 == 0:\n",
    "        print(f\"Epoch {epoch} - Train Loss: {train_loss:.4f} | Test Loss: {test_loss:.4f}\")"
   ]
  },
  {
   "cell_type": "code",
   "execution_count": 73,
   "metadata": {},
   "outputs": [],
   "source": [
    "# 7. Predict on test set\n",
    "model.eval()\n",
    "with torch.no_grad():\n",
    "    test_inputs = torch.tensor(X_test, dtype=torch.float32)\n",
    "    predictions = model(test_inputs).numpy()\n",
    "\n",
    "# Inverse scale predictions and actuals\n",
    "y_test_inv = scaler.inverse_transform(y_test)\n",
    "predictions_inv = scaler.inverse_transform(predictions)"
   ]
  },
  {
   "cell_type": "code",
   "execution_count": 74,
   "metadata": {},
   "outputs": [
    {
     "data": {
      "image/png": "[encoded data removed]",
      "text/plain": [
       "<Figure size 1000x500 with 1 Axes>"
      ]
     },
     "metadata": {},
     "output_type": "display_data"
    }
   ],
   "source": [
    "# 8. Plot\n",
    "plt.figure(figsize=(10,5))\n",
    "plt.plot(y_test_inv, label='Actual')\n",
    "plt.plot(predictions_inv, label='Predicted')\n",
    "plt.legend()\n",
    "plt.title(\"RNN Time Series Forecast\")\n",
    "plt.show()"
   ]
  },
  {
   "cell_type": "markdown",
   "metadata": {},
   "source": [
    "# Training progress\n"
   ]
  },
  {
   "cell_type": "markdown",
   "metadata": {},
   "source": [
    "References:\n",
    "- My blog:\n",
    "- Z\n",
    "- Chapter 4: Recurrent Neural Networks in book Time series forecasting using Deep Learning"
   ]
  }
 ],
 "metadata": {
  "kernelspec": {
   "display_name": "Python 3",
   "language": "python",
   "name": "python3"
  },
  "language_info": {
   "codemirror_mode": {
    "name": "ipython",
    "version": 3
   },
   "file_extension": ".py",
   "mimetype": "text/x-python",
   "name": "python",
   "nbconvert_exporter": "python",
   "pygments_lexer": "ipython3",
   "version": "3.9.6"
  }
 },
 "nbformat": 4,
 "nbformat_minor": 2
}
