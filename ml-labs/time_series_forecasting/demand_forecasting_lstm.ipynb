{
 "cells": [
  {
   "cell_type": "markdown",
   "metadata": {},
   "source": [
    "# Import libraries"
   ]
  },
  {
   "cell_type": "code",
   "execution_count": 1,
   "metadata": {},
   "outputs": [],
   "source": [
    "import torch.nn as nn\n",
    "import matplotlib.pyplot as plt \n",
    "import copy \n",
    "import random\n",
    "import sys\n",
    "import numpy as np \n",
    "import pandas as pd\n",
    "import torch\n",
    "from sklearn.preprocessing import MinMaxScaler \n",
    "\n"
   ]
  },
  {
   "cell_type": "markdown",
   "metadata": {},
   "source": [
    "# Load dataset"
   ]
  },
  {
   "cell_type": "code",
   "execution_count": 2,
   "metadata": {},
   "outputs": [],
   "source": [
    "olist_orders = pd.read_csv(\"/Users/phuongnguyen/Documents/Code Github/mlops-ml-ecommerce-customers/sample_files/olist_dataset/olist_orders_dataset.csv\")"
   ]
  },
  {
   "cell_type": "code",
   "execution_count": 3,
   "metadata": {},
   "outputs": [
    {
     "data": {
      "text/html": [
       "<div>\n",
       "<style scoped>\n",
       "    .dataframe tbody tr th:only-of-type {\n",
       "        vertical-align: middle;\n",
       "    }\n",
       "\n",
       "    .dataframe tbody tr th {\n",
       "        vertical-align: top;\n",
       "    }\n",
       "\n",
       "    .dataframe thead th {\n",
       "        text-align: right;\n",
       "    }\n",
       "</style>\n",
       "<table border=\"1\" class=\"dataframe\">\n",
       "  <thead>\n",
       "    <tr style=\"text-align: right;\">\n",
       "      <th></th>\n",
       "      <th>order_id</th>\n",
       "      <th>customer_id</th>\n",
       "      <th>order_status</th>\n",
       "      <th>order_purchase_timestamp</th>\n",
       "      <th>order_approved_at</th>\n",
       "      <th>order_delivered_carrier_date</th>\n",
       "      <th>order_delivered_customer_date</th>\n",
       "      <th>order_estimated_delivery_date</th>\n",
       "      <th>purchase_datetime</th>\n",
       "      <th>purchase_date</th>\n",
       "      <th>purchase_month</th>\n",
       "    </tr>\n",
       "  </thead>\n",
       "  <tbody>\n",
       "    <tr>\n",
       "      <th>0</th>\n",
       "      <td>e481f51cbdc54678b7cc49136f2d6af7</td>\n",
       "      <td>9ef432eb6251297304e76186b10a928d</td>\n",
       "      <td>delivered</td>\n",
       "      <td>2017-10-02 10:56:33</td>\n",
       "      <td>2017-10-02 11:07:15</td>\n",
       "      <td>2017-10-04 19:55:00</td>\n",
       "      <td>2017-10-10 21:25:13</td>\n",
       "      <td>2017-10-18 00:00:00</td>\n",
       "      <td>2017-10-02 10:56:33</td>\n",
       "      <td>2017-10-02</td>\n",
       "      <td>2017-10</td>\n",
       "    </tr>\n",
       "    <tr>\n",
       "      <th>1</th>\n",
       "      <td>53cdb2fc8bc7dce0b6741e2150273451</td>\n",
       "      <td>b0830fb4747a6c6d20dea0b8c802d7ef</td>\n",
       "      <td>delivered</td>\n",
       "      <td>2018-07-24 20:41:37</td>\n",
       "      <td>2018-07-26 03:24:27</td>\n",
       "      <td>2018-07-26 14:31:00</td>\n",
       "      <td>2018-08-07 15:27:45</td>\n",
       "      <td>2018-08-13 00:00:00</td>\n",
       "      <td>2018-07-24 20:41:37</td>\n",
       "      <td>2018-07-24</td>\n",
       "      <td>2018-07</td>\n",
       "    </tr>\n",
       "    <tr>\n",
       "      <th>2</th>\n",
       "      <td>47770eb9100c2d0c44946d9cf07ec65d</td>\n",
       "      <td>41ce2a54c0b03bf3443c3d931a367089</td>\n",
       "      <td>delivered</td>\n",
       "      <td>2018-08-08 08:38:49</td>\n",
       "      <td>2018-08-08 08:55:23</td>\n",
       "      <td>2018-08-08 13:50:00</td>\n",
       "      <td>2018-08-17 18:06:29</td>\n",
       "      <td>2018-09-04 00:00:00</td>\n",
       "      <td>2018-08-08 08:38:49</td>\n",
       "      <td>2018-08-08</td>\n",
       "      <td>2018-08</td>\n",
       "    </tr>\n",
       "    <tr>\n",
       "      <th>3</th>\n",
       "      <td>949d5b44dbf5de918fe9c16f97b45f8a</td>\n",
       "      <td>f88197465ea7920adcdbec7375364d82</td>\n",
       "      <td>delivered</td>\n",
       "      <td>2017-11-18 19:28:06</td>\n",
       "      <td>2017-11-18 19:45:59</td>\n",
       "      <td>2017-11-22 13:39:59</td>\n",
       "      <td>2017-12-02 00:28:42</td>\n",
       "      <td>2017-12-15 00:00:00</td>\n",
       "      <td>2017-11-18 19:28:06</td>\n",
       "      <td>2017-11-18</td>\n",
       "      <td>2017-11</td>\n",
       "    </tr>\n",
       "    <tr>\n",
       "      <th>4</th>\n",
       "      <td>ad21c59c0840e6cb83a9ceb5573f8159</td>\n",
       "      <td>8ab97904e6daea8866dbdbc4fb7aad2c</td>\n",
       "      <td>delivered</td>\n",
       "      <td>2018-02-13 21:18:39</td>\n",
       "      <td>2018-02-13 22:20:29</td>\n",
       "      <td>2018-02-14 19:46:34</td>\n",
       "      <td>2018-02-16 18:17:02</td>\n",
       "      <td>2018-02-26 00:00:00</td>\n",
       "      <td>2018-02-13 21:18:39</td>\n",
       "      <td>2018-02-13</td>\n",
       "      <td>2018-02</td>\n",
       "    </tr>\n",
       "  </tbody>\n",
       "</table>\n",
       "</div>"
      ],
      "text/plain": [
       "                           order_id                       customer_id  \\\n",
       "0  e481f51cbdc54678b7cc49136f2d6af7  9ef432eb6251297304e76186b10a928d   \n",
       "1  53cdb2fc8bc7dce0b6741e2150273451  b0830fb4747a6c6d20dea0b8c802d7ef   \n",
       "2  47770eb9100c2d0c44946d9cf07ec65d  41ce2a54c0b03bf3443c3d931a367089   \n",
       "3  949d5b44dbf5de918fe9c16f97b45f8a  f88197465ea7920adcdbec7375364d82   \n",
       "4  ad21c59c0840e6cb83a9ceb5573f8159  8ab97904e6daea8866dbdbc4fb7aad2c   \n",
       "\n",
       "  order_status order_purchase_timestamp    order_approved_at  \\\n",
       "0    delivered      2017-10-02 10:56:33  2017-10-02 11:07:15   \n",
       "1    delivered      2018-07-24 20:41:37  2018-07-26 03:24:27   \n",
       "2    delivered      2018-08-08 08:38:49  2018-08-08 08:55:23   \n",
       "3    delivered      2017-11-18 19:28:06  2017-11-18 19:45:59   \n",
       "4    delivered      2018-02-13 21:18:39  2018-02-13 22:20:29   \n",
       "\n",
       "  order_delivered_carrier_date order_delivered_customer_date  \\\n",
       "0          2017-10-04 19:55:00           2017-10-10 21:25:13   \n",
       "1          2018-07-26 14:31:00           2018-08-07 15:27:45   \n",
       "2          2018-08-08 13:50:00           2018-08-17 18:06:29   \n",
       "3          2017-11-22 13:39:59           2017-12-02 00:28:42   \n",
       "4          2018-02-14 19:46:34           2018-02-16 18:17:02   \n",
       "\n",
       "  order_estimated_delivery_date   purchase_datetime purchase_date  \\\n",
       "0           2017-10-18 00:00:00 2017-10-02 10:56:33    2017-10-02   \n",
       "1           2018-08-13 00:00:00 2018-07-24 20:41:37    2018-07-24   \n",
       "2           2018-09-04 00:00:00 2018-08-08 08:38:49    2018-08-08   \n",
       "3           2017-12-15 00:00:00 2017-11-18 19:28:06    2017-11-18   \n",
       "4           2018-02-26 00:00:00 2018-02-13 21:18:39    2018-02-13   \n",
       "\n",
       "  purchase_month  \n",
       "0        2017-10  \n",
       "1        2018-07  \n",
       "2        2018-08  \n",
       "3        2017-11  \n",
       "4        2018-02  "
      ]
     },
     "execution_count": 3,
     "metadata": {},
     "output_type": "execute_result"
    }
   ],
   "source": [
    "### Extract monthly sales\n",
    "# Convert order purchase timestamp to_datetime\n",
    "olist_orders['purchase_datetime'] = pd.to_datetime(olist_orders['order_purchase_timestamp'])\n",
    "# Get date only\n",
    "olist_orders['purchase_date'] = olist_orders['purchase_datetime'].dt.date\n",
    "# Get month only\n",
    "olist_orders['purchase_month'] = olist_orders['purchase_datetime'].dt.strftime('%Y-%m')\n",
    "\n",
    "olist_orders.head(5)"
   ]
  },
  {
   "cell_type": "code",
   "execution_count": 4,
   "metadata": {},
   "outputs": [
    {
     "data": {
      "text/html": [
       "<div>\n",
       "<style scoped>\n",
       "    .dataframe tbody tr th:only-of-type {\n",
       "        vertical-align: middle;\n",
       "    }\n",
       "\n",
       "    .dataframe tbody tr th {\n",
       "        vertical-align: top;\n",
       "    }\n",
       "\n",
       "    .dataframe thead th {\n",
       "        text-align: right;\n",
       "    }\n",
       "</style>\n",
       "<table border=\"1\" class=\"dataframe\">\n",
       "  <thead>\n",
       "    <tr style=\"text-align: right;\">\n",
       "      <th></th>\n",
       "      <th>month</th>\n",
       "      <th>no_orders</th>\n",
       "    </tr>\n",
       "  </thead>\n",
       "  <tbody>\n",
       "    <tr>\n",
       "      <th>24</th>\n",
       "      <td>2018-10</td>\n",
       "      <td>4</td>\n",
       "    </tr>\n",
       "    <tr>\n",
       "      <th>23</th>\n",
       "      <td>2018-09</td>\n",
       "      <td>16</td>\n",
       "    </tr>\n",
       "    <tr>\n",
       "      <th>22</th>\n",
       "      <td>2018-08</td>\n",
       "      <td>6512</td>\n",
       "    </tr>\n",
       "    <tr>\n",
       "      <th>21</th>\n",
       "      <td>2018-07</td>\n",
       "      <td>6292</td>\n",
       "    </tr>\n",
       "    <tr>\n",
       "      <th>20</th>\n",
       "      <td>2018-06</td>\n",
       "      <td>6167</td>\n",
       "    </tr>\n",
       "  </tbody>\n",
       "</table>\n",
       "</div>"
      ],
      "text/plain": [
       "      month  no_orders\n",
       "24  2018-10          4\n",
       "23  2018-09         16\n",
       "22  2018-08       6512\n",
       "21  2018-07       6292\n",
       "20  2018-06       6167"
      ]
     },
     "execution_count": 4,
     "metadata": {},
     "output_type": "execute_result"
    }
   ],
   "source": [
    "#Group by month, number of orders\n",
    "orders_bymonth = olist_orders.groupby('purchase_month')['order_id'].nunique().reset_index()\n",
    "orders_bymonth.columns = ['month', 'no_orders']\n",
    "#Sort ascending month\n",
    "orders_bymonth = orders_bymonth.sort_values('month', ascending = False)\n",
    "orders_bymonth.head(5)"
   ]
  },
  {
   "cell_type": "code",
   "execution_count": 5,
   "metadata": {},
   "outputs": [
    {
     "data": {
      "text/html": [
       "<div>\n",
       "<style scoped>\n",
       "    .dataframe tbody tr th:only-of-type {\n",
       "        vertical-align: middle;\n",
       "    }\n",
       "\n",
       "    .dataframe tbody tr th {\n",
       "        vertical-align: top;\n",
       "    }\n",
       "\n",
       "    .dataframe thead th {\n",
       "        text-align: right;\n",
       "    }\n",
       "</style>\n",
       "<table border=\"1\" class=\"dataframe\">\n",
       "  <thead>\n",
       "    <tr style=\"text-align: right;\">\n",
       "      <th></th>\n",
       "      <th>date</th>\n",
       "      <th>no_orders</th>\n",
       "    </tr>\n",
       "  </thead>\n",
       "  <tbody>\n",
       "    <tr>\n",
       "      <th>633</th>\n",
       "      <td>2018-10-17</td>\n",
       "      <td>1</td>\n",
       "    </tr>\n",
       "    <tr>\n",
       "      <th>632</th>\n",
       "      <td>2018-10-16</td>\n",
       "      <td>1</td>\n",
       "    </tr>\n",
       "    <tr>\n",
       "      <th>631</th>\n",
       "      <td>2018-10-03</td>\n",
       "      <td>1</td>\n",
       "    </tr>\n",
       "    <tr>\n",
       "      <th>630</th>\n",
       "      <td>2018-10-01</td>\n",
       "      <td>1</td>\n",
       "    </tr>\n",
       "    <tr>\n",
       "      <th>629</th>\n",
       "      <td>2018-09-29</td>\n",
       "      <td>1</td>\n",
       "    </tr>\n",
       "  </tbody>\n",
       "</table>\n",
       "</div>"
      ],
      "text/plain": [
       "           date  no_orders\n",
       "633  2018-10-17          1\n",
       "632  2018-10-16          1\n",
       "631  2018-10-03          1\n",
       "630  2018-10-01          1\n",
       "629  2018-09-29          1"
      ]
     },
     "execution_count": 5,
     "metadata": {},
     "output_type": "execute_result"
    }
   ],
   "source": [
    "#Group by date, number of orders\n",
    "orders_bydate = olist_orders.groupby('purchase_date')['order_id'].nunique().reset_index()\n",
    "orders_bydate.columns = ['date', 'no_orders']\n",
    "orders_bydate = orders_bydate.sort_values('date', ascending = False)\n",
    "orders_bydate.head(5)"
   ]
  },
  {
   "cell_type": "code",
   "execution_count": 6,
   "metadata": {},
   "outputs": [
    {
     "data": {
      "image/png": "[encoded data removed]",
      "text/plain": [
       "<Figure size 640x480 with 1 Axes>"
      ]
     },
     "metadata": {},
     "output_type": "display_data"
    }
   ],
   "source": [
    "orders_bydate.plot()\n",
    "plt.show()"
   ]
  },
  {
   "cell_type": "code",
   "execution_count": 7,
   "metadata": {},
   "outputs": [
    {
     "data": {
      "image/png": "[encoded data removed]",
      "text/plain": [
       "<Figure size 640x480 with 1 Axes>"
      ]
     },
     "metadata": {},
     "output_type": "display_data"
    }
   ],
   "source": [
    "# Remove outliers\n",
    "orders_bydate_filtered = orders_bydate.loc[orders_bydate['no_orders'] < 400]\n",
    "\n",
    "orders_bydate_filtered.plot()\n",
    "plt.show()\n"
   ]
  },
  {
   "cell_type": "markdown",
   "metadata": {},
   "source": [
    "# Preparing datasets for training"
   ]
  },
  {
   "cell_type": "code",
   "execution_count": 8,
   "metadata": {},
   "outputs": [],
   "source": [
    "orders_bydate_rnn = orders_bydate_filtered.copy()"
   ]
  },
  {
   "cell_type": "code",
   "execution_count": 9,
   "metadata": {},
   "outputs": [],
   "source": [
    "#set_index by date, make sure sort descending correctly\n",
    "# orders_bydate_rnn.set_index('date', inplace = True)\n",
    "# orders_bydate_rnn.head(5)"
   ]
  },
  {
   "cell_type": "code",
   "execution_count": 10,
   "metadata": {},
   "outputs": [],
   "source": [
    "orders_bydate_rnn.sort_values('date', inplace = True)"
   ]
  },
  {
   "cell_type": "code",
   "execution_count": 11,
   "metadata": {},
   "outputs": [
    {
     "data": {
      "text/html": [
       "<div>\n",
       "<style scoped>\n",
       "    .dataframe tbody tr th:only-of-type {\n",
       "        vertical-align: middle;\n",
       "    }\n",
       "\n",
       "    .dataframe tbody tr th {\n",
       "        vertical-align: top;\n",
       "    }\n",
       "\n",
       "    .dataframe thead th {\n",
       "        text-align: right;\n",
       "    }\n",
       "</style>\n",
       "<table border=\"1\" class=\"dataframe\">\n",
       "  <thead>\n",
       "    <tr style=\"text-align: right;\">\n",
       "      <th></th>\n",
       "      <th>date</th>\n",
       "      <th>no_orders</th>\n",
       "    </tr>\n",
       "  </thead>\n",
       "  <tbody>\n",
       "    <tr>\n",
       "      <th>0</th>\n",
       "      <td>2016-09-04</td>\n",
       "      <td>1</td>\n",
       "    </tr>\n",
       "    <tr>\n",
       "      <th>1</th>\n",
       "      <td>2016-09-05</td>\n",
       "      <td>1</td>\n",
       "    </tr>\n",
       "    <tr>\n",
       "      <th>2</th>\n",
       "      <td>2016-09-13</td>\n",
       "      <td>1</td>\n",
       "    </tr>\n",
       "    <tr>\n",
       "      <th>3</th>\n",
       "      <td>2016-09-15</td>\n",
       "      <td>1</td>\n",
       "    </tr>\n",
       "    <tr>\n",
       "      <th>4</th>\n",
       "      <td>2016-10-02</td>\n",
       "      <td>1</td>\n",
       "    </tr>\n",
       "    <tr>\n",
       "      <th>...</th>\n",
       "      <td>...</td>\n",
       "      <td>...</td>\n",
       "    </tr>\n",
       "    <tr>\n",
       "      <th>629</th>\n",
       "      <td>2018-09-29</td>\n",
       "      <td>1</td>\n",
       "    </tr>\n",
       "    <tr>\n",
       "      <th>630</th>\n",
       "      <td>2018-10-01</td>\n",
       "      <td>1</td>\n",
       "    </tr>\n",
       "    <tr>\n",
       "      <th>631</th>\n",
       "      <td>2018-10-03</td>\n",
       "      <td>1</td>\n",
       "    </tr>\n",
       "    <tr>\n",
       "      <th>632</th>\n",
       "      <td>2018-10-16</td>\n",
       "      <td>1</td>\n",
       "    </tr>\n",
       "    <tr>\n",
       "      <th>633</th>\n",
       "      <td>2018-10-17</td>\n",
       "      <td>1</td>\n",
       "    </tr>\n",
       "  </tbody>\n",
       "</table>\n",
       "<p>631 rows × 2 columns</p>\n",
       "</div>"
      ],
      "text/plain": [
       "           date  no_orders\n",
       "0    2016-09-04          1\n",
       "1    2016-09-05          1\n",
       "2    2016-09-13          1\n",
       "3    2016-09-15          1\n",
       "4    2016-10-02          1\n",
       "..          ...        ...\n",
       "629  2018-09-29          1\n",
       "630  2018-10-01          1\n",
       "631  2018-10-03          1\n",
       "632  2018-10-16          1\n",
       "633  2018-10-17          1\n",
       "\n",
       "[631 rows x 2 columns]"
      ]
     },
     "execution_count": 11,
     "metadata": {},
     "output_type": "execute_result"
    }
   ],
   "source": [
    "orders_bydate_rnn"
   ]
  },
  {
   "cell_type": "code",
   "execution_count": 12,
   "metadata": {},
   "outputs": [],
   "source": [
    "#Normalize time series in range [0,1] \n",
    "scaler = MinMaxScaler()\n",
    "#df_scaled = scaler.fit_transform(orders_bydate_rnn)\n",
    "orders_bydate_rnn['scaled_orders'] = scaler.fit_transform(orders_bydate_rnn[['no_orders']])"
   ]
  },
  {
   "cell_type": "code",
   "execution_count": 13,
   "metadata": {},
   "outputs": [
    {
     "data": {
      "text/html": [
       "<div>\n",
       "<style scoped>\n",
       "    .dataframe tbody tr th:only-of-type {\n",
       "        vertical-align: middle;\n",
       "    }\n",
       "\n",
       "    .dataframe tbody tr th {\n",
       "        vertical-align: top;\n",
       "    }\n",
       "\n",
       "    .dataframe thead th {\n",
       "        text-align: right;\n",
       "    }\n",
       "</style>\n",
       "<table border=\"1\" class=\"dataframe\">\n",
       "  <thead>\n",
       "    <tr style=\"text-align: right;\">\n",
       "      <th></th>\n",
       "      <th>date</th>\n",
       "      <th>no_orders</th>\n",
       "      <th>scaled_orders</th>\n",
       "    </tr>\n",
       "  </thead>\n",
       "  <tbody>\n",
       "    <tr>\n",
       "      <th>0</th>\n",
       "      <td>2016-09-04</td>\n",
       "      <td>1</td>\n",
       "      <td>0.0</td>\n",
       "    </tr>\n",
       "    <tr>\n",
       "      <th>1</th>\n",
       "      <td>2016-09-05</td>\n",
       "      <td>1</td>\n",
       "      <td>0.0</td>\n",
       "    </tr>\n",
       "    <tr>\n",
       "      <th>2</th>\n",
       "      <td>2016-09-13</td>\n",
       "      <td>1</td>\n",
       "      <td>0.0</td>\n",
       "    </tr>\n",
       "    <tr>\n",
       "      <th>3</th>\n",
       "      <td>2016-09-15</td>\n",
       "      <td>1</td>\n",
       "      <td>0.0</td>\n",
       "    </tr>\n",
       "    <tr>\n",
       "      <th>4</th>\n",
       "      <td>2016-10-02</td>\n",
       "      <td>1</td>\n",
       "      <td>0.0</td>\n",
       "    </tr>\n",
       "    <tr>\n",
       "      <th>...</th>\n",
       "      <td>...</td>\n",
       "      <td>...</td>\n",
       "      <td>...</td>\n",
       "    </tr>\n",
       "    <tr>\n",
       "      <th>629</th>\n",
       "      <td>2018-09-29</td>\n",
       "      <td>1</td>\n",
       "      <td>0.0</td>\n",
       "    </tr>\n",
       "    <tr>\n",
       "      <th>630</th>\n",
       "      <td>2018-10-01</td>\n",
       "      <td>1</td>\n",
       "      <td>0.0</td>\n",
       "    </tr>\n",
       "    <tr>\n",
       "      <th>631</th>\n",
       "      <td>2018-10-03</td>\n",
       "      <td>1</td>\n",
       "      <td>0.0</td>\n",
       "    </tr>\n",
       "    <tr>\n",
       "      <th>632</th>\n",
       "      <td>2018-10-16</td>\n",
       "      <td>1</td>\n",
       "      <td>0.0</td>\n",
       "    </tr>\n",
       "    <tr>\n",
       "      <th>633</th>\n",
       "      <td>2018-10-17</td>\n",
       "      <td>1</td>\n",
       "      <td>0.0</td>\n",
       "    </tr>\n",
       "  </tbody>\n",
       "</table>\n",
       "<p>631 rows × 3 columns</p>\n",
       "</div>"
      ],
      "text/plain": [
       "           date  no_orders  scaled_orders\n",
       "0    2016-09-04          1            0.0\n",
       "1    2016-09-05          1            0.0\n",
       "2    2016-09-13          1            0.0\n",
       "3    2016-09-15          1            0.0\n",
       "4    2016-10-02          1            0.0\n",
       "..          ...        ...            ...\n",
       "629  2018-09-29          1            0.0\n",
       "630  2018-10-01          1            0.0\n",
       "631  2018-10-03          1            0.0\n",
       "632  2018-10-16          1            0.0\n",
       "633  2018-10-17          1            0.0\n",
       "\n",
       "[631 rows x 3 columns]"
      ]
     },
     "execution_count": 13,
     "metadata": {},
     "output_type": "execute_result"
    }
   ],
   "source": [
    "orders_bydate_rnn"
   ]
  },
  {
   "cell_type": "code",
   "execution_count": 14,
   "metadata": {},
   "outputs": [],
   "source": [
    "def create_sequences(data, window_size):\n",
    "    sequences = []\n",
    "    labels = []\n",
    "    for i in range(len(data) - window_size):\n",
    "        seq = data[i: i + window_size]\n",
    "        label = data[i+ window_size]\n",
    "        sequences.append(seq)\n",
    "        labels.append(label)\n",
    "    return np.array(sequences), np.array(labels)"
   ]
  },
  {
   "cell_type": "code",
   "execution_count": 15,
   "metadata": {},
   "outputs": [],
   "source": [
    "window_size = 10\n",
    "data = orders_bydate_rnn['scaled_orders'].values\n",
    "X, y = create_sequences(data, window_size)"
   ]
  },
  {
   "cell_type": "code",
   "execution_count": 16,
   "metadata": {},
   "outputs": [
    {
     "data": {
      "text/plain": [
       "(621, 10)"
      ]
     },
     "execution_count": 16,
     "metadata": {},
     "output_type": "execute_result"
    }
   ],
   "source": [
    "X.shape"
   ]
  },
  {
   "cell_type": "code",
   "execution_count": 17,
   "metadata": {},
   "outputs": [
    {
     "data": {
      "text/plain": [
       "(621,)"
      ]
     },
     "execution_count": 17,
     "metadata": {},
     "output_type": "execute_result"
    }
   ],
   "source": [
    "y.shape"
   ]
  },
  {
   "cell_type": "code",
   "execution_count": 18,
   "metadata": {},
   "outputs": [],
   "source": [
    "# Reshape X to (samples, seq_len, 1) for RNN input\n",
    "X = X.reshape(X.shape[0], X.shape[1], 1)\n",
    "y = y.reshape(-1, 1)"
   ]
  },
  {
   "cell_type": "code",
   "execution_count": 19,
   "metadata": {},
   "outputs": [
    {
     "data": {
      "text/plain": [
       "(621, 10, 1)"
      ]
     },
     "execution_count": 19,
     "metadata": {},
     "output_type": "execute_result"
    }
   ],
   "source": [
    "X.shape"
   ]
  },
  {
   "cell_type": "code",
   "execution_count": 20,
   "metadata": {},
   "outputs": [
    {
     "data": {
      "text/plain": [
       "(621, 1)"
      ]
     },
     "execution_count": 20,
     "metadata": {},
     "output_type": "execute_result"
    }
   ],
   "source": [
    "y.shape"
   ]
  },
  {
   "cell_type": "markdown",
   "metadata": {},
   "source": [
    "# Create a custom dataset for class for Pytorch Dataloader"
   ]
  },
  {
   "cell_type": "code",
   "execution_count": 21,
   "metadata": {},
   "outputs": [],
   "source": [
    "# Split the data into training and test sets\n",
    "train_size = int(0.7 * len(X))\n",
    "X_train, X_test = X[:train_size], X[train_size:]\n",
    "y_train, y_test = y[:train_size], y[train_size:]"
   ]
  },
  {
   "cell_type": "code",
   "execution_count": 22,
   "metadata": {},
   "outputs": [
    {
     "data": {
      "text/plain": [
       "(187, 10, 1)"
      ]
     },
     "execution_count": 22,
     "metadata": {},
     "output_type": "execute_result"
    }
   ],
   "source": [
    "X_test.shape"
   ]
  },
  {
   "cell_type": "code",
   "execution_count": 23,
   "metadata": {},
   "outputs": [],
   "source": [
    "X_test_tensor = torch.tensor(X, dtype = torch.float32)"
   ]
  },
  {
   "cell_type": "code",
   "execution_count": 24,
   "metadata": {},
   "outputs": [],
   "source": [
    "from torch.utils.data import DataLoader, Dataset\n",
    "class RNNDataset(Dataset):\n",
    "    def __init__(self, X, y):\n",
    "        self.X = torch.tensor(X, dtype = torch.float32)\n",
    "        self.y = torch.tensor(y, dtype = torch.float32)\n",
    "\n",
    "    def __len__(self):\n",
    "        return len(self.X)\n",
    "    \n",
    "    def __getitem__(self, index):\n",
    "        return self.X[index], self.y[index]"
   ]
  },
  {
   "cell_type": "markdown",
   "metadata": {},
   "source": [
    "# LSTM Model"
   ]
  },
  {
   "cell_type": "code",
   "execution_count": 25,
   "metadata": {},
   "outputs": [],
   "source": [
    "import torch.nn as nn\n",
    "class LSTM(nn.Module):\n",
    "    def __init__(self, hidden_size, in_size = 1, out_size = 1):\n",
    "        super(LSTM, self).__init__()\n",
    "        self.lstm = nn.LSTM(\n",
    "            input_size = in_size,\n",
    "            hidden_size = hidden_size,\n",
    "            batch_first = True)\n",
    "        self.fc = nn.Linear(hidden_size, out_size)\n",
    "    \n",
    "    def forward(self, x, h = None):\n",
    "        out, h = self.lstm(x, h)\n",
    "        last_hidden_states = out[:, -1, :]\n",
    "        out = self.fc(last_hidden_states)\n",
    "        return out"
   ]
  },
  {
   "cell_type": "code",
   "execution_count": 26,
   "metadata": {},
   "outputs": [],
   "source": [
    "import torch.nn as nn\n",
    "class GRU(nn.Module):\n",
    "    def __init__(self, hidden_size, in_size = 1, out_size = 1):\n",
    "        super(GRU, self).__init__()\n",
    "        self.gru = nn.GRU(input_size = in_size, hidden_size = hidden_size, batch_first = True)\n",
    "        self.fc = nn.Linear(hidden_size, out_size)\n",
    "\n",
    "    def forward(self, x, h = None):\n",
    "        out, _ = self.gru(x, h)\n",
    "        last_hidden_states = out[:,-1]\n",
    "        out = self.fc(last_hidden_states)\n",
    "        return out    "
   ]
  },
  {
   "cell_type": "code",
   "execution_count": 27,
   "metadata": {},
   "outputs": [],
   "source": [
    "class RNN(nn.Module):\n",
    "    def __init__(self, hidden_size, in_size = 1, out_size = 1):\n",
    "        super(RNN, self).__init__()\n",
    "        self.rnn = nn.RNN(input_size = in_size,\n",
    "                            hidden_size = hidden_size,\n",
    "                            batch_first = True)\n",
    "        self.fc = nn.Linear(hidden_size, out_size)\n",
    "    \n",
    "    def forward(self, x, h = None):\n",
    "        out, _ = self.rnn(x, h)\n",
    "        last_hidden_states = out[:, -1]\n",
    "        out = self.fc(last_hidden_states)\n",
    "        return out"
   ]
  },
  {
   "cell_type": "code",
   "execution_count": 28,
   "metadata": {},
   "outputs": [
    {
     "data": {
      "text/plain": [
       "OrderedDict([('gru.weight_ih_l0',\n",
       "              tensor([[ 0.0933],\n",
       "                      [ 0.1710],\n",
       "                      [ 0.0312],\n",
       "                      [-0.1410],\n",
       "                      [ 0.0392],\n",
       "                      [-0.1529],\n",
       "                      [-0.1557],\n",
       "                      [-0.0632],\n",
       "                      [-0.0400],\n",
       "                      [ 0.0726],\n",
       "                      [ 0.0573],\n",
       "                      [ 0.0210],\n",
       "                      [-0.1163],\n",
       "                      [ 0.1243],\n",
       "                      [-0.1334],\n",
       "                      [-0.1177],\n",
       "                      [ 0.1011],\n",
       "                      [-0.0063],\n",
       "                      [ 0.0159],\n",
       "                      [-0.0504],\n",
       "                      [ 0.1282],\n",
       "                      [ 0.0304],\n",
       "                      [ 0.0552],\n",
       "                      [ 0.1615],\n",
       "                      [ 0.1589],\n",
       "                      [ 0.0912],\n",
       "                      [-0.0781],\n",
       "                      [ 0.0232],\n",
       "                      [ 0.0303],\n",
       "                      [-0.1398],\n",
       "                      [-0.1156],\n",
       "                      [ 0.1274],\n",
       "                      [ 0.1622],\n",
       "                      [ 0.1621],\n",
       "                      [ 0.1179],\n",
       "                      [-0.0178],\n",
       "                      [-0.0919],\n",
       "                      [-0.0821],\n",
       "                      [ 0.1097],\n",
       "                      [-0.0272],\n",
       "                      [-0.1374],\n",
       "                      [ 0.1393],\n",
       "                      [ 0.1628],\n",
       "                      [ 0.0104],\n",
       "                      [ 0.0589],\n",
       "                      [-0.0615],\n",
       "                      [-0.1075],\n",
       "                      [ 0.0016],\n",
       "                      [ 0.0236],\n",
       "                      [ 0.1080],\n",
       "                      [ 0.1015],\n",
       "                      [ 0.1353],\n",
       "                      [ 0.0624],\n",
       "                      [-0.0631],\n",
       "                      [-0.0214],\n",
       "                      [-0.1501],\n",
       "                      [ 0.1059],\n",
       "                      [ 0.1438],\n",
       "                      [-0.1380],\n",
       "                      [-0.1129],\n",
       "                      [-0.1123],\n",
       "                      [-0.1197],\n",
       "                      [ 0.1460],\n",
       "                      [-0.0234],\n",
       "                      [-0.1114],\n",
       "                      [-0.1334],\n",
       "                      [ 0.1128],\n",
       "                      [ 0.0914],\n",
       "                      [ 0.0049],\n",
       "                      [-0.1007],\n",
       "                      [ 0.1112],\n",
       "                      [ 0.1320],\n",
       "                      [ 0.1345],\n",
       "                      [-0.0625],\n",
       "                      [-0.0369],\n",
       "                      [-0.0907],\n",
       "                      [-0.0055],\n",
       "                      [ 0.1397],\n",
       "                      [-0.1082],\n",
       "                      [-0.0630],\n",
       "                      [ 0.0052],\n",
       "                      [-0.1266],\n",
       "                      [-0.0880],\n",
       "                      [-0.1652],\n",
       "                      [ 0.0296],\n",
       "                      [ 0.0964],\n",
       "                      [ 0.0640],\n",
       "                      [ 0.0286],\n",
       "                      [-0.0567],\n",
       "                      [-0.0327],\n",
       "                      [ 0.0856],\n",
       "                      [-0.0871],\n",
       "                      [-0.0800],\n",
       "                      [-0.1225],\n",
       "                      [ 0.0440],\n",
       "                      [ 0.1429]])),\n",
       "             ('gru.weight_hh_l0',\n",
       "              tensor([[-0.1674,  0.1446,  0.0043,  ..., -0.0451, -0.0599, -0.1447],\n",
       "                      [-0.0783,  0.0005,  0.0372,  ...,  0.0105,  0.1765,  0.0671],\n",
       "                      [ 0.1311,  0.1411, -0.1244,  ...,  0.1644,  0.0195, -0.1230],\n",
       "                      ...,\n",
       "                      [-0.1457, -0.1503,  0.0597,  ...,  0.1738,  0.0417,  0.0437],\n",
       "                      [ 0.1175, -0.0078,  0.1105,  ..., -0.1429,  0.0484, -0.1232],\n",
       "                      [-0.0763,  0.1221, -0.0661,  ..., -0.0114, -0.0060,  0.0917]])),\n",
       "             ('gru.bias_ih_l0',\n",
       "              tensor([ 0.0499,  0.0778, -0.0868, -0.1522, -0.0463, -0.0091, -0.0813,  0.1431,\n",
       "                       0.0567, -0.0564,  0.0047,  0.0201, -0.0812, -0.0006, -0.0217, -0.0142,\n",
       "                       0.1395,  0.0760,  0.0236, -0.0649,  0.1748, -0.0169,  0.1606,  0.0479,\n",
       "                      -0.1405,  0.0037, -0.1383,  0.1622,  0.1410,  0.1090,  0.1233,  0.0373,\n",
       "                      -0.1742,  0.0068, -0.0137, -0.0538, -0.0099, -0.0303, -0.0694,  0.0123,\n",
       "                       0.0162, -0.1684,  0.0682, -0.1752,  0.0603, -0.1525, -0.1185,  0.0575,\n",
       "                       0.0210, -0.0233, -0.0724, -0.1044, -0.0560,  0.0896, -0.0739,  0.1550,\n",
       "                       0.0362, -0.1595,  0.1101,  0.0461, -0.0403, -0.0558,  0.0587, -0.1102,\n",
       "                      -0.1128, -0.1765, -0.0975,  0.0008, -0.1360, -0.0141, -0.1532,  0.0474,\n",
       "                       0.0139,  0.0366,  0.0012, -0.0354,  0.1470, -0.0182,  0.1537,  0.1204,\n",
       "                      -0.0621,  0.0633,  0.0886,  0.0409, -0.1676,  0.0578, -0.0948,  0.1487,\n",
       "                      -0.0766, -0.0639,  0.1414,  0.1642,  0.1328,  0.0348,  0.0561,  0.0787])),\n",
       "             ('gru.bias_hh_l0',\n",
       "              tensor([ 7.6983e-02, -8.4085e-02,  1.3177e-01,  1.7081e-01,  9.6720e-02,\n",
       "                       1.5349e-01,  1.4817e-04, -8.4680e-02, -5.7240e-02,  1.2978e-01,\n",
       "                      -3.9146e-03,  1.1120e-01,  5.4178e-03,  7.4550e-02, -1.7281e-02,\n",
       "                      -1.9907e-02,  6.8125e-03,  1.5951e-01, -3.8428e-03, -3.1119e-02,\n",
       "                      -9.8912e-02, -1.2284e-01, -2.9304e-02,  9.3442e-02, -7.9742e-02,\n",
       "                      -9.4312e-03,  1.0689e-01, -7.3713e-02, -2.3972e-02, -1.5747e-01,\n",
       "                      -8.4343e-02,  1.6434e-01,  1.2324e-01,  1.7448e-01, -1.4655e-01,\n",
       "                      -5.1436e-02, -9.1668e-02, -7.4361e-02,  6.3683e-02, -1.2768e-01,\n",
       "                      -1.8255e-02, -1.1331e-01,  1.1050e-01, -3.2347e-02,  9.9535e-02,\n",
       "                       9.9465e-02,  9.9028e-02, -7.6226e-02, -6.5460e-02,  9.7035e-02,\n",
       "                      -2.6776e-02,  3.3151e-02,  5.1026e-02, -7.5371e-03, -1.1192e-04,\n",
       "                       4.9339e-02,  1.5468e-01,  1.3050e-01, -1.4111e-01, -3.5661e-02,\n",
       "                       1.0501e-01, -3.8449e-02, -1.1621e-01, -1.7046e-01,  1.3749e-01,\n",
       "                      -1.3174e-02, -1.6648e-01,  3.9922e-02,  5.2607e-02,  8.3195e-02,\n",
       "                       1.4991e-01, -1.0193e-01, -1.5843e-01,  6.0486e-02,  1.1887e-01,\n",
       "                       3.0367e-02,  8.6262e-02,  1.0616e-01, -1.7481e-01,  7.3436e-02,\n",
       "                      -9.3528e-02,  3.6652e-02,  1.6475e-01,  2.5748e-02, -7.4471e-02,\n",
       "                      -1.2747e-01, -1.6175e-01,  1.5364e-01,  1.9509e-03, -1.4135e-01,\n",
       "                      -7.3547e-02, -8.2412e-02, -9.0833e-02, -9.8731e-02, -5.7706e-03,\n",
       "                       1.3155e-01])),\n",
       "             ('fc.weight',\n",
       "              tensor([[ 0.0561,  0.0204, -0.1183, -0.1520, -0.0853,  0.0779, -0.0374, -0.1240,\n",
       "                        0.0309,  0.0861, -0.0707, -0.1054, -0.0929,  0.0140,  0.0179,  0.0999,\n",
       "                        0.0113, -0.0553, -0.1626, -0.1372, -0.1648, -0.0453,  0.0924,  0.0439,\n",
       "                       -0.0119, -0.1327, -0.1721, -0.1490,  0.0281,  0.0856, -0.1383, -0.0491]])),\n",
       "             ('fc.bias', tensor([-0.0268]))])"
      ]
     },
     "execution_count": 28,
     "metadata": {},
     "output_type": "execute_result"
    }
   ],
   "source": [
    "gru_model = GRU(hidden_size = 32)\n",
    "gru_model.state_dict()"
   ]
  },
  {
   "cell_type": "code",
   "execution_count": 29,
   "metadata": {},
   "outputs": [
    {
     "data": {
      "text/plain": [
       "OrderedDict([('rnn.weight_ih_l0',\n",
       "              tensor([[-0.0930],\n",
       "                      [ 0.0605],\n",
       "                      [-0.1085],\n",
       "                      [ 0.0098],\n",
       "                      [-0.1177],\n",
       "                      [-0.1030],\n",
       "                      [-0.0108],\n",
       "                      [ 0.1090],\n",
       "                      [-0.0469],\n",
       "                      [-0.1083],\n",
       "                      [-0.1189],\n",
       "                      [ 0.1284],\n",
       "                      [-0.0090],\n",
       "                      [-0.0055],\n",
       "                      [ 0.1509],\n",
       "                      [-0.0722],\n",
       "                      [-0.1351],\n",
       "                      [ 0.0696],\n",
       "                      [ 0.0115],\n",
       "                      [ 0.1412],\n",
       "                      [ 0.0505],\n",
       "                      [-0.0987],\n",
       "                      [-0.0652],\n",
       "                      [ 0.1702],\n",
       "                      [-0.0778],\n",
       "                      [-0.0481],\n",
       "                      [ 0.0336],\n",
       "                      [ 0.1627],\n",
       "                      [-0.0278],\n",
       "                      [-0.1557],\n",
       "                      [-0.0862],\n",
       "                      [ 0.0080]])),\n",
       "             ('rnn.weight_hh_l0',\n",
       "              tensor([[-0.0038, -0.0381,  0.1529,  ..., -0.1699, -0.1413,  0.0084],\n",
       "                      [-0.1264,  0.1426,  0.0481,  ..., -0.1216,  0.1711, -0.0045],\n",
       "                      [ 0.0238, -0.1563, -0.1065,  ..., -0.0418,  0.0378,  0.0761],\n",
       "                      ...,\n",
       "                      [ 0.1427,  0.0908, -0.0913,  ..., -0.0011,  0.1436,  0.0981],\n",
       "                      [ 0.0428,  0.0798, -0.1064,  ..., -0.0883,  0.0192, -0.0231],\n",
       "                      [ 0.0659,  0.0192, -0.0935,  ..., -0.0876,  0.0656, -0.0142]])),\n",
       "             ('rnn.bias_ih_l0',\n",
       "              tensor([ 0.0710,  0.1371, -0.0509,  0.1202,  0.1027,  0.0804,  0.1557, -0.0776,\n",
       "                      -0.1289, -0.0420, -0.0745,  0.1504, -0.0484, -0.1752, -0.0096,  0.1378,\n",
       "                      -0.1401, -0.0633,  0.1703,  0.0801,  0.0294, -0.0501, -0.1177,  0.1388,\n",
       "                      -0.0143,  0.1558, -0.0338, -0.0863,  0.1403, -0.0207, -0.1383,  0.1693])),\n",
       "             ('rnn.bias_hh_l0',\n",
       "              tensor([-0.0850,  0.0414, -0.0373, -0.0028,  0.1324,  0.1087,  0.0302,  0.0292,\n",
       "                       0.0432,  0.0498,  0.0644,  0.1086,  0.0377, -0.0190,  0.1067, -0.0380,\n",
       "                      -0.1462,  0.1105,  0.1058, -0.0535, -0.0612, -0.1484, -0.1314, -0.0409,\n",
       "                       0.1118, -0.0479,  0.1394,  0.0248,  0.1436, -0.1241, -0.1272, -0.0474])),\n",
       "             ('fc.weight',\n",
       "              tensor([[-0.0788, -0.1044, -0.1110, -0.0096,  0.0465,  0.0514, -0.0451, -0.1415,\n",
       "                        0.0612,  0.1081, -0.0087,  0.0640,  0.1748,  0.0271,  0.0701, -0.1101,\n",
       "                        0.0622, -0.0585, -0.0708,  0.1765, -0.1559, -0.0291, -0.0029,  0.0777,\n",
       "                        0.1230,  0.0400, -0.0082,  0.0674, -0.1529, -0.0801, -0.1680,  0.0047]])),\n",
       "             ('fc.bias', tensor([-0.0574]))])"
      ]
     },
     "execution_count": 29,
     "metadata": {},
     "output_type": "execute_result"
    }
   ],
   "source": [
    "rnn_model = RNN(hidden_size = 32)\n",
    "rnn_model.state_dict()"
   ]
  },
  {
   "cell_type": "code",
   "execution_count": 30,
   "metadata": {},
   "outputs": [],
   "source": [
    "# Make predictions with model\n",
    "with torch.inference_mode(): \n",
    "    y_preds = rnn_model(X_test_tensor)"
   ]
  },
  {
   "cell_type": "code",
   "execution_count": 31,
   "metadata": {},
   "outputs": [],
   "source": [
    "# Make predictions with model\n",
    "with torch.inference_mode(): \n",
    "    y_preds = gru_model(X_test_tensor)"
   ]
  },
  {
   "cell_type": "code",
   "execution_count": 32,
   "metadata": {},
   "outputs": [
    {
     "data": {
      "text/plain": [
       "OrderedDict([('lstm.weight_ih_l0',\n",
       "              tensor([[ 0.0818],\n",
       "                      [ 0.0645],\n",
       "                      [ 0.1310],\n",
       "                      [ 0.0397],\n",
       "                      [ 0.1698],\n",
       "                      [-0.0691],\n",
       "                      [-0.0472],\n",
       "                      [-0.1029],\n",
       "                      [ 0.1014],\n",
       "                      [-0.1512],\n",
       "                      [ 0.0567],\n",
       "                      [ 0.1083],\n",
       "                      [-0.0087],\n",
       "                      [ 0.0293],\n",
       "                      [ 0.0481],\n",
       "                      [ 0.0331],\n",
       "                      [-0.0788],\n",
       "                      [-0.1266],\n",
       "                      [ 0.0142],\n",
       "                      [-0.1282],\n",
       "                      [-0.1735],\n",
       "                      [-0.1750],\n",
       "                      [-0.0911],\n",
       "                      [-0.0400],\n",
       "                      [-0.1554],\n",
       "                      [-0.0104],\n",
       "                      [ 0.1005],\n",
       "                      [-0.1157],\n",
       "                      [-0.0708],\n",
       "                      [ 0.0755],\n",
       "                      [ 0.1490],\n",
       "                      [ 0.0403],\n",
       "                      [-0.0061],\n",
       "                      [ 0.1271],\n",
       "                      [-0.0087],\n",
       "                      [-0.0570],\n",
       "                      [ 0.1193],\n",
       "                      [ 0.0554],\n",
       "                      [-0.1257],\n",
       "                      [-0.1260],\n",
       "                      [ 0.0776],\n",
       "                      [ 0.0202],\n",
       "                      [-0.0795],\n",
       "                      [-0.0471],\n",
       "                      [ 0.1354],\n",
       "                      [ 0.0635],\n",
       "                      [ 0.1343],\n",
       "                      [ 0.0170],\n",
       "                      [-0.1525],\n",
       "                      [ 0.0628],\n",
       "                      [-0.0431],\n",
       "                      [ 0.0452],\n",
       "                      [-0.1412],\n",
       "                      [ 0.1383],\n",
       "                      [ 0.0285],\n",
       "                      [-0.0056],\n",
       "                      [-0.1742],\n",
       "                      [-0.1006],\n",
       "                      [ 0.0541],\n",
       "                      [ 0.0880],\n",
       "                      [ 0.0538],\n",
       "                      [ 0.0980],\n",
       "                      [ 0.0574],\n",
       "                      [ 0.1743],\n",
       "                      [-0.0666],\n",
       "                      [-0.1279],\n",
       "                      [ 0.0677],\n",
       "                      [-0.1639],\n",
       "                      [-0.0283],\n",
       "                      [-0.1468],\n",
       "                      [ 0.1738],\n",
       "                      [-0.0755],\n",
       "                      [-0.1203],\n",
       "                      [ 0.0403],\n",
       "                      [ 0.0004],\n",
       "                      [-0.0151],\n",
       "                      [-0.1038],\n",
       "                      [ 0.0433],\n",
       "                      [ 0.0321],\n",
       "                      [ 0.0821],\n",
       "                      [ 0.1716],\n",
       "                      [-0.0278],\n",
       "                      [ 0.1319],\n",
       "                      [ 0.0519],\n",
       "                      [ 0.0484],\n",
       "                      [-0.1413],\n",
       "                      [-0.0877],\n",
       "                      [-0.0874],\n",
       "                      [-0.0193],\n",
       "                      [-0.1085],\n",
       "                      [-0.0994],\n",
       "                      [ 0.1731],\n",
       "                      [-0.1449],\n",
       "                      [-0.1318],\n",
       "                      [-0.0776],\n",
       "                      [ 0.0775],\n",
       "                      [-0.1380],\n",
       "                      [-0.1120],\n",
       "                      [-0.1592],\n",
       "                      [-0.1352],\n",
       "                      [-0.0418],\n",
       "                      [-0.0134],\n",
       "                      [ 0.0336],\n",
       "                      [-0.0194],\n",
       "                      [-0.1516],\n",
       "                      [-0.1624],\n",
       "                      [ 0.0019],\n",
       "                      [-0.0701],\n",
       "                      [-0.0651],\n",
       "                      [-0.0961],\n",
       "                      [ 0.0660],\n",
       "                      [ 0.0757],\n",
       "                      [ 0.1382],\n",
       "                      [-0.1344],\n",
       "                      [-0.1056],\n",
       "                      [ 0.1177],\n",
       "                      [-0.1080],\n",
       "                      [ 0.0006],\n",
       "                      [-0.0349],\n",
       "                      [-0.1521],\n",
       "                      [ 0.1693],\n",
       "                      [-0.1755],\n",
       "                      [-0.1514],\n",
       "                      [ 0.0448],\n",
       "                      [-0.0864],\n",
       "                      [ 0.0184],\n",
       "                      [ 0.1522],\n",
       "                      [ 0.1702]])),\n",
       "             ('lstm.weight_hh_l0',\n",
       "              tensor([[ 0.1362, -0.1025,  0.1253,  ...,  0.1351,  0.0861, -0.1290],\n",
       "                      [ 0.1641,  0.1262,  0.1234,  ..., -0.0220,  0.1520, -0.0271],\n",
       "                      [-0.1602,  0.1308, -0.1576,  ..., -0.1383,  0.0717,  0.1762],\n",
       "                      ...,\n",
       "                      [-0.0031, -0.0218, -0.0170,  ..., -0.0504, -0.0777, -0.1055],\n",
       "                      [ 0.0789,  0.0313, -0.0655,  ..., -0.0293,  0.1742,  0.1712],\n",
       "                      [ 0.0587,  0.1008, -0.1541,  ...,  0.1078,  0.1451, -0.0259]])),\n",
       "             ('lstm.bias_ih_l0',\n",
       "              tensor([ 1.5499e-01,  3.5369e-02,  5.9246e-02, -1.7487e-01,  2.8251e-04,\n",
       "                       5.4644e-02, -5.7933e-02,  1.1699e-01,  1.7678e-02,  1.6666e-01,\n",
       "                       1.5337e-01,  9.2786e-04, -1.6796e-01, -1.2500e-01, -4.6223e-02,\n",
       "                       1.0846e-01, -5.6118e-02, -1.7472e-01,  9.7618e-02, -3.1778e-02,\n",
       "                       6.1885e-02,  1.5036e-01,  4.3405e-02,  9.6623e-02, -3.2580e-02,\n",
       "                       1.2912e-01,  5.1685e-02, -1.4537e-01,  9.5165e-03, -3.2495e-02,\n",
       "                       1.0737e-01,  6.5166e-02,  1.4592e-01, -1.2879e-01, -1.5046e-01,\n",
       "                      -1.2145e-01, -1.2839e-01,  1.1911e-01,  1.4511e-01, -9.0116e-02,\n",
       "                      -4.0675e-02,  6.6426e-02, -4.8306e-02,  2.1475e-02, -1.3708e-01,\n",
       "                       6.4025e-02, -8.5515e-02, -1.4022e-01,  1.6677e-01, -1.3422e-01,\n",
       "                      -1.6770e-01,  9.8585e-02, -1.6395e-05,  8.2232e-02,  7.3851e-02,\n",
       "                      -3.5998e-02, -5.6253e-02,  1.1342e-01,  1.6646e-02, -1.3655e-01,\n",
       "                       1.1455e-01, -1.7191e-01, -1.7521e-01,  9.2645e-02,  1.3532e-01,\n",
       "                      -5.4982e-02, -4.6099e-02,  7.8449e-02, -4.2115e-02,  1.0471e-01,\n",
       "                       9.4805e-02,  8.8339e-02, -7.0568e-02,  1.5131e-01,  1.4760e-01,\n",
       "                       1.1391e-01,  1.0155e-01,  1.8524e-02, -1.8880e-02,  1.6491e-01,\n",
       "                      -1.2567e-01, -4.6771e-02,  3.7616e-02, -2.6000e-02, -1.4126e-01,\n",
       "                       1.6228e-01, -1.0667e-01,  1.5104e-03, -4.5813e-02, -9.1809e-02,\n",
       "                      -1.3915e-02,  1.5456e-01,  6.7911e-02,  3.0838e-02,  1.9866e-03,\n",
       "                      -1.3687e-01,  1.6789e-01,  1.6821e-01,  1.3909e-01,  8.2684e-02,\n",
       "                      -1.3015e-01, -7.9782e-02,  1.5404e-01, -1.5606e-01, -1.6380e-01,\n",
       "                      -4.5379e-02, -1.1872e-02, -1.4339e-02, -9.6096e-02, -5.1404e-03,\n",
       "                       8.9183e-02, -1.4582e-02,  1.3581e-01, -1.4698e-01, -8.5168e-02,\n",
       "                       1.2364e-01,  1.6809e-01,  1.0661e-02,  6.0295e-02, -1.2206e-01,\n",
       "                      -1.4906e-01,  6.5487e-02, -8.9003e-02,  5.6623e-02, -5.0369e-02,\n",
       "                      -1.5261e-01,  1.7435e-01, -9.9039e-02])),\n",
       "             ('lstm.bias_hh_l0',\n",
       "              tensor([ 0.1495, -0.0846,  0.1612,  0.1659, -0.1546,  0.1300,  0.0228, -0.1052,\n",
       "                       0.0318, -0.1220,  0.0621, -0.0736, -0.0560, -0.1704,  0.1279,  0.0139,\n",
       "                       0.0036,  0.1656, -0.1723,  0.1476, -0.0950, -0.0193, -0.1391, -0.0775,\n",
       "                       0.0474,  0.1130, -0.1298,  0.0944,  0.1499, -0.0002, -0.0225,  0.1123,\n",
       "                      -0.1336, -0.1576,  0.1244, -0.0196, -0.1464, -0.0348,  0.1497,  0.1451,\n",
       "                      -0.0866, -0.1156, -0.1017,  0.1126, -0.0229,  0.1497, -0.1632, -0.0053,\n",
       "                       0.0722,  0.0734, -0.0438, -0.0777,  0.0543, -0.0026,  0.0751, -0.1191,\n",
       "                      -0.0213, -0.0765,  0.0577, -0.1328,  0.0872, -0.1531,  0.1521,  0.0991,\n",
       "                       0.1532,  0.0763,  0.0798, -0.0879,  0.0692, -0.1629, -0.0153, -0.0690,\n",
       "                      -0.1272, -0.0883, -0.0257,  0.1555,  0.0303,  0.0369, -0.1232, -0.0759,\n",
       "                      -0.1609,  0.0181,  0.1689, -0.0019,  0.0070,  0.0381,  0.0231,  0.0453,\n",
       "                      -0.0627,  0.0036, -0.0679,  0.0464,  0.1680,  0.1153, -0.1621, -0.0608,\n",
       "                      -0.1225, -0.0448,  0.0460,  0.0298, -0.0051, -0.0922, -0.1069, -0.1509,\n",
       "                      -0.1397, -0.0411,  0.0073, -0.1208, -0.0181,  0.0186,  0.0042, -0.1184,\n",
       "                      -0.0036,  0.1572,  0.0567,  0.1573,  0.0196,  0.0862,  0.0147,  0.1290,\n",
       "                       0.0763,  0.0754, -0.0076,  0.0028, -0.1022, -0.1189,  0.0107,  0.1674])),\n",
       "             ('fc.weight',\n",
       "              tensor([[-0.0473,  0.1138, -0.0838, -0.0144, -0.0904, -0.0347, -0.1258,  0.0039,\n",
       "                       -0.1707,  0.1572,  0.1377, -0.0444, -0.0082,  0.1636, -0.0713,  0.0668,\n",
       "                        0.0219, -0.1213, -0.0329, -0.0138,  0.1411, -0.0926,  0.0220, -0.0138,\n",
       "                        0.1658, -0.1313,  0.1611, -0.1475, -0.1696,  0.1685,  0.0275,  0.0325]])),\n",
       "             ('fc.bias', tensor([-0.1501]))])"
      ]
     },
     "execution_count": 32,
     "metadata": {},
     "output_type": "execute_result"
    }
   ],
   "source": [
    "lstm_model = LSTM(hidden_size = 32)\n",
    "lstm_model.state_dict()"
   ]
  },
  {
   "cell_type": "code",
   "execution_count": 33,
   "metadata": {},
   "outputs": [],
   "source": [
    "# Make predictions with model\n",
    "with torch.inference_mode(): \n",
    "    y_preds = lstm_model(X_test_tensor)"
   ]
  },
  {
   "cell_type": "code",
   "execution_count": 34,
   "metadata": {},
   "outputs": [
    {
     "data": {
      "text/plain": [
       "torch.Size([621, 1])"
      ]
     },
     "execution_count": 34,
     "metadata": {},
     "output_type": "execute_result"
    }
   ],
   "source": [
    "y_preds.shape"
   ]
  },
  {
   "cell_type": "markdown",
   "metadata": {},
   "source": [
    "# Hyperparameters"
   ]
  },
  {
   "cell_type": "code",
   "execution_count": 35,
   "metadata": {},
   "outputs": [],
   "source": [
    "hidden_size = 32\n",
    "learning_rate = 0.02\n",
    "training_epochs = 500\n",
    "batch_size = 64"
   ]
  },
  {
   "cell_type": "code",
   "execution_count": 36,
   "metadata": {},
   "outputs": [],
   "source": [
    "#Create Data Loaders\n",
    "train_dataset = RNNDataset(X_train, y_train)\n",
    "train_loader = DataLoader(train_dataset, batch_size=batch_size)\n",
    "test_dataset = RNNDataset(X_test, y_test)\n",
    "test_loader = DataLoader(test_dataset, batch_size=batch_size, shuffle=True)"
   ]
  },
  {
   "cell_type": "code",
   "execution_count": 37,
   "metadata": {},
   "outputs": [
    {
     "data": {
      "text/plain": [
       "<__main__.RNNDataset at 0x30ea57f40>"
      ]
     },
     "execution_count": 37,
     "metadata": {},
     "output_type": "execute_result"
    }
   ],
   "source": [
    "train_dataset"
   ]
  },
  {
   "cell_type": "code",
   "execution_count": 38,
   "metadata": {},
   "outputs": [],
   "source": [
    "#Initialize the model, loss function, and optimizer\n",
    "model = LSTM(hidden_size=hidden_size)\n",
    "criterion = nn.MSELoss()\n",
    "optimizer = torch.optim.Adam(model.parameters(), lr=learning_rate)"
   ]
  },
  {
   "cell_type": "markdown",
   "metadata": {},
   "source": [
    "# Training"
   ]
  },
  {
   "cell_type": "code",
   "execution_count": 39,
   "metadata": {},
   "outputs": [
    {
     "name": "stdout",
     "output_type": "stream",
     "text": [
      "Epoch 0 - Train Loss: 0.4417 | Test Loss: 0.2147\n",
      "Epoch 10 - Train Loss: 0.0860 | Test Loss: 0.0567\n",
      "Epoch 20 - Train Loss: 0.0487 | Test Loss: 0.0456\n",
      "Epoch 30 - Train Loss: 0.0413 | Test Loss: 0.0392\n",
      "Epoch 40 - Train Loss: 0.0718 | Test Loss: 0.0435\n",
      "Epoch 50 - Train Loss: 0.0595 | Test Loss: 0.0376\n",
      "Epoch 60 - Train Loss: 0.0393 | Test Loss: 0.0368\n",
      "Epoch 70 - Train Loss: 0.0373 | Test Loss: 0.0364\n",
      "Epoch 80 - Train Loss: 0.0378 | Test Loss: 0.0351\n",
      "Epoch 90 - Train Loss: 0.0431 | Test Loss: 0.0332\n"
     ]
    }
   ],
   "source": [
    "# 6. Training loop\n",
    "num_epochs = 100\n",
    "for epoch in range(num_epochs):\n",
    "    ###TRAINING\n",
    "\n",
    "    #Put model in training mode\n",
    "    model.train()\n",
    "\n",
    "    train_loss = 0\n",
    "    #Loop in batch\n",
    "    for X_batch, y_batch in train_loader:\n",
    "        #1. Forward pass on train data using the forward() method inside\n",
    "        y_pred = model(X_batch)\n",
    "\n",
    "        #2. Calculate the loss (how different are our models predictions to the ground truth)\n",
    "        loss = criterion(y_pred, y_batch)\n",
    "\n",
    "        #3. Zero grad of the optimizer\n",
    "        optimizer.zero_grad()\n",
    "\n",
    "        #4. Loss backwards\n",
    "        loss.backward()\n",
    "        \n",
    "        #5. Progress the optimizer\n",
    "        optimizer.step()\n",
    "\n",
    "        #6. Accumulate loss\n",
    "        train_loss += loss.item()\n",
    "\n",
    "    ###TESTING\n",
    "    model.eval()\n",
    "\n",
    "    test_loss = 0\n",
    "\n",
    "    with torch.inference_mode():\n",
    "        #Create loop in batch\n",
    "        for X_batch, y_batch in test_loader:\n",
    "            #1. Forward pass on the test data\n",
    "            y_pred = model(X_batch)\n",
    "\n",
    "            #2. Calculate loss on test data\n",
    "            loss = criterion(y_pred, y_batch)\n",
    "\n",
    "            #3. Accumulate loss\n",
    "            test_loss += loss.item()\n",
    "\n",
    "    if epoch % 10 == 0:\n",
    "        print(f\"Epoch {epoch} - Train Loss: {train_loss:.4f} | Test Loss: {test_loss:.4f}\")"
   ]
  },
  {
   "cell_type": "code",
   "execution_count": 40,
   "metadata": {},
   "outputs": [],
   "source": [
    "# 7. Predict on test set\n",
    "model.eval()\n",
    "with torch.no_grad():\n",
    "    test_inputs = torch.tensor(X_test, dtype=torch.float32)\n",
    "    predictions = model(test_inputs).numpy()\n",
    "\n",
    "# Inverse scale predictions and actuals\n",
    "y_test_inv = scaler.inverse_transform(y_test)\n",
    "predictions_inv = scaler.inverse_transform(predictions)"
   ]
  },
  {
   "cell_type": "code",
   "execution_count": 41,
   "metadata": {},
   "outputs": [
    {
     "data": {
      "image/png": "[encoded data removed]",
      "text/plain": [
       "<Figure size 1000x500 with 1 Axes>"
      ]
     },
     "metadata": {},
     "output_type": "display_data"
    }
   ],
   "source": [
    "# 8. Plot\n",
    "plt.figure(figsize=(10,5))\n",
    "plt.plot(y_test_inv, label='Actual')\n",
    "plt.plot(predictions_inv, label='Predicted')\n",
    "plt.legend()\n",
    "plt.title(\"LSTM Time Series Forecast\")\n",
    "plt.show()"
   ]
  },
  {
   "cell_type": "markdown",
   "metadata": {},
   "source": [
    "References:\n",
    "- My blog: https://open.substack.com/pub/quynhanhphuong/p/long-short-term-memory?r=1xb8sg&utm_campaign=post&utm_medium=web&showWelcomeOnShare=false\n",
    "- Book Dive indo Deep Learning\n",
    "- Chapter 4: Recurrent Neural Networks in book Time series forecasting using Deep Learning"
   ]
  }
 ],
 "metadata": {
  "kernelspec": {
   "display_name": "Python 3",
   "language": "python",
   "name": "python3"
  },
  "language_info": {
   "codemirror_mode": {
    "name": "ipython",
    "version": 3
   },
   "file_extension": ".py",
   "mimetype": "text/x-python",
   "name": "python",
   "nbconvert_exporter": "python",
   "pygments_lexer": "ipython3",
   "version": "3.9.6"
  }
 },
 "nbformat": 4,
 "nbformat_minor": 2
}
