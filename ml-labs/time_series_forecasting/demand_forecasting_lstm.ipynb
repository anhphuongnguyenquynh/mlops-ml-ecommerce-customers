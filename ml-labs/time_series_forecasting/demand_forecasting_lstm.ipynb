{
 "cells": [
  {
   "cell_type": "markdown",
   "metadata": {},
   "source": [
    "# Import libraries"
   ]
  },
  {
   "cell_type": "code",
   "execution_count": 1,
   "metadata": {},
   "outputs": [],
   "source": [
    "import torch.nn as nn\n",
    "import matplotlib.pyplot as plt \n",
    "import copy \n",
    "import random\n",
    "import sys\n",
    "import numpy as np \n",
    "import pandas as pd\n",
    "import torch\n",
    "from sklearn.preprocessing import MinMaxScaler \n",
    "\n"
   ]
  },
  {
   "cell_type": "markdown",
   "metadata": {},
   "source": [
    "# Load dataset"
   ]
  },
  {
   "cell_type": "code",
   "execution_count": 2,
   "metadata": {},
   "outputs": [],
   "source": [
    "olist_orders = pd.read_csv(\"/Users/phuongnguyen/Documents/Code Github/mlops-ml-ecommerce-customers/sample_files/olist_dataset/olist_orders_dataset.csv\")"
   ]
  },
  {
   "cell_type": "code",
   "execution_count": 3,
   "metadata": {},
   "outputs": [
    {
     "data": {
      "text/html": [
       "<div>\n",
       "<style scoped>\n",
       "    .dataframe tbody tr th:only-of-type {\n",
       "        vertical-align: middle;\n",
       "    }\n",
       "\n",
       "    .dataframe tbody tr th {\n",
       "        vertical-align: top;\n",
       "    }\n",
       "\n",
       "    .dataframe thead th {\n",
       "        text-align: right;\n",
       "    }\n",
       "</style>\n",
       "<table border=\"1\" class=\"dataframe\">\n",
       "  <thead>\n",
       "    <tr style=\"text-align: right;\">\n",
       "      <th></th>\n",
       "      <th>order_id</th>\n",
       "      <th>customer_id</th>\n",
       "      <th>order_status</th>\n",
       "      <th>order_purchase_timestamp</th>\n",
       "      <th>order_approved_at</th>\n",
       "      <th>order_delivered_carrier_date</th>\n",
       "      <th>order_delivered_customer_date</th>\n",
       "      <th>order_estimated_delivery_date</th>\n",
       "      <th>purchase_datetime</th>\n",
       "      <th>purchase_date</th>\n",
       "      <th>purchase_month</th>\n",
       "    </tr>\n",
       "  </thead>\n",
       "  <tbody>\n",
       "    <tr>\n",
       "      <th>0</th>\n",
       "      <td>e481f51cbdc54678b7cc49136f2d6af7</td>\n",
       "      <td>9ef432eb6251297304e76186b10a928d</td>\n",
       "      <td>delivered</td>\n",
       "      <td>2017-10-02 10:56:33</td>\n",
       "      <td>2017-10-02 11:07:15</td>\n",
       "      <td>2017-10-04 19:55:00</td>\n",
       "      <td>2017-10-10 21:25:13</td>\n",
       "      <td>2017-10-18 00:00:00</td>\n",
       "      <td>2017-10-02 10:56:33</td>\n",
       "      <td>2017-10-02</td>\n",
       "      <td>2017-10</td>\n",
       "    </tr>\n",
       "    <tr>\n",
       "      <th>1</th>\n",
       "      <td>53cdb2fc8bc7dce0b6741e2150273451</td>\n",
       "      <td>b0830fb4747a6c6d20dea0b8c802d7ef</td>\n",
       "      <td>delivered</td>\n",
       "      <td>2018-07-24 20:41:37</td>\n",
       "      <td>2018-07-26 03:24:27</td>\n",
       "      <td>2018-07-26 14:31:00</td>\n",
       "      <td>2018-08-07 15:27:45</td>\n",
       "      <td>2018-08-13 00:00:00</td>\n",
       "      <td>2018-07-24 20:41:37</td>\n",
       "      <td>2018-07-24</td>\n",
       "      <td>2018-07</td>\n",
       "    </tr>\n",
       "    <tr>\n",
       "      <th>2</th>\n",
       "      <td>47770eb9100c2d0c44946d9cf07ec65d</td>\n",
       "      <td>41ce2a54c0b03bf3443c3d931a367089</td>\n",
       "      <td>delivered</td>\n",
       "      <td>2018-08-08 08:38:49</td>\n",
       "      <td>2018-08-08 08:55:23</td>\n",
       "      <td>2018-08-08 13:50:00</td>\n",
       "      <td>2018-08-17 18:06:29</td>\n",
       "      <td>2018-09-04 00:00:00</td>\n",
       "      <td>2018-08-08 08:38:49</td>\n",
       "      <td>2018-08-08</td>\n",
       "      <td>2018-08</td>\n",
       "    </tr>\n",
       "    <tr>\n",
       "      <th>3</th>\n",
       "      <td>949d5b44dbf5de918fe9c16f97b45f8a</td>\n",
       "      <td>f88197465ea7920adcdbec7375364d82</td>\n",
       "      <td>delivered</td>\n",
       "      <td>2017-11-18 19:28:06</td>\n",
       "      <td>2017-11-18 19:45:59</td>\n",
       "      <td>2017-11-22 13:39:59</td>\n",
       "      <td>2017-12-02 00:28:42</td>\n",
       "      <td>2017-12-15 00:00:00</td>\n",
       "      <td>2017-11-18 19:28:06</td>\n",
       "      <td>2017-11-18</td>\n",
       "      <td>2017-11</td>\n",
       "    </tr>\n",
       "    <tr>\n",
       "      <th>4</th>\n",
       "      <td>ad21c59c0840e6cb83a9ceb5573f8159</td>\n",
       "      <td>8ab97904e6daea8866dbdbc4fb7aad2c</td>\n",
       "      <td>delivered</td>\n",
       "      <td>2018-02-13 21:18:39</td>\n",
       "      <td>2018-02-13 22:20:29</td>\n",
       "      <td>2018-02-14 19:46:34</td>\n",
       "      <td>2018-02-16 18:17:02</td>\n",
       "      <td>2018-02-26 00:00:00</td>\n",
       "      <td>2018-02-13 21:18:39</td>\n",
       "      <td>2018-02-13</td>\n",
       "      <td>2018-02</td>\n",
       "    </tr>\n",
       "  </tbody>\n",
       "</table>\n",
       "</div>"
      ],
      "text/plain": [
       "                           order_id                       customer_id  \\\n",
       "0  e481f51cbdc54678b7cc49136f2d6af7  9ef432eb6251297304e76186b10a928d   \n",
       "1  53cdb2fc8bc7dce0b6741e2150273451  b0830fb4747a6c6d20dea0b8c802d7ef   \n",
       "2  47770eb9100c2d0c44946d9cf07ec65d  41ce2a54c0b03bf3443c3d931a367089   \n",
       "3  949d5b44dbf5de918fe9c16f97b45f8a  f88197465ea7920adcdbec7375364d82   \n",
       "4  ad21c59c0840e6cb83a9ceb5573f8159  8ab97904e6daea8866dbdbc4fb7aad2c   \n",
       "\n",
       "  order_status order_purchase_timestamp    order_approved_at  \\\n",
       "0    delivered      2017-10-02 10:56:33  2017-10-02 11:07:15   \n",
       "1    delivered      2018-07-24 20:41:37  2018-07-26 03:24:27   \n",
       "2    delivered      2018-08-08 08:38:49  2018-08-08 08:55:23   \n",
       "3    delivered      2017-11-18 19:28:06  2017-11-18 19:45:59   \n",
       "4    delivered      2018-02-13 21:18:39  2018-02-13 22:20:29   \n",
       "\n",
       "  order_delivered_carrier_date order_delivered_customer_date  \\\n",
       "0          2017-10-04 19:55:00           2017-10-10 21:25:13   \n",
       "1          2018-07-26 14:31:00           2018-08-07 15:27:45   \n",
       "2          2018-08-08 13:50:00           2018-08-17 18:06:29   \n",
       "3          2017-11-22 13:39:59           2017-12-02 00:28:42   \n",
       "4          2018-02-14 19:46:34           2018-02-16 18:17:02   \n",
       "\n",
       "  order_estimated_delivery_date   purchase_datetime purchase_date  \\\n",
       "0           2017-10-18 00:00:00 2017-10-02 10:56:33    2017-10-02   \n",
       "1           2018-08-13 00:00:00 2018-07-24 20:41:37    2018-07-24   \n",
       "2           2018-09-04 00:00:00 2018-08-08 08:38:49    2018-08-08   \n",
       "3           2017-12-15 00:00:00 2017-11-18 19:28:06    2017-11-18   \n",
       "4           2018-02-26 00:00:00 2018-02-13 21:18:39    2018-02-13   \n",
       "\n",
       "  purchase_month  \n",
       "0        2017-10  \n",
       "1        2018-07  \n",
       "2        2018-08  \n",
       "3        2017-11  \n",
       "4        2018-02  "
      ]
     },
     "execution_count": 3,
     "metadata": {},
     "output_type": "execute_result"
    }
   ],
   "source": [
    "### Extract monthly sales\n",
    "# Convert order purchase timestamp to_datetime\n",
    "olist_orders['purchase_datetime'] = pd.to_datetime(olist_orders['order_purchase_timestamp'])\n",
    "# Get date only\n",
    "olist_orders['purchase_date'] = olist_orders['purchase_datetime'].dt.date\n",
    "# Get month only\n",
    "olist_orders['purchase_month'] = olist_orders['purchase_datetime'].dt.strftime('%Y-%m')\n",
    "\n",
    "olist_orders.head(5)"
   ]
  },
  {
   "cell_type": "code",
   "execution_count": 4,
   "metadata": {},
   "outputs": [
    {
     "data": {
      "text/html": [
       "<div>\n",
       "<style scoped>\n",
       "    .dataframe tbody tr th:only-of-type {\n",
       "        vertical-align: middle;\n",
       "    }\n",
       "\n",
       "    .dataframe tbody tr th {\n",
       "        vertical-align: top;\n",
       "    }\n",
       "\n",
       "    .dataframe thead th {\n",
       "        text-align: right;\n",
       "    }\n",
       "</style>\n",
       "<table border=\"1\" class=\"dataframe\">\n",
       "  <thead>\n",
       "    <tr style=\"text-align: right;\">\n",
       "      <th></th>\n",
       "      <th>month</th>\n",
       "      <th>no_orders</th>\n",
       "    </tr>\n",
       "  </thead>\n",
       "  <tbody>\n",
       "    <tr>\n",
       "      <th>24</th>\n",
       "      <td>2018-10</td>\n",
       "      <td>4</td>\n",
       "    </tr>\n",
       "    <tr>\n",
       "      <th>23</th>\n",
       "      <td>2018-09</td>\n",
       "      <td>16</td>\n",
       "    </tr>\n",
       "    <tr>\n",
       "      <th>22</th>\n",
       "      <td>2018-08</td>\n",
       "      <td>6512</td>\n",
       "    </tr>\n",
       "    <tr>\n",
       "      <th>21</th>\n",
       "      <td>2018-07</td>\n",
       "      <td>6292</td>\n",
       "    </tr>\n",
       "    <tr>\n",
       "      <th>20</th>\n",
       "      <td>2018-06</td>\n",
       "      <td>6167</td>\n",
       "    </tr>\n",
       "  </tbody>\n",
       "</table>\n",
       "</div>"
      ],
      "text/plain": [
       "      month  no_orders\n",
       "24  2018-10          4\n",
       "23  2018-09         16\n",
       "22  2018-08       6512\n",
       "21  2018-07       6292\n",
       "20  2018-06       6167"
      ]
     },
     "execution_count": 4,
     "metadata": {},
     "output_type": "execute_result"
    }
   ],
   "source": [
    "#Group by month, number of orders\n",
    "orders_bymonth = olist_orders.groupby('purchase_month')['order_id'].nunique().reset_index()\n",
    "orders_bymonth.columns = ['month', 'no_orders']\n",
    "#Sort ascending month\n",
    "orders_bymonth = orders_bymonth.sort_values('month', ascending = False)\n",
    "orders_bymonth.head(5)"
   ]
  },
  {
   "cell_type": "code",
   "execution_count": 5,
   "metadata": {},
   "outputs": [
    {
     "data": {
      "text/html": [
       "<div>\n",
       "<style scoped>\n",
       "    .dataframe tbody tr th:only-of-type {\n",
       "        vertical-align: middle;\n",
       "    }\n",
       "\n",
       "    .dataframe tbody tr th {\n",
       "        vertical-align: top;\n",
       "    }\n",
       "\n",
       "    .dataframe thead th {\n",
       "        text-align: right;\n",
       "    }\n",
       "</style>\n",
       "<table border=\"1\" class=\"dataframe\">\n",
       "  <thead>\n",
       "    <tr style=\"text-align: right;\">\n",
       "      <th></th>\n",
       "      <th>date</th>\n",
       "      <th>no_orders</th>\n",
       "    </tr>\n",
       "  </thead>\n",
       "  <tbody>\n",
       "    <tr>\n",
       "      <th>633</th>\n",
       "      <td>2018-10-17</td>\n",
       "      <td>1</td>\n",
       "    </tr>\n",
       "    <tr>\n",
       "      <th>632</th>\n",
       "      <td>2018-10-16</td>\n",
       "      <td>1</td>\n",
       "    </tr>\n",
       "    <tr>\n",
       "      <th>631</th>\n",
       "      <td>2018-10-03</td>\n",
       "      <td>1</td>\n",
       "    </tr>\n",
       "    <tr>\n",
       "      <th>630</th>\n",
       "      <td>2018-10-01</td>\n",
       "      <td>1</td>\n",
       "    </tr>\n",
       "    <tr>\n",
       "      <th>629</th>\n",
       "      <td>2018-09-29</td>\n",
       "      <td>1</td>\n",
       "    </tr>\n",
       "  </tbody>\n",
       "</table>\n",
       "</div>"
      ],
      "text/plain": [
       "           date  no_orders\n",
       "633  2018-10-17          1\n",
       "632  2018-10-16          1\n",
       "631  2018-10-03          1\n",
       "630  2018-10-01          1\n",
       "629  2018-09-29          1"
      ]
     },
     "execution_count": 5,
     "metadata": {},
     "output_type": "execute_result"
    }
   ],
   "source": [
    "#Group by date, number of orders\n",
    "orders_bydate = olist_orders.groupby('purchase_date')['order_id'].nunique().reset_index()\n",
    "orders_bydate.columns = ['date', 'no_orders']\n",
    "orders_bydate = orders_bydate.sort_values('date', ascending = False)\n",
    "orders_bydate.head(5)"
   ]
  },
  {
   "cell_type": "code",
   "execution_count": 6,
   "metadata": {},
   "outputs": [
    {
     "data": {
      "image/png": "[encoded data removed]",
      "text/plain": [
       "<Figure size 640x480 with 1 Axes>"
      ]
     },
     "metadata": {},
     "output_type": "display_data"
    }
   ],
   "source": [
    "orders_bydate.plot()\n",
    "plt.show()"
   ]
  },
  {
   "cell_type": "code",
   "execution_count": 7,
   "metadata": {},
   "outputs": [
    {
     "data": {
      "image/png": "[encoded data removed]",
      "text/plain": [
       "<Figure size 640x480 with 1 Axes>"
      ]
     },
     "metadata": {},
     "output_type": "display_data"
    }
   ],
   "source": [
    "# Remove outliers\n",
    "orders_bydate_filtered = orders_bydate.loc[orders_bydate['no_orders'] < 400]\n",
    "\n",
    "orders_bydate_filtered.plot()\n",
    "plt.show()\n"
   ]
  },
  {
   "cell_type": "markdown",
   "metadata": {},
   "source": [
    "# Preparing datasets for training"
   ]
  },
  {
   "cell_type": "code",
   "execution_count": 8,
   "metadata": {},
   "outputs": [],
   "source": [
    "orders_bydate_rnn = orders_bydate_filtered.copy()"
   ]
  },
  {
   "cell_type": "code",
   "execution_count": 9,
   "metadata": {},
   "outputs": [],
   "source": [
    "#set_index by date, make sure sort descending correctly\n",
    "# orders_bydate_rnn.set_index('date', inplace = True)\n",
    "# orders_bydate_rnn.head(5)"
   ]
  },
  {
   "cell_type": "code",
   "execution_count": 10,
   "metadata": {},
   "outputs": [],
   "source": [
    "orders_bydate_rnn.sort_values('date', inplace = True)"
   ]
  },
  {
   "cell_type": "code",
   "execution_count": 11,
   "metadata": {},
   "outputs": [
    {
     "data": {
      "text/html": [
       "<div>\n",
       "<style scoped>\n",
       "    .dataframe tbody tr th:only-of-type {\n",
       "        vertical-align: middle;\n",
       "    }\n",
       "\n",
       "    .dataframe tbody tr th {\n",
       "        vertical-align: top;\n",
       "    }\n",
       "\n",
       "    .dataframe thead th {\n",
       "        text-align: right;\n",
       "    }\n",
       "</style>\n",
       "<table border=\"1\" class=\"dataframe\">\n",
       "  <thead>\n",
       "    <tr style=\"text-align: right;\">\n",
       "      <th></th>\n",
       "      <th>date</th>\n",
       "      <th>no_orders</th>\n",
       "    </tr>\n",
       "  </thead>\n",
       "  <tbody>\n",
       "    <tr>\n",
       "      <th>0</th>\n",
       "      <td>2016-09-04</td>\n",
       "      <td>1</td>\n",
       "    </tr>\n",
       "    <tr>\n",
       "      <th>1</th>\n",
       "      <td>2016-09-05</td>\n",
       "      <td>1</td>\n",
       "    </tr>\n",
       "    <tr>\n",
       "      <th>2</th>\n",
       "      <td>2016-09-13</td>\n",
       "      <td>1</td>\n",
       "    </tr>\n",
       "    <tr>\n",
       "      <th>3</th>\n",
       "      <td>2016-09-15</td>\n",
       "      <td>1</td>\n",
       "    </tr>\n",
       "    <tr>\n",
       "      <th>4</th>\n",
       "      <td>2016-10-02</td>\n",
       "      <td>1</td>\n",
       "    </tr>\n",
       "    <tr>\n",
       "      <th>...</th>\n",
       "      <td>...</td>\n",
       "      <td>...</td>\n",
       "    </tr>\n",
       "    <tr>\n",
       "      <th>629</th>\n",
       "      <td>2018-09-29</td>\n",
       "      <td>1</td>\n",
       "    </tr>\n",
       "    <tr>\n",
       "      <th>630</th>\n",
       "      <td>2018-10-01</td>\n",
       "      <td>1</td>\n",
       "    </tr>\n",
       "    <tr>\n",
       "      <th>631</th>\n",
       "      <td>2018-10-03</td>\n",
       "      <td>1</td>\n",
       "    </tr>\n",
       "    <tr>\n",
       "      <th>632</th>\n",
       "      <td>2018-10-16</td>\n",
       "      <td>1</td>\n",
       "    </tr>\n",
       "    <tr>\n",
       "      <th>633</th>\n",
       "      <td>2018-10-17</td>\n",
       "      <td>1</td>\n",
       "    </tr>\n",
       "  </tbody>\n",
       "</table>\n",
       "<p>631 rows × 2 columns</p>\n",
       "</div>"
      ],
      "text/plain": [
       "           date  no_orders\n",
       "0    2016-09-04          1\n",
       "1    2016-09-05          1\n",
       "2    2016-09-13          1\n",
       "3    2016-09-15          1\n",
       "4    2016-10-02          1\n",
       "..          ...        ...\n",
       "629  2018-09-29          1\n",
       "630  2018-10-01          1\n",
       "631  2018-10-03          1\n",
       "632  2018-10-16          1\n",
       "633  2018-10-17          1\n",
       "\n",
       "[631 rows x 2 columns]"
      ]
     },
     "execution_count": 11,
     "metadata": {},
     "output_type": "execute_result"
    }
   ],
   "source": [
    "orders_bydate_rnn"
   ]
  },
  {
   "cell_type": "code",
   "execution_count": 12,
   "metadata": {},
   "outputs": [],
   "source": [
    "#Normalize time series in range [0,1] \n",
    "scaler = MinMaxScaler()\n",
    "#df_scaled = scaler.fit_transform(orders_bydate_rnn)\n",
    "orders_bydate_rnn['scaled_orders'] = scaler.fit_transform(orders_bydate_rnn[['no_orders']])"
   ]
  },
  {
   "cell_type": "code",
   "execution_count": 13,
   "metadata": {},
   "outputs": [
    {
     "data": {
      "text/html": [
       "<div>\n",
       "<style scoped>\n",
       "    .dataframe tbody tr th:only-of-type {\n",
       "        vertical-align: middle;\n",
       "    }\n",
       "\n",
       "    .dataframe tbody tr th {\n",
       "        vertical-align: top;\n",
       "    }\n",
       "\n",
       "    .dataframe thead th {\n",
       "        text-align: right;\n",
       "    }\n",
       "</style>\n",
       "<table border=\"1\" class=\"dataframe\">\n",
       "  <thead>\n",
       "    <tr style=\"text-align: right;\">\n",
       "      <th></th>\n",
       "      <th>date</th>\n",
       "      <th>no_orders</th>\n",
       "      <th>scaled_orders</th>\n",
       "    </tr>\n",
       "  </thead>\n",
       "  <tbody>\n",
       "    <tr>\n",
       "      <th>0</th>\n",
       "      <td>2016-09-04</td>\n",
       "      <td>1</td>\n",
       "      <td>0.0</td>\n",
       "    </tr>\n",
       "    <tr>\n",
       "      <th>1</th>\n",
       "      <td>2016-09-05</td>\n",
       "      <td>1</td>\n",
       "      <td>0.0</td>\n",
       "    </tr>\n",
       "    <tr>\n",
       "      <th>2</th>\n",
       "      <td>2016-09-13</td>\n",
       "      <td>1</td>\n",
       "      <td>0.0</td>\n",
       "    </tr>\n",
       "    <tr>\n",
       "      <th>3</th>\n",
       "      <td>2016-09-15</td>\n",
       "      <td>1</td>\n",
       "      <td>0.0</td>\n",
       "    </tr>\n",
       "    <tr>\n",
       "      <th>4</th>\n",
       "      <td>2016-10-02</td>\n",
       "      <td>1</td>\n",
       "      <td>0.0</td>\n",
       "    </tr>\n",
       "    <tr>\n",
       "      <th>...</th>\n",
       "      <td>...</td>\n",
       "      <td>...</td>\n",
       "      <td>...</td>\n",
       "    </tr>\n",
       "    <tr>\n",
       "      <th>629</th>\n",
       "      <td>2018-09-29</td>\n",
       "      <td>1</td>\n",
       "      <td>0.0</td>\n",
       "    </tr>\n",
       "    <tr>\n",
       "      <th>630</th>\n",
       "      <td>2018-10-01</td>\n",
       "      <td>1</td>\n",
       "      <td>0.0</td>\n",
       "    </tr>\n",
       "    <tr>\n",
       "      <th>631</th>\n",
       "      <td>2018-10-03</td>\n",
       "      <td>1</td>\n",
       "      <td>0.0</td>\n",
       "    </tr>\n",
       "    <tr>\n",
       "      <th>632</th>\n",
       "      <td>2018-10-16</td>\n",
       "      <td>1</td>\n",
       "      <td>0.0</td>\n",
       "    </tr>\n",
       "    <tr>\n",
       "      <th>633</th>\n",
       "      <td>2018-10-17</td>\n",
       "      <td>1</td>\n",
       "      <td>0.0</td>\n",
       "    </tr>\n",
       "  </tbody>\n",
       "</table>\n",
       "<p>631 rows × 3 columns</p>\n",
       "</div>"
      ],
      "text/plain": [
       "           date  no_orders  scaled_orders\n",
       "0    2016-09-04          1            0.0\n",
       "1    2016-09-05          1            0.0\n",
       "2    2016-09-13          1            0.0\n",
       "3    2016-09-15          1            0.0\n",
       "4    2016-10-02          1            0.0\n",
       "..          ...        ...            ...\n",
       "629  2018-09-29          1            0.0\n",
       "630  2018-10-01          1            0.0\n",
       "631  2018-10-03          1            0.0\n",
       "632  2018-10-16          1            0.0\n",
       "633  2018-10-17          1            0.0\n",
       "\n",
       "[631 rows x 3 columns]"
      ]
     },
     "execution_count": 13,
     "metadata": {},
     "output_type": "execute_result"
    }
   ],
   "source": [
    "orders_bydate_rnn"
   ]
  },
  {
   "cell_type": "code",
   "execution_count": 14,
   "metadata": {},
   "outputs": [],
   "source": [
    "def create_sequences(data, window_size):\n",
    "    sequences = []\n",
    "    labels = []\n",
    "    for i in range(len(data) - window_size):\n",
    "        seq = data[i: i + window_size]\n",
    "        label = data[i+ window_size]\n",
    "        sequences.append(seq)\n",
    "        labels.append(label)\n",
    "    return np.array(sequences), np.array(labels)"
   ]
  },
  {
   "cell_type": "code",
   "execution_count": 15,
   "metadata": {},
   "outputs": [],
   "source": [
    "window_size = 10\n",
    "data = orders_bydate_rnn['scaled_orders'].values\n",
    "X, y = create_sequences(data, window_size)"
   ]
  },
  {
   "cell_type": "code",
   "execution_count": 16,
   "metadata": {},
   "outputs": [
    {
     "data": {
      "text/plain": [
       "(621, 10)"
      ]
     },
     "execution_count": 16,
     "metadata": {},
     "output_type": "execute_result"
    }
   ],
   "source": [
    "X.shape"
   ]
  },
  {
   "cell_type": "code",
   "execution_count": 17,
   "metadata": {},
   "outputs": [
    {
     "data": {
      "text/plain": [
       "(621,)"
      ]
     },
     "execution_count": 17,
     "metadata": {},
     "output_type": "execute_result"
    }
   ],
   "source": [
    "y.shape"
   ]
  },
  {
   "cell_type": "code",
   "execution_count": 18,
   "metadata": {},
   "outputs": [],
   "source": [
    "# Reshape X to (samples, seq_len, 1) for RNN input\n",
    "X = X.reshape(X.shape[0], X.shape[1], 1)\n",
    "y = y.reshape(-1, 1)"
   ]
  },
  {
   "cell_type": "code",
   "execution_count": 19,
   "metadata": {},
   "outputs": [
    {
     "data": {
      "text/plain": [
       "(621, 10, 1)"
      ]
     },
     "execution_count": 19,
     "metadata": {},
     "output_type": "execute_result"
    }
   ],
   "source": [
    "X.shape"
   ]
  },
  {
   "cell_type": "code",
   "execution_count": 20,
   "metadata": {},
   "outputs": [
    {
     "data": {
      "text/plain": [
       "(621, 1)"
      ]
     },
     "execution_count": 20,
     "metadata": {},
     "output_type": "execute_result"
    }
   ],
   "source": [
    "y.shape"
   ]
  },
  {
   "cell_type": "markdown",
   "metadata": {},
   "source": [
    "# Create a custom dataset for class for Pytorch Dataloader"
   ]
  },
  {
   "cell_type": "code",
   "execution_count": 21,
   "metadata": {},
   "outputs": [],
   "source": [
    "# Split the data into training and test sets\n",
    "train_size = int(0.7 * len(X))\n",
    "X_train, X_test = X[:train_size], X[train_size:]\n",
    "y_train, y_test = y[:train_size], y[train_size:]"
   ]
  },
  {
   "cell_type": "code",
   "execution_count": 22,
   "metadata": {},
   "outputs": [
    {
     "data": {
      "text/plain": [
       "(187, 10, 1)"
      ]
     },
     "execution_count": 22,
     "metadata": {},
     "output_type": "execute_result"
    }
   ],
   "source": [
    "X_test.shape"
   ]
  },
  {
   "cell_type": "code",
   "execution_count": 23,
   "metadata": {},
   "outputs": [],
   "source": [
    "X_test_tensor = torch.tensor(X, dtype = torch.float32)"
   ]
  },
  {
   "cell_type": "code",
   "execution_count": 24,
   "metadata": {},
   "outputs": [],
   "source": [
    "from torch.utils.data import DataLoader, Dataset\n",
    "class RNNDataset(Dataset):\n",
    "    def __init__(self, X, y):\n",
    "        self.X = torch.tensor(X, dtype = torch.float32)\n",
    "        self.y = torch.tensor(y, dtype = torch.float32)\n",
    "\n",
    "    def __len__(self):\n",
    "        return len(self.X)\n",
    "    \n",
    "    def __getitem__(self, index):\n",
    "        return self.X[index], self.y[index]"
   ]
  },
  {
   "cell_type": "markdown",
   "metadata": {},
   "source": [
    "# LSTM Model"
   ]
  },
  {
   "cell_type": "code",
   "execution_count": 40,
   "metadata": {},
   "outputs": [],
   "source": [
    "import torch.nn as nn\n",
    "class LSTM(nn.Module):\n",
    "    def __init__(self, hidden_size, in_size = 1, out_size = 1):\n",
    "        super(LSTM, self).__init__()\n",
    "        self.lstm = nn.LSTM(\n",
    "            input_size = in_size,\n",
    "            hidden_size = hidden_size,\n",
    "            batch_first = True)\n",
    "        self.fc = nn.Linear(hidden_size, out_size)\n",
    "    \n",
    "    def forward(self, x, h = None):\n",
    "        out, h = self.lstm(x, h)\n",
    "        last_hidden_states = out[:, -1, :]\n",
    "        out = self.fc(last_hidden_states)\n",
    "        return out"
   ]
  },
  {
   "cell_type": "code",
   "execution_count": 26,
   "metadata": {},
   "outputs": [],
   "source": [
    "import torch.nn as nn\n",
    "class GRU(nn.Module):\n",
    "    def __init__(self, hidden_size, in_size = 1, out_size = 1):\n",
    "        super(GRU, self).__init__()\n",
    "        self.gru = nn.GRU(input_size = in_size, hidden_size = hidden_size, batch_first = True)\n",
    "        self.fc = nn.Linear(hidden_size, out_size)\n",
    "\n",
    "    def forward(self, x, h = None):\n",
    "        out, _ = self.gru(x, h)\n",
    "        last_hidden_states = out[:,-1]\n",
    "        out = self.fc(last_hidden_states)\n",
    "        return out    "
   ]
  },
  {
   "cell_type": "code",
   "execution_count": 27,
   "metadata": {},
   "outputs": [],
   "source": [
    "class RNN(nn.Module):\n",
    "    def __init__(self, hidden_size, in_size = 1, out_size = 1):\n",
    "        super(RNN, self).__init__()\n",
    "        self.rnn = nn.RNN(input_size = in_size,\n",
    "                            hidden_size = hidden_size,\n",
    "                            batch_first = True)\n",
    "        self.fc = nn.Linear(hidden_size, out_size)\n",
    "    \n",
    "    def forward(self, x, h = None):\n",
    "        out, _ = self.rnn(x, h)\n",
    "        last_hidden_states = out[:, -1]\n",
    "        out = self.fc(last_hidden_states)\n",
    "        return out"
   ]
  },
  {
   "cell_type": "code",
   "execution_count": 28,
   "metadata": {},
   "outputs": [
    {
     "data": {
      "text/plain": [
       "OrderedDict([('gru.weight_ih_l0',\n",
       "              tensor([[-0.1668],\n",
       "                      [-0.0317],\n",
       "                      [ 0.0900],\n",
       "                      [-0.0852],\n",
       "                      [ 0.1526],\n",
       "                      [ 0.0719],\n",
       "                      [-0.1722],\n",
       "                      [-0.1005],\n",
       "                      [ 0.1284],\n",
       "                      [-0.0731],\n",
       "                      [ 0.0906],\n",
       "                      [ 0.0424],\n",
       "                      [ 0.1120],\n",
       "                      [ 0.0956],\n",
       "                      [-0.0282],\n",
       "                      [ 0.0954],\n",
       "                      [ 0.0193],\n",
       "                      [ 0.1381],\n",
       "                      [ 0.0025],\n",
       "                      [ 0.1662],\n",
       "                      [-0.0492],\n",
       "                      [ 0.0350],\n",
       "                      [-0.1222],\n",
       "                      [ 0.1457],\n",
       "                      [-0.1312],\n",
       "                      [-0.1042],\n",
       "                      [ 0.0700],\n",
       "                      [ 0.1086],\n",
       "                      [-0.1543],\n",
       "                      [-0.1132],\n",
       "                      [-0.0762],\n",
       "                      [ 0.0835],\n",
       "                      [-0.0642],\n",
       "                      [-0.0478],\n",
       "                      [-0.0871],\n",
       "                      [-0.1538],\n",
       "                      [ 0.0124],\n",
       "                      [-0.0941],\n",
       "                      [ 0.1757],\n",
       "                      [ 0.0688],\n",
       "                      [-0.0124],\n",
       "                      [-0.0885],\n",
       "                      [ 0.1451],\n",
       "                      [-0.1177],\n",
       "                      [-0.1592],\n",
       "                      [ 0.0527],\n",
       "                      [ 0.1359],\n",
       "                      [ 0.0116],\n",
       "                      [ 0.1120],\n",
       "                      [-0.0124],\n",
       "                      [-0.0558],\n",
       "                      [-0.0191],\n",
       "                      [-0.0180],\n",
       "                      [-0.0370],\n",
       "                      [-0.1508],\n",
       "                      [-0.1349],\n",
       "                      [-0.1756],\n",
       "                      [ 0.1442],\n",
       "                      [-0.0309],\n",
       "                      [-0.1610],\n",
       "                      [ 0.0986],\n",
       "                      [-0.1334],\n",
       "                      [ 0.1050],\n",
       "                      [ 0.0229],\n",
       "                      [ 0.1188],\n",
       "                      [-0.0502],\n",
       "                      [ 0.0978],\n",
       "                      [-0.1282],\n",
       "                      [-0.0960],\n",
       "                      [ 0.0797],\n",
       "                      [-0.0537],\n",
       "                      [-0.0568],\n",
       "                      [ 0.1722],\n",
       "                      [ 0.1464],\n",
       "                      [-0.0068],\n",
       "                      [ 0.0691],\n",
       "                      [-0.1569],\n",
       "                      [ 0.0980],\n",
       "                      [ 0.0328],\n",
       "                      [-0.0042],\n",
       "                      [-0.0561],\n",
       "                      [ 0.0373],\n",
       "                      [ 0.0937],\n",
       "                      [-0.1099],\n",
       "                      [ 0.1435],\n",
       "                      [ 0.1286],\n",
       "                      [-0.0631],\n",
       "                      [ 0.1765],\n",
       "                      [ 0.1221],\n",
       "                      [-0.0474],\n",
       "                      [-0.0380],\n",
       "                      [-0.1627],\n",
       "                      [-0.0763],\n",
       "                      [ 0.0505],\n",
       "                      [-0.0541],\n",
       "                      [-0.0981]])),\n",
       "             ('gru.weight_hh_l0',\n",
       "              tensor([[-0.1554, -0.0137,  0.1664,  ...,  0.1472, -0.1736, -0.0857],\n",
       "                      [-0.0610, -0.1501,  0.1682,  ..., -0.1497, -0.0040,  0.0949],\n",
       "                      [-0.1197,  0.0954,  0.1314,  ..., -0.0990, -0.1006,  0.0791],\n",
       "                      ...,\n",
       "                      [-0.1505, -0.0309,  0.0928,  ..., -0.0415, -0.0097, -0.1200],\n",
       "                      [-0.1372,  0.0801, -0.1021,  ..., -0.0777, -0.0956, -0.1095],\n",
       "                      [-0.1311,  0.0249, -0.0356,  ..., -0.0154,  0.0929,  0.0560]])),\n",
       "             ('gru.bias_ih_l0',\n",
       "              tensor([ 0.0038,  0.1733, -0.0324,  0.0442,  0.0981, -0.0071,  0.0889,  0.1575,\n",
       "                      -0.1319,  0.0338,  0.1427, -0.1492, -0.0474, -0.1633, -0.0910, -0.1598,\n",
       "                      -0.1004,  0.0912,  0.0337, -0.0054,  0.1477, -0.1034, -0.0474, -0.0220,\n",
       "                      -0.1023, -0.0280, -0.1407,  0.0861,  0.1015,  0.1308,  0.1215, -0.1136,\n",
       "                       0.1110, -0.1739,  0.1766,  0.1740, -0.0127, -0.1509, -0.0487,  0.0801,\n",
       "                       0.0510, -0.1198,  0.0559,  0.0672,  0.0499, -0.0122,  0.0030, -0.1037,\n",
       "                       0.0157,  0.0465, -0.0557, -0.1452, -0.0115, -0.1286, -0.1091, -0.1274,\n",
       "                       0.0406,  0.0157,  0.1499, -0.0913, -0.0734,  0.1096,  0.1310,  0.0617,\n",
       "                       0.0495,  0.0898,  0.1275, -0.0021, -0.1633,  0.0127, -0.1615,  0.0991,\n",
       "                       0.1261, -0.0312,  0.0723,  0.1759, -0.0211,  0.0033,  0.1278,  0.1583,\n",
       "                      -0.1754, -0.0609,  0.1405,  0.1629, -0.1439,  0.0481, -0.0170,  0.1609,\n",
       "                       0.1391, -0.0198,  0.1153, -0.1424,  0.1519,  0.0646,  0.1537,  0.0644])),\n",
       "             ('gru.bias_hh_l0',\n",
       "              tensor([ 0.1283,  0.1279,  0.0298,  0.0184,  0.1390,  0.1331, -0.1213,  0.0693,\n",
       "                      -0.1166,  0.1034,  0.0495,  0.1582,  0.0504,  0.0195,  0.0453,  0.1133,\n",
       "                      -0.1555,  0.1000,  0.1191,  0.0496, -0.1190,  0.1499, -0.1491, -0.0329,\n",
       "                       0.1263, -0.0512, -0.1047, -0.0233,  0.0081, -0.1002, -0.0542,  0.0703,\n",
       "                      -0.0366,  0.0749,  0.1198,  0.1294, -0.0463, -0.1669,  0.1379,  0.1720,\n",
       "                      -0.1583, -0.1650,  0.0362, -0.1647,  0.0875,  0.1545,  0.0268,  0.0687,\n",
       "                       0.0382,  0.0866,  0.0415, -0.1033, -0.0548,  0.0939,  0.0400, -0.1058,\n",
       "                       0.1005, -0.0871,  0.0167, -0.0125, -0.1000, -0.0899, -0.1305,  0.0209,\n",
       "                       0.0290,  0.1097,  0.1284, -0.0304,  0.0535, -0.1041,  0.0045, -0.0975,\n",
       "                       0.0654, -0.1157,  0.1140,  0.0234,  0.1371, -0.0138,  0.0040,  0.1004,\n",
       "                      -0.0466,  0.1487, -0.0970,  0.1637, -0.1295,  0.1277, -0.0275,  0.0607,\n",
       "                      -0.0057, -0.0374,  0.1336,  0.1364,  0.0465, -0.1069, -0.0932,  0.1164])),\n",
       "             ('fc.weight',\n",
       "              tensor([[-0.1755, -0.1193,  0.1617, -0.1511, -0.1761,  0.1312, -0.0235,  0.1753,\n",
       "                       -0.1244, -0.1754, -0.0975, -0.0822,  0.0429, -0.1366,  0.1175, -0.1572,\n",
       "                       -0.0632,  0.0858,  0.1088,  0.1115, -0.0516, -0.0304,  0.1134,  0.1026,\n",
       "                       -0.1399,  0.0850,  0.0907,  0.0631, -0.0782,  0.0768, -0.0124, -0.1230]])),\n",
       "             ('fc.bias', tensor([-0.0764]))])"
      ]
     },
     "execution_count": 28,
     "metadata": {},
     "output_type": "execute_result"
    }
   ],
   "source": [
    "gru_model = GRU(hidden_size = 32)\n",
    "gru_model.state_dict()"
   ]
  },
  {
   "cell_type": "code",
   "execution_count": 29,
   "metadata": {},
   "outputs": [
    {
     "data": {
      "text/plain": [
       "OrderedDict([('rnn.weight_ih_l0',\n",
       "              tensor([[ 0.1722],\n",
       "                      [ 0.1386],\n",
       "                      [-0.0766],\n",
       "                      [-0.0738],\n",
       "                      [-0.0121],\n",
       "                      [ 0.0421],\n",
       "                      [-0.0812],\n",
       "                      [ 0.0554],\n",
       "                      [-0.1332],\n",
       "                      [-0.0043],\n",
       "                      [ 0.1387],\n",
       "                      [-0.1584],\n",
       "                      [ 0.0381],\n",
       "                      [-0.1373],\n",
       "                      [ 0.1052],\n",
       "                      [-0.0752],\n",
       "                      [-0.1308],\n",
       "                      [ 0.0046],\n",
       "                      [ 0.1145],\n",
       "                      [ 0.0552],\n",
       "                      [ 0.0944],\n",
       "                      [ 0.1669],\n",
       "                      [-0.1006],\n",
       "                      [-0.1212],\n",
       "                      [ 0.1163],\n",
       "                      [ 0.0511],\n",
       "                      [ 0.0166],\n",
       "                      [ 0.1027],\n",
       "                      [-0.0804],\n",
       "                      [-0.0862],\n",
       "                      [-0.0266],\n",
       "                      [-0.0158]])),\n",
       "             ('rnn.weight_hh_l0',\n",
       "              tensor([[ 0.0566,  0.0874,  0.0486,  ...,  0.0358, -0.1211,  0.0343],\n",
       "                      [-0.1373, -0.1282, -0.1232,  ...,  0.1613,  0.0537, -0.0370],\n",
       "                      [-0.0931, -0.0505,  0.0662,  ..., -0.0384, -0.0110,  0.0134],\n",
       "                      ...,\n",
       "                      [ 0.0341,  0.0592,  0.0105,  ..., -0.0463, -0.0849, -0.0293],\n",
       "                      [ 0.0825, -0.1045, -0.1645,  ..., -0.1265, -0.0289, -0.0210],\n",
       "                      [ 0.1098,  0.0774, -0.0344,  ...,  0.0645, -0.0523,  0.1075]])),\n",
       "             ('rnn.bias_ih_l0',\n",
       "              tensor([ 0.0371, -0.1624,  0.0961, -0.0832,  0.0598,  0.0041, -0.1014,  0.1072,\n",
       "                      -0.1166,  0.0540,  0.1141,  0.1519, -0.0139, -0.0313, -0.1477, -0.1336,\n",
       "                      -0.0328,  0.0990,  0.1573, -0.1136, -0.0134, -0.1002,  0.0484,  0.1279,\n",
       "                      -0.0689, -0.0452, -0.1260, -0.1088,  0.0117, -0.0413, -0.0275,  0.0008])),\n",
       "             ('rnn.bias_hh_l0',\n",
       "              tensor([-0.0242,  0.0274,  0.1110, -0.0761,  0.0241, -0.1678,  0.0535,  0.1139,\n",
       "                       0.1455, -0.1056,  0.1654,  0.1290,  0.0967,  0.1194, -0.0228, -0.1013,\n",
       "                      -0.0416, -0.0243, -0.1631,  0.1393, -0.0467,  0.0828, -0.0498, -0.0338,\n",
       "                      -0.0883, -0.1272,  0.1422, -0.1421, -0.1357,  0.1323,  0.1627,  0.0069])),\n",
       "             ('fc.weight',\n",
       "              tensor([[-0.1657, -0.1038, -0.0049, -0.1196,  0.0104, -0.0493, -0.1645,  0.0473,\n",
       "                       -0.0277, -0.1668, -0.0503, -0.1076, -0.0769,  0.0107,  0.1748,  0.1011,\n",
       "                        0.1258, -0.1752, -0.0314,  0.0815, -0.1307, -0.1462,  0.1540,  0.1133,\n",
       "                       -0.1578,  0.1347, -0.0243,  0.0667, -0.0913,  0.0670,  0.1729,  0.0170]])),\n",
       "             ('fc.bias', tensor([0.0843]))])"
      ]
     },
     "execution_count": 29,
     "metadata": {},
     "output_type": "execute_result"
    }
   ],
   "source": [
    "rnn_model = RNN(hidden_size = 32)\n",
    "rnn_model.state_dict()"
   ]
  },
  {
   "cell_type": "code",
   "execution_count": 30,
   "metadata": {},
   "outputs": [],
   "source": [
    "# Make predictions with model\n",
    "with torch.inference_mode(): \n",
    "    y_preds = rnn_model(X_test_tensor)"
   ]
  },
  {
   "cell_type": "code",
   "execution_count": 31,
   "metadata": {},
   "outputs": [],
   "source": [
    "# Make predictions with model\n",
    "with torch.inference_mode(): \n",
    "    y_preds = gru_model(X_test_tensor)"
   ]
  },
  {
   "cell_type": "code",
   "execution_count": 41,
   "metadata": {},
   "outputs": [
    {
     "data": {
      "text/plain": [
       "OrderedDict([('lstm.weight_ih_l0',\n",
       "              tensor([[ 0.0954],\n",
       "                      [-0.0723],\n",
       "                      [ 0.1723],\n",
       "                      [ 0.0744],\n",
       "                      [ 0.1635],\n",
       "                      [ 0.1094],\n",
       "                      [ 0.0685],\n",
       "                      [-0.1180],\n",
       "                      [ 0.0069],\n",
       "                      [ 0.0403],\n",
       "                      [-0.1575],\n",
       "                      [-0.0771],\n",
       "                      [ 0.1030],\n",
       "                      [-0.0665],\n",
       "                      [ 0.0876],\n",
       "                      [ 0.0403],\n",
       "                      [-0.1346],\n",
       "                      [ 0.0127],\n",
       "                      [ 0.0361],\n",
       "                      [-0.1518],\n",
       "                      [-0.0235],\n",
       "                      [ 0.1008],\n",
       "                      [-0.0436],\n",
       "                      [-0.1683],\n",
       "                      [ 0.1710],\n",
       "                      [-0.0902],\n",
       "                      [ 0.1078],\n",
       "                      [ 0.1700],\n",
       "                      [ 0.0467],\n",
       "                      [-0.0764],\n",
       "                      [-0.1318],\n",
       "                      [-0.1100],\n",
       "                      [ 0.1009],\n",
       "                      [ 0.0089],\n",
       "                      [ 0.1724],\n",
       "                      [ 0.1194],\n",
       "                      [-0.0225],\n",
       "                      [-0.0662],\n",
       "                      [ 0.0581],\n",
       "                      [-0.0429],\n",
       "                      [ 0.1611],\n",
       "                      [-0.1291],\n",
       "                      [-0.0676],\n",
       "                      [-0.1731],\n",
       "                      [ 0.0008],\n",
       "                      [ 0.0025],\n",
       "                      [-0.0264],\n",
       "                      [ 0.1563],\n",
       "                      [-0.1495],\n",
       "                      [ 0.0264],\n",
       "                      [-0.1173],\n",
       "                      [-0.1346],\n",
       "                      [ 0.0627],\n",
       "                      [ 0.1348],\n",
       "                      [-0.1280],\n",
       "                      [-0.0403],\n",
       "                      [-0.1124],\n",
       "                      [-0.0139],\n",
       "                      [ 0.0390],\n",
       "                      [-0.1710],\n",
       "                      [ 0.1542],\n",
       "                      [-0.0267],\n",
       "                      [-0.1184],\n",
       "                      [ 0.0290],\n",
       "                      [ 0.1661],\n",
       "                      [ 0.0524],\n",
       "                      [ 0.0583],\n",
       "                      [ 0.0176],\n",
       "                      [ 0.0473],\n",
       "                      [-0.0910],\n",
       "                      [ 0.0216],\n",
       "                      [-0.1027],\n",
       "                      [-0.0278],\n",
       "                      [-0.0918],\n",
       "                      [ 0.1344],\n",
       "                      [ 0.0095],\n",
       "                      [-0.1657],\n",
       "                      [ 0.0205],\n",
       "                      [ 0.0779],\n",
       "                      [ 0.1056],\n",
       "                      [-0.0916],\n",
       "                      [-0.1356],\n",
       "                      [ 0.1431],\n",
       "                      [ 0.0426],\n",
       "                      [ 0.1486],\n",
       "                      [ 0.0766],\n",
       "                      [-0.0869],\n",
       "                      [ 0.0995],\n",
       "                      [ 0.0163],\n",
       "                      [-0.1587],\n",
       "                      [-0.0731],\n",
       "                      [-0.1191],\n",
       "                      [-0.0587],\n",
       "                      [ 0.0101],\n",
       "                      [-0.0800],\n",
       "                      [ 0.0667],\n",
       "                      [ 0.1642],\n",
       "                      [ 0.0522],\n",
       "                      [-0.0181],\n",
       "                      [-0.0239],\n",
       "                      [ 0.0998],\n",
       "                      [ 0.0627],\n",
       "                      [ 0.0024],\n",
       "                      [ 0.0164],\n",
       "                      [-0.0616],\n",
       "                      [ 0.1374],\n",
       "                      [ 0.1646],\n",
       "                      [-0.0378],\n",
       "                      [ 0.0746],\n",
       "                      [-0.1043],\n",
       "                      [ 0.0282],\n",
       "                      [ 0.1523],\n",
       "                      [ 0.1458],\n",
       "                      [ 0.1243],\n",
       "                      [ 0.0862],\n",
       "                      [ 0.0313],\n",
       "                      [-0.1673],\n",
       "                      [ 0.0357],\n",
       "                      [-0.1734],\n",
       "                      [ 0.0609],\n",
       "                      [ 0.0075],\n",
       "                      [-0.0046],\n",
       "                      [ 0.1620],\n",
       "                      [-0.1299],\n",
       "                      [ 0.1128],\n",
       "                      [ 0.0809],\n",
       "                      [ 0.1537],\n",
       "                      [-0.1036]])),\n",
       "             ('lstm.weight_hh_l0',\n",
       "              tensor([[ 0.0274,  0.0065,  0.0951,  ..., -0.1536,  0.1477, -0.0646],\n",
       "                      [-0.0589,  0.1346, -0.1009,  ...,  0.1572, -0.0876, -0.1621],\n",
       "                      [ 0.0030,  0.0194, -0.1414,  ...,  0.0469,  0.1547, -0.0735],\n",
       "                      ...,\n",
       "                      [ 0.0149, -0.1609,  0.0651,  ...,  0.1577,  0.0597,  0.0297],\n",
       "                      [-0.1535, -0.0607,  0.0559,  ...,  0.1543, -0.0732,  0.0676],\n",
       "                      [-0.1083,  0.1208,  0.0137,  ...,  0.1142,  0.0633, -0.0424]])),\n",
       "             ('lstm.bias_ih_l0',\n",
       "              tensor([ 0.0075,  0.0323, -0.1404, -0.1612,  0.0733, -0.1513,  0.1755,  0.0928,\n",
       "                       0.1177, -0.0432,  0.0083, -0.0683,  0.1256,  0.0930,  0.0329,  0.0051,\n",
       "                       0.1569,  0.1237, -0.0446, -0.1232,  0.1381, -0.1353,  0.1530, -0.0916,\n",
       "                      -0.0087, -0.0950, -0.0944, -0.0025, -0.1724,  0.0666,  0.1578,  0.1342,\n",
       "                      -0.1393,  0.1051,  0.0380,  0.1339, -0.0896, -0.1457,  0.1378, -0.1593,\n",
       "                      -0.0204, -0.1009,  0.0225,  0.0512, -0.0328, -0.0036, -0.1375, -0.0628,\n",
       "                       0.0945, -0.0912,  0.0158, -0.1459, -0.1468,  0.0903, -0.1240, -0.1385,\n",
       "                       0.1642, -0.1607, -0.0403, -0.0958, -0.0216,  0.0600,  0.0915,  0.0435,\n",
       "                      -0.1759,  0.0929,  0.1725,  0.1291,  0.1180,  0.1223,  0.1704, -0.1368,\n",
       "                      -0.0397, -0.1440, -0.1246, -0.0639, -0.0928,  0.0065,  0.0734, -0.0456,\n",
       "                       0.0862, -0.1129, -0.1750,  0.0067, -0.0653, -0.0979,  0.0644,  0.0547,\n",
       "                       0.0837,  0.1277,  0.0905,  0.1267,  0.0947, -0.1635,  0.0381,  0.0316,\n",
       "                      -0.0008, -0.0089,  0.1531, -0.1571, -0.0884, -0.1287, -0.1366,  0.0469,\n",
       "                       0.0505, -0.0614, -0.1030, -0.0656, -0.0644,  0.1566,  0.0763,  0.1689,\n",
       "                       0.0854,  0.1420, -0.1144,  0.0184, -0.0868, -0.1429, -0.1078,  0.0597,\n",
       "                       0.0998,  0.1364,  0.1357,  0.0738, -0.0754, -0.1205,  0.1068,  0.1314])),\n",
       "             ('lstm.bias_hh_l0',\n",
       "              tensor([ 0.1019, -0.1679, -0.0969,  0.1528, -0.1268,  0.0365,  0.0835,  0.0096,\n",
       "                      -0.0950, -0.1675, -0.0104,  0.0794, -0.1174,  0.0808, -0.1313, -0.0490,\n",
       "                      -0.1075, -0.1364, -0.1122, -0.0013, -0.0095, -0.0879, -0.1121, -0.0689,\n",
       "                       0.0802,  0.0404, -0.0928,  0.1272, -0.0528, -0.1370, -0.0196, -0.1422,\n",
       "                      -0.0938,  0.0582,  0.0216,  0.1248,  0.0569, -0.1697,  0.1558,  0.1475,\n",
       "                      -0.1149, -0.1691, -0.1253,  0.0736,  0.1591, -0.0610,  0.0879, -0.0964,\n",
       "                      -0.0088, -0.0172, -0.1311,  0.1125, -0.0136, -0.0884,  0.0830, -0.0968,\n",
       "                       0.1634, -0.0771, -0.1382, -0.1669, -0.1301,  0.0929,  0.0650, -0.0481,\n",
       "                      -0.0422,  0.1073, -0.0521, -0.0783,  0.1178,  0.1437,  0.0758,  0.0055,\n",
       "                       0.1257,  0.1265, -0.0121,  0.0086, -0.0191, -0.0264,  0.1045,  0.1182,\n",
       "                      -0.1228,  0.1145, -0.0388,  0.0109,  0.0984,  0.1602, -0.0294, -0.0267,\n",
       "                      -0.1200,  0.0126, -0.1469,  0.0057,  0.0723,  0.1676, -0.0905,  0.0487,\n",
       "                      -0.1029,  0.1584, -0.0362, -0.0166, -0.0239,  0.0085,  0.1569,  0.0760,\n",
       "                       0.0286, -0.1724, -0.1326, -0.0030,  0.1535,  0.1038,  0.0343, -0.1695,\n",
       "                      -0.1456,  0.1344, -0.1303, -0.0825,  0.1143,  0.1188,  0.0039,  0.1564,\n",
       "                       0.0187,  0.1642,  0.0454,  0.0310, -0.0806, -0.0450,  0.0947, -0.0679])),\n",
       "             ('fc.weight',\n",
       "              tensor([[-0.1295,  0.1070, -0.0463,  0.1658,  0.0611, -0.0833,  0.1104,  0.1295,\n",
       "                        0.1344,  0.1420,  0.0173, -0.1085,  0.0165, -0.0339,  0.0880, -0.0439,\n",
       "                        0.1177,  0.0223, -0.0464,  0.0971,  0.0517,  0.0211,  0.1456, -0.0277,\n",
       "                       -0.0642,  0.0645, -0.1210, -0.0535, -0.0292, -0.0709,  0.0499, -0.1066]])),\n",
       "             ('fc.bias', tensor([0.0351]))])"
      ]
     },
     "execution_count": 41,
     "metadata": {},
     "output_type": "execute_result"
    }
   ],
   "source": [
    "lstm_model = LSTM(hidden_size = 32)\n",
    "lstm_model.state_dict()"
   ]
  },
  {
   "cell_type": "code",
   "execution_count": 42,
   "metadata": {},
   "outputs": [],
   "source": [
    "# Make predictions with model\n",
    "with torch.inference_mode(): \n",
    "    y_preds = lstm_model(X_test_tensor)"
   ]
  },
  {
   "cell_type": "code",
   "execution_count": 43,
   "metadata": {},
   "outputs": [
    {
     "data": {
      "text/plain": [
       "torch.Size([621, 1])"
      ]
     },
     "execution_count": 43,
     "metadata": {},
     "output_type": "execute_result"
    }
   ],
   "source": [
    "y_preds.shape"
   ]
  },
  {
   "cell_type": "markdown",
   "metadata": {},
   "source": [
    "# Hyperparameters"
   ]
  },
  {
   "cell_type": "code",
   "execution_count": 44,
   "metadata": {},
   "outputs": [],
   "source": [
    "hidden_size = 32\n",
    "learning_rate = 0.02\n",
    "training_epochs = 500\n",
    "batch_size = 64"
   ]
  },
  {
   "cell_type": "code",
   "execution_count": 45,
   "metadata": {},
   "outputs": [],
   "source": [
    "#Create Data Loaders\n",
    "train_dataset = RNNDataset(X_train, y_train)\n",
    "train_loader = DataLoader(train_dataset, batch_size=batch_size)\n",
    "test_dataset = RNNDataset(X_test, y_test)\n",
    "test_loader = DataLoader(test_dataset, batch_size=batch_size, shuffle=True)"
   ]
  },
  {
   "cell_type": "code",
   "execution_count": 46,
   "metadata": {},
   "outputs": [
    {
     "data": {
      "text/plain": [
       "<__main__.RNNDataset at 0x321208b50>"
      ]
     },
     "execution_count": 46,
     "metadata": {},
     "output_type": "execute_result"
    }
   ],
   "source": [
    "train_dataset"
   ]
  },
  {
   "cell_type": "code",
   "execution_count": 47,
   "metadata": {},
   "outputs": [],
   "source": [
    "#Initialize the model, loss function, and optimizer\n",
    "model = LSTM(hidden_size=hidden_size)\n",
    "criterion = nn.MSELoss()\n",
    "optimizer = torch.optim.Adam(model.parameters(), lr=learning_rate)"
   ]
  },
  {
   "cell_type": "markdown",
   "metadata": {},
   "source": [
    "# Training"
   ]
  },
  {
   "cell_type": "code",
   "execution_count": 48,
   "metadata": {},
   "outputs": [
    {
     "name": "stdout",
     "output_type": "stream",
     "text": [
      "Epoch 0 - Train Loss: 0.5127 | Test Loss: 0.2792\n",
      "Epoch 10 - Train Loss: 0.0554 | Test Loss: 0.0467\n",
      "Epoch 20 - Train Loss: 0.0418 | Test Loss: 0.0406\n",
      "Epoch 30 - Train Loss: 0.0414 | Test Loss: 0.0383\n",
      "Epoch 40 - Train Loss: 0.0416 | Test Loss: 0.0365\n",
      "Epoch 50 - Train Loss: 0.0499 | Test Loss: 0.0336\n",
      "Epoch 60 - Train Loss: 0.0404 | Test Loss: 0.0331\n",
      "Epoch 70 - Train Loss: 0.0422 | Test Loss: 0.0291\n",
      "Epoch 80 - Train Loss: 0.0291 | Test Loss: 0.0272\n",
      "Epoch 90 - Train Loss: 0.0262 | Test Loss: 0.0262\n"
     ]
    }
   ],
   "source": [
    "# 6. Training loop\n",
    "num_epochs = 100\n",
    "for epoch in range(num_epochs):\n",
    "    ###TRAINING\n",
    "\n",
    "    #Put model in training mode\n",
    "    model.train()\n",
    "\n",
    "    train_loss = 0\n",
    "    #Loop in batch\n",
    "    for X_batch, y_batch in train_loader:\n",
    "        #1. Forward pass on train data using the forward() method inside\n",
    "        y_pred = model(X_batch)\n",
    "\n",
    "        #2. Calculate the loss (how different are our models predictions to the ground truth)\n",
    "        loss = criterion(y_pred, y_batch)\n",
    "\n",
    "        #3. Zero grad of the optimizer\n",
    "        optimizer.zero_grad()\n",
    "\n",
    "        #4. Loss backwards\n",
    "        loss.backward()\n",
    "        \n",
    "        #5. Progress the optimizer\n",
    "        optimizer.step()\n",
    "\n",
    "        #6. Accumulate loss\n",
    "        train_loss += loss.item()\n",
    "\n",
    "    ###TESTING\n",
    "    model.eval()\n",
    "\n",
    "    test_loss = 0\n",
    "\n",
    "    with torch.inference_mode():\n",
    "        #Create loop in batch\n",
    "        for X_batch, y_batch in test_loader:\n",
    "            #1. Forward pass on the test data\n",
    "            y_pred = model(X_batch)\n",
    "\n",
    "            #2. Calculate loss on test data\n",
    "            loss = criterion(y_pred, y_batch)\n",
    "\n",
    "            #3. Accumulate loss\n",
    "            test_loss += loss.item()\n",
    "\n",
    "    if epoch % 10 == 0:\n",
    "        print(f\"Epoch {epoch} - Train Loss: {train_loss:.4f} | Test Loss: {test_loss:.4f}\")"
   ]
  },
  {
   "cell_type": "code",
   "execution_count": 49,
   "metadata": {},
   "outputs": [],
   "source": [
    "# 7. Predict on test set\n",
    "model.eval()\n",
    "with torch.no_grad():\n",
    "    test_inputs = torch.tensor(X_test, dtype=torch.float32)\n",
    "    predictions = model(test_inputs).numpy()\n",
    "\n",
    "# Inverse scale predictions and actuals\n",
    "y_test_inv = scaler.inverse_transform(y_test)\n",
    "predictions_inv = scaler.inverse_transform(predictions)"
   ]
  },
  {
   "cell_type": "code",
   "execution_count": 50,
   "metadata": {},
   "outputs": [
    {
     "data": {
      "image/png": "[encoded data removed]",
      "text/plain": [
       "<Figure size 1000x500 with 1 Axes>"
      ]
     },
     "metadata": {},
     "output_type": "display_data"
    }
   ],
   "source": [
    "# 8. Plot\n",
    "plt.figure(figsize=(10,5))\n",
    "plt.plot(y_test_inv, label='Actual')\n",
    "plt.plot(predictions_inv, label='Predicted')\n",
    "plt.legend()\n",
    "plt.title(\"LSTM Time Series Forecast\")\n",
    "plt.show()"
   ]
  },
  {
   "cell_type": "markdown",
   "metadata": {},
   "source": [
    "References:\n",
    "- My blog: https://open.substack.com/pub/quynhanhphuong/p/long-short-term-memory?r=1xb8sg&utm_campaign=post&utm_medium=web&showWelcomeOnShare=false\n",
    "- Book Dive indo Deep Learning\n",
    "- Chapter 4: Recurrent Neural Networks in book Time series forecasting using Deep Learning"
   ]
  }
 ],
 "metadata": {
  "kernelspec": {
   "display_name": "Python 3",
   "language": "python",
   "name": "python3"
  },
  "language_info": {
   "codemirror_mode": {
    "name": "ipython",
    "version": 3
   },
   "file_extension": ".py",
   "mimetype": "text/x-python",
   "name": "python",
   "nbconvert_exporter": "python",
   "pygments_lexer": "ipython3",
   "version": "3.9.6"
  }
 },
 "nbformat": 4,
 "nbformat_minor": 2
}
