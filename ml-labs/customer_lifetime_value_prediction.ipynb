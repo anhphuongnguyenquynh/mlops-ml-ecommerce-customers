{
 "cells": [
  {
   "cell_type": "markdown",
   "metadata": {},
   "source": [
    "RFM: Recency - Frequency - Monetary Value.\n",
    "- Low value: Customers who are less active than others, not very frequent vistor, maybe negative revenue\n",
    "- Mid value: Middle of something. Often use platform, fairly frequent, generate moderate revenue\n",
    "- High value: High revenue, frequency and high activity.\n",
    "Segmentation users base on these types of \n",
    "1. Recency: based on the last active order -> Clustering\n",
    "2. Frequency: based on total number orders for each customer -> Clustering\n",
    "3. Revenue: based on total revenue -> Clustering"
   ]
  },
  {
   "cell_type": "markdown",
   "metadata": {},
   "source": [
    "# Import Libraries"
   ]
  },
  {
   "cell_type": "code",
   "execution_count": 1,
   "metadata": {},
   "outputs": [],
   "source": [
    "import pandas as pd \n",
    "import numpy as np "
   ]
  },
  {
   "cell_type": "code",
   "execution_count": 2,
   "metadata": {},
   "outputs": [],
   "source": [
    "olist_customers = pd.read_csv(\"/Users/phuongnguyen/Documents/Code Github/mlops-ml-ecommerce-customers/sample_files/olist_dataset/olist_customers_dataset.csv\")\n",
    "olist_orders = pd.read_csv(\"/Users/phuongnguyen/Documents/Code Github/mlops-ml-ecommerce-customers/sample_files/olist_dataset/olist_orders_dataset.csv\")\n",
    "olist_orders_payment = pd.read_csv(\"/Users/phuongnguyen/Documents/Code Github/mlops-ml-ecommerce-customers/sample_files/olist_dataset/olist_order_payments_dataset.csv\")"
   ]
  },
  {
   "cell_type": "code",
   "execution_count": 3,
   "metadata": {},
   "outputs": [
    {
     "data": {
      "text/html": [
       "<div>\n",
       "<style scoped>\n",
       "    .dataframe tbody tr th:only-of-type {\n",
       "        vertical-align: middle;\n",
       "    }\n",
       "\n",
       "    .dataframe tbody tr th {\n",
       "        vertical-align: top;\n",
       "    }\n",
       "\n",
       "    .dataframe thead th {\n",
       "        text-align: right;\n",
       "    }\n",
       "</style>\n",
       "<table border=\"1\" class=\"dataframe\">\n",
       "  <thead>\n",
       "    <tr style=\"text-align: right;\">\n",
       "      <th></th>\n",
       "      <th>order_id</th>\n",
       "      <th>payment_sequential</th>\n",
       "      <th>payment_type</th>\n",
       "      <th>payment_installments</th>\n",
       "      <th>payment_value</th>\n",
       "    </tr>\n",
       "  </thead>\n",
       "  <tbody>\n",
       "    <tr>\n",
       "      <th>0</th>\n",
       "      <td>b81ef226f3fe1789b1e8b2acac839d17</td>\n",
       "      <td>1</td>\n",
       "      <td>credit_card</td>\n",
       "      <td>8</td>\n",
       "      <td>99.33</td>\n",
       "    </tr>\n",
       "    <tr>\n",
       "      <th>1</th>\n",
       "      <td>a9810da82917af2d9aefd1278f1dcfa0</td>\n",
       "      <td>1</td>\n",
       "      <td>credit_card</td>\n",
       "      <td>1</td>\n",
       "      <td>24.39</td>\n",
       "    </tr>\n",
       "    <tr>\n",
       "      <th>2</th>\n",
       "      <td>25e8ea4e93396b6fa0d3dd708e76c1bd</td>\n",
       "      <td>1</td>\n",
       "      <td>credit_card</td>\n",
       "      <td>1</td>\n",
       "      <td>65.71</td>\n",
       "    </tr>\n",
       "    <tr>\n",
       "      <th>3</th>\n",
       "      <td>ba78997921bbcdc1373bb41e913ab953</td>\n",
       "      <td>1</td>\n",
       "      <td>credit_card</td>\n",
       "      <td>8</td>\n",
       "      <td>107.78</td>\n",
       "    </tr>\n",
       "    <tr>\n",
       "      <th>4</th>\n",
       "      <td>42fdf880ba16b47b59251dd489d4441a</td>\n",
       "      <td>1</td>\n",
       "      <td>credit_card</td>\n",
       "      <td>2</td>\n",
       "      <td>128.45</td>\n",
       "    </tr>\n",
       "  </tbody>\n",
       "</table>\n",
       "</div>"
      ],
      "text/plain": [
       "                           order_id  payment_sequential payment_type  \\\n",
       "0  b81ef226f3fe1789b1e8b2acac839d17                   1  credit_card   \n",
       "1  a9810da82917af2d9aefd1278f1dcfa0                   1  credit_card   \n",
       "2  25e8ea4e93396b6fa0d3dd708e76c1bd                   1  credit_card   \n",
       "3  ba78997921bbcdc1373bb41e913ab953                   1  credit_card   \n",
       "4  42fdf880ba16b47b59251dd489d4441a                   1  credit_card   \n",
       "\n",
       "   payment_installments  payment_value  \n",
       "0                     8          99.33  \n",
       "1                     1          24.39  \n",
       "2                     1          65.71  \n",
       "3                     8         107.78  \n",
       "4                     2         128.45  "
      ]
     },
     "execution_count": 3,
     "metadata": {},
     "output_type": "execute_result"
    }
   ],
   "source": [
    "olist_orders_payment.head(5)"
   ]
  },
  {
   "cell_type": "code",
   "execution_count": 4,
   "metadata": {},
   "outputs": [
    {
     "data": {
      "text/html": [
       "<div>\n",
       "<style scoped>\n",
       "    .dataframe tbody tr th:only-of-type {\n",
       "        vertical-align: middle;\n",
       "    }\n",
       "\n",
       "    .dataframe tbody tr th {\n",
       "        vertical-align: top;\n",
       "    }\n",
       "\n",
       "    .dataframe thead th {\n",
       "        text-align: right;\n",
       "    }\n",
       "</style>\n",
       "<table border=\"1\" class=\"dataframe\">\n",
       "  <thead>\n",
       "    <tr style=\"text-align: right;\">\n",
       "      <th></th>\n",
       "      <th>order_id</th>\n",
       "      <th>customer_id</th>\n",
       "      <th>order_status</th>\n",
       "      <th>order_purchase_timestamp</th>\n",
       "      <th>order_approved_at</th>\n",
       "      <th>order_delivered_carrier_date</th>\n",
       "      <th>order_delivered_customer_date</th>\n",
       "      <th>order_estimated_delivery_date</th>\n",
       "    </tr>\n",
       "  </thead>\n",
       "  <tbody>\n",
       "    <tr>\n",
       "      <th>0</th>\n",
       "      <td>e481f51cbdc54678b7cc49136f2d6af7</td>\n",
       "      <td>9ef432eb6251297304e76186b10a928d</td>\n",
       "      <td>delivered</td>\n",
       "      <td>2017-10-02 10:56:33</td>\n",
       "      <td>2017-10-02 11:07:15</td>\n",
       "      <td>2017-10-04 19:55:00</td>\n",
       "      <td>2017-10-10 21:25:13</td>\n",
       "      <td>2017-10-18 00:00:00</td>\n",
       "    </tr>\n",
       "    <tr>\n",
       "      <th>1</th>\n",
       "      <td>53cdb2fc8bc7dce0b6741e2150273451</td>\n",
       "      <td>b0830fb4747a6c6d20dea0b8c802d7ef</td>\n",
       "      <td>delivered</td>\n",
       "      <td>2018-07-24 20:41:37</td>\n",
       "      <td>2018-07-26 03:24:27</td>\n",
       "      <td>2018-07-26 14:31:00</td>\n",
       "      <td>2018-08-07 15:27:45</td>\n",
       "      <td>2018-08-13 00:00:00</td>\n",
       "    </tr>\n",
       "    <tr>\n",
       "      <th>2</th>\n",
       "      <td>47770eb9100c2d0c44946d9cf07ec65d</td>\n",
       "      <td>41ce2a54c0b03bf3443c3d931a367089</td>\n",
       "      <td>delivered</td>\n",
       "      <td>2018-08-08 08:38:49</td>\n",
       "      <td>2018-08-08 08:55:23</td>\n",
       "      <td>2018-08-08 13:50:00</td>\n",
       "      <td>2018-08-17 18:06:29</td>\n",
       "      <td>2018-09-04 00:00:00</td>\n",
       "    </tr>\n",
       "    <tr>\n",
       "      <th>3</th>\n",
       "      <td>949d5b44dbf5de918fe9c16f97b45f8a</td>\n",
       "      <td>f88197465ea7920adcdbec7375364d82</td>\n",
       "      <td>delivered</td>\n",
       "      <td>2017-11-18 19:28:06</td>\n",
       "      <td>2017-11-18 19:45:59</td>\n",
       "      <td>2017-11-22 13:39:59</td>\n",
       "      <td>2017-12-02 00:28:42</td>\n",
       "      <td>2017-12-15 00:00:00</td>\n",
       "    </tr>\n",
       "    <tr>\n",
       "      <th>4</th>\n",
       "      <td>ad21c59c0840e6cb83a9ceb5573f8159</td>\n",
       "      <td>8ab97904e6daea8866dbdbc4fb7aad2c</td>\n",
       "      <td>delivered</td>\n",
       "      <td>2018-02-13 21:18:39</td>\n",
       "      <td>2018-02-13 22:20:29</td>\n",
       "      <td>2018-02-14 19:46:34</td>\n",
       "      <td>2018-02-16 18:17:02</td>\n",
       "      <td>2018-02-26 00:00:00</td>\n",
       "    </tr>\n",
       "  </tbody>\n",
       "</table>\n",
       "</div>"
      ],
      "text/plain": [
       "                           order_id                       customer_id  \\\n",
       "0  e481f51cbdc54678b7cc49136f2d6af7  9ef432eb6251297304e76186b10a928d   \n",
       "1  53cdb2fc8bc7dce0b6741e2150273451  b0830fb4747a6c6d20dea0b8c802d7ef   \n",
       "2  47770eb9100c2d0c44946d9cf07ec65d  41ce2a54c0b03bf3443c3d931a367089   \n",
       "3  949d5b44dbf5de918fe9c16f97b45f8a  f88197465ea7920adcdbec7375364d82   \n",
       "4  ad21c59c0840e6cb83a9ceb5573f8159  8ab97904e6daea8866dbdbc4fb7aad2c   \n",
       "\n",
       "  order_status order_purchase_timestamp    order_approved_at  \\\n",
       "0    delivered      2017-10-02 10:56:33  2017-10-02 11:07:15   \n",
       "1    delivered      2018-07-24 20:41:37  2018-07-26 03:24:27   \n",
       "2    delivered      2018-08-08 08:38:49  2018-08-08 08:55:23   \n",
       "3    delivered      2017-11-18 19:28:06  2017-11-18 19:45:59   \n",
       "4    delivered      2018-02-13 21:18:39  2018-02-13 22:20:29   \n",
       "\n",
       "  order_delivered_carrier_date order_delivered_customer_date  \\\n",
       "0          2017-10-04 19:55:00           2017-10-10 21:25:13   \n",
       "1          2018-07-26 14:31:00           2018-08-07 15:27:45   \n",
       "2          2018-08-08 13:50:00           2018-08-17 18:06:29   \n",
       "3          2017-11-22 13:39:59           2017-12-02 00:28:42   \n",
       "4          2018-02-14 19:46:34           2018-02-16 18:17:02   \n",
       "\n",
       "  order_estimated_delivery_date  \n",
       "0           2017-10-18 00:00:00  \n",
       "1           2018-08-13 00:00:00  \n",
       "2           2018-09-04 00:00:00  \n",
       "3           2017-12-15 00:00:00  \n",
       "4           2018-02-26 00:00:00  "
      ]
     },
     "execution_count": 4,
     "metadata": {},
     "output_type": "execute_result"
    }
   ],
   "source": [
    "olist_orders.head(5)"
   ]
  },
  {
   "cell_type": "markdown",
   "metadata": {},
   "source": [
    "# Recency and User Clustering based on Recency"
   ]
  },
  {
   "cell_type": "code",
   "execution_count": 5,
   "metadata": {},
   "outputs": [
    {
     "name": "stdout",
     "output_type": "stream",
     "text": [
      "2018-10-17 17:30:18\n"
     ]
    }
   ],
   "source": [
    "#Get the maximum date of order_purchase_timestamp to get the latest date of the order dataset\n",
    "max_date = olist_orders['order_purchase_timestamp'].max()\n",
    "max_date_timestamp = pd.to_datetime(max_date)\n",
    "print(max_date)"
   ]
  },
  {
   "cell_type": "code",
   "execution_count": 6,
   "metadata": {},
   "outputs": [
    {
     "data": {
      "text/plain": [
       "order_id                         object\n",
       "customer_id                      object\n",
       "order_status                     object\n",
       "order_purchase_timestamp         object\n",
       "order_approved_at                object\n",
       "order_delivered_carrier_date     object\n",
       "order_delivered_customer_date    object\n",
       "order_estimated_delivery_date    object\n",
       "dtype: object"
      ]
     },
     "execution_count": 6,
     "metadata": {},
     "output_type": "execute_result"
    }
   ],
   "source": [
    "olist_orders.dtypes\n"
   ]
  },
  {
   "cell_type": "code",
   "execution_count": 7,
   "metadata": {},
   "outputs": [],
   "source": [
    "olist_orders['purchase_timestamp'] = pd.to_datetime(olist_orders['order_purchase_timestamp'])"
   ]
  },
  {
   "cell_type": "code",
   "execution_count": 8,
   "metadata": {},
   "outputs": [],
   "source": [
    "olist_orders['last_order'] = max_date_timestamp - olist_orders['purchase_timestamp']\n",
    "olist_orders['last_order_day'] = olist_orders['last_order'].dt.days"
   ]
  },
  {
   "cell_type": "code",
   "execution_count": 9,
   "metadata": {},
   "outputs": [
    {
     "data": {
      "text/html": [
       "<div>\n",
       "<style scoped>\n",
       "    .dataframe tbody tr th:only-of-type {\n",
       "        vertical-align: middle;\n",
       "    }\n",
       "\n",
       "    .dataframe tbody tr th {\n",
       "        vertical-align: top;\n",
       "    }\n",
       "\n",
       "    .dataframe thead th {\n",
       "        text-align: right;\n",
       "    }\n",
       "</style>\n",
       "<table border=\"1\" class=\"dataframe\">\n",
       "  <thead>\n",
       "    <tr style=\"text-align: right;\">\n",
       "      <th></th>\n",
       "      <th>order_id</th>\n",
       "      <th>customer_id</th>\n",
       "      <th>order_status</th>\n",
       "      <th>order_purchase_timestamp</th>\n",
       "      <th>order_approved_at</th>\n",
       "      <th>order_delivered_carrier_date</th>\n",
       "      <th>order_delivered_customer_date</th>\n",
       "      <th>order_estimated_delivery_date</th>\n",
       "      <th>purchase_timestamp</th>\n",
       "      <th>last_order</th>\n",
       "      <th>last_order_day</th>\n",
       "    </tr>\n",
       "  </thead>\n",
       "  <tbody>\n",
       "    <tr>\n",
       "      <th>0</th>\n",
       "      <td>e481f51cbdc54678b7cc49136f2d6af7</td>\n",
       "      <td>9ef432eb6251297304e76186b10a928d</td>\n",
       "      <td>delivered</td>\n",
       "      <td>2017-10-02 10:56:33</td>\n",
       "      <td>2017-10-02 11:07:15</td>\n",
       "      <td>2017-10-04 19:55:00</td>\n",
       "      <td>2017-10-10 21:25:13</td>\n",
       "      <td>2017-10-18 00:00:00</td>\n",
       "      <td>2017-10-02 10:56:33</td>\n",
       "      <td>380 days 06:33:45</td>\n",
       "      <td>380</td>\n",
       "    </tr>\n",
       "    <tr>\n",
       "      <th>1</th>\n",
       "      <td>53cdb2fc8bc7dce0b6741e2150273451</td>\n",
       "      <td>b0830fb4747a6c6d20dea0b8c802d7ef</td>\n",
       "      <td>delivered</td>\n",
       "      <td>2018-07-24 20:41:37</td>\n",
       "      <td>2018-07-26 03:24:27</td>\n",
       "      <td>2018-07-26 14:31:00</td>\n",
       "      <td>2018-08-07 15:27:45</td>\n",
       "      <td>2018-08-13 00:00:00</td>\n",
       "      <td>2018-07-24 20:41:37</td>\n",
       "      <td>84 days 20:48:41</td>\n",
       "      <td>84</td>\n",
       "    </tr>\n",
       "    <tr>\n",
       "      <th>2</th>\n",
       "      <td>47770eb9100c2d0c44946d9cf07ec65d</td>\n",
       "      <td>41ce2a54c0b03bf3443c3d931a367089</td>\n",
       "      <td>delivered</td>\n",
       "      <td>2018-08-08 08:38:49</td>\n",
       "      <td>2018-08-08 08:55:23</td>\n",
       "      <td>2018-08-08 13:50:00</td>\n",
       "      <td>2018-08-17 18:06:29</td>\n",
       "      <td>2018-09-04 00:00:00</td>\n",
       "      <td>2018-08-08 08:38:49</td>\n",
       "      <td>70 days 08:51:29</td>\n",
       "      <td>70</td>\n",
       "    </tr>\n",
       "    <tr>\n",
       "      <th>3</th>\n",
       "      <td>949d5b44dbf5de918fe9c16f97b45f8a</td>\n",
       "      <td>f88197465ea7920adcdbec7375364d82</td>\n",
       "      <td>delivered</td>\n",
       "      <td>2017-11-18 19:28:06</td>\n",
       "      <td>2017-11-18 19:45:59</td>\n",
       "      <td>2017-11-22 13:39:59</td>\n",
       "      <td>2017-12-02 00:28:42</td>\n",
       "      <td>2017-12-15 00:00:00</td>\n",
       "      <td>2017-11-18 19:28:06</td>\n",
       "      <td>332 days 22:02:12</td>\n",
       "      <td>332</td>\n",
       "    </tr>\n",
       "    <tr>\n",
       "      <th>4</th>\n",
       "      <td>ad21c59c0840e6cb83a9ceb5573f8159</td>\n",
       "      <td>8ab97904e6daea8866dbdbc4fb7aad2c</td>\n",
       "      <td>delivered</td>\n",
       "      <td>2018-02-13 21:18:39</td>\n",
       "      <td>2018-02-13 22:20:29</td>\n",
       "      <td>2018-02-14 19:46:34</td>\n",
       "      <td>2018-02-16 18:17:02</td>\n",
       "      <td>2018-02-26 00:00:00</td>\n",
       "      <td>2018-02-13 21:18:39</td>\n",
       "      <td>245 days 20:11:39</td>\n",
       "      <td>245</td>\n",
       "    </tr>\n",
       "  </tbody>\n",
       "</table>\n",
       "</div>"
      ],
      "text/plain": [
       "                           order_id                       customer_id  \\\n",
       "0  e481f51cbdc54678b7cc49136f2d6af7  9ef432eb6251297304e76186b10a928d   \n",
       "1  53cdb2fc8bc7dce0b6741e2150273451  b0830fb4747a6c6d20dea0b8c802d7ef   \n",
       "2  47770eb9100c2d0c44946d9cf07ec65d  41ce2a54c0b03bf3443c3d931a367089   \n",
       "3  949d5b44dbf5de918fe9c16f97b45f8a  f88197465ea7920adcdbec7375364d82   \n",
       "4  ad21c59c0840e6cb83a9ceb5573f8159  8ab97904e6daea8866dbdbc4fb7aad2c   \n",
       "\n",
       "  order_status order_purchase_timestamp    order_approved_at  \\\n",
       "0    delivered      2017-10-02 10:56:33  2017-10-02 11:07:15   \n",
       "1    delivered      2018-07-24 20:41:37  2018-07-26 03:24:27   \n",
       "2    delivered      2018-08-08 08:38:49  2018-08-08 08:55:23   \n",
       "3    delivered      2017-11-18 19:28:06  2017-11-18 19:45:59   \n",
       "4    delivered      2018-02-13 21:18:39  2018-02-13 22:20:29   \n",
       "\n",
       "  order_delivered_carrier_date order_delivered_customer_date  \\\n",
       "0          2017-10-04 19:55:00           2017-10-10 21:25:13   \n",
       "1          2018-07-26 14:31:00           2018-08-07 15:27:45   \n",
       "2          2018-08-08 13:50:00           2018-08-17 18:06:29   \n",
       "3          2017-11-22 13:39:59           2017-12-02 00:28:42   \n",
       "4          2018-02-14 19:46:34           2018-02-16 18:17:02   \n",
       "\n",
       "  order_estimated_delivery_date  purchase_timestamp        last_order  \\\n",
       "0           2017-10-18 00:00:00 2017-10-02 10:56:33 380 days 06:33:45   \n",
       "1           2018-08-13 00:00:00 2018-07-24 20:41:37  84 days 20:48:41   \n",
       "2           2018-09-04 00:00:00 2018-08-08 08:38:49  70 days 08:51:29   \n",
       "3           2017-12-15 00:00:00 2017-11-18 19:28:06 332 days 22:02:12   \n",
       "4           2018-02-26 00:00:00 2018-02-13 21:18:39 245 days 20:11:39   \n",
       "\n",
       "   last_order_day  \n",
       "0             380  \n",
       "1              84  \n",
       "2              70  \n",
       "3             332  \n",
       "4             245  "
      ]
     },
     "execution_count": 9,
     "metadata": {},
     "output_type": "execute_result"
    }
   ],
   "source": [
    "olist_orders.head(5)"
   ]
  },
  {
   "cell_type": "code",
   "execution_count": 10,
   "metadata": {},
   "outputs": [],
   "source": [
    "olist_orders_recency = olist_orders[['customer_id', 'last_order_day']]"
   ]
  },
  {
   "cell_type": "code",
   "execution_count": 11,
   "metadata": {},
   "outputs": [
    {
     "data": {
      "text/html": [
       "<div>\n",
       "<style scoped>\n",
       "    .dataframe tbody tr th:only-of-type {\n",
       "        vertical-align: middle;\n",
       "    }\n",
       "\n",
       "    .dataframe tbody tr th {\n",
       "        vertical-align: top;\n",
       "    }\n",
       "\n",
       "    .dataframe thead th {\n",
       "        text-align: right;\n",
       "    }\n",
       "</style>\n",
       "<table border=\"1\" class=\"dataframe\">\n",
       "  <thead>\n",
       "    <tr style=\"text-align: right;\">\n",
       "      <th></th>\n",
       "      <th>customer_id</th>\n",
       "      <th>last_order_day</th>\n",
       "    </tr>\n",
       "  </thead>\n",
       "  <tbody>\n",
       "    <tr>\n",
       "      <th>0</th>\n",
       "      <td>9ef432eb6251297304e76186b10a928d</td>\n",
       "      <td>380</td>\n",
       "    </tr>\n",
       "    <tr>\n",
       "      <th>1</th>\n",
       "      <td>b0830fb4747a6c6d20dea0b8c802d7ef</td>\n",
       "      <td>84</td>\n",
       "    </tr>\n",
       "    <tr>\n",
       "      <th>2</th>\n",
       "      <td>41ce2a54c0b03bf3443c3d931a367089</td>\n",
       "      <td>70</td>\n",
       "    </tr>\n",
       "    <tr>\n",
       "      <th>3</th>\n",
       "      <td>f88197465ea7920adcdbec7375364d82</td>\n",
       "      <td>332</td>\n",
       "    </tr>\n",
       "    <tr>\n",
       "      <th>4</th>\n",
       "      <td>8ab97904e6daea8866dbdbc4fb7aad2c</td>\n",
       "      <td>245</td>\n",
       "    </tr>\n",
       "    <tr>\n",
       "      <th>...</th>\n",
       "      <td>...</td>\n",
       "      <td>...</td>\n",
       "    </tr>\n",
       "    <tr>\n",
       "      <th>99436</th>\n",
       "      <td>39bd1228ee8140590ac3aca26f2dfe00</td>\n",
       "      <td>587</td>\n",
       "    </tr>\n",
       "    <tr>\n",
       "      <th>99437</th>\n",
       "      <td>1fca14ff2861355f6e5f14306ff977a7</td>\n",
       "      <td>253</td>\n",
       "    </tr>\n",
       "    <tr>\n",
       "      <th>99438</th>\n",
       "      <td>1aa71eb042121263aafbe80c1b562c9c</td>\n",
       "      <td>416</td>\n",
       "    </tr>\n",
       "    <tr>\n",
       "      <th>99439</th>\n",
       "      <td>b331b74b18dc79bcdf6532d51e1637c1</td>\n",
       "      <td>281</td>\n",
       "    </tr>\n",
       "    <tr>\n",
       "      <th>99440</th>\n",
       "      <td>edb027a75a1449115f6b43211ae02a24</td>\n",
       "      <td>222</td>\n",
       "    </tr>\n",
       "  </tbody>\n",
       "</table>\n",
       "<p>99441 rows × 2 columns</p>\n",
       "</div>"
      ],
      "text/plain": [
       "                            customer_id  last_order_day\n",
       "0      9ef432eb6251297304e76186b10a928d             380\n",
       "1      b0830fb4747a6c6d20dea0b8c802d7ef              84\n",
       "2      41ce2a54c0b03bf3443c3d931a367089              70\n",
       "3      f88197465ea7920adcdbec7375364d82             332\n",
       "4      8ab97904e6daea8866dbdbc4fb7aad2c             245\n",
       "...                                 ...             ...\n",
       "99436  39bd1228ee8140590ac3aca26f2dfe00             587\n",
       "99437  1fca14ff2861355f6e5f14306ff977a7             253\n",
       "99438  1aa71eb042121263aafbe80c1b562c9c             416\n",
       "99439  b331b74b18dc79bcdf6532d51e1637c1             281\n",
       "99440  edb027a75a1449115f6b43211ae02a24             222\n",
       "\n",
       "[99441 rows x 2 columns]"
      ]
     },
     "execution_count": 11,
     "metadata": {},
     "output_type": "execute_result"
    }
   ],
   "source": [
    "olist_orders_recency"
   ]
  },
  {
   "cell_type": "code",
   "execution_count": 12,
   "metadata": {},
   "outputs": [
    {
     "name": "stdout",
     "output_type": "stream",
     "text": [
      "Defaulting to user installation because normal site-packages is not writeable\n"
     ]
    },
    {
     "name": "stdout",
     "output_type": "stream",
     "text": [
      "Requirement already satisfied: scikit-learn in /Users/phuongnguyen/Library/Python/3.9/lib/python/site-packages (1.6.1)\n",
      "Requirement already satisfied: threadpoolctl>=3.1.0 in /Users/phuongnguyen/Library/Python/3.9/lib/python/site-packages (from scikit-learn) (3.6.0)\n",
      "Requirement already satisfied: scipy>=1.6.0 in /Users/phuongnguyen/Library/Python/3.9/lib/python/site-packages (from scikit-learn) (1.13.1)\n",
      "Requirement already satisfied: numpy>=1.19.5 in /Users/phuongnguyen/Library/Python/3.9/lib/python/site-packages (from scikit-learn) (1.26.4)\n",
      "Requirement already satisfied: joblib>=1.2.0 in /Users/phuongnguyen/Library/Python/3.9/lib/python/site-packages (from scikit-learn) (1.5.0)\n",
      "\u001b[33mWARNING: You are using pip version 21.2.4; however, version 25.1.1 is available.\n",
      "You should consider upgrading via the '/Library/Developer/CommandLineTools/usr/bin/python3 -m pip install --upgrade pip' command.\u001b[0m\n",
      "Note: you may need to restart the kernel to use updated packages.\n"
     ]
    }
   ],
   "source": [
    "pip install scikit-learn"
   ]
  },
  {
   "cell_type": "code",
   "execution_count": 13,
   "metadata": {},
   "outputs": [
    {
     "name": "stdout",
     "output_type": "stream",
     "text": [
      "Defaulting to user installation because normal site-packages is not writeable\n",
      "Requirement already satisfied: matplotlib in /Users/phuongnguyen/Library/Python/3.9/lib/python/site-packages (3.9.4)\n",
      "Requirement already satisfied: contourpy>=1.0.1 in /Users/phuongnguyen/Library/Python/3.9/lib/python/site-packages (from matplotlib) (1.3.0)\n",
      "Requirement already satisfied: packaging>=20.0 in /Users/phuongnguyen/Library/Python/3.9/lib/python/site-packages (from matplotlib) (23.2)\n",
      "Requirement already satisfied: pyparsing>=2.3.1 in /Users/phuongnguyen/Library/Python/3.9/lib/python/site-packages (from matplotlib) (3.2.3)\n",
      "Requirement already satisfied: numpy>=1.23 in /Users/phuongnguyen/Library/Python/3.9/lib/python/site-packages (from matplotlib) (1.26.4)\n",
      "Requirement already satisfied: pillow>=8 in /Users/phuongnguyen/Library/Python/3.9/lib/python/site-packages (from matplotlib) (11.2.1)\n",
      "Requirement already satisfied: fonttools>=4.22.0 in /Users/phuongnguyen/Library/Python/3.9/lib/python/site-packages (from matplotlib) (4.57.0)\n",
      "Requirement already satisfied: importlib-resources>=3.2.0 in /Users/phuongnguyen/Library/Python/3.9/lib/python/site-packages (from matplotlib) (6.4.5)\n",
      "Requirement already satisfied: python-dateutil>=2.7 in /Users/phuongnguyen/Library/Python/3.9/lib/python/site-packages (from matplotlib) (2.9.0.post0)\n",
      "Requirement already satisfied: kiwisolver>=1.3.1 in /Users/phuongnguyen/Library/Python/3.9/lib/python/site-packages (from matplotlib) (1.4.7)\n",
      "Requirement already satisfied: cycler>=0.10 in /Users/phuongnguyen/Library/Python/3.9/lib/python/site-packages (from matplotlib) (0.12.1)\n",
      "Requirement already satisfied: zipp>=3.1.0 in /Users/phuongnguyen/Library/Python/3.9/lib/python/site-packages (from importlib-resources>=3.2.0->matplotlib) (3.19.2)\n",
      "Requirement already satisfied: six>=1.5 in /Library/Developer/CommandLineTools/Library/Frameworks/Python3.framework/Versions/3.9/lib/python3.9/site-packages (from python-dateutil>=2.7->matplotlib) (1.15.0)\n",
      "\u001b[33mWARNING: You are using pip version 21.2.4; however, version 25.1.1 is available.\n",
      "You should consider upgrading via the '/Library/Developer/CommandLineTools/usr/bin/python3 -m pip install --upgrade pip' command.\u001b[0m\n",
      "Note: you may need to restart the kernel to use updated packages.\n"
     ]
    }
   ],
   "source": [
    "pip install matplotlib"
   ]
  },
  {
   "cell_type": "code",
   "execution_count": 14,
   "metadata": {},
   "outputs": [],
   "source": [
    "import matplotlib.pyplot as plt"
   ]
  },
  {
   "cell_type": "code",
   "execution_count": 15,
   "metadata": {},
   "outputs": [
    {
     "data": {
      "image/png": "[encoded data removed]",
      "text/plain": [
       "<Figure size 640x480 with 1 Axes>"
      ]
     },
     "metadata": {},
     "output_type": "display_data"
    }
   ],
   "source": [
    "from sklearn.cluster import KMeans\n",
    "\n",
    "sse = {}\n",
    "olist_recency = olist_orders_recency[['last_order_day']]\n",
    "for k in range(1, 10):\n",
    "    kmeans = KMeans(n_clusters=k, max_iter=1000).fit(olist_recency)\n",
    "    olist_recency[\"clusters\"] = kmeans.labels_\n",
    "    sse[k] = kmeans.inertia_\n",
    "plt.figure()\n",
    "plt.plot(list(sse.keys()), list(sse.values()))\n",
    "plt.xlabel(\"Number of cluster\")\n",
    "plt.show()"
   ]
  },
  {
   "cell_type": "code",
   "execution_count": 16,
   "metadata": {},
   "outputs": [
    {
     "name": "stderr",
     "output_type": "stream",
     "text": [
      "/var/folders/yt/4vlc63d57rz84q0w40rbc23w0000gn/T/ipykernel_95784/4210488046.py:3: SettingWithCopyWarning: \n",
      "A value is trying to be set on a copy of a slice from a DataFrame.\n",
      "Try using .loc[row_indexer,col_indexer] = value instead\n",
      "\n",
      "See the caveats in the documentation: https://pandas.pydata.org/pandas-docs/stable/user_guide/indexing.html#returning-a-view-versus-a-copy\n",
      "  olist_orders_recency['recency_cluster'] = kmeans.fit_predict(olist_orders_recency[['last_order_day']])\n"
     ]
    }
   ],
   "source": [
    "#Build 4 clusters for recency and add it to dataframe\n",
    "kmeans = KMeans(n_clusters =4)\n",
    "olist_orders_recency['recency_cluster'] = kmeans.fit_predict(olist_orders_recency[['last_order_day']])\n"
   ]
  },
  {
   "cell_type": "code",
   "execution_count": 17,
   "metadata": {},
   "outputs": [
    {
     "data": {
      "text/html": [
       "<div>\n",
       "<style scoped>\n",
       "    .dataframe tbody tr th:only-of-type {\n",
       "        vertical-align: middle;\n",
       "    }\n",
       "\n",
       "    .dataframe tbody tr th {\n",
       "        vertical-align: top;\n",
       "    }\n",
       "\n",
       "    .dataframe thead th {\n",
       "        text-align: right;\n",
       "    }\n",
       "</style>\n",
       "<table border=\"1\" class=\"dataframe\">\n",
       "  <thead>\n",
       "    <tr style=\"text-align: right;\">\n",
       "      <th></th>\n",
       "      <th>customer_id</th>\n",
       "      <th>last_order_day</th>\n",
       "      <th>recency_cluster</th>\n",
       "    </tr>\n",
       "  </thead>\n",
       "  <tbody>\n",
       "    <tr>\n",
       "      <th>0</th>\n",
       "      <td>9ef432eb6251297304e76186b10a928d</td>\n",
       "      <td>380</td>\n",
       "      <td>2</td>\n",
       "    </tr>\n",
       "    <tr>\n",
       "      <th>1</th>\n",
       "      <td>b0830fb4747a6c6d20dea0b8c802d7ef</td>\n",
       "      <td>84</td>\n",
       "      <td>3</td>\n",
       "    </tr>\n",
       "    <tr>\n",
       "      <th>2</th>\n",
       "      <td>41ce2a54c0b03bf3443c3d931a367089</td>\n",
       "      <td>70</td>\n",
       "      <td>3</td>\n",
       "    </tr>\n",
       "    <tr>\n",
       "      <th>3</th>\n",
       "      <td>f88197465ea7920adcdbec7375364d82</td>\n",
       "      <td>332</td>\n",
       "      <td>2</td>\n",
       "    </tr>\n",
       "    <tr>\n",
       "      <th>4</th>\n",
       "      <td>8ab97904e6daea8866dbdbc4fb7aad2c</td>\n",
       "      <td>245</td>\n",
       "      <td>1</td>\n",
       "    </tr>\n",
       "    <tr>\n",
       "      <th>5</th>\n",
       "      <td>503740e9ca751ccdda7ba28e9ab8f608</td>\n",
       "      <td>464</td>\n",
       "      <td>0</td>\n",
       "    </tr>\n",
       "    <tr>\n",
       "      <th>6</th>\n",
       "      <td>ed0271e0b7da060a393796590e7b737a</td>\n",
       "      <td>554</td>\n",
       "      <td>0</td>\n",
       "    </tr>\n",
       "    <tr>\n",
       "      <th>7</th>\n",
       "      <td>9bdf08b4b3b52b5526ff42d37d47f222</td>\n",
       "      <td>519</td>\n",
       "      <td>0</td>\n",
       "    </tr>\n",
       "    <tr>\n",
       "      <th>8</th>\n",
       "      <td>f54a9f0e6b351c431402b8461ea51999</td>\n",
       "      <td>631</td>\n",
       "      <td>0</td>\n",
       "    </tr>\n",
       "    <tr>\n",
       "      <th>9</th>\n",
       "      <td>31ad1d1b63eb9962463f764d4e6e0c9d</td>\n",
       "      <td>445</td>\n",
       "      <td>2</td>\n",
       "    </tr>\n",
       "  </tbody>\n",
       "</table>\n",
       "</div>"
      ],
      "text/plain": [
       "                        customer_id  last_order_day  recency_cluster\n",
       "0  9ef432eb6251297304e76186b10a928d             380                2\n",
       "1  b0830fb4747a6c6d20dea0b8c802d7ef              84                3\n",
       "2  41ce2a54c0b03bf3443c3d931a367089              70                3\n",
       "3  f88197465ea7920adcdbec7375364d82             332                2\n",
       "4  8ab97904e6daea8866dbdbc4fb7aad2c             245                1\n",
       "5  503740e9ca751ccdda7ba28e9ab8f608             464                0\n",
       "6  ed0271e0b7da060a393796590e7b737a             554                0\n",
       "7  9bdf08b4b3b52b5526ff42d37d47f222             519                0\n",
       "8  f54a9f0e6b351c431402b8461ea51999             631                0\n",
       "9  31ad1d1b63eb9962463f764d4e6e0c9d             445                2"
      ]
     },
     "execution_count": 17,
     "metadata": {},
     "output_type": "execute_result"
    }
   ],
   "source": [
    "olist_orders_recency.head(10)"
   ]
  },
  {
   "cell_type": "code",
   "execution_count": 18,
   "metadata": {},
   "outputs": [
    {
     "data": {
      "text/html": [
       "<div>\n",
       "<style scoped>\n",
       "    .dataframe tbody tr th:only-of-type {\n",
       "        vertical-align: middle;\n",
       "    }\n",
       "\n",
       "    .dataframe tbody tr th {\n",
       "        vertical-align: top;\n",
       "    }\n",
       "\n",
       "    .dataframe thead th {\n",
       "        text-align: right;\n",
       "    }\n",
       "</style>\n",
       "<table border=\"1\" class=\"dataframe\">\n",
       "  <thead>\n",
       "    <tr style=\"text-align: right;\">\n",
       "      <th></th>\n",
       "      <th>count</th>\n",
       "      <th>mean</th>\n",
       "      <th>std</th>\n",
       "      <th>min</th>\n",
       "      <th>25%</th>\n",
       "      <th>50%</th>\n",
       "      <th>75%</th>\n",
       "      <th>max</th>\n",
       "    </tr>\n",
       "    <tr>\n",
       "      <th>recency_cluster</th>\n",
       "      <th></th>\n",
       "      <th></th>\n",
       "      <th></th>\n",
       "      <th></th>\n",
       "      <th></th>\n",
       "      <th></th>\n",
       "      <th></th>\n",
       "      <th></th>\n",
       "    </tr>\n",
       "  </thead>\n",
       "  <tbody>\n",
       "    <tr>\n",
       "      <th>0</th>\n",
       "      <td>18150.0</td>\n",
       "      <td>533.953003</td>\n",
       "      <td>59.544192</td>\n",
       "      <td>449.0</td>\n",
       "      <td>487.0</td>\n",
       "      <td>525.0</td>\n",
       "      <td>576.0</td>\n",
       "      <td>772.0</td>\n",
       "    </tr>\n",
       "    <tr>\n",
       "      <th>1</th>\n",
       "      <td>28651.0</td>\n",
       "      <td>232.508115</td>\n",
       "      <td>35.052035</td>\n",
       "      <td>172.0</td>\n",
       "      <td>203.0</td>\n",
       "      <td>232.0</td>\n",
       "      <td>263.0</td>\n",
       "      <td>297.0</td>\n",
       "    </tr>\n",
       "    <tr>\n",
       "      <th>2</th>\n",
       "      <td>26299.0</td>\n",
       "      <td>363.518081</td>\n",
       "      <td>43.658739</td>\n",
       "      <td>298.0</td>\n",
       "      <td>325.0</td>\n",
       "      <td>357.0</td>\n",
       "      <td>400.0</td>\n",
       "      <td>448.0</td>\n",
       "    </tr>\n",
       "    <tr>\n",
       "      <th>3</th>\n",
       "      <td>26341.0</td>\n",
       "      <td>110.662693</td>\n",
       "      <td>36.078183</td>\n",
       "      <td>0.0</td>\n",
       "      <td>77.0</td>\n",
       "      <td>110.0</td>\n",
       "      <td>144.0</td>\n",
       "      <td>171.0</td>\n",
       "    </tr>\n",
       "  </tbody>\n",
       "</table>\n",
       "</div>"
      ],
      "text/plain": [
       "                   count        mean        std    min    25%    50%    75%  \\\n",
       "recency_cluster                                                               \n",
       "0                18150.0  533.953003  59.544192  449.0  487.0  525.0  576.0   \n",
       "1                28651.0  232.508115  35.052035  172.0  203.0  232.0  263.0   \n",
       "2                26299.0  363.518081  43.658739  298.0  325.0  357.0  400.0   \n",
       "3                26341.0  110.662693  36.078183    0.0   77.0  110.0  144.0   \n",
       "\n",
       "                   max  \n",
       "recency_cluster         \n",
       "0                772.0  \n",
       "1                297.0  \n",
       "2                448.0  \n",
       "3                171.0  "
      ]
     },
     "execution_count": 18,
     "metadata": {},
     "output_type": "execute_result"
    }
   ],
   "source": [
    "olist_orders_recency.groupby('recency_cluster')['last_order_day'].describe()"
   ]
  },
  {
   "cell_type": "code",
   "execution_count": 19,
   "metadata": {},
   "outputs": [],
   "source": [
    "#reorder clusters so that cluster 3 is better than cluster 1 means that with cluster 1: the mean is longer than cluster 3\n",
    "#function for ordering cluster numbers\n",
    "def order_cluster(cluster_field_name, target_field_name,df,ascending):\n",
    "    new_cluster_field_name = 'new_' + cluster_field_name\n",
    "    df_new = df.groupby(cluster_field_name)[target_field_name].mean().reset_index()\n",
    "    df_new = df_new.sort_values(by=target_field_name,ascending=ascending).reset_index(drop=True)\n",
    "    df_new['index'] = df_new.index\n",
    "    df_final = pd.merge(df,df_new[[cluster_field_name,'index']], on=cluster_field_name)\n",
    "    df_final = df_final.drop([cluster_field_name],axis=1)\n",
    "    df_final = df_final.rename(columns={\"index\":cluster_field_name})\n",
    "    return df_final"
   ]
  },
  {
   "cell_type": "code",
   "execution_count": 20,
   "metadata": {},
   "outputs": [
    {
     "data": {
      "text/html": [
       "<div>\n",
       "<style scoped>\n",
       "    .dataframe tbody tr th:only-of-type {\n",
       "        vertical-align: middle;\n",
       "    }\n",
       "\n",
       "    .dataframe tbody tr th {\n",
       "        vertical-align: top;\n",
       "    }\n",
       "\n",
       "    .dataframe thead th {\n",
       "        text-align: right;\n",
       "    }\n",
       "</style>\n",
       "<table border=\"1\" class=\"dataframe\">\n",
       "  <thead>\n",
       "    <tr style=\"text-align: right;\">\n",
       "      <th></th>\n",
       "      <th>customer_id</th>\n",
       "      <th>last_order_day</th>\n",
       "      <th>recency_cluster</th>\n",
       "    </tr>\n",
       "  </thead>\n",
       "  <tbody>\n",
       "    <tr>\n",
       "      <th>0</th>\n",
       "      <td>9ef432eb6251297304e76186b10a928d</td>\n",
       "      <td>380</td>\n",
       "      <td>2</td>\n",
       "    </tr>\n",
       "    <tr>\n",
       "      <th>1</th>\n",
       "      <td>b0830fb4747a6c6d20dea0b8c802d7ef</td>\n",
       "      <td>84</td>\n",
       "      <td>3</td>\n",
       "    </tr>\n",
       "    <tr>\n",
       "      <th>2</th>\n",
       "      <td>41ce2a54c0b03bf3443c3d931a367089</td>\n",
       "      <td>70</td>\n",
       "      <td>3</td>\n",
       "    </tr>\n",
       "    <tr>\n",
       "      <th>3</th>\n",
       "      <td>f88197465ea7920adcdbec7375364d82</td>\n",
       "      <td>332</td>\n",
       "      <td>2</td>\n",
       "    </tr>\n",
       "    <tr>\n",
       "      <th>4</th>\n",
       "      <td>8ab97904e6daea8866dbdbc4fb7aad2c</td>\n",
       "      <td>245</td>\n",
       "      <td>1</td>\n",
       "    </tr>\n",
       "  </tbody>\n",
       "</table>\n",
       "</div>"
      ],
      "text/plain": [
       "                        customer_id  last_order_day  recency_cluster\n",
       "0  9ef432eb6251297304e76186b10a928d             380                2\n",
       "1  b0830fb4747a6c6d20dea0b8c802d7ef              84                3\n",
       "2  41ce2a54c0b03bf3443c3d931a367089              70                3\n",
       "3  f88197465ea7920adcdbec7375364d82             332                2\n",
       "4  8ab97904e6daea8866dbdbc4fb7aad2c             245                1"
      ]
     },
     "execution_count": 20,
     "metadata": {},
     "output_type": "execute_result"
    }
   ],
   "source": [
    "olist_orders_recency.head(5)"
   ]
  },
  {
   "cell_type": "code",
   "execution_count": 21,
   "metadata": {},
   "outputs": [],
   "source": [
    "olist_orders_recency_ordered = order_cluster('recency_cluster', 'last_order_day', olist_orders_recency, False)"
   ]
  },
  {
   "cell_type": "code",
   "execution_count": 22,
   "metadata": {},
   "outputs": [
    {
     "data": {
      "text/html": [
       "<div>\n",
       "<style scoped>\n",
       "    .dataframe tbody tr th:only-of-type {\n",
       "        vertical-align: middle;\n",
       "    }\n",
       "\n",
       "    .dataframe tbody tr th {\n",
       "        vertical-align: top;\n",
       "    }\n",
       "\n",
       "    .dataframe thead th {\n",
       "        text-align: right;\n",
       "    }\n",
       "</style>\n",
       "<table border=\"1\" class=\"dataframe\">\n",
       "  <thead>\n",
       "    <tr style=\"text-align: right;\">\n",
       "      <th></th>\n",
       "      <th>count</th>\n",
       "      <th>mean</th>\n",
       "      <th>std</th>\n",
       "      <th>min</th>\n",
       "      <th>25%</th>\n",
       "      <th>50%</th>\n",
       "      <th>75%</th>\n",
       "      <th>max</th>\n",
       "    </tr>\n",
       "    <tr>\n",
       "      <th>recency_cluster</th>\n",
       "      <th></th>\n",
       "      <th></th>\n",
       "      <th></th>\n",
       "      <th></th>\n",
       "      <th></th>\n",
       "      <th></th>\n",
       "      <th></th>\n",
       "      <th></th>\n",
       "    </tr>\n",
       "  </thead>\n",
       "  <tbody>\n",
       "    <tr>\n",
       "      <th>0</th>\n",
       "      <td>18150.0</td>\n",
       "      <td>533.953003</td>\n",
       "      <td>59.544192</td>\n",
       "      <td>449.0</td>\n",
       "      <td>487.0</td>\n",
       "      <td>525.0</td>\n",
       "      <td>576.0</td>\n",
       "      <td>772.0</td>\n",
       "    </tr>\n",
       "    <tr>\n",
       "      <th>1</th>\n",
       "      <td>26299.0</td>\n",
       "      <td>363.518081</td>\n",
       "      <td>43.658739</td>\n",
       "      <td>298.0</td>\n",
       "      <td>325.0</td>\n",
       "      <td>357.0</td>\n",
       "      <td>400.0</td>\n",
       "      <td>448.0</td>\n",
       "    </tr>\n",
       "    <tr>\n",
       "      <th>2</th>\n",
       "      <td>28651.0</td>\n",
       "      <td>232.508115</td>\n",
       "      <td>35.052035</td>\n",
       "      <td>172.0</td>\n",
       "      <td>203.0</td>\n",
       "      <td>232.0</td>\n",
       "      <td>263.0</td>\n",
       "      <td>297.0</td>\n",
       "    </tr>\n",
       "    <tr>\n",
       "      <th>3</th>\n",
       "      <td>26341.0</td>\n",
       "      <td>110.662693</td>\n",
       "      <td>36.078183</td>\n",
       "      <td>0.0</td>\n",
       "      <td>77.0</td>\n",
       "      <td>110.0</td>\n",
       "      <td>144.0</td>\n",
       "      <td>171.0</td>\n",
       "    </tr>\n",
       "  </tbody>\n",
       "</table>\n",
       "</div>"
      ],
      "text/plain": [
       "                   count        mean        std    min    25%    50%    75%  \\\n",
       "recency_cluster                                                               \n",
       "0                18150.0  533.953003  59.544192  449.0  487.0  525.0  576.0   \n",
       "1                26299.0  363.518081  43.658739  298.0  325.0  357.0  400.0   \n",
       "2                28651.0  232.508115  35.052035  172.0  203.0  232.0  263.0   \n",
       "3                26341.0  110.662693  36.078183    0.0   77.0  110.0  144.0   \n",
       "\n",
       "                   max  \n",
       "recency_cluster         \n",
       "0                772.0  \n",
       "1                448.0  \n",
       "2                297.0  \n",
       "3                171.0  "
      ]
     },
     "execution_count": 22,
     "metadata": {},
     "output_type": "execute_result"
    }
   ],
   "source": [
    "olist_orders_recency_ordered.groupby('recency_cluster')['last_order_day'].describe()"
   ]
  },
  {
   "cell_type": "markdown",
   "metadata": {},
   "source": [
    "# Frequency and User Clustering based on Frequency"
   ]
  },
  {
   "cell_type": "code",
   "execution_count": 23,
   "metadata": {},
   "outputs": [
    {
     "name": "stdout",
     "output_type": "stream",
     "text": [
      "                            customer_id  total_order\n",
      "0      00012a2ce6f8dcda20d059ce98491703            1\n",
      "1      000161a058600d5901f007fab4c27140            1\n",
      "2      0001fd6190edaaf884bcaf3d49edf079            1\n",
      "3      0002414f95344307404f0ace7a26f1d5            1\n",
      "4      000379cdec625522490c315e70c7a9fb            1\n",
      "...                                 ...          ...\n",
      "99436  fffecc9f79fd8c764f843e9951b11341            1\n",
      "99437  fffeda5b6d849fbd39689bb92087f431            1\n",
      "99438  ffff42319e9b2d713724ae527742af25            1\n",
      "99439  ffffa3172527f765de70084a7e53aae8            1\n",
      "99440  ffffe8b65bbe3087b653a978c870db99            1\n",
      "\n",
      "[99441 rows x 2 columns]\n"
     ]
    }
   ],
   "source": [
    "total_orders = (olist_orders.groupby('customer_id').size().reset_index())\n",
    "total_orders.columns = ['customer_id', 'total_order']\n",
    "\n",
    "print(total_orders)\n"
   ]
  },
  {
   "cell_type": "code",
   "execution_count": 24,
   "metadata": {},
   "outputs": [
    {
     "data": {
      "text/html": [
       "<div>\n",
       "<style scoped>\n",
       "    .dataframe tbody tr th:only-of-type {\n",
       "        vertical-align: middle;\n",
       "    }\n",
       "\n",
       "    .dataframe tbody tr th {\n",
       "        vertical-align: top;\n",
       "    }\n",
       "\n",
       "    .dataframe thead th {\n",
       "        text-align: right;\n",
       "    }\n",
       "</style>\n",
       "<table border=\"1\" class=\"dataframe\">\n",
       "  <thead>\n",
       "    <tr style=\"text-align: right;\">\n",
       "      <th></th>\n",
       "      <th>total_order</th>\n",
       "    </tr>\n",
       "  </thead>\n",
       "  <tbody>\n",
       "    <tr>\n",
       "      <th>count</th>\n",
       "      <td>99441.0</td>\n",
       "    </tr>\n",
       "    <tr>\n",
       "      <th>mean</th>\n",
       "      <td>1.0</td>\n",
       "    </tr>\n",
       "    <tr>\n",
       "      <th>std</th>\n",
       "      <td>0.0</td>\n",
       "    </tr>\n",
       "    <tr>\n",
       "      <th>min</th>\n",
       "      <td>1.0</td>\n",
       "    </tr>\n",
       "    <tr>\n",
       "      <th>25%</th>\n",
       "      <td>1.0</td>\n",
       "    </tr>\n",
       "    <tr>\n",
       "      <th>50%</th>\n",
       "      <td>1.0</td>\n",
       "    </tr>\n",
       "    <tr>\n",
       "      <th>75%</th>\n",
       "      <td>1.0</td>\n",
       "    </tr>\n",
       "    <tr>\n",
       "      <th>max</th>\n",
       "      <td>1.0</td>\n",
       "    </tr>\n",
       "  </tbody>\n",
       "</table>\n",
       "</div>"
      ],
      "text/plain": [
       "       total_order\n",
       "count      99441.0\n",
       "mean           1.0\n",
       "std            0.0\n",
       "min            1.0\n",
       "25%            1.0\n",
       "50%            1.0\n",
       "75%            1.0\n",
       "max            1.0"
      ]
     },
     "execution_count": 24,
     "metadata": {},
     "output_type": "execute_result"
    }
   ],
   "source": [
    "total_orders.describe()"
   ]
  },
  {
   "cell_type": "markdown",
   "metadata": {},
   "source": []
  },
  {
   "cell_type": "markdown",
   "metadata": {},
   "source": [
    "# Revenue and User Clustering based on Revenue"
   ]
  },
  {
   "cell_type": "code",
   "execution_count": 25,
   "metadata": {},
   "outputs": [],
   "source": [
    "orders_payment_bycus = pd.merge(olist_orders_payment, olist_orders, on='order_id')"
   ]
  },
  {
   "cell_type": "code",
   "execution_count": 26,
   "metadata": {},
   "outputs": [
    {
     "data": {
      "text/html": [
       "<div>\n",
       "<style scoped>\n",
       "    .dataframe tbody tr th:only-of-type {\n",
       "        vertical-align: middle;\n",
       "    }\n",
       "\n",
       "    .dataframe tbody tr th {\n",
       "        vertical-align: top;\n",
       "    }\n",
       "\n",
       "    .dataframe thead th {\n",
       "        text-align: right;\n",
       "    }\n",
       "</style>\n",
       "<table border=\"1\" class=\"dataframe\">\n",
       "  <thead>\n",
       "    <tr style=\"text-align: right;\">\n",
       "      <th></th>\n",
       "      <th>order_id</th>\n",
       "      <th>payment_sequential</th>\n",
       "      <th>payment_type</th>\n",
       "      <th>payment_installments</th>\n",
       "      <th>payment_value</th>\n",
       "      <th>customer_id</th>\n",
       "      <th>order_status</th>\n",
       "      <th>order_purchase_timestamp</th>\n",
       "      <th>order_approved_at</th>\n",
       "      <th>order_delivered_carrier_date</th>\n",
       "      <th>order_delivered_customer_date</th>\n",
       "      <th>order_estimated_delivery_date</th>\n",
       "      <th>purchase_timestamp</th>\n",
       "      <th>last_order</th>\n",
       "      <th>last_order_day</th>\n",
       "    </tr>\n",
       "  </thead>\n",
       "  <tbody>\n",
       "    <tr>\n",
       "      <th>0</th>\n",
       "      <td>b81ef226f3fe1789b1e8b2acac839d17</td>\n",
       "      <td>1</td>\n",
       "      <td>credit_card</td>\n",
       "      <td>8</td>\n",
       "      <td>99.33</td>\n",
       "      <td>0a8556ac6be836b46b3e89920d59291c</td>\n",
       "      <td>delivered</td>\n",
       "      <td>2018-04-25 22:01:49</td>\n",
       "      <td>2018-04-25 22:15:09</td>\n",
       "      <td>2018-05-02 15:20:00</td>\n",
       "      <td>2018-05-09 17:36:51</td>\n",
       "      <td>2018-05-22 00:00:00</td>\n",
       "      <td>2018-04-25 22:01:49</td>\n",
       "      <td>174 days 19:28:29</td>\n",
       "      <td>174</td>\n",
       "    </tr>\n",
       "    <tr>\n",
       "      <th>1</th>\n",
       "      <td>a9810da82917af2d9aefd1278f1dcfa0</td>\n",
       "      <td>1</td>\n",
       "      <td>credit_card</td>\n",
       "      <td>1</td>\n",
       "      <td>24.39</td>\n",
       "      <td>f2c7fc58a9de810828715166c672f10a</td>\n",
       "      <td>delivered</td>\n",
       "      <td>2018-06-26 11:01:38</td>\n",
       "      <td>2018-06-26 11:18:58</td>\n",
       "      <td>2018-06-28 14:18:00</td>\n",
       "      <td>2018-06-29 20:32:09</td>\n",
       "      <td>2018-07-16 00:00:00</td>\n",
       "      <td>2018-06-26 11:01:38</td>\n",
       "      <td>113 days 06:28:40</td>\n",
       "      <td>113</td>\n",
       "    </tr>\n",
       "    <tr>\n",
       "      <th>2</th>\n",
       "      <td>25e8ea4e93396b6fa0d3dd708e76c1bd</td>\n",
       "      <td>1</td>\n",
       "      <td>credit_card</td>\n",
       "      <td>1</td>\n",
       "      <td>65.71</td>\n",
       "      <td>25b14b69de0b6e184ae6fe2755e478f9</td>\n",
       "      <td>delivered</td>\n",
       "      <td>2017-12-12 11:19:55</td>\n",
       "      <td>2017-12-14 09:52:34</td>\n",
       "      <td>2017-12-15 20:13:22</td>\n",
       "      <td>2017-12-18 17:24:41</td>\n",
       "      <td>2018-01-04 00:00:00</td>\n",
       "      <td>2017-12-12 11:19:55</td>\n",
       "      <td>309 days 06:10:23</td>\n",
       "      <td>309</td>\n",
       "    </tr>\n",
       "    <tr>\n",
       "      <th>3</th>\n",
       "      <td>ba78997921bbcdc1373bb41e913ab953</td>\n",
       "      <td>1</td>\n",
       "      <td>credit_card</td>\n",
       "      <td>8</td>\n",
       "      <td>107.78</td>\n",
       "      <td>7a5d8efaaa1081f800628c30d2b0728f</td>\n",
       "      <td>delivered</td>\n",
       "      <td>2017-12-06 12:04:06</td>\n",
       "      <td>2017-12-06 12:13:20</td>\n",
       "      <td>2017-12-07 20:28:28</td>\n",
       "      <td>2017-12-21 01:35:51</td>\n",
       "      <td>2018-01-04 00:00:00</td>\n",
       "      <td>2017-12-06 12:04:06</td>\n",
       "      <td>315 days 05:26:12</td>\n",
       "      <td>315</td>\n",
       "    </tr>\n",
       "    <tr>\n",
       "      <th>4</th>\n",
       "      <td>42fdf880ba16b47b59251dd489d4441a</td>\n",
       "      <td>1</td>\n",
       "      <td>credit_card</td>\n",
       "      <td>2</td>\n",
       "      <td>128.45</td>\n",
       "      <td>15fd6fb8f8312dbb4674e4518d6fa3b3</td>\n",
       "      <td>delivered</td>\n",
       "      <td>2018-05-21 13:59:17</td>\n",
       "      <td>2018-05-21 16:14:41</td>\n",
       "      <td>2018-05-22 11:46:00</td>\n",
       "      <td>2018-06-01 21:44:53</td>\n",
       "      <td>2018-06-13 00:00:00</td>\n",
       "      <td>2018-05-21 13:59:17</td>\n",
       "      <td>149 days 03:31:01</td>\n",
       "      <td>149</td>\n",
       "    </tr>\n",
       "  </tbody>\n",
       "</table>\n",
       "</div>"
      ],
      "text/plain": [
       "                           order_id  payment_sequential payment_type  \\\n",
       "0  b81ef226f3fe1789b1e8b2acac839d17                   1  credit_card   \n",
       "1  a9810da82917af2d9aefd1278f1dcfa0                   1  credit_card   \n",
       "2  25e8ea4e93396b6fa0d3dd708e76c1bd                   1  credit_card   \n",
       "3  ba78997921bbcdc1373bb41e913ab953                   1  credit_card   \n",
       "4  42fdf880ba16b47b59251dd489d4441a                   1  credit_card   \n",
       "\n",
       "   payment_installments  payment_value                       customer_id  \\\n",
       "0                     8          99.33  0a8556ac6be836b46b3e89920d59291c   \n",
       "1                     1          24.39  f2c7fc58a9de810828715166c672f10a   \n",
       "2                     1          65.71  25b14b69de0b6e184ae6fe2755e478f9   \n",
       "3                     8         107.78  7a5d8efaaa1081f800628c30d2b0728f   \n",
       "4                     2         128.45  15fd6fb8f8312dbb4674e4518d6fa3b3   \n",
       "\n",
       "  order_status order_purchase_timestamp    order_approved_at  \\\n",
       "0    delivered      2018-04-25 22:01:49  2018-04-25 22:15:09   \n",
       "1    delivered      2018-06-26 11:01:38  2018-06-26 11:18:58   \n",
       "2    delivered      2017-12-12 11:19:55  2017-12-14 09:52:34   \n",
       "3    delivered      2017-12-06 12:04:06  2017-12-06 12:13:20   \n",
       "4    delivered      2018-05-21 13:59:17  2018-05-21 16:14:41   \n",
       "\n",
       "  order_delivered_carrier_date order_delivered_customer_date  \\\n",
       "0          2018-05-02 15:20:00           2018-05-09 17:36:51   \n",
       "1          2018-06-28 14:18:00           2018-06-29 20:32:09   \n",
       "2          2017-12-15 20:13:22           2017-12-18 17:24:41   \n",
       "3          2017-12-07 20:28:28           2017-12-21 01:35:51   \n",
       "4          2018-05-22 11:46:00           2018-06-01 21:44:53   \n",
       "\n",
       "  order_estimated_delivery_date  purchase_timestamp        last_order  \\\n",
       "0           2018-05-22 00:00:00 2018-04-25 22:01:49 174 days 19:28:29   \n",
       "1           2018-07-16 00:00:00 2018-06-26 11:01:38 113 days 06:28:40   \n",
       "2           2018-01-04 00:00:00 2017-12-12 11:19:55 309 days 06:10:23   \n",
       "3           2018-01-04 00:00:00 2017-12-06 12:04:06 315 days 05:26:12   \n",
       "4           2018-06-13 00:00:00 2018-05-21 13:59:17 149 days 03:31:01   \n",
       "\n",
       "   last_order_day  \n",
       "0             174  \n",
       "1             113  \n",
       "2             309  \n",
       "3             315  \n",
       "4             149  "
      ]
     },
     "execution_count": 26,
     "metadata": {},
     "output_type": "execute_result"
    }
   ],
   "source": [
    "orders_payment_bycus.head(5)"
   ]
  },
  {
   "cell_type": "code",
   "execution_count": 27,
   "metadata": {},
   "outputs": [],
   "source": [
    "olist_customers_revenue = orders_payment_bycus.groupby(['customer_id'], sort = True)['payment_value'].sum()\n"
   ]
  },
  {
   "cell_type": "code",
   "execution_count": 28,
   "metadata": {},
   "outputs": [],
   "source": [
    "olist_customers_revenue = olist_customers_revenue.to_frame().reset_index()"
   ]
  },
  {
   "cell_type": "code",
   "execution_count": 29,
   "metadata": {},
   "outputs": [
    {
     "name": "stdout",
     "output_type": "stream",
     "text": [
      "<class 'pandas.core.frame.DataFrame'>\n"
     ]
    }
   ],
   "source": [
    "print(type(olist_customers_revenue))"
   ]
  },
  {
   "cell_type": "code",
   "execution_count": 30,
   "metadata": {},
   "outputs": [],
   "source": [
    "olist_customers_revenue.columns = ['customer_id', 'revenue']"
   ]
  },
  {
   "cell_type": "code",
   "execution_count": 31,
   "metadata": {},
   "outputs": [
    {
     "data": {
      "text/html": [
       "<div>\n",
       "<style scoped>\n",
       "    .dataframe tbody tr th:only-of-type {\n",
       "        vertical-align: middle;\n",
       "    }\n",
       "\n",
       "    .dataframe tbody tr th {\n",
       "        vertical-align: top;\n",
       "    }\n",
       "\n",
       "    .dataframe thead th {\n",
       "        text-align: right;\n",
       "    }\n",
       "</style>\n",
       "<table border=\"1\" class=\"dataframe\">\n",
       "  <thead>\n",
       "    <tr style=\"text-align: right;\">\n",
       "      <th></th>\n",
       "      <th>customer_id</th>\n",
       "      <th>revenue</th>\n",
       "    </tr>\n",
       "  </thead>\n",
       "  <tbody>\n",
       "    <tr>\n",
       "      <th>0</th>\n",
       "      <td>00012a2ce6f8dcda20d059ce98491703</td>\n",
       "      <td>114.74</td>\n",
       "    </tr>\n",
       "    <tr>\n",
       "      <th>1</th>\n",
       "      <td>000161a058600d5901f007fab4c27140</td>\n",
       "      <td>67.41</td>\n",
       "    </tr>\n",
       "    <tr>\n",
       "      <th>2</th>\n",
       "      <td>0001fd6190edaaf884bcaf3d49edf079</td>\n",
       "      <td>195.42</td>\n",
       "    </tr>\n",
       "    <tr>\n",
       "      <th>3</th>\n",
       "      <td>0002414f95344307404f0ace7a26f1d5</td>\n",
       "      <td>179.35</td>\n",
       "    </tr>\n",
       "    <tr>\n",
       "      <th>4</th>\n",
       "      <td>000379cdec625522490c315e70c7a9fb</td>\n",
       "      <td>107.01</td>\n",
       "    </tr>\n",
       "  </tbody>\n",
       "</table>\n",
       "</div>"
      ],
      "text/plain": [
       "                        customer_id  revenue\n",
       "0  00012a2ce6f8dcda20d059ce98491703   114.74\n",
       "1  000161a058600d5901f007fab4c27140    67.41\n",
       "2  0001fd6190edaaf884bcaf3d49edf079   195.42\n",
       "3  0002414f95344307404f0ace7a26f1d5   179.35\n",
       "4  000379cdec625522490c315e70c7a9fb   107.01"
      ]
     },
     "execution_count": 31,
     "metadata": {},
     "output_type": "execute_result"
    }
   ],
   "source": [
    "olist_customers_revenue.head(5)"
   ]
  },
  {
   "cell_type": "code",
   "execution_count": 32,
   "metadata": {},
   "outputs": [
    {
     "data": {
      "image/png": "[encoded data removed]",
      "text/plain": [
       "<Figure size 640x480 with 1 Axes>"
      ]
     },
     "metadata": {},
     "output_type": "display_data"
    }
   ],
   "source": [
    "#clustering customer based on their revenue\n",
    "from sklearn.cluster import KMeans\n",
    "\n",
    "sse = {}\n",
    "olist_revenue = olist_customers_revenue[['revenue']]\n",
    "for k in range(1, 10):\n",
    "    kmeans = KMeans(n_clusters=k, max_iter=1000).fit(olist_revenue)\n",
    "    olist_revenue[\"clusters\"] = kmeans.labels_\n",
    "    sse[k] = kmeans.inertia_\n",
    "plt.figure()\n",
    "plt.plot(list(sse.keys()), list(sse.values()))\n",
    "plt.xlabel(\"Number of cluster\")\n",
    "plt.show()"
   ]
  },
  {
   "cell_type": "markdown",
   "metadata": {},
   "source": [
    "Take 4 las the number of clusters"
   ]
  },
  {
   "cell_type": "code",
   "execution_count": 33,
   "metadata": {},
   "outputs": [
    {
     "data": {
      "text/html": [
       "<div>\n",
       "<style scoped>\n",
       "    .dataframe tbody tr th:only-of-type {\n",
       "        vertical-align: middle;\n",
       "    }\n",
       "\n",
       "    .dataframe tbody tr th {\n",
       "        vertical-align: top;\n",
       "    }\n",
       "\n",
       "    .dataframe thead th {\n",
       "        text-align: right;\n",
       "    }\n",
       "</style>\n",
       "<table border=\"1\" class=\"dataframe\">\n",
       "  <thead>\n",
       "    <tr style=\"text-align: right;\">\n",
       "      <th></th>\n",
       "      <th>revenue</th>\n",
       "      <th>clusters</th>\n",
       "    </tr>\n",
       "  </thead>\n",
       "  <tbody>\n",
       "    <tr>\n",
       "      <th>0</th>\n",
       "      <td>114.74</td>\n",
       "      <td>1</td>\n",
       "    </tr>\n",
       "    <tr>\n",
       "      <th>1</th>\n",
       "      <td>67.41</td>\n",
       "      <td>1</td>\n",
       "    </tr>\n",
       "    <tr>\n",
       "      <th>2</th>\n",
       "      <td>195.42</td>\n",
       "      <td>4</td>\n",
       "    </tr>\n",
       "    <tr>\n",
       "      <th>3</th>\n",
       "      <td>179.35</td>\n",
       "      <td>4</td>\n",
       "    </tr>\n",
       "    <tr>\n",
       "      <th>4</th>\n",
       "      <td>107.01</td>\n",
       "      <td>1</td>\n",
       "    </tr>\n",
       "  </tbody>\n",
       "</table>\n",
       "</div>"
      ],
      "text/plain": [
       "   revenue  clusters\n",
       "0   114.74         1\n",
       "1    67.41         1\n",
       "2   195.42         4\n",
       "3   179.35         4\n",
       "4   107.01         1"
      ]
     },
     "execution_count": 33,
     "metadata": {},
     "output_type": "execute_result"
    }
   ],
   "source": [
    "olist_revenue.head()"
   ]
  },
  {
   "cell_type": "code",
   "execution_count": 34,
   "metadata": {},
   "outputs": [],
   "source": [
    "#apply clustering\n",
    "kmeans = KMeans(n_clusters=4)\n",
    "olist_customers_revenue['revenuecluster'] = kmeans.fit_predict(olist_customers_revenue[['revenue']])\n"
   ]
  },
  {
   "cell_type": "code",
   "execution_count": 35,
   "metadata": {},
   "outputs": [
    {
     "name": "stdout",
     "output_type": "stream",
     "text": [
      "                            customer_id  revenue  revenuecluster\n",
      "0      00012a2ce6f8dcda20d059ce98491703   114.74               0\n",
      "1      000161a058600d5901f007fab4c27140    67.41               0\n",
      "2      0001fd6190edaaf884bcaf3d49edf079   195.42               2\n",
      "3      0002414f95344307404f0ace7a26f1d5   179.35               0\n",
      "4      000379cdec625522490c315e70c7a9fb   107.01               0\n",
      "...                                 ...      ...             ...\n",
      "99435  fffecc9f79fd8c764f843e9951b11341    81.36               0\n",
      "99436  fffeda5b6d849fbd39689bb92087f431    63.13               0\n",
      "99437  ffff42319e9b2d713724ae527742af25   214.13               2\n",
      "99438  ffffa3172527f765de70084a7e53aae8    45.50               0\n",
      "99439  ffffe8b65bbe3087b653a978c870db99    18.37               0\n",
      "\n",
      "[99440 rows x 3 columns]\n"
     ]
    }
   ],
   "source": [
    "print(olist_customers_revenue)"
   ]
  },
  {
   "cell_type": "code",
   "execution_count": 36,
   "metadata": {},
   "outputs": [
    {
     "data": {
      "text/html": [
       "<div>\n",
       "<style scoped>\n",
       "    .dataframe tbody tr th:only-of-type {\n",
       "        vertical-align: middle;\n",
       "    }\n",
       "\n",
       "    .dataframe tbody tr th {\n",
       "        vertical-align: top;\n",
       "    }\n",
       "\n",
       "    .dataframe thead th {\n",
       "        text-align: right;\n",
       "    }\n",
       "</style>\n",
       "<table border=\"1\" class=\"dataframe\">\n",
       "  <thead>\n",
       "    <tr style=\"text-align: right;\">\n",
       "      <th></th>\n",
       "      <th>count</th>\n",
       "      <th>mean</th>\n",
       "      <th>std</th>\n",
       "      <th>min</th>\n",
       "      <th>25%</th>\n",
       "      <th>50%</th>\n",
       "      <th>75%</th>\n",
       "      <th>max</th>\n",
       "    </tr>\n",
       "    <tr>\n",
       "      <th>revenuecluster</th>\n",
       "      <th></th>\n",
       "      <th></th>\n",
       "      <th></th>\n",
       "      <th></th>\n",
       "      <th></th>\n",
       "      <th></th>\n",
       "      <th></th>\n",
       "      <th></th>\n",
       "    </tr>\n",
       "  </thead>\n",
       "  <tbody>\n",
       "    <tr>\n",
       "      <th>0</th>\n",
       "      <td>76874.0</td>\n",
       "      <td>90.195928</td>\n",
       "      <td>44.146355</td>\n",
       "      <td>0.00</td>\n",
       "      <td>53.610</td>\n",
       "      <td>83.125</td>\n",
       "      <td>123.4700</td>\n",
       "      <td>188.40</td>\n",
       "    </tr>\n",
       "    <tr>\n",
       "      <th>1</th>\n",
       "      <td>3138.0</td>\n",
       "      <td>845.699050</td>\n",
       "      <td>246.166775</td>\n",
       "      <td>565.91</td>\n",
       "      <td>647.540</td>\n",
       "      <td>769.035</td>\n",
       "      <td>983.2550</td>\n",
       "      <td>1544.62</td>\n",
       "    </tr>\n",
       "    <tr>\n",
       "      <th>2</th>\n",
       "      <td>19006.0</td>\n",
       "      <td>287.853609</td>\n",
       "      <td>90.690049</td>\n",
       "      <td>188.41</td>\n",
       "      <td>215.500</td>\n",
       "      <td>257.790</td>\n",
       "      <td>338.8375</td>\n",
       "      <td>565.83</td>\n",
       "    </tr>\n",
       "    <tr>\n",
       "      <th>3</th>\n",
       "      <td>422.0</td>\n",
       "      <td>2252.135166</td>\n",
       "      <td>968.227483</td>\n",
       "      <td>1549.41</td>\n",
       "      <td>1744.095</td>\n",
       "      <td>2023.580</td>\n",
       "      <td>2338.2100</td>\n",
       "      <td>13664.08</td>\n",
       "    </tr>\n",
       "  </tbody>\n",
       "</table>\n",
       "</div>"
      ],
      "text/plain": [
       "                  count         mean         std      min       25%       50%  \\\n",
       "revenuecluster                                                                  \n",
       "0               76874.0    90.195928   44.146355     0.00    53.610    83.125   \n",
       "1                3138.0   845.699050  246.166775   565.91   647.540   769.035   \n",
       "2               19006.0   287.853609   90.690049   188.41   215.500   257.790   \n",
       "3                 422.0  2252.135166  968.227483  1549.41  1744.095  2023.580   \n",
       "\n",
       "                      75%       max  \n",
       "revenuecluster                       \n",
       "0                123.4700    188.40  \n",
       "1                983.2550   1544.62  \n",
       "2                338.8375    565.83  \n",
       "3               2338.2100  13664.08  "
      ]
     },
     "execution_count": 36,
     "metadata": {},
     "output_type": "execute_result"
    }
   ],
   "source": [
    "olist_customers_revenue.groupby('revenuecluster')['revenue'].describe()\n"
   ]
  },
  {
   "cell_type": "code",
   "execution_count": 37,
   "metadata": {},
   "outputs": [],
   "source": [
    "#reorder clusters so that cluster 3 is better than cluster 1 means that with cluster 1: the mean (revenue) is higher than the mean (revenue) of cluster 3\n",
    "#function for ordering cluster numbers\n",
    "def order_cluster(cluster_field_name, target_field_name,df,ascending):\n",
    "    new_cluster_field_name = 'new_' + cluster_field_name\n",
    "    df_new = df.groupby(cluster_field_name)[target_field_name].mean().reset_index()\n",
    "    df_new = df_new.sort_values(by=target_field_name,ascending=ascending).reset_index(drop=True)\n",
    "    df_new['index'] = df_new.index\n",
    "    df_final = pd.merge(df,df_new[[cluster_field_name,'index']], on=cluster_field_name)\n",
    "    df_final = df_final.drop([cluster_field_name],axis=1)\n",
    "    df_final = df_final.rename(columns={\"index\":cluster_field_name})\n",
    "    return df_final"
   ]
  },
  {
   "cell_type": "code",
   "execution_count": 38,
   "metadata": {},
   "outputs": [],
   "source": [
    "olist_orders_revenue_ordered = order_cluster('revenuecluster', 'revenue', olist_customers_revenue, True)"
   ]
  },
  {
   "cell_type": "code",
   "execution_count": 39,
   "metadata": {},
   "outputs": [
    {
     "data": {
      "text/html": [
       "<div>\n",
       "<style scoped>\n",
       "    .dataframe tbody tr th:only-of-type {\n",
       "        vertical-align: middle;\n",
       "    }\n",
       "\n",
       "    .dataframe tbody tr th {\n",
       "        vertical-align: top;\n",
       "    }\n",
       "\n",
       "    .dataframe thead th {\n",
       "        text-align: right;\n",
       "    }\n",
       "</style>\n",
       "<table border=\"1\" class=\"dataframe\">\n",
       "  <thead>\n",
       "    <tr style=\"text-align: right;\">\n",
       "      <th></th>\n",
       "      <th>count</th>\n",
       "      <th>mean</th>\n",
       "      <th>std</th>\n",
       "      <th>min</th>\n",
       "      <th>25%</th>\n",
       "      <th>50%</th>\n",
       "      <th>75%</th>\n",
       "      <th>max</th>\n",
       "    </tr>\n",
       "    <tr>\n",
       "      <th>revenuecluster</th>\n",
       "      <th></th>\n",
       "      <th></th>\n",
       "      <th></th>\n",
       "      <th></th>\n",
       "      <th></th>\n",
       "      <th></th>\n",
       "      <th></th>\n",
       "      <th></th>\n",
       "    </tr>\n",
       "  </thead>\n",
       "  <tbody>\n",
       "    <tr>\n",
       "      <th>0</th>\n",
       "      <td>76874.0</td>\n",
       "      <td>90.195928</td>\n",
       "      <td>44.146355</td>\n",
       "      <td>0.00</td>\n",
       "      <td>53.610</td>\n",
       "      <td>83.125</td>\n",
       "      <td>123.4700</td>\n",
       "      <td>188.40</td>\n",
       "    </tr>\n",
       "    <tr>\n",
       "      <th>1</th>\n",
       "      <td>19006.0</td>\n",
       "      <td>287.853609</td>\n",
       "      <td>90.690049</td>\n",
       "      <td>188.41</td>\n",
       "      <td>215.500</td>\n",
       "      <td>257.790</td>\n",
       "      <td>338.8375</td>\n",
       "      <td>565.83</td>\n",
       "    </tr>\n",
       "    <tr>\n",
       "      <th>2</th>\n",
       "      <td>3138.0</td>\n",
       "      <td>845.699050</td>\n",
       "      <td>246.166775</td>\n",
       "      <td>565.91</td>\n",
       "      <td>647.540</td>\n",
       "      <td>769.035</td>\n",
       "      <td>983.2550</td>\n",
       "      <td>1544.62</td>\n",
       "    </tr>\n",
       "    <tr>\n",
       "      <th>3</th>\n",
       "      <td>422.0</td>\n",
       "      <td>2252.135166</td>\n",
       "      <td>968.227483</td>\n",
       "      <td>1549.41</td>\n",
       "      <td>1744.095</td>\n",
       "      <td>2023.580</td>\n",
       "      <td>2338.2100</td>\n",
       "      <td>13664.08</td>\n",
       "    </tr>\n",
       "  </tbody>\n",
       "</table>\n",
       "</div>"
      ],
      "text/plain": [
       "                  count         mean         std      min       25%       50%  \\\n",
       "revenuecluster                                                                  \n",
       "0               76874.0    90.195928   44.146355     0.00    53.610    83.125   \n",
       "1               19006.0   287.853609   90.690049   188.41   215.500   257.790   \n",
       "2                3138.0   845.699050  246.166775   565.91   647.540   769.035   \n",
       "3                 422.0  2252.135166  968.227483  1549.41  1744.095  2023.580   \n",
       "\n",
       "                      75%       max  \n",
       "revenuecluster                       \n",
       "0                123.4700    188.40  \n",
       "1                338.8375    565.83  \n",
       "2                983.2550   1544.62  \n",
       "3               2338.2100  13664.08  "
      ]
     },
     "execution_count": 39,
     "metadata": {},
     "output_type": "execute_result"
    }
   ],
   "source": [
    "olist_orders_revenue_ordered.groupby('revenuecluster')['revenue'].describe()"
   ]
  },
  {
   "cell_type": "markdown",
   "metadata": {},
   "source": [
    "# RFM (Recency - Frequency - Monetary/Revenue Value) Clustering"
   ]
  },
  {
   "cell_type": "code",
   "execution_count": 40,
   "metadata": {},
   "outputs": [
    {
     "data": {
      "text/html": [
       "<div>\n",
       "<style scoped>\n",
       "    .dataframe tbody tr th:only-of-type {\n",
       "        vertical-align: middle;\n",
       "    }\n",
       "\n",
       "    .dataframe tbody tr th {\n",
       "        vertical-align: top;\n",
       "    }\n",
       "\n",
       "    .dataframe thead th {\n",
       "        text-align: right;\n",
       "    }\n",
       "</style>\n",
       "<table border=\"1\" class=\"dataframe\">\n",
       "  <thead>\n",
       "    <tr style=\"text-align: right;\">\n",
       "      <th></th>\n",
       "      <th>customer_id</th>\n",
       "      <th>last_order_day</th>\n",
       "      <th>recency_cluster</th>\n",
       "      <th>revenue</th>\n",
       "      <th>revenuecluster</th>\n",
       "    </tr>\n",
       "  </thead>\n",
       "  <tbody>\n",
       "    <tr>\n",
       "      <th>0</th>\n",
       "      <td>9ef432eb6251297304e76186b10a928d</td>\n",
       "      <td>380</td>\n",
       "      <td>1</td>\n",
       "      <td>38.71</td>\n",
       "      <td>0</td>\n",
       "    </tr>\n",
       "    <tr>\n",
       "      <th>1</th>\n",
       "      <td>f88197465ea7920adcdbec7375364d82</td>\n",
       "      <td>332</td>\n",
       "      <td>1</td>\n",
       "      <td>72.20</td>\n",
       "      <td>0</td>\n",
       "    </tr>\n",
       "    <tr>\n",
       "      <th>2</th>\n",
       "      <td>31ad1d1b63eb9962463f764d4e6e0c9d</td>\n",
       "      <td>445</td>\n",
       "      <td>1</td>\n",
       "      <td>169.76</td>\n",
       "      <td>0</td>\n",
       "    </tr>\n",
       "    <tr>\n",
       "      <th>3</th>\n",
       "      <td>059f7fc5719c7da6cbafe370971a8d70</td>\n",
       "      <td>330</td>\n",
       "      <td>1</td>\n",
       "      <td>29.75</td>\n",
       "      <td>0</td>\n",
       "    </tr>\n",
       "    <tr>\n",
       "      <th>4</th>\n",
       "      <td>7f8c8b9c2ae27bf3300f670c3d478be8</td>\n",
       "      <td>356</td>\n",
       "      <td>1</td>\n",
       "      <td>92.97</td>\n",
       "      <td>0</td>\n",
       "    </tr>\n",
       "  </tbody>\n",
       "</table>\n",
       "</div>"
      ],
      "text/plain": [
       "                        customer_id  last_order_day  recency_cluster  revenue  \\\n",
       "0  9ef432eb6251297304e76186b10a928d             380                1    38.71   \n",
       "1  f88197465ea7920adcdbec7375364d82             332                1    72.20   \n",
       "2  31ad1d1b63eb9962463f764d4e6e0c9d             445                1   169.76   \n",
       "3  059f7fc5719c7da6cbafe370971a8d70             330                1    29.75   \n",
       "4  7f8c8b9c2ae27bf3300f670c3d478be8             356                1    92.97   \n",
       "\n",
       "   revenuecluster  \n",
       "0               0  \n",
       "1               0  \n",
       "2               0  \n",
       "3               0  \n",
       "4               0  "
      ]
     },
     "execution_count": 40,
     "metadata": {},
     "output_type": "execute_result"
    }
   ],
   "source": [
    "#Calculate overall score and use mean() to see details\n",
    "order_rfm = pd.merge(olist_orders_recency_ordered, olist_orders_revenue_ordered, on = 'customer_id')\n",
    "order_rfm.head(5)"
   ]
  },
  {
   "cell_type": "code",
   "execution_count": 41,
   "metadata": {},
   "outputs": [],
   "source": [
    "order_rfm['rfm_score'] = order_rfm['recency_cluster'] + order_rfm['revenuecluster']"
   ]
  },
  {
   "cell_type": "code",
   "execution_count": 42,
   "metadata": {},
   "outputs": [
    {
     "data": {
      "text/html": [
       "<div>\n",
       "<style scoped>\n",
       "    .dataframe tbody tr th:only-of-type {\n",
       "        vertical-align: middle;\n",
       "    }\n",
       "\n",
       "    .dataframe tbody tr th {\n",
       "        vertical-align: top;\n",
       "    }\n",
       "\n",
       "    .dataframe thead th {\n",
       "        text-align: right;\n",
       "    }\n",
       "</style>\n",
       "<table border=\"1\" class=\"dataframe\">\n",
       "  <thead>\n",
       "    <tr style=\"text-align: right;\">\n",
       "      <th></th>\n",
       "      <th>last_order_day</th>\n",
       "      <th>revenue</th>\n",
       "    </tr>\n",
       "    <tr>\n",
       "      <th>rfm_score</th>\n",
       "      <th></th>\n",
       "      <th></th>\n",
       "    </tr>\n",
       "  </thead>\n",
       "  <tbody>\n",
       "    <tr>\n",
       "      <th>0</th>\n",
       "      <td>533.095197</td>\n",
       "      <td>88.527273</td>\n",
       "    </tr>\n",
       "    <tr>\n",
       "      <th>1</th>\n",
       "      <td>388.421006</td>\n",
       "      <td>118.868541</td>\n",
       "    </tr>\n",
       "    <tr>\n",
       "      <th>2</th>\n",
       "      <td>262.552737</td>\n",
       "      <td>141.175078</td>\n",
       "    </tr>\n",
       "    <tr>\n",
       "      <th>3</th>\n",
       "      <td>145.163876</td>\n",
       "      <td>164.924321</td>\n",
       "    </tr>\n",
       "    <tr>\n",
       "      <th>4</th>\n",
       "      <td>131.776645</td>\n",
       "      <td>393.405097</td>\n",
       "    </tr>\n",
       "    <tr>\n",
       "      <th>5</th>\n",
       "      <td>125.404324</td>\n",
       "      <td>976.299059</td>\n",
       "    </tr>\n",
       "    <tr>\n",
       "      <th>6</th>\n",
       "      <td>110.036496</td>\n",
       "      <td>2337.372774</td>\n",
       "    </tr>\n",
       "  </tbody>\n",
       "</table>\n",
       "</div>"
      ],
      "text/plain": [
       "           last_order_day      revenue\n",
       "rfm_score                             \n",
       "0              533.095197    88.527273\n",
       "1              388.421006   118.868541\n",
       "2              262.552737   141.175078\n",
       "3              145.163876   164.924321\n",
       "4              131.776645   393.405097\n",
       "5              125.404324   976.299059\n",
       "6              110.036496  2337.372774"
      ]
     },
     "execution_count": 42,
     "metadata": {},
     "output_type": "execute_result"
    }
   ],
   "source": [
    "order_rfm.groupby('rfm_score')[['last_order_day', 'revenue']].mean()"
   ]
  },
  {
   "cell_type": "markdown",
   "metadata": {},
   "source": [
    "rfm_score = 0 is our worst customer, low active, low revenue. rfm_score = 8 is our beloved customer, high active and high revenue"
   ]
  },
  {
   "cell_type": "code",
   "execution_count": 43,
   "metadata": {},
   "outputs": [
    {
     "data": {
      "text/html": [
       "<div>\n",
       "<style scoped>\n",
       "    .dataframe tbody tr th:only-of-type {\n",
       "        vertical-align: middle;\n",
       "    }\n",
       "\n",
       "    .dataframe tbody tr th {\n",
       "        vertical-align: top;\n",
       "    }\n",
       "\n",
       "    .dataframe thead th {\n",
       "        text-align: right;\n",
       "    }\n",
       "</style>\n",
       "<table border=\"1\" class=\"dataframe\">\n",
       "  <thead>\n",
       "    <tr style=\"text-align: right;\">\n",
       "      <th></th>\n",
       "      <th>customer_id</th>\n",
       "      <th>last_order_day</th>\n",
       "      <th>recency_cluster</th>\n",
       "      <th>revenue</th>\n",
       "      <th>revenuecluster</th>\n",
       "      <th>rfm_score</th>\n",
       "    </tr>\n",
       "  </thead>\n",
       "  <tbody>\n",
       "    <tr>\n",
       "      <th>0</th>\n",
       "      <td>9ef432eb6251297304e76186b10a928d</td>\n",
       "      <td>380</td>\n",
       "      <td>1</td>\n",
       "      <td>38.71</td>\n",
       "      <td>0</td>\n",
       "      <td>1</td>\n",
       "    </tr>\n",
       "    <tr>\n",
       "      <th>1</th>\n",
       "      <td>f88197465ea7920adcdbec7375364d82</td>\n",
       "      <td>332</td>\n",
       "      <td>1</td>\n",
       "      <td>72.20</td>\n",
       "      <td>0</td>\n",
       "      <td>1</td>\n",
       "    </tr>\n",
       "    <tr>\n",
       "      <th>2</th>\n",
       "      <td>31ad1d1b63eb9962463f764d4e6e0c9d</td>\n",
       "      <td>445</td>\n",
       "      <td>1</td>\n",
       "      <td>169.76</td>\n",
       "      <td>0</td>\n",
       "      <td>1</td>\n",
       "    </tr>\n",
       "    <tr>\n",
       "      <th>3</th>\n",
       "      <td>059f7fc5719c7da6cbafe370971a8d70</td>\n",
       "      <td>330</td>\n",
       "      <td>1</td>\n",
       "      <td>29.75</td>\n",
       "      <td>0</td>\n",
       "      <td>1</td>\n",
       "    </tr>\n",
       "    <tr>\n",
       "      <th>4</th>\n",
       "      <td>7f8c8b9c2ae27bf3300f670c3d478be8</td>\n",
       "      <td>356</td>\n",
       "      <td>1</td>\n",
       "      <td>92.97</td>\n",
       "      <td>0</td>\n",
       "      <td>1</td>\n",
       "    </tr>\n",
       "    <tr>\n",
       "      <th>5</th>\n",
       "      <td>d2b091571da224a1b36412c18bc3bbfe</td>\n",
       "      <td>394</td>\n",
       "      <td>1</td>\n",
       "      <td>118.86</td>\n",
       "      <td>0</td>\n",
       "      <td>1</td>\n",
       "    </tr>\n",
       "    <tr>\n",
       "      <th>6</th>\n",
       "      <td>456dc10730fbdba34615447ea195d643</td>\n",
       "      <td>433</td>\n",
       "      <td>1</td>\n",
       "      <td>313.19</td>\n",
       "      <td>1</td>\n",
       "      <td>2</td>\n",
       "    </tr>\n",
       "    <tr>\n",
       "      <th>7</th>\n",
       "      <td>816f8653d5361cbf94e58c33f2502a5c</td>\n",
       "      <td>309</td>\n",
       "      <td>1</td>\n",
       "      <td>63.10</td>\n",
       "      <td>0</td>\n",
       "      <td>1</td>\n",
       "    </tr>\n",
       "    <tr>\n",
       "      <th>8</th>\n",
       "      <td>295ae9b35379e077273387ff64354b6f</td>\n",
       "      <td>442</td>\n",
       "      <td>1</td>\n",
       "      <td>43.00</td>\n",
       "      <td>0</td>\n",
       "      <td>1</td>\n",
       "    </tr>\n",
       "    <tr>\n",
       "      <th>9</th>\n",
       "      <td>c7340080e394356141681bd4c9b8fe31</td>\n",
       "      <td>326</td>\n",
       "      <td>1</td>\n",
       "      <td>356.12</td>\n",
       "      <td>1</td>\n",
       "      <td>2</td>\n",
       "    </tr>\n",
       "  </tbody>\n",
       "</table>\n",
       "</div>"
      ],
      "text/plain": [
       "                        customer_id  last_order_day  recency_cluster  revenue  \\\n",
       "0  9ef432eb6251297304e76186b10a928d             380                1    38.71   \n",
       "1  f88197465ea7920adcdbec7375364d82             332                1    72.20   \n",
       "2  31ad1d1b63eb9962463f764d4e6e0c9d             445                1   169.76   \n",
       "3  059f7fc5719c7da6cbafe370971a8d70             330                1    29.75   \n",
       "4  7f8c8b9c2ae27bf3300f670c3d478be8             356                1    92.97   \n",
       "5  d2b091571da224a1b36412c18bc3bbfe             394                1   118.86   \n",
       "6  456dc10730fbdba34615447ea195d643             433                1   313.19   \n",
       "7  816f8653d5361cbf94e58c33f2502a5c             309                1    63.10   \n",
       "8  295ae9b35379e077273387ff64354b6f             442                1    43.00   \n",
       "9  c7340080e394356141681bd4c9b8fe31             326                1   356.12   \n",
       "\n",
       "   revenuecluster  rfm_score  \n",
       "0               0          1  \n",
       "1               0          1  \n",
       "2               0          1  \n",
       "3               0          1  \n",
       "4               0          1  \n",
       "5               0          1  \n",
       "6               1          2  \n",
       "7               0          1  \n",
       "8               0          1  \n",
       "9               1          2  "
      ]
     },
     "execution_count": 43,
     "metadata": {},
     "output_type": "execute_result"
    }
   ],
   "source": [
    "order_rfm.head(10)"
   ]
  },
  {
   "cell_type": "markdown",
   "metadata": {},
   "source": [
    "# Customer Lifetime Value Prediction"
   ]
  },
  {
   "cell_type": "code",
   "execution_count": 44,
   "metadata": {},
   "outputs": [
    {
     "data": {
      "text/plain": [
       "count                           103886\n",
       "mean     2017-12-29 21:48:47.671803648\n",
       "min                2016-09-04 21:15:19\n",
       "25%      2017-09-10 09:01:08.750000128\n",
       "50%                2018-01-17 14:07:54\n",
       "75%      2018-05-03 18:35:58.249999872\n",
       "max                2018-10-17 17:30:18\n",
       "Name: purchase_timestamp, dtype: object"
      ]
     },
     "execution_count": 44,
     "metadata": {},
     "output_type": "execute_result"
    }
   ],
   "source": [
    "orders_payment_bycus['purchase_timestamp'].describe()"
   ]
  },
  {
   "cell_type": "code",
   "execution_count": 45,
   "metadata": {},
   "outputs": [],
   "source": [
    "#Calculate 6 months LTV for each customer (less than 180 days from last order day)\n",
    "revenue_6m = orders_payment_bycus[orders_payment_bycus.last_order_day <= 180]"
   ]
  },
  {
   "cell_type": "code",
   "execution_count": 46,
   "metadata": {},
   "outputs": [
    {
     "name": "stdout",
     "output_type": "stream",
     "text": [
      "       payment_sequential  payment_installments  payment_value  \\\n",
      "count        29444.000000          29444.000000   29444.000000   \n",
      "mean             1.060624              2.762668     159.285056   \n",
      "min              1.000000              0.000000       0.000000   \n",
      "25%              1.000000              1.000000      58.280000   \n",
      "50%              1.000000              1.000000     103.265000   \n",
      "75%              1.000000              4.000000     174.962500   \n",
      "max             14.000000             24.000000    7274.880000   \n",
      "std              0.425425              2.587540     230.729721   \n",
      "\n",
      "                  purchase_timestamp                   last_order  \\\n",
      "count                          29444                        29444   \n",
      "mean   2018-06-23 16:18:51.971776768  116 days 01:11:26.028223066   \n",
      "min              2018-04-19 17:33:04              0 days 00:00:00   \n",
      "25%              2018-05-16 19:57:37             79 days 18:47:11   \n",
      "50%              2018-06-23 23:37:24            115 days 17:52:54   \n",
      "75%              2018-07-29 22:43:07            153 days 21:32:41   \n",
      "max              2018-10-17 17:30:18            180 days 23:57:14   \n",
      "std                              NaN   38 days 15:23:39.202387117   \n",
      "\n",
      "       last_order_day  \n",
      "count    29444.000000  \n",
      "mean       115.583413  \n",
      "min          0.000000  \n",
      "25%         79.000000  \n",
      "50%        115.000000  \n",
      "75%        153.000000  \n",
      "max        180.000000  \n",
      "std         38.639533  \n"
     ]
    }
   ],
   "source": [
    "print(revenue_6m.describe())"
   ]
  },
  {
   "cell_type": "code",
   "execution_count": 47,
   "metadata": {},
   "outputs": [
    {
     "name": "stdout",
     "output_type": "stream",
     "text": [
      "       payment_sequential  payment_installments  payment_value  \\\n",
      "count        10084.000000          10084.000000   10084.000000   \n",
      "mean             1.043435              2.697937     156.048877   \n",
      "min              1.000000              1.000000       0.000000   \n",
      "25%              1.000000              1.000000      57.990000   \n",
      "50%              1.000000              1.000000      99.435000   \n",
      "75%              1.000000              4.000000     173.027500   \n",
      "max              7.000000             20.000000    6922.210000   \n",
      "std              0.298925              2.553949     229.244493   \n",
      "\n",
      "                  purchase_timestamp                  last_order  \\\n",
      "count                          10084                       10084   \n",
      "mean   2018-08-06 14:44:55.736215808  72 days 02:45:22.263784212   \n",
      "min              2018-07-18 17:35:49             0 days 00:00:00   \n",
      "25%    2018-07-28 21:50:46.249999872     63 days 08:36:04.250000   \n",
      "50%              2018-08-06 15:06:19            72 days 02:23:59   \n",
      "75%    2018-08-15 08:54:13.750000128     80 days 19:39:31.750000   \n",
      "max              2018-10-17 17:30:18            90 days 23:54:29   \n",
      "std                              NaN  10 days 17:41:13.547649965   \n",
      "\n",
      "       last_order_day  \n",
      "count    10084.000000  \n",
      "mean        71.654601  \n",
      "min          0.000000  \n",
      "25%         63.000000  \n",
      "50%         72.000000  \n",
      "75%         80.000000  \n",
      "max         90.000000  \n",
      "std         10.742143  \n"
     ]
    }
   ],
   "source": [
    "#Calculate 3 months LTV for each customer (less than 90 days from last order day)\n",
    "revenue_3m = orders_payment_bycus[orders_payment_bycus.last_order_day <= 90]\n",
    "print(revenue_3m.describe())"
   ]
  },
  {
   "cell_type": "code",
   "execution_count": 48,
   "metadata": {},
   "outputs": [
    {
     "name": "stdout",
     "output_type": "stream",
     "text": [
      "<class 'pandas.core.frame.DataFrame'>\n"
     ]
    }
   ],
   "source": [
    "#calculate revenue and create a new dataframe for it\n",
    "revenue_3m_bycus = revenue_3m.groupby(['customer_id'], sort = True)['payment_value'].sum()\n",
    "#to_dataframe\n",
    "revenue_3m_bycus = revenue_3m_bycus.to_frame().reset_index()\n",
    "print(type(revenue_3m_bycus))\n"
   ]
  },
  {
   "cell_type": "code",
   "execution_count": 49,
   "metadata": {},
   "outputs": [
    {
     "data": {
      "text/html": [
       "<div>\n",
       "<style scoped>\n",
       "    .dataframe tbody tr th:only-of-type {\n",
       "        vertical-align: middle;\n",
       "    }\n",
       "\n",
       "    .dataframe tbody tr th {\n",
       "        vertical-align: top;\n",
       "    }\n",
       "\n",
       "    .dataframe thead th {\n",
       "        text-align: right;\n",
       "    }\n",
       "</style>\n",
       "<table border=\"1\" class=\"dataframe\">\n",
       "  <thead>\n",
       "    <tr style=\"text-align: right;\">\n",
       "      <th></th>\n",
       "      <th>customer_id</th>\n",
       "      <th>m3_revenue</th>\n",
       "    </tr>\n",
       "  </thead>\n",
       "  <tbody>\n",
       "    <tr>\n",
       "      <th>0</th>\n",
       "      <td>000598caf2ef4117407665ac33275130</td>\n",
       "      <td>1255.71</td>\n",
       "    </tr>\n",
       "    <tr>\n",
       "      <th>1</th>\n",
       "      <td>001df1ee5c36767aa607001ab1a13a06</td>\n",
       "      <td>42.86</td>\n",
       "    </tr>\n",
       "    <tr>\n",
       "      <th>2</th>\n",
       "      <td>002554bdf9eb99618d8189c3a89fdd52</td>\n",
       "      <td>244.08</td>\n",
       "    </tr>\n",
       "    <tr>\n",
       "      <th>3</th>\n",
       "      <td>0026955706fd4e2fa997f3f4c18d485a</td>\n",
       "      <td>121.90</td>\n",
       "    </tr>\n",
       "    <tr>\n",
       "      <th>4</th>\n",
       "      <td>002905287304e28c0218389269b4759b</td>\n",
       "      <td>31.70</td>\n",
       "    </tr>\n",
       "  </tbody>\n",
       "</table>\n",
       "</div>"
      ],
      "text/plain": [
       "                        customer_id  m3_revenue\n",
       "0  000598caf2ef4117407665ac33275130     1255.71\n",
       "1  001df1ee5c36767aa607001ab1a13a06       42.86\n",
       "2  002554bdf9eb99618d8189c3a89fdd52      244.08\n",
       "3  0026955706fd4e2fa997f3f4c18d485a      121.90\n",
       "4  002905287304e28c0218389269b4759b       31.70"
      ]
     },
     "execution_count": 49,
     "metadata": {},
     "output_type": "execute_result"
    }
   ],
   "source": [
    "revenue_3m_bycus.columns = ['customer_id', 'm3_revenue']\n",
    "revenue_3m_bycus.head()"
   ]
  },
  {
   "cell_type": "code",
   "execution_count": 50,
   "metadata": {},
   "outputs": [
    {
     "name": "stdout",
     "output_type": "stream",
     "text": [
      "<class 'pandas.core.frame.DataFrame'>\n"
     ]
    }
   ],
   "source": [
    "#calculate revenue and create a new dataframe for it\n",
    "revenue_6m_bycus = revenue_6m.groupby(['customer_id'], sort = True)['payment_value'].sum()\n",
    "#to_dataframe\n",
    "revenue_6m_bycus = revenue_6m_bycus.to_frame().reset_index()\n",
    "print(type(revenue_6m_bycus))\n"
   ]
  },
  {
   "cell_type": "code",
   "execution_count": 51,
   "metadata": {},
   "outputs": [
    {
     "data": {
      "text/html": [
       "<div>\n",
       "<style scoped>\n",
       "    .dataframe tbody tr th:only-of-type {\n",
       "        vertical-align: middle;\n",
       "    }\n",
       "\n",
       "    .dataframe tbody tr th {\n",
       "        vertical-align: top;\n",
       "    }\n",
       "\n",
       "    .dataframe thead th {\n",
       "        text-align: right;\n",
       "    }\n",
       "</style>\n",
       "<table border=\"1\" class=\"dataframe\">\n",
       "  <thead>\n",
       "    <tr style=\"text-align: right;\">\n",
       "      <th></th>\n",
       "      <th>customer_id</th>\n",
       "      <th>m6_revenue</th>\n",
       "    </tr>\n",
       "  </thead>\n",
       "  <tbody>\n",
       "    <tr>\n",
       "      <th>0</th>\n",
       "      <td>000598caf2ef4117407665ac33275130</td>\n",
       "      <td>1255.71</td>\n",
       "    </tr>\n",
       "    <tr>\n",
       "      <th>1</th>\n",
       "      <td>0005aefbb696d34b3424dccd0a0e9fd0</td>\n",
       "      <td>147.33</td>\n",
       "    </tr>\n",
       "    <tr>\n",
       "      <th>2</th>\n",
       "      <td>001051abfcfdbed9f87b4266213a5df1</td>\n",
       "      <td>65.20</td>\n",
       "    </tr>\n",
       "    <tr>\n",
       "      <th>3</th>\n",
       "      <td>0013cd8e350a7cc76873441e431dd5ee</td>\n",
       "      <td>92.60</td>\n",
       "    </tr>\n",
       "    <tr>\n",
       "      <th>4</th>\n",
       "      <td>0015bc9fd2d5395446143e8b215d7c75</td>\n",
       "      <td>132.19</td>\n",
       "    </tr>\n",
       "  </tbody>\n",
       "</table>\n",
       "</div>"
      ],
      "text/plain": [
       "                        customer_id  m6_revenue\n",
       "0  000598caf2ef4117407665ac33275130     1255.71\n",
       "1  0005aefbb696d34b3424dccd0a0e9fd0      147.33\n",
       "2  001051abfcfdbed9f87b4266213a5df1       65.20\n",
       "3  0013cd8e350a7cc76873441e431dd5ee       92.60\n",
       "4  0015bc9fd2d5395446143e8b215d7c75      132.19"
      ]
     },
     "execution_count": 51,
     "metadata": {},
     "output_type": "execute_result"
    }
   ],
   "source": [
    "revenue_6m_bycus.columns = ['customer_id', 'm6_revenue']\n",
    "revenue_6m_bycus.head()"
   ]
  },
  {
   "cell_type": "code",
   "execution_count": 52,
   "metadata": {},
   "outputs": [
    {
     "name": "stdout",
     "output_type": "stream",
     "text": [
      "Defaulting to user installation because normal site-packages is not writeable\n",
      "Requirement already satisfied: plotly in /Users/phuongnguyen/Library/Python/3.9/lib/python/site-packages (6.0.1)\n",
      "Requirement already satisfied: narwhals>=1.15.1 in /Users/phuongnguyen/Library/Python/3.9/lib/python/site-packages (from plotly) (1.38.2)\n",
      "Requirement already satisfied: packaging in /Users/phuongnguyen/Library/Python/3.9/lib/python/site-packages (from plotly) (23.2)\n"
     ]
    },
    {
     "name": "stdout",
     "output_type": "stream",
     "text": [
      "\u001b[33mWARNING: You are using pip version 21.2.4; however, version 25.1.1 is available.\n",
      "You should consider upgrading via the '/Library/Developer/CommandLineTools/usr/bin/python3 -m pip install --upgrade pip' command.\u001b[0m\n",
      "Note: you may need to restart the kernel to use updated packages.\n"
     ]
    }
   ],
   "source": [
    "pip install plotly"
   ]
  },
  {
   "cell_type": "code",
   "execution_count": 53,
   "metadata": {},
   "outputs": [
    {
     "name": "stdout",
     "output_type": "stream",
     "text": [
      "Requirement already satisfied: nbformat in /Users/phuongnguyen/anaconda3/lib/python3.10/site-packages (5.7.0)\n",
      "Requirement already satisfied: fastjsonschema in /Users/phuongnguyen/anaconda3/lib/python3.10/site-packages (from nbformat) (2.16.2)\n",
      "Requirement already satisfied: jsonschema>=2.6 in /Users/phuongnguyen/anaconda3/lib/python3.10/site-packages (from nbformat) (4.23.0)\n",
      "Requirement already satisfied: jupyter-core in /Users/phuongnguyen/anaconda3/lib/python3.10/site-packages (from nbformat) (5.2.0)\n",
      "Requirement already satisfied: traitlets>=5.1 in /Users/phuongnguyen/anaconda3/lib/python3.10/site-packages (from nbformat) (5.7.1)\n",
      "Requirement already satisfied: attrs>=22.2.0 in /Users/phuongnguyen/anaconda3/lib/python3.10/site-packages (from jsonschema>=2.6->nbformat) (24.2.0)\n",
      "Requirement already satisfied: jsonschema-specifications>=2023.03.6 in /Users/phuongnguyen/anaconda3/lib/python3.10/site-packages (from jsonschema>=2.6->nbformat) (2023.12.1)\n",
      "Requirement already satisfied: referencing>=0.28.4 in /Users/phuongnguyen/anaconda3/lib/python3.10/site-packages (from jsonschema>=2.6->nbformat) (0.35.1)\n",
      "Requirement already satisfied: rpds-py>=0.7.1 in /Users/phuongnguyen/anaconda3/lib/python3.10/site-packages (from jsonschema>=2.6->nbformat) (0.20.1)\n",
      "Requirement already satisfied: platformdirs>=2.5 in /Users/phuongnguyen/.local/lib/python3.10/site-packages (from jupyter-core->nbformat) (4.3.6)\n",
      "\n",
      "\u001b[1m[\u001b[0m\u001b[34;49mnotice\u001b[0m\u001b[1;39;49m]\u001b[0m\u001b[39;49m A new release of pip is available: \u001b[0m\u001b[31;49m25.0.1\u001b[0m\u001b[39;49m -> \u001b[0m\u001b[32;49m25.1.1\u001b[0m\n",
      "\u001b[1m[\u001b[0m\u001b[34;49mnotice\u001b[0m\u001b[1;39;49m]\u001b[0m\u001b[39;49m To update, run: \u001b[0m\u001b[32;49mpip install --upgrade pip\u001b[0m\n"
     ]
    }
   ],
   "source": [
    "!pip install nbformat "
   ]
  },
  {
   "cell_type": "code",
   "execution_count": 54,
   "metadata": {},
   "outputs": [
    {
     "name": "stdout",
     "output_type": "stream",
     "text": [
      "Defaulting to user installation because normal site-packages is not writeable\n",
      "Requirement already satisfied: ipykernel in /Users/phuongnguyen/Library/Python/3.9/lib/python/site-packages (6.29.5)\n",
      "Requirement already satisfied: appnope in /Users/phuongnguyen/Library/Python/3.9/lib/python/site-packages (from ipykernel) (0.1.4)\n",
      "Requirement already satisfied: tornado>=6.1 in /Users/phuongnguyen/Library/Python/3.9/lib/python/site-packages (from ipykernel) (6.4.2)\n",
      "Requirement already satisfied: packaging in /Users/phuongnguyen/Library/Python/3.9/lib/python/site-packages (from ipykernel) (23.2)\n",
      "Requirement already satisfied: comm>=0.1.1 in /Users/phuongnguyen/Library/Python/3.9/lib/python/site-packages (from ipykernel) (0.2.2)\n",
      "Requirement already satisfied: debugpy>=1.6.5 in /Users/phuongnguyen/Library/Python/3.9/lib/python/site-packages (from ipykernel) (1.8.14)\n",
      "Requirement already satisfied: psutil in /Users/phuongnguyen/Library/Python/3.9/lib/python/site-packages (from ipykernel) (6.1.0)\n",
      "Requirement already satisfied: traitlets>=5.4.0 in /Users/phuongnguyen/Library/Python/3.9/lib/python/site-packages (from ipykernel) (5.14.3)\n",
      "Requirement already satisfied: jupyter-core!=5.0.*,>=4.12 in /Users/phuongnguyen/Library/Python/3.9/lib/python/site-packages (from ipykernel) (5.7.2)\n",
      "Requirement already satisfied: matplotlib-inline>=0.1 in /Users/phuongnguyen/Library/Python/3.9/lib/python/site-packages (from ipykernel) (0.1.7)\n",
      "Requirement already satisfied: ipython>=7.23.1 in /Users/phuongnguyen/Library/Python/3.9/lib/python/site-packages (from ipykernel) (8.18.1)\n",
      "Requirement already satisfied: jupyter-client>=6.1.12 in /Users/phuongnguyen/Library/Python/3.9/lib/python/site-packages (from ipykernel) (8.6.3)\n",
      "Requirement already satisfied: pyzmq>=24 in /Users/phuongnguyen/Library/Python/3.9/lib/python/site-packages (from ipykernel) (26.2.0)\n",
      "Requirement already satisfied: nest-asyncio in /Users/phuongnguyen/Library/Python/3.9/lib/python/site-packages (from ipykernel) (1.6.0)\n",
      "Requirement already satisfied: prompt-toolkit<3.1.0,>=3.0.41 in /Users/phuongnguyen/Library/Python/3.9/lib/python/site-packages (from ipython>=7.23.1->ipykernel) (3.0.51)\n",
      "Requirement already satisfied: pygments>=2.4.0 in /Users/phuongnguyen/Library/Python/3.9/lib/python/site-packages (from ipython>=7.23.1->ipykernel) (2.18.0)\n",
      "Requirement already satisfied: typing-extensions in /Users/phuongnguyen/Library/Python/3.9/lib/python/site-packages (from ipython>=7.23.1->ipykernel) (4.12.2)\n",
      "Requirement already satisfied: pexpect>4.3 in /Users/phuongnguyen/Library/Python/3.9/lib/python/site-packages (from ipython>=7.23.1->ipykernel) (4.9.0)\n",
      "Requirement already satisfied: jedi>=0.16 in /Users/phuongnguyen/Library/Python/3.9/lib/python/site-packages (from ipython>=7.23.1->ipykernel) (0.19.2)\n",
      "Requirement already satisfied: stack-data in /Users/phuongnguyen/Library/Python/3.9/lib/python/site-packages (from ipython>=7.23.1->ipykernel) (0.6.3)\n",
      "Requirement already satisfied: exceptiongroup in /Users/phuongnguyen/Library/Python/3.9/lib/python/site-packages (from ipython>=7.23.1->ipykernel) (1.2.2)\n",
      "Requirement already satisfied: decorator in /Users/phuongnguyen/Library/Python/3.9/lib/python/site-packages (from ipython>=7.23.1->ipykernel) (5.2.1)\n",
      "Requirement already satisfied: parso<0.9.0,>=0.8.4 in /Users/phuongnguyen/Library/Python/3.9/lib/python/site-packages (from jedi>=0.16->ipython>=7.23.1->ipykernel) (0.8.4)\n",
      "Requirement already satisfied: importlib-metadata>=4.8.3 in /Users/phuongnguyen/Library/Python/3.9/lib/python/site-packages (from jupyter-client>=6.1.12->ipykernel) (8.2.0)\n",
      "Requirement already satisfied: python-dateutil>=2.8.2 in /Users/phuongnguyen/Library/Python/3.9/lib/python/site-packages (from jupyter-client>=6.1.12->ipykernel) (2.9.0.post0)\n",
      "Requirement already satisfied: zipp>=0.5 in /Users/phuongnguyen/Library/Python/3.9/lib/python/site-packages (from importlib-metadata>=4.8.3->jupyter-client>=6.1.12->ipykernel) (3.19.2)\n",
      "Requirement already satisfied: platformdirs>=2.5 in /Users/phuongnguyen/Library/Python/3.9/lib/python/site-packages (from jupyter-core!=5.0.*,>=4.12->ipykernel) (4.3.6)\n",
      "Requirement already satisfied: ptyprocess>=0.5 in /Users/phuongnguyen/Library/Python/3.9/lib/python/site-packages (from pexpect>4.3->ipython>=7.23.1->ipykernel) (0.7.0)\n",
      "Requirement already satisfied: wcwidth in /Users/phuongnguyen/Library/Python/3.9/lib/python/site-packages (from prompt-toolkit<3.1.0,>=3.0.41->ipython>=7.23.1->ipykernel) (0.2.13)\n",
      "Requirement already satisfied: six>=1.5 in /Library/Developer/CommandLineTools/Library/Frameworks/Python3.framework/Versions/3.9/lib/python3.9/site-packages (from python-dateutil>=2.8.2->jupyter-client>=6.1.12->ipykernel) (1.15.0)\n",
      "Requirement already satisfied: executing>=1.2.0 in /Users/phuongnguyen/Library/Python/3.9/lib/python/site-packages (from stack-data->ipython>=7.23.1->ipykernel) (2.2.0)\n",
      "Requirement already satisfied: pure-eval in /Users/phuongnguyen/Library/Python/3.9/lib/python/site-packages (from stack-data->ipython>=7.23.1->ipykernel) (0.2.3)\n",
      "Requirement already satisfied: asttokens>=2.1.0 in /Users/phuongnguyen/Library/Python/3.9/lib/python/site-packages (from stack-data->ipython>=7.23.1->ipykernel) (3.0.0)\n",
      "\u001b[33mWARNING: You are using pip version 21.2.4; however, version 25.1.1 is available.\n",
      "You should consider upgrading via the '/Library/Developer/CommandLineTools/usr/bin/python3 -m pip install --upgrade pip' command.\u001b[0m\n",
      "Note: you may need to restart the kernel to use updated packages.\n"
     ]
    }
   ],
   "source": [
    "pip install ipykernel"
   ]
  },
  {
   "cell_type": "code",
   "execution_count": 55,
   "metadata": {},
   "outputs": [
    {
     "name": "stdout",
     "output_type": "stream",
     "text": [
      "Defaulting to user installation because normal site-packages is not writeable\n",
      "Requirement already satisfied: nbformat in /Users/phuongnguyen/Library/Python/3.9/lib/python/site-packages (5.10.4)\n",
      "Requirement already satisfied: jupyter-core!=5.0.*,>=4.12 in /Users/phuongnguyen/Library/Python/3.9/lib/python/site-packages (from nbformat) (5.7.2)\n",
      "Requirement already satisfied: traitlets>=5.1 in /Users/phuongnguyen/Library/Python/3.9/lib/python/site-packages (from nbformat) (5.14.3)\n",
      "Requirement already satisfied: fastjsonschema>=2.15 in /Users/phuongnguyen/Library/Python/3.9/lib/python/site-packages (from nbformat) (2.21.1)\n",
      "Requirement already satisfied: jsonschema>=2.6 in /Users/phuongnguyen/Library/Python/3.9/lib/python/site-packages (from nbformat) (4.23.0)\n",
      "Requirement already satisfied: rpds-py>=0.7.1 in /Users/phuongnguyen/Library/Python/3.9/lib/python/site-packages (from jsonschema>=2.6->nbformat) (0.24.0)\n",
      "Requirement already satisfied: jsonschema-specifications>=2023.03.6 in /Users/phuongnguyen/Library/Python/3.9/lib/python/site-packages (from jsonschema>=2.6->nbformat) (2025.4.1)\n",
      "Requirement already satisfied: referencing>=0.28.4 in /Users/phuongnguyen/Library/Python/3.9/lib/python/site-packages (from jsonschema>=2.6->nbformat) (0.36.2)\n",
      "Requirement already satisfied: attrs>=22.2.0 in /Users/phuongnguyen/Library/Python/3.9/lib/python/site-packages (from jsonschema>=2.6->nbformat) (24.2.0)\n",
      "Requirement already satisfied: platformdirs>=2.5 in /Users/phuongnguyen/Library/Python/3.9/lib/python/site-packages (from jupyter-core!=5.0.*,>=4.12->nbformat) (4.3.6)\n",
      "Requirement already satisfied: typing-extensions>=4.4.0 in /Users/phuongnguyen/Library/Python/3.9/lib/python/site-packages (from referencing>=0.28.4->jsonschema>=2.6->nbformat) (4.12.2)\n",
      "\u001b[33mWARNING: You are using pip version 21.2.4; however, version 25.1.1 is available.\n",
      "You should consider upgrading via the '/Library/Developer/CommandLineTools/usr/bin/python3 -m pip install --upgrade pip' command.\u001b[0m\n",
      "Note: you may need to restart the kernel to use updated packages.\n"
     ]
    }
   ],
   "source": [
    "pip install --upgrade nbformat"
   ]
  },
  {
   "cell_type": "code",
   "execution_count": 56,
   "metadata": {},
   "outputs": [],
   "source": [
    "import plotly as py\n",
    "import plotly.offline as pyoff\n",
    "import plotly.graph_objs as go"
   ]
  },
  {
   "cell_type": "code",
   "execution_count": 57,
   "metadata": {},
   "outputs": [
    {
     "data": {
      "application/vnd.plotly.v1+json": {
       "config": {
        "linkText": "Export to plot.ly",
        "plotlyServerURL": "https://plot.ly",
        "showLink": false
       },
       "data": [
        {
         "type": "histogram",
         "x": {
          "bdata": "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",
          "dtype": "f8"
         }
        }
       ],
       "layout": {
        "template": {
         "data": {
          "bar": [
           {
            "error_x": {
             "color": "#2a3f5f"
            },
            "error_y": {
             "color": "#2a3f5f"
            },
            "marker": {
             "line": {
              "color": "#E5ECF6",
              "width": 0.5
             },
             "pattern": {
              "fillmode": "overlay",
              "size": 10,
              "solidity": 0.2
             }
            },
            "type": "bar"
           }
          ],
          "barpolar": [
           {
            "marker": {
             "line": {
              "color": "#E5ECF6",
              "width": 0.5
             },
             "pattern": {
              "fillmode": "overlay",
              "size": 10,
              "solidity": 0.2
             }
            },
            "type": "barpolar"
           }
          ],
          "carpet": [
           {
            "aaxis": {
             "endlinecolor": "#2a3f5f",
             "gridcolor": "white",
             "linecolor": "white",
             "minorgridcolor": "white",
             "startlinecolor": "#2a3f5f"
            },
            "baxis": {
             "endlinecolor": "#2a3f5f",
             "gridcolor": "white",
             "linecolor": "white",
             "minorgridcolor": "white",
             "startlinecolor": "#2a3f5f"
            },
            "type": "carpet"
           }
          ],
          "choropleth": [
           {
            "colorbar": {
             "outlinewidth": 0,
             "ticks": ""
            },
            "type": "choropleth"
           }
          ],
          "contour": [
           {
            "colorbar": {
             "outlinewidth": 0,
             "ticks": ""
            },
            "colorscale": [
             [
              0,
              "#0d0887"
             ],
             [
              0.1111111111111111,
              "#46039f"
             ],
             [
              0.2222222222222222,
              "#7201a8"
             ],
             [
              0.3333333333333333,
              "#9c179e"
             ],
             [
              0.4444444444444444,
              "#bd3786"
             ],
             [
              0.5555555555555556,
              "#d8576b"
             ],
             [
              0.6666666666666666,
              "#ed7953"
             ],
             [
              0.7777777777777778,
              "#fb9f3a"
             ],
             [
              0.8888888888888888,
              "#fdca26"
             ],
             [
              1,
              "#f0f921"
             ]
            ],
            "type": "contour"
           }
          ],
          "contourcarpet": [
           {
            "colorbar": {
             "outlinewidth": 0,
             "ticks": ""
            },
            "type": "contourcarpet"
           }
          ],
          "heatmap": [
           {
            "colorbar": {
             "outlinewidth": 0,
             "ticks": ""
            },
            "colorscale": [
             [
              0,
              "#0d0887"
             ],
             [
              0.1111111111111111,
              "#46039f"
             ],
             [
              0.2222222222222222,
              "#7201a8"
             ],
             [
              0.3333333333333333,
              "#9c179e"
             ],
             [
              0.4444444444444444,
              "#bd3786"
             ],
             [
              0.5555555555555556,
              "#d8576b"
             ],
             [
              0.6666666666666666,
              "#ed7953"
             ],
             [
              0.7777777777777778,
              "#fb9f3a"
             ],
             [
              0.8888888888888888,
              "#fdca26"
             ],
             [
              1,
              "#f0f921"
             ]
            ],
            "type": "heatmap"
           }
          ],
          "histogram": [
           {
            "marker": {
             "pattern": {
              "fillmode": "overlay",
              "size": 10,
              "solidity": 0.2
             }
            },
            "type": "histogram"
           }
          ],
          "histogram2d": [
           {
            "colorbar": {
             "outlinewidth": 0,
             "ticks": ""
            },
            "colorscale": [
             [
              0,
              "#0d0887"
             ],
             [
              0.1111111111111111,
              "#46039f"
             ],
             [
              0.2222222222222222,
              "#7201a8"
             ],
             [
              0.3333333333333333,
              "#9c179e"
             ],
             [
              0.4444444444444444,
              "#bd3786"
             ],
             [
              0.5555555555555556,
              "#d8576b"
             ],
             [
              0.6666666666666666,
              "#ed7953"
             ],
             [
              0.7777777777777778,
              "#fb9f3a"
             ],
             [
              0.8888888888888888,
              "#fdca26"
             ],
             [
              1,
              "#f0f921"
             ]
            ],
            "type": "histogram2d"
           }
          ],
          "histogram2dcontour": [
           {
            "colorbar": {
             "outlinewidth": 0,
             "ticks": ""
            },
            "colorscale": [
             [
              0,
              "#0d0887"
             ],
             [
              0.1111111111111111,
              "#46039f"
             ],
             [
              0.2222222222222222,
              "#7201a8"
             ],
             [
              0.3333333333333333,
              "#9c179e"
             ],
             [
              0.4444444444444444,
              "#bd3786"
             ],
             [
              0.5555555555555556,
              "#d8576b"
             ],
             [
              0.6666666666666666,
              "#ed7953"
             ],
             [
              0.7777777777777778,
              "#fb9f3a"
             ],
             [
              0.8888888888888888,
              "#fdca26"
             ],
             [
              1,
              "#f0f921"
             ]
            ],
            "type": "histogram2dcontour"
           }
          ],
          "mesh3d": [
           {
            "colorbar": {
             "outlinewidth": 0,
             "ticks": ""
            },
            "type": "mesh3d"
           }
          ],
          "parcoords": [
           {
            "line": {
             "colorbar": {
              "outlinewidth": 0,
              "ticks": ""
             }
            },
            "type": "parcoords"
           }
          ],
          "pie": [
           {
            "automargin": true,
            "type": "pie"
           }
          ],
          "scatter": [
           {
            "fillpattern": {
             "fillmode": "overlay",
             "size": 10,
             "solidity": 0.2
            },
            "type": "scatter"
           }
          ],
          "scatter3d": [
           {
            "line": {
             "colorbar": {
              "outlinewidth": 0,
              "ticks": ""
             }
            },
            "marker": {
             "colorbar": {
              "outlinewidth": 0,
              "ticks": ""
             }
            },
            "type": "scatter3d"
           }
          ],
          "scattercarpet": [
           {
            "marker": {
             "colorbar": {
              "outlinewidth": 0,
              "ticks": ""
             }
            },
            "type": "scattercarpet"
           }
          ],
          "scattergeo": [
           {
            "marker": {
             "colorbar": {
              "outlinewidth": 0,
              "ticks": ""
             }
            },
            "type": "scattergeo"
           }
          ],
          "scattergl": [
           {
            "marker": {
             "colorbar": {
              "outlinewidth": 0,
              "ticks": ""
             }
            },
            "type": "scattergl"
           }
          ],
          "scattermap": [
           {
            "marker": {
             "colorbar": {
              "outlinewidth": 0,
              "ticks": ""
             }
            },
            "type": "scattermap"
           }
          ],
          "scattermapbox": [
           {
            "marker": {
             "colorbar": {
              "outlinewidth": 0,
              "ticks": ""
             }
            },
            "type": "scattermapbox"
           }
          ],
          "scatterpolar": [
           {
            "marker": {
             "colorbar": {
              "outlinewidth": 0,
              "ticks": ""
             }
            },
            "type": "scatterpolar"
           }
          ],
          "scatterpolargl": [
           {
            "marker": {
             "colorbar": {
              "outlinewidth": 0,
              "ticks": ""
             }
            },
            "type": "scatterpolargl"
           }
          ],
          "scatterternary": [
           {
            "marker": {
             "colorbar": {
              "outlinewidth": 0,
              "ticks": ""
             }
            },
            "type": "scatterternary"
           }
          ],
          "surface": [
           {
            "colorbar": {
             "outlinewidth": 0,
             "ticks": ""
            },
            "colorscale": [
             [
              0,
              "#0d0887"
             ],
             [
              0.1111111111111111,
              "#46039f"
             ],
             [
              0.2222222222222222,
              "#7201a8"
             ],
             [
              0.3333333333333333,
              "#9c179e"
             ],
             [
              0.4444444444444444,
              "#bd3786"
             ],
             [
              0.5555555555555556,
              "#d8576b"
             ],
             [
              0.6666666666666666,
              "#ed7953"
             ],
             [
              0.7777777777777778,
              "#fb9f3a"
             ],
             [
              0.8888888888888888,
              "#fdca26"
             ],
             [
              1,
              "#f0f921"
             ]
            ],
            "type": "surface"
           }
          ],
          "table": [
           {
            "cells": {
             "fill": {
              "color": "#EBF0F8"
             },
             "line": {
              "color": "white"
             }
            },
            "header": {
             "fill": {
              "color": "#C8D4E3"
             },
             "line": {
              "color": "white"
             }
            },
            "type": "table"
           }
          ]
         },
         "layout": {
          "annotationdefaults": {
           "arrowcolor": "#2a3f5f",
           "arrowhead": 0,
           "arrowwidth": 1
          },
          "autotypenumbers": "strict",
          "coloraxis": {
           "colorbar": {
            "outlinewidth": 0,
            "ticks": ""
           }
          },
          "colorscale": {
           "diverging": [
            [
             0,
             "#8e0152"
            ],
            [
             0.1,
             "#c51b7d"
            ],
            [
             0.2,
             "#de77ae"
            ],
            [
             0.3,
             "#f1b6da"
            ],
            [
             0.4,
             "#fde0ef"
            ],
            [
             0.5,
             "#f7f7f7"
            ],
            [
             0.6,
             "#e6f5d0"
            ],
            [
             0.7,
             "#b8e186"
            ],
            [
             0.8,
             "#7fbc41"
            ],
            [
             0.9,
             "#4d9221"
            ],
            [
             1,
             "#276419"
            ]
           ],
           "sequential": [
            [
             0,
             "#0d0887"
            ],
            [
             0.1111111111111111,
             "#46039f"
            ],
            [
             0.2222222222222222,
             "#7201a8"
            ],
            [
             0.3333333333333333,
             "#9c179e"
            ],
            [
             0.4444444444444444,
             "#bd3786"
            ],
            [
             0.5555555555555556,
             "#d8576b"
            ],
            [
             0.6666666666666666,
             "#ed7953"
            ],
            [
             0.7777777777777778,
             "#fb9f3a"
            ],
            [
             0.8888888888888888,
             "#fdca26"
            ],
            [
             1,
             "#f0f921"
            ]
           ],
           "sequentialminus": [
            [
             0,
             "#0d0887"
            ],
            [
             0.1111111111111111,
             "#46039f"
            ],
            [
             0.2222222222222222,
             "#7201a8"
            ],
            [
             0.3333333333333333,
             "#9c179e"
            ],
            [
             0.4444444444444444,
             "#bd3786"
            ],
            [
             0.5555555555555556,
             "#d8576b"
            ],
            [
             0.6666666666666666,
             "#ed7953"
            ],
            [
             0.7777777777777778,
             "#fb9f3a"
            ],
            [
             0.8888888888888888,
             "#fdca26"
            ],
            [
             1,
             "#f0f921"
            ]
           ]
          },
          "colorway": [
           "#636efa",
           "#EF553B",
           "#00cc96",
           "#ab63fa",
           "#FFA15A",
           "#19d3f3",
           "#FF6692",
           "#B6E880",
           "#FF97FF",
           "#FECB52"
          ],
          "font": {
           "color": "#2a3f5f"
          },
          "geo": {
           "bgcolor": "white",
           "lakecolor": "white",
           "landcolor": "#E5ECF6",
           "showlakes": true,
           "showland": true,
           "subunitcolor": "white"
          },
          "hoverlabel": {
           "align": "left"
          },
          "hovermode": "closest",
          "mapbox": {
           "style": "light"
          },
          "paper_bgcolor": "white",
          "plot_bgcolor": "#E5ECF6",
          "polar": {
           "angularaxis": {
            "gridcolor": "white",
            "linecolor": "white",
            "ticks": ""
           },
           "bgcolor": "#E5ECF6",
           "radialaxis": {
            "gridcolor": "white",
            "linecolor": "white",
            "ticks": ""
           }
          },
          "scene": {
           "xaxis": {
            "backgroundcolor": "#E5ECF6",
            "gridcolor": "white",
            "gridwidth": 2,
            "linecolor": "white",
            "showbackground": true,
            "ticks": "",
            "zerolinecolor": "white"
           },
           "yaxis": {
            "backgroundcolor": "#E5ECF6",
            "gridcolor": "white",
            "gridwidth": 2,
            "linecolor": "white",
            "showbackground": true,
            "ticks": "",
            "zerolinecolor": "white"
           },
           "zaxis": {
            "backgroundcolor": "#E5ECF6",
            "gridcolor": "white",
            "gridwidth": 2,
            "linecolor": "white",
            "showbackground": true,
            "ticks": "",
            "zerolinecolor": "white"
           }
          },
          "shapedefaults": {
           "line": {
            "color": "#2a3f5f"
           }
          },
          "ternary": {
           "aaxis": {
            "gridcolor": "white",
            "linecolor": "white",
            "ticks": ""
           },
           "baxis": {
            "gridcolor": "white",
            "linecolor": "white",
            "ticks": ""
           },
           "bgcolor": "#E5ECF6",
           "caxis": {
            "gridcolor": "white",
            "linecolor": "white",
            "ticks": ""
           }
          },
          "title": {
           "x": 0.05
          },
          "xaxis": {
           "automargin": true,
           "gridcolor": "white",
           "linecolor": "white",
           "ticks": "",
           "title": {
            "standoff": 15
           },
           "zerolinecolor": "white",
           "zerolinewidth": 2
          },
          "yaxis": {
           "automargin": true,
           "gridcolor": "white",
           "linecolor": "white",
           "ticks": "",
           "title": {
            "standoff": 15
           },
           "zerolinecolor": "white",
           "zerolinewidth": 2
          }
         }
        },
        "title": {
         "text": "3m revenue"
        }
       }
      }
     },
     "metadata": {},
     "output_type": "display_data"
    }
   ],
   "source": [
    "#plot LTV histogram\n",
    "plot_3m_data = [\n",
    "    go.Histogram(\n",
    "        x=revenue_3m_bycus['m3_revenue']\n",
    "    )\n",
    "]\n",
    "\n",
    "plot_layout = go.Layout(\n",
    "        title='3m revenue'\n",
    "    )\n",
    "fig = go.Figure(data=plot_3m_data, layout=plot_layout)\n",
    "pyoff.iplot(fig)"
   ]
  },
  {
   "cell_type": "code",
   "execution_count": 58,
   "metadata": {},
   "outputs": [
    {
     "data": {
      "application/vnd.plotly.v1+json": {
       "config": {
        "linkText": "Export to plot.ly",
        "plotlyServerURL": "https://plot.ly",
        "showLink": false
       },
       "data": [
        {
         "type": "histogram",
         "x": {
          "bdata": "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",
          "dtype": "f8"
         }
        }
       ],
       "layout": {
        "template": {
         "data": {
          "bar": [
           {
            "error_x": {
             "color": "#2a3f5f"
            },
            "error_y": {
             "color": "#2a3f5f"
            },
            "marker": {
             "line": {
              "color": "#E5ECF6",
              "width": 0.5
             },
             "pattern": {
              "fillmode": "overlay",
              "size": 10,
              "solidity": 0.2
             }
            },
            "type": "bar"
           }
          ],
          "barpolar": [
           {
            "marker": {
             "line": {
              "color": "#E5ECF6",
              "width": 0.5
             },
             "pattern": {
              "fillmode": "overlay",
              "size": 10,
              "solidity": 0.2
             }
            },
            "type": "barpolar"
           }
          ],
          "carpet": [
           {
            "aaxis": {
             "endlinecolor": "#2a3f5f",
             "gridcolor": "white",
             "linecolor": "white",
             "minorgridcolor": "white",
             "startlinecolor": "#2a3f5f"
            },
            "baxis": {
             "endlinecolor": "#2a3f5f",
             "gridcolor": "white",
             "linecolor": "white",
             "minorgridcolor": "white",
             "startlinecolor": "#2a3f5f"
            },
            "type": "carpet"
           }
          ],
          "choropleth": [
           {
            "colorbar": {
             "outlinewidth": 0,
             "ticks": ""
            },
            "type": "choropleth"
           }
          ],
          "contour": [
           {
            "colorbar": {
             "outlinewidth": 0,
             "ticks": ""
            },
            "colorscale": [
             [
              0,
              "#0d0887"
             ],
             [
              0.1111111111111111,
              "#46039f"
             ],
             [
              0.2222222222222222,
              "#7201a8"
             ],
             [
              0.3333333333333333,
              "#9c179e"
             ],
             [
              0.4444444444444444,
              "#bd3786"
             ],
             [
              0.5555555555555556,
              "#d8576b"
             ],
             [
              0.6666666666666666,
              "#ed7953"
             ],
             [
              0.7777777777777778,
              "#fb9f3a"
             ],
             [
              0.8888888888888888,
              "#fdca26"
             ],
             [
              1,
              "#f0f921"
             ]
            ],
            "type": "contour"
           }
          ],
          "contourcarpet": [
           {
            "colorbar": {
             "outlinewidth": 0,
             "ticks": ""
            },
            "type": "contourcarpet"
           }
          ],
          "heatmap": [
           {
            "colorbar": {
             "outlinewidth": 0,
             "ticks": ""
            },
            "colorscale": [
             [
              0,
              "#0d0887"
             ],
             [
              0.1111111111111111,
              "#46039f"
             ],
             [
              0.2222222222222222,
              "#7201a8"
             ],
             [
              0.3333333333333333,
              "#9c179e"
             ],
             [
              0.4444444444444444,
              "#bd3786"
             ],
             [
              0.5555555555555556,
              "#d8576b"
             ],
             [
              0.6666666666666666,
              "#ed7953"
             ],
             [
              0.7777777777777778,
              "#fb9f3a"
             ],
             [
              0.8888888888888888,
              "#fdca26"
             ],
             [
              1,
              "#f0f921"
             ]
            ],
            "type": "heatmap"
           }
          ],
          "histogram": [
           {
            "marker": {
             "pattern": {
              "fillmode": "overlay",
              "size": 10,
              "solidity": 0.2
             }
            },
            "type": "histogram"
           }
          ],
          "histogram2d": [
           {
            "colorbar": {
             "outlinewidth": 0,
             "ticks": ""
            },
            "colorscale": [
             [
              0,
              "#0d0887"
             ],
             [
              0.1111111111111111,
              "#46039f"
             ],
             [
              0.2222222222222222,
              "#7201a8"
             ],
             [
              0.3333333333333333,
              "#9c179e"
             ],
             [
              0.4444444444444444,
              "#bd3786"
             ],
             [
              0.5555555555555556,
              "#d8576b"
             ],
             [
              0.6666666666666666,
              "#ed7953"
             ],
             [
              0.7777777777777778,
              "#fb9f3a"
             ],
             [
              0.8888888888888888,
              "#fdca26"
             ],
             [
              1,
              "#f0f921"
             ]
            ],
            "type": "histogram2d"
           }
          ],
          "histogram2dcontour": [
           {
            "colorbar": {
             "outlinewidth": 0,
             "ticks": ""
            },
            "colorscale": [
             [
              0,
              "#0d0887"
             ],
             [
              0.1111111111111111,
              "#46039f"
             ],
             [
              0.2222222222222222,
              "#7201a8"
             ],
             [
              0.3333333333333333,
              "#9c179e"
             ],
             [
              0.4444444444444444,
              "#bd3786"
             ],
             [
              0.5555555555555556,
              "#d8576b"
             ],
             [
              0.6666666666666666,
              "#ed7953"
             ],
             [
              0.7777777777777778,
              "#fb9f3a"
             ],
             [
              0.8888888888888888,
              "#fdca26"
             ],
             [
              1,
              "#f0f921"
             ]
            ],
            "type": "histogram2dcontour"
           }
          ],
          "mesh3d": [
           {
            "colorbar": {
             "outlinewidth": 0,
             "ticks": ""
            },
            "type": "mesh3d"
           }
          ],
          "parcoords": [
           {
            "line": {
             "colorbar": {
              "outlinewidth": 0,
              "ticks": ""
             }
            },
            "type": "parcoords"
           }
          ],
          "pie": [
           {
            "automargin": true,
            "type": "pie"
           }
          ],
          "scatter": [
           {
            "fillpattern": {
             "fillmode": "overlay",
             "size": 10,
             "solidity": 0.2
            },
            "type": "scatter"
           }
          ],
          "scatter3d": [
           {
            "line": {
             "colorbar": {
              "outlinewidth": 0,
              "ticks": ""
             }
            },
            "marker": {
             "colorbar": {
              "outlinewidth": 0,
              "ticks": ""
             }
            },
            "type": "scatter3d"
           }
          ],
          "scattercarpet": [
           {
            "marker": {
             "colorbar": {
              "outlinewidth": 0,
              "ticks": ""
             }
            },
            "type": "scattercarpet"
           }
          ],
          "scattergeo": [
           {
            "marker": {
             "colorbar": {
              "outlinewidth": 0,
              "ticks": ""
             }
            },
            "type": "scattergeo"
           }
          ],
          "scattergl": [
           {
            "marker": {
             "colorbar": {
              "outlinewidth": 0,
              "ticks": ""
             }
            },
            "type": "scattergl"
           }
          ],
          "scattermap": [
           {
            "marker": {
             "colorbar": {
              "outlinewidth": 0,
              "ticks": ""
             }
            },
            "type": "scattermap"
           }
          ],
          "scattermapbox": [
           {
            "marker": {
             "colorbar": {
              "outlinewidth": 0,
              "ticks": ""
             }
            },
            "type": "scattermapbox"
           }
          ],
          "scatterpolar": [
           {
            "marker": {
             "colorbar": {
              "outlinewidth": 0,
              "ticks": ""
             }
            },
            "type": "scatterpolar"
           }
          ],
          "scatterpolargl": [
           {
            "marker": {
             "colorbar": {
              "outlinewidth": 0,
              "ticks": ""
             }
            },
            "type": "scatterpolargl"
           }
          ],
          "scatterternary": [
           {
            "marker": {
             "colorbar": {
              "outlinewidth": 0,
              "ticks": ""
             }
            },
            "type": "scatterternary"
           }
          ],
          "surface": [
           {
            "colorbar": {
             "outlinewidth": 0,
             "ticks": ""
            },
            "colorscale": [
             [
              0,
              "#0d0887"
             ],
             [
              0.1111111111111111,
              "#46039f"
             ],
             [
              0.2222222222222222,
              "#7201a8"
             ],
             [
              0.3333333333333333,
              "#9c179e"
             ],
             [
              0.4444444444444444,
              "#bd3786"
             ],
             [
              0.5555555555555556,
              "#d8576b"
             ],
             [
              0.6666666666666666,
              "#ed7953"
             ],
             [
              0.7777777777777778,
              "#fb9f3a"
             ],
             [
              0.8888888888888888,
              "#fdca26"
             ],
             [
              1,
              "#f0f921"
             ]
            ],
            "type": "surface"
           }
          ],
          "table": [
           {
            "cells": {
             "fill": {
              "color": "#EBF0F8"
             },
             "line": {
              "color": "white"
             }
            },
            "header": {
             "fill": {
              "color": "#C8D4E3"
             },
             "line": {
              "color": "white"
             }
            },
            "type": "table"
           }
          ]
         },
         "layout": {
          "annotationdefaults": {
           "arrowcolor": "#2a3f5f",
           "arrowhead": 0,
           "arrowwidth": 1
          },
          "autotypenumbers": "strict",
          "coloraxis": {
           "colorbar": {
            "outlinewidth": 0,
            "ticks": ""
           }
          },
          "colorscale": {
           "diverging": [
            [
             0,
             "#8e0152"
            ],
            [
             0.1,
             "#c51b7d"
            ],
            [
             0.2,
             "#de77ae"
            ],
            [
             0.3,
             "#f1b6da"
            ],
            [
             0.4,
             "#fde0ef"
            ],
            [
             0.5,
             "#f7f7f7"
            ],
            [
             0.6,
             "#e6f5d0"
            ],
            [
             0.7,
             "#b8e186"
            ],
            [
             0.8,
             "#7fbc41"
            ],
            [
             0.9,
             "#4d9221"
            ],
            [
             1,
             "#276419"
            ]
           ],
           "sequential": [
            [
             0,
             "#0d0887"
            ],
            [
             0.1111111111111111,
             "#46039f"
            ],
            [
             0.2222222222222222,
             "#7201a8"
            ],
            [
             0.3333333333333333,
             "#9c179e"
            ],
            [
             0.4444444444444444,
             "#bd3786"
            ],
            [
             0.5555555555555556,
             "#d8576b"
            ],
            [
             0.6666666666666666,
             "#ed7953"
            ],
            [
             0.7777777777777778,
             "#fb9f3a"
            ],
            [
             0.8888888888888888,
             "#fdca26"
            ],
            [
             1,
             "#f0f921"
            ]
           ],
           "sequentialminus": [
            [
             0,
             "#0d0887"
            ],
            [
             0.1111111111111111,
             "#46039f"
            ],
            [
             0.2222222222222222,
             "#7201a8"
            ],
            [
             0.3333333333333333,
             "#9c179e"
            ],
            [
             0.4444444444444444,
             "#bd3786"
            ],
            [
             0.5555555555555556,
             "#d8576b"
            ],
            [
             0.6666666666666666,
             "#ed7953"
            ],
            [
             0.7777777777777778,
             "#fb9f3a"
            ],
            [
             0.8888888888888888,
             "#fdca26"
            ],
            [
             1,
             "#f0f921"
            ]
           ]
          },
          "colorway": [
           "#636efa",
           "#EF553B",
           "#00cc96",
           "#ab63fa",
           "#FFA15A",
           "#19d3f3",
           "#FF6692",
           "#B6E880",
           "#FF97FF",
           "#FECB52"
          ],
          "font": {
           "color": "#2a3f5f"
          },
          "geo": {
           "bgcolor": "white",
           "lakecolor": "white",
           "landcolor": "#E5ECF6",
           "showlakes": true,
           "showland": true,
           "subunitcolor": "white"
          },
          "hoverlabel": {
           "align": "left"
          },
          "hovermode": "closest",
          "mapbox": {
           "style": "light"
          },
          "paper_bgcolor": "white",
          "plot_bgcolor": "#E5ECF6",
          "polar": {
           "angularaxis": {
            "gridcolor": "white",
            "linecolor": "white",
            "ticks": ""
           },
           "bgcolor": "#E5ECF6",
           "radialaxis": {
            "gridcolor": "white",
            "linecolor": "white",
            "ticks": ""
           }
          },
          "scene": {
           "xaxis": {
            "backgroundcolor": "#E5ECF6",
            "gridcolor": "white",
            "gridwidth": 2,
            "linecolor": "white",
            "showbackground": true,
            "ticks": "",
            "zerolinecolor": "white"
           },
           "yaxis": {
            "backgroundcolor": "#E5ECF6",
            "gridcolor": "white",
            "gridwidth": 2,
            "linecolor": "white",
            "showbackground": true,
            "ticks": "",
            "zerolinecolor": "white"
           },
           "zaxis": {
            "backgroundcolor": "#E5ECF6",
            "gridcolor": "white",
            "gridwidth": 2,
            "linecolor": "white",
            "showbackground": true,
            "ticks": "",
            "zerolinecolor": "white"
           }
          },
          "shapedefaults": {
           "line": {
            "color": "#2a3f5f"
           }
          },
          "ternary": {
           "aaxis": {
            "gridcolor": "white",
            "linecolor": "white",
            "ticks": ""
           },
           "baxis": {
            "gridcolor": "white",
            "linecolor": "white",
            "ticks": ""
           },
           "bgcolor": "#E5ECF6",
           "caxis": {
            "gridcolor": "white",
            "linecolor": "white",
            "ticks": ""
           }
          },
          "title": {
           "x": 0.05
          },
          "xaxis": {
           "automargin": true,
           "gridcolor": "white",
           "linecolor": "white",
           "ticks": "",
           "title": {
            "standoff": 15
           },
           "zerolinecolor": "white",
           "zerolinewidth": 2
          },
          "yaxis": {
           "automargin": true,
           "gridcolor": "white",
           "linecolor": "white",
           "ticks": "",
           "title": {
            "standoff": 15
           },
           "zerolinecolor": "white",
           "zerolinewidth": 2
          }
         }
        },
        "title": {
         "text": "6m revenue"
        }
       }
      }
     },
     "metadata": {},
     "output_type": "display_data"
    }
   ],
   "source": [
    "#plot LTV histogram\n",
    "plot_6m_data = [\n",
    "    go.Histogram(\n",
    "        x=revenue_6m_bycus['m6_revenue']\n",
    "    )\n",
    "]\n",
    "\n",
    "plot_layout = go.Layout(\n",
    "        title='6m revenue'\n",
    "    )\n",
    "fig = go.Figure(data=plot_6m_data, layout=plot_layout)\n",
    "pyoff.iplot(fig)"
   ]
  },
  {
   "cell_type": "code",
   "execution_count": null,
   "metadata": {},
   "outputs": [],
   "source": [
    "#Feature Engineering (convert categorial columns to numerical)"
   ]
  },
  {
   "cell_type": "code",
   "execution_count": null,
   "metadata": {},
   "outputs": [],
   "source": [
    "#Train split test"
   ]
  },
  {
   "cell_type": "code",
   "execution_count": null,
   "metadata": {},
   "outputs": [],
   "source": [
    "#Machine Learning model for CLV prediction"
   ]
  },
  {
   "cell_type": "code",
   "execution_count": null,
   "metadata": {},
   "outputs": [],
   "source": [
    "#Evaluation"
   ]
  }
 ],
 "metadata": {
  "kernelspec": {
   "display_name": "Python 3",
   "language": "python",
   "name": "python3"
  },
  "language_info": {
   "codemirror_mode": {
    "name": "ipython",
    "version": 3
   },
   "file_extension": ".py",
   "mimetype": "text/x-python",
   "name": "python",
   "nbconvert_exporter": "python",
   "pygments_lexer": "ipython3",
   "version": "3.9.6"
  }
 },
 "nbformat": 4,
 "nbformat_minor": 2
}
