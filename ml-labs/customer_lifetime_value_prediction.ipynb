{
 "cells": [
  {
   "cell_type": "markdown",
   "metadata": {},
   "source": [
    "# Import libraries and datasets"
   ]
  },
  {
   "cell_type": "code",
   "execution_count": 2,
   "metadata": {},
   "outputs": [],
   "source": [
    "import pandas as pd \n",
    "import numpy as np "
   ]
  },
  {
   "cell_type": "code",
   "execution_count": 3,
   "metadata": {},
   "outputs": [],
   "source": [
    "olist_customers = pd.read_csv(\"/Users/phuongnguyen/Documents/Code Github/mlops-ml-ecommerce-customers/sample_files/olist_dataset/olist_customers_dataset.csv\")\n",
    "olist_orders = pd.read_csv(\"/Users/phuongnguyen/Documents/Code Github/mlops-ml-ecommerce-customers/sample_files/olist_dataset/olist_orders_dataset.csv\")\n",
    "olist_orders_payment = pd.read_csv(\"/Users/phuongnguyen/Documents/Code Github/mlops-ml-ecommerce-customers/sample_files/olist_dataset/olist_order_payments_dataset.csv\")\n",
    "customer_segmentation_ltv = pd.read_csv(\"/Users/phuongnguyen/Documents/Code Github/mlops-ml-ecommerce-customers/sample_files/customer_segmentation_ltv.csv\")"
   ]
  },
  {
   "cell_type": "code",
   "execution_count": 4,
   "metadata": {},
   "outputs": [
    {
     "name": "stdout",
     "output_type": "stream",
     "text": [
      "Index(['order_id', 'customer_id', 'order_status', 'order_purchase_timestamp',\n",
      "       'order_approved_at', 'order_delivered_carrier_date',\n",
      "       'order_delivered_customer_date', 'order_estimated_delivery_date',\n",
      "       'customer_unique_id', 'customer_zip_code_prefix', 'customer_city',\n",
      "       'customer_state', 'payment_sequential', 'payment_type',\n",
      "       'payment_installments', 'payment_value'],\n",
      "      dtype='object')\n"
     ]
    }
   ],
   "source": [
    "#merge dataset orders and customers to solve unique_customer_id\n",
    "orders_bycus = pd.merge(olist_orders, olist_customers, on = 'customer_id')\n",
    "#merge dataset orders by customer and their payment for further use\n",
    "orders_payment_bycus = pd.merge(orders_bycus, olist_orders_payment, on = 'order_id')\n",
    "print(orders_payment_bycus.columns)"
   ]
  },
  {
   "cell_type": "code",
   "execution_count": 5,
   "metadata": {},
   "outputs": [
    {
     "name": "stdout",
     "output_type": "stream",
     "text": [
      "2018-10-17 17:30:18\n"
     ]
    }
   ],
   "source": [
    "#Calculate the revenue of last month of every customer\n",
    "#Filter olist_orders with purchase time in last month -> sum revenue and groupby customer_unique_id\n",
    "max_date = olist_orders['order_purchase_timestamp'].max()\n",
    "max_date_timestamp = pd.to_datetime(max_date)\n",
    "print(max_date)\n",
    "\n",
    "#Merge with customer_segementation_ltv customer_unique_id"
   ]
  },
  {
   "cell_type": "code",
   "execution_count": 22,
   "metadata": {},
   "outputs": [
    {
     "name": "stdout",
     "output_type": "stream",
     "text": [
      "order_id                                 object\n",
      "customer_id                              object\n",
      "order_status                             object\n",
      "order_purchase_timestamp                 object\n",
      "order_approved_at                        object\n",
      "order_delivered_carrier_date             object\n",
      "order_delivered_customer_date            object\n",
      "order_estimated_delivery_date            object\n",
      "order_purchase_datetime          datetime64[ns]\n",
      "dtype: object\n"
     ]
    }
   ],
   "source": [
    "print(olist_orders.dtypes)"
   ]
  },
  {
   "cell_type": "code",
   "execution_count": 17,
   "metadata": {},
   "outputs": [],
   "source": [
    "olist_orders['order_purchase_datetime'] = pd.to_datetime(olist_orders['order_purchase_timestamp'])"
   ]
  },
  {
   "cell_type": "code",
   "execution_count": 23,
   "metadata": {},
   "outputs": [],
   "source": [
    "olist_orders_3m = olist_orders[olist_orders['order_purchase_datetime'] >= '2018-7-17']"
   ]
  },
  {
   "cell_type": "code",
   "execution_count": 24,
   "metadata": {},
   "outputs": [
    {
     "data": {
      "text/html": [
       "<div>\n",
       "<style scoped>\n",
       "    .dataframe tbody tr th:only-of-type {\n",
       "        vertical-align: middle;\n",
       "    }\n",
       "\n",
       "    .dataframe tbody tr th {\n",
       "        vertical-align: top;\n",
       "    }\n",
       "\n",
       "    .dataframe thead th {\n",
       "        text-align: right;\n",
       "    }\n",
       "</style>\n",
       "<table border=\"1\" class=\"dataframe\">\n",
       "  <thead>\n",
       "    <tr style=\"text-align: right;\">\n",
       "      <th></th>\n",
       "      <th>order_purchase_datetime</th>\n",
       "    </tr>\n",
       "  </thead>\n",
       "  <tbody>\n",
       "    <tr>\n",
       "      <th>count</th>\n",
       "      <td>99441</td>\n",
       "    </tr>\n",
       "    <tr>\n",
       "      <th>mean</th>\n",
       "      <td>2017-12-31 08:43:12.776581120</td>\n",
       "    </tr>\n",
       "    <tr>\n",
       "      <th>min</th>\n",
       "      <td>2016-09-04 21:15:19</td>\n",
       "    </tr>\n",
       "    <tr>\n",
       "      <th>25%</th>\n",
       "      <td>2017-09-12 14:46:19</td>\n",
       "    </tr>\n",
       "    <tr>\n",
       "      <th>50%</th>\n",
       "      <td>2018-01-18 23:04:36</td>\n",
       "    </tr>\n",
       "    <tr>\n",
       "      <th>75%</th>\n",
       "      <td>2018-05-04 15:42:16</td>\n",
       "    </tr>\n",
       "    <tr>\n",
       "      <th>max</th>\n",
       "      <td>2018-10-17 17:30:18</td>\n",
       "    </tr>\n",
       "  </tbody>\n",
       "</table>\n",
       "</div>"
      ],
      "text/plain": [
       "             order_purchase_datetime\n",
       "count                          99441\n",
       "mean   2017-12-31 08:43:12.776581120\n",
       "min              2016-09-04 21:15:19\n",
       "25%              2017-09-12 14:46:19\n",
       "50%              2018-01-18 23:04:36\n",
       "75%              2018-05-04 15:42:16\n",
       "max              2018-10-17 17:30:18"
      ]
     },
     "execution_count": 24,
     "metadata": {},
     "output_type": "execute_result"
    }
   ],
   "source": [
    "olist_orders.describe()"
   ]
  },
  {
   "cell_type": "code",
   "execution_count": 26,
   "metadata": {},
   "outputs": [
    {
     "data": {
      "text/plain": [
       "order_id                         10221\n",
       "customer_id                      10221\n",
       "order_status                     10221\n",
       "order_purchase_timestamp         10221\n",
       "order_approved_at                10148\n",
       "order_delivered_carrier_date     10043\n",
       "order_delivered_customer_date     9963\n",
       "order_estimated_delivery_date    10221\n",
       "order_purchase_datetime          10221\n",
       "dtype: int64"
      ]
     },
     "execution_count": 26,
     "metadata": {},
     "output_type": "execute_result"
    }
   ],
   "source": [
    "olist_orders_3m.count()"
   ]
  },
  {
   "cell_type": "code",
   "execution_count": 27,
   "metadata": {},
   "outputs": [],
   "source": [
    "orders_3m_bycus = pd.merge(olist_orders_3m, olist_customers, on = 'customer_id')"
   ]
  },
  {
   "cell_type": "code",
   "execution_count": 31,
   "metadata": {},
   "outputs": [
    {
     "data": {
      "text/plain": [
       "order_id                         10221\n",
       "customer_id                      10221\n",
       "order_status                     10221\n",
       "order_purchase_timestamp         10221\n",
       "order_approved_at                10148\n",
       "order_delivered_carrier_date     10043\n",
       "order_delivered_customer_date     9963\n",
       "order_estimated_delivery_date    10221\n",
       "order_purchase_datetime          10221\n",
       "customer_unique_id               10221\n",
       "customer_zip_code_prefix         10221\n",
       "customer_city                    10221\n",
       "customer_state                   10221\n",
       "dtype: int64"
      ]
     },
     "execution_count": 31,
     "metadata": {},
     "output_type": "execute_result"
    }
   ],
   "source": [
    "orders_3m_bycus.count()"
   ]
  },
  {
   "cell_type": "code",
   "execution_count": 29,
   "metadata": {},
   "outputs": [],
   "source": [
    "orders_payment_3m_bycus = pd.merge(orders_3m_bycus, olist_orders_payment, on = 'order_id')"
   ]
  },
  {
   "cell_type": "code",
   "execution_count": 30,
   "metadata": {},
   "outputs": [
    {
     "data": {
      "text/plain": [
       "order_id                         10536\n",
       "customer_id                      10536\n",
       "order_status                     10536\n",
       "order_purchase_timestamp         10536\n",
       "order_approved_at                10463\n",
       "order_delivered_carrier_date     10356\n",
       "order_delivered_customer_date    10273\n",
       "order_estimated_delivery_date    10536\n",
       "order_purchase_datetime          10536\n",
       "customer_unique_id               10536\n",
       "customer_zip_code_prefix         10536\n",
       "customer_city                    10536\n",
       "customer_state                   10536\n",
       "payment_sequential               10536\n",
       "payment_type                     10536\n",
       "payment_installments             10536\n",
       "payment_value                    10536\n",
       "dtype: int64"
      ]
     },
     "execution_count": 30,
     "metadata": {},
     "output_type": "execute_result"
    }
   ],
   "source": [
    "orders_payment_3m_bycus.count()"
   ]
  },
  {
   "cell_type": "code",
   "execution_count": 33,
   "metadata": {},
   "outputs": [],
   "source": [
    "revenue_3m = orders_payment_3m_bycus.groupby('customer_unique_id')['payment_value'].sum().reset_index()"
   ]
  },
  {
   "cell_type": "code",
   "execution_count": 34,
   "metadata": {},
   "outputs": [],
   "source": [
    "revenue_3m.columns = ['customer_unique_id', 'revenue_3m']"
   ]
  },
  {
   "cell_type": "code",
   "execution_count": 35,
   "metadata": {},
   "outputs": [
    {
     "data": {
      "text/html": [
       "<div>\n",
       "<style scoped>\n",
       "    .dataframe tbody tr th:only-of-type {\n",
       "        vertical-align: middle;\n",
       "    }\n",
       "\n",
       "    .dataframe tbody tr th {\n",
       "        vertical-align: top;\n",
       "    }\n",
       "\n",
       "    .dataframe thead th {\n",
       "        text-align: right;\n",
       "    }\n",
       "</style>\n",
       "<table border=\"1\" class=\"dataframe\">\n",
       "  <thead>\n",
       "    <tr style=\"text-align: right;\">\n",
       "      <th></th>\n",
       "      <th>customer_unique_id</th>\n",
       "      <th>revenue_3m</th>\n",
       "    </tr>\n",
       "  </thead>\n",
       "  <tbody>\n",
       "    <tr>\n",
       "      <th>0</th>\n",
       "      <td>000ec5bff359e1c0ad76a81a45cb598f</td>\n",
       "      <td>27.75</td>\n",
       "    </tr>\n",
       "    <tr>\n",
       "      <th>1</th>\n",
       "      <td>000fbf0473c10fc1ab6f8d2d286ce20c</td>\n",
       "      <td>362.38</td>\n",
       "    </tr>\n",
       "    <tr>\n",
       "      <th>2</th>\n",
       "      <td>0015752e079902b12cd00b9b7596276b</td>\n",
       "      <td>74.82</td>\n",
       "    </tr>\n",
       "    <tr>\n",
       "      <th>3</th>\n",
       "      <td>00172711b30d52eea8b313a7f2cced02</td>\n",
       "      <td>244.14</td>\n",
       "    </tr>\n",
       "    <tr>\n",
       "      <th>4</th>\n",
       "      <td>001928b561575b2821c92254a2327d06</td>\n",
       "      <td>164.81</td>\n",
       "    </tr>\n",
       "  </tbody>\n",
       "</table>\n",
       "</div>"
      ],
      "text/plain": [
       "                 customer_unique_id  revenue_3m\n",
       "0  000ec5bff359e1c0ad76a81a45cb598f       27.75\n",
       "1  000fbf0473c10fc1ab6f8d2d286ce20c      362.38\n",
       "2  0015752e079902b12cd00b9b7596276b       74.82\n",
       "3  00172711b30d52eea8b313a7f2cced02      244.14\n",
       "4  001928b561575b2821c92254a2327d06      164.81"
      ]
     },
     "execution_count": 35,
     "metadata": {},
     "output_type": "execute_result"
    }
   ],
   "source": [
    "revenue_3m.head(5)"
   ]
  },
  {
   "cell_type": "code",
   "execution_count": 38,
   "metadata": {},
   "outputs": [],
   "source": [
    "rfm_revenue_3m = pd.merge(customer_segmentation_ltv, revenue_3m, on = 'customer_unique_id', how='left')\n",
    "rfm_revenue_3m = rfm_revenue_3m.fillna(0)"
   ]
  },
  {
   "cell_type": "code",
   "execution_count": 48,
   "metadata": {},
   "outputs": [
    {
     "data": {
      "text/html": [
       "<div>\n",
       "<style scoped>\n",
       "    .dataframe tbody tr th:only-of-type {\n",
       "        vertical-align: middle;\n",
       "    }\n",
       "\n",
       "    .dataframe tbody tr th {\n",
       "        vertical-align: top;\n",
       "    }\n",
       "\n",
       "    .dataframe thead th {\n",
       "        text-align: right;\n",
       "    }\n",
       "</style>\n",
       "<table border=\"1\" class=\"dataframe\">\n",
       "  <thead>\n",
       "    <tr style=\"text-align: right;\">\n",
       "      <th></th>\n",
       "      <th>customer_unique_id</th>\n",
       "      <th>recency</th>\n",
       "      <th>recency_cluster</th>\n",
       "      <th>frequency</th>\n",
       "      <th>frequency_cluster</th>\n",
       "      <th>revenue</th>\n",
       "      <th>revenue_cluster</th>\n",
       "      <th>rfm_score</th>\n",
       "      <th>Segment</th>\n",
       "      <th>revenue_3m</th>\n",
       "      <th>ltv_cluster</th>\n",
       "    </tr>\n",
       "  </thead>\n",
       "  <tbody>\n",
       "    <tr>\n",
       "      <th>0</th>\n",
       "      <td>0000366f3b9a7992bf8c76cfdf3221e2</td>\n",
       "      <td>160</td>\n",
       "      <td>3</td>\n",
       "      <td>1</td>\n",
       "      <td>0</td>\n",
       "      <td>141.90</td>\n",
       "      <td>0</td>\n",
       "      <td>3</td>\n",
       "      <td>Low-Value</td>\n",
       "      <td>0.00</td>\n",
       "      <td>0</td>\n",
       "    </tr>\n",
       "    <tr>\n",
       "      <th>1</th>\n",
       "      <td>0000b849f77a49e4a4ce2b2a4ca5be3f</td>\n",
       "      <td>163</td>\n",
       "      <td>3</td>\n",
       "      <td>1</td>\n",
       "      <td>0</td>\n",
       "      <td>27.19</td>\n",
       "      <td>0</td>\n",
       "      <td>3</td>\n",
       "      <td>Low-Value</td>\n",
       "      <td>0.00</td>\n",
       "      <td>0</td>\n",
       "    </tr>\n",
       "    <tr>\n",
       "      <th>2</th>\n",
       "      <td>000e309254ab1fc5ba99dd469d36bdb4</td>\n",
       "      <td>114</td>\n",
       "      <td>3</td>\n",
       "      <td>1</td>\n",
       "      <td>0</td>\n",
       "      <td>78.42</td>\n",
       "      <td>0</td>\n",
       "      <td>3</td>\n",
       "      <td>Low-Value</td>\n",
       "      <td>0.00</td>\n",
       "      <td>0</td>\n",
       "    </tr>\n",
       "    <tr>\n",
       "      <th>3</th>\n",
       "      <td>000ec5bff359e1c0ad76a81a45cb598f</td>\n",
       "      <td>57</td>\n",
       "      <td>3</td>\n",
       "      <td>1</td>\n",
       "      <td>0</td>\n",
       "      <td>27.75</td>\n",
       "      <td>0</td>\n",
       "      <td>3</td>\n",
       "      <td>Low-Value</td>\n",
       "      <td>27.75</td>\n",
       "      <td>0</td>\n",
       "    </tr>\n",
       "    <tr>\n",
       "      <th>4</th>\n",
       "      <td>000ed48ceeb6f4bf8ad021a10a3c7b43</td>\n",
       "      <td>150</td>\n",
       "      <td>3</td>\n",
       "      <td>1</td>\n",
       "      <td>0</td>\n",
       "      <td>20.75</td>\n",
       "      <td>0</td>\n",
       "      <td>3</td>\n",
       "      <td>Low-Value</td>\n",
       "      <td>0.00</td>\n",
       "      <td>0</td>\n",
       "    </tr>\n",
       "    <tr>\n",
       "      <th>...</th>\n",
       "      <td>...</td>\n",
       "      <td>...</td>\n",
       "      <td>...</td>\n",
       "      <td>...</td>\n",
       "      <td>...</td>\n",
       "      <td>...</td>\n",
       "      <td>...</td>\n",
       "      <td>...</td>\n",
       "      <td>...</td>\n",
       "      <td>...</td>\n",
       "      <td>...</td>\n",
       "    </tr>\n",
       "    <tr>\n",
       "      <th>96090</th>\n",
       "      <td>fff1bdd5c5e37ca79dd74deeb91aa5b6</td>\n",
       "      <td>234</td>\n",
       "      <td>2</td>\n",
       "      <td>1</td>\n",
       "      <td>0</td>\n",
       "      <td>172.98</td>\n",
       "      <td>0</td>\n",
       "      <td>2</td>\n",
       "      <td>Low-Value</td>\n",
       "      <td>0.00</td>\n",
       "      <td>0</td>\n",
       "    </tr>\n",
       "    <tr>\n",
       "      <th>96091</th>\n",
       "      <td>fff2ae16b99c6f3c785f0e052f2a9cfb</td>\n",
       "      <td>180</td>\n",
       "      <td>2</td>\n",
       "      <td>1</td>\n",
       "      <td>0</td>\n",
       "      <td>200.90</td>\n",
       "      <td>0</td>\n",
       "      <td>2</td>\n",
       "      <td>Low-Value</td>\n",
       "      <td>0.00</td>\n",
       "      <td>0</td>\n",
       "    </tr>\n",
       "    <tr>\n",
       "      <th>96092</th>\n",
       "      <td>fff7219c86179ca6441b8f37823ba3d3</td>\n",
       "      <td>293</td>\n",
       "      <td>2</td>\n",
       "      <td>1</td>\n",
       "      <td>0</td>\n",
       "      <td>265.80</td>\n",
       "      <td>1</td>\n",
       "      <td>3</td>\n",
       "      <td>Low-Value</td>\n",
       "      <td>0.00</td>\n",
       "      <td>0</td>\n",
       "    </tr>\n",
       "    <tr>\n",
       "      <th>96093</th>\n",
       "      <td>fffbf87b7a1a6fa8b03f081c5f51a201</td>\n",
       "      <td>293</td>\n",
       "      <td>2</td>\n",
       "      <td>1</td>\n",
       "      <td>0</td>\n",
       "      <td>167.32</td>\n",
       "      <td>0</td>\n",
       "      <td>2</td>\n",
       "      <td>Low-Value</td>\n",
       "      <td>0.00</td>\n",
       "      <td>0</td>\n",
       "    </tr>\n",
       "    <tr>\n",
       "      <th>96094</th>\n",
       "      <td>fffcc512b7dfecaffd80f13614af1d16</td>\n",
       "      <td>189</td>\n",
       "      <td>2</td>\n",
       "      <td>1</td>\n",
       "      <td>0</td>\n",
       "      <td>710.70</td>\n",
       "      <td>2</td>\n",
       "      <td>4</td>\n",
       "      <td>Mid-Value</td>\n",
       "      <td>0.00</td>\n",
       "      <td>0</td>\n",
       "    </tr>\n",
       "  </tbody>\n",
       "</table>\n",
       "<p>96095 rows × 11 columns</p>\n",
       "</div>"
      ],
      "text/plain": [
       "                     customer_unique_id  recency  recency_cluster  frequency  \\\n",
       "0      0000366f3b9a7992bf8c76cfdf3221e2      160                3          1   \n",
       "1      0000b849f77a49e4a4ce2b2a4ca5be3f      163                3          1   \n",
       "2      000e309254ab1fc5ba99dd469d36bdb4      114                3          1   \n",
       "3      000ec5bff359e1c0ad76a81a45cb598f       57                3          1   \n",
       "4      000ed48ceeb6f4bf8ad021a10a3c7b43      150                3          1   \n",
       "...                                 ...      ...              ...        ...   \n",
       "96090  fff1bdd5c5e37ca79dd74deeb91aa5b6      234                2          1   \n",
       "96091  fff2ae16b99c6f3c785f0e052f2a9cfb      180                2          1   \n",
       "96092  fff7219c86179ca6441b8f37823ba3d3      293                2          1   \n",
       "96093  fffbf87b7a1a6fa8b03f081c5f51a201      293                2          1   \n",
       "96094  fffcc512b7dfecaffd80f13614af1d16      189                2          1   \n",
       "\n",
       "       frequency_cluster  revenue  revenue_cluster  rfm_score    Segment  \\\n",
       "0                      0   141.90                0          3  Low-Value   \n",
       "1                      0    27.19                0          3  Low-Value   \n",
       "2                      0    78.42                0          3  Low-Value   \n",
       "3                      0    27.75                0          3  Low-Value   \n",
       "4                      0    20.75                0          3  Low-Value   \n",
       "...                  ...      ...              ...        ...        ...   \n",
       "96090                  0   172.98                0          2  Low-Value   \n",
       "96091                  0   200.90                0          2  Low-Value   \n",
       "96092                  0   265.80                1          3  Low-Value   \n",
       "96093                  0   167.32                0          2  Low-Value   \n",
       "96094                  0   710.70                2          4  Mid-Value   \n",
       "\n",
       "       revenue_3m  ltv_cluster  \n",
       "0            0.00            0  \n",
       "1            0.00            0  \n",
       "2            0.00            0  \n",
       "3           27.75            0  \n",
       "4            0.00            0  \n",
       "...           ...          ...  \n",
       "96090        0.00            0  \n",
       "96091        0.00            0  \n",
       "96092        0.00            0  \n",
       "96093        0.00            0  \n",
       "96094        0.00            0  \n",
       "\n",
       "[96095 rows x 11 columns]"
      ]
     },
     "execution_count": 48,
     "metadata": {},
     "output_type": "execute_result"
    }
   ],
   "source": [
    "rfm_revenue_3m.drop(['Unnamed: 0'], axis=1)"
   ]
  },
  {
   "cell_type": "code",
   "execution_count": 45,
   "metadata": {},
   "outputs": [],
   "source": [
    "from sklearn.cluster import KMeans"
   ]
  },
  {
   "cell_type": "code",
   "execution_count": 49,
   "metadata": {},
   "outputs": [],
   "source": [
    "#Creating 3 clusters\n",
    "kmeans = KMeans(n_clusters = 3)\n",
    "kmeans.fit(rfm_revenue_3m[['revenue_3m']])\n",
    "rfm_revenue_3m['ltv_cluster'] = kmeans.predict(rfm_revenue_3m[['revenue_3m']])"
   ]
  },
  {
   "cell_type": "code",
   "execution_count": 50,
   "metadata": {},
   "outputs": [
    {
     "data": {
      "text/html": [
       "<div>\n",
       "<style scoped>\n",
       "    .dataframe tbody tr th:only-of-type {\n",
       "        vertical-align: middle;\n",
       "    }\n",
       "\n",
       "    .dataframe tbody tr th {\n",
       "        vertical-align: top;\n",
       "    }\n",
       "\n",
       "    .dataframe thead th {\n",
       "        text-align: right;\n",
       "    }\n",
       "</style>\n",
       "<table border=\"1\" class=\"dataframe\">\n",
       "  <thead>\n",
       "    <tr style=\"text-align: right;\">\n",
       "      <th></th>\n",
       "      <th>Unnamed: 0</th>\n",
       "      <th>customer_unique_id</th>\n",
       "      <th>recency</th>\n",
       "      <th>recency_cluster</th>\n",
       "      <th>frequency</th>\n",
       "      <th>frequency_cluster</th>\n",
       "      <th>revenue</th>\n",
       "      <th>revenue_cluster</th>\n",
       "      <th>rfm_score</th>\n",
       "      <th>Segment</th>\n",
       "      <th>revenue_3m</th>\n",
       "      <th>ltv_cluster</th>\n",
       "    </tr>\n",
       "  </thead>\n",
       "  <tbody>\n",
       "    <tr>\n",
       "      <th>0</th>\n",
       "      <td>0</td>\n",
       "      <td>0000366f3b9a7992bf8c76cfdf3221e2</td>\n",
       "      <td>160</td>\n",
       "      <td>3</td>\n",
       "      <td>1</td>\n",
       "      <td>0</td>\n",
       "      <td>141.90</td>\n",
       "      <td>0</td>\n",
       "      <td>3</td>\n",
       "      <td>Low-Value</td>\n",
       "      <td>0.00</td>\n",
       "      <td>0</td>\n",
       "    </tr>\n",
       "    <tr>\n",
       "      <th>1</th>\n",
       "      <td>1</td>\n",
       "      <td>0000b849f77a49e4a4ce2b2a4ca5be3f</td>\n",
       "      <td>163</td>\n",
       "      <td>3</td>\n",
       "      <td>1</td>\n",
       "      <td>0</td>\n",
       "      <td>27.19</td>\n",
       "      <td>0</td>\n",
       "      <td>3</td>\n",
       "      <td>Low-Value</td>\n",
       "      <td>0.00</td>\n",
       "      <td>0</td>\n",
       "    </tr>\n",
       "    <tr>\n",
       "      <th>2</th>\n",
       "      <td>2</td>\n",
       "      <td>000e309254ab1fc5ba99dd469d36bdb4</td>\n",
       "      <td>114</td>\n",
       "      <td>3</td>\n",
       "      <td>1</td>\n",
       "      <td>0</td>\n",
       "      <td>78.42</td>\n",
       "      <td>0</td>\n",
       "      <td>3</td>\n",
       "      <td>Low-Value</td>\n",
       "      <td>0.00</td>\n",
       "      <td>0</td>\n",
       "    </tr>\n",
       "    <tr>\n",
       "      <th>3</th>\n",
       "      <td>3</td>\n",
       "      <td>000ec5bff359e1c0ad76a81a45cb598f</td>\n",
       "      <td>57</td>\n",
       "      <td>3</td>\n",
       "      <td>1</td>\n",
       "      <td>0</td>\n",
       "      <td>27.75</td>\n",
       "      <td>0</td>\n",
       "      <td>3</td>\n",
       "      <td>Low-Value</td>\n",
       "      <td>27.75</td>\n",
       "      <td>0</td>\n",
       "    </tr>\n",
       "    <tr>\n",
       "      <th>4</th>\n",
       "      <td>4</td>\n",
       "      <td>000ed48ceeb6f4bf8ad021a10a3c7b43</td>\n",
       "      <td>150</td>\n",
       "      <td>3</td>\n",
       "      <td>1</td>\n",
       "      <td>0</td>\n",
       "      <td>20.75</td>\n",
       "      <td>0</td>\n",
       "      <td>3</td>\n",
       "      <td>Low-Value</td>\n",
       "      <td>0.00</td>\n",
       "      <td>0</td>\n",
       "    </tr>\n",
       "  </tbody>\n",
       "</table>\n",
       "</div>"
      ],
      "text/plain": [
       "   Unnamed: 0                customer_unique_id  recency  recency_cluster  \\\n",
       "0           0  0000366f3b9a7992bf8c76cfdf3221e2      160                3   \n",
       "1           1  0000b849f77a49e4a4ce2b2a4ca5be3f      163                3   \n",
       "2           2  000e309254ab1fc5ba99dd469d36bdb4      114                3   \n",
       "3           3  000ec5bff359e1c0ad76a81a45cb598f       57                3   \n",
       "4           4  000ed48ceeb6f4bf8ad021a10a3c7b43      150                3   \n",
       "\n",
       "   frequency  frequency_cluster  revenue  revenue_cluster  rfm_score  \\\n",
       "0          1                  0   141.90                0          3   \n",
       "1          1                  0    27.19                0          3   \n",
       "2          1                  0    78.42                0          3   \n",
       "3          1                  0    27.75                0          3   \n",
       "4          1                  0    20.75                0          3   \n",
       "\n",
       "     Segment  revenue_3m  ltv_cluster  \n",
       "0  Low-Value        0.00            0  \n",
       "1  Low-Value        0.00            0  \n",
       "2  Low-Value        0.00            0  \n",
       "3  Low-Value       27.75            0  \n",
       "4  Low-Value        0.00            0  "
      ]
     },
     "execution_count": 50,
     "metadata": {},
     "output_type": "execute_result"
    }
   ],
   "source": [
    "rfm_revenue_3m.head(5)"
   ]
  },
  {
   "cell_type": "code",
   "execution_count": 52,
   "metadata": {},
   "outputs": [
    {
     "data": {
      "text/html": [
       "<div>\n",
       "<style scoped>\n",
       "    .dataframe tbody tr th:only-of-type {\n",
       "        vertical-align: middle;\n",
       "    }\n",
       "\n",
       "    .dataframe tbody tr th {\n",
       "        vertical-align: top;\n",
       "    }\n",
       "\n",
       "    .dataframe thead th {\n",
       "        text-align: right;\n",
       "    }\n",
       "</style>\n",
       "<table border=\"1\" class=\"dataframe\">\n",
       "  <thead>\n",
       "    <tr style=\"text-align: right;\">\n",
       "      <th></th>\n",
       "      <th>Unnamed: 0</th>\n",
       "      <th>customer_unique_id</th>\n",
       "      <th>recency</th>\n",
       "      <th>recency_cluster</th>\n",
       "      <th>frequency</th>\n",
       "      <th>frequency_cluster</th>\n",
       "      <th>revenue</th>\n",
       "      <th>revenue_cluster</th>\n",
       "      <th>rfm_score</th>\n",
       "      <th>Segment</th>\n",
       "      <th>revenue_3m</th>\n",
       "      <th>ltv_cluster</th>\n",
       "    </tr>\n",
       "  </thead>\n",
       "  <tbody>\n",
       "    <tr>\n",
       "      <th>0</th>\n",
       "      <td>0</td>\n",
       "      <td>0000366f3b9a7992bf8c76cfdf3221e2</td>\n",
       "      <td>160</td>\n",
       "      <td>3</td>\n",
       "      <td>1</td>\n",
       "      <td>0</td>\n",
       "      <td>141.90</td>\n",
       "      <td>0</td>\n",
       "      <td>3</td>\n",
       "      <td>Low-Value</td>\n",
       "      <td>0.00</td>\n",
       "      <td>0</td>\n",
       "    </tr>\n",
       "    <tr>\n",
       "      <th>1</th>\n",
       "      <td>1</td>\n",
       "      <td>0000b849f77a49e4a4ce2b2a4ca5be3f</td>\n",
       "      <td>163</td>\n",
       "      <td>3</td>\n",
       "      <td>1</td>\n",
       "      <td>0</td>\n",
       "      <td>27.19</td>\n",
       "      <td>0</td>\n",
       "      <td>3</td>\n",
       "      <td>Low-Value</td>\n",
       "      <td>0.00</td>\n",
       "      <td>0</td>\n",
       "    </tr>\n",
       "    <tr>\n",
       "      <th>2</th>\n",
       "      <td>2</td>\n",
       "      <td>000e309254ab1fc5ba99dd469d36bdb4</td>\n",
       "      <td>114</td>\n",
       "      <td>3</td>\n",
       "      <td>1</td>\n",
       "      <td>0</td>\n",
       "      <td>78.42</td>\n",
       "      <td>0</td>\n",
       "      <td>3</td>\n",
       "      <td>Low-Value</td>\n",
       "      <td>0.00</td>\n",
       "      <td>0</td>\n",
       "    </tr>\n",
       "    <tr>\n",
       "      <th>3</th>\n",
       "      <td>3</td>\n",
       "      <td>000ec5bff359e1c0ad76a81a45cb598f</td>\n",
       "      <td>57</td>\n",
       "      <td>3</td>\n",
       "      <td>1</td>\n",
       "      <td>0</td>\n",
       "      <td>27.75</td>\n",
       "      <td>0</td>\n",
       "      <td>3</td>\n",
       "      <td>Low-Value</td>\n",
       "      <td>27.75</td>\n",
       "      <td>0</td>\n",
       "    </tr>\n",
       "    <tr>\n",
       "      <th>4</th>\n",
       "      <td>4</td>\n",
       "      <td>000ed48ceeb6f4bf8ad021a10a3c7b43</td>\n",
       "      <td>150</td>\n",
       "      <td>3</td>\n",
       "      <td>1</td>\n",
       "      <td>0</td>\n",
       "      <td>20.75</td>\n",
       "      <td>0</td>\n",
       "      <td>3</td>\n",
       "      <td>Low-Value</td>\n",
       "      <td>0.00</td>\n",
       "      <td>0</td>\n",
       "    </tr>\n",
       "  </tbody>\n",
       "</table>\n",
       "</div>"
      ],
      "text/plain": [
       "   Unnamed: 0                customer_unique_id  recency  recency_cluster  \\\n",
       "0           0  0000366f3b9a7992bf8c76cfdf3221e2      160                3   \n",
       "1           1  0000b849f77a49e4a4ce2b2a4ca5be3f      163                3   \n",
       "2           2  000e309254ab1fc5ba99dd469d36bdb4      114                3   \n",
       "3           3  000ec5bff359e1c0ad76a81a45cb598f       57                3   \n",
       "4           4  000ed48ceeb6f4bf8ad021a10a3c7b43      150                3   \n",
       "\n",
       "   frequency  frequency_cluster  revenue  revenue_cluster  rfm_score  \\\n",
       "0          1                  0   141.90                0          3   \n",
       "1          1                  0    27.19                0          3   \n",
       "2          1                  0    78.42                0          3   \n",
       "3          1                  0    27.75                0          3   \n",
       "4          1                  0    20.75                0          3   \n",
       "\n",
       "     Segment  revenue_3m  ltv_cluster  \n",
       "0  Low-Value        0.00            0  \n",
       "1  Low-Value        0.00            0  \n",
       "2  Low-Value        0.00            0  \n",
       "3  Low-Value       27.75            0  \n",
       "4  Low-Value        0.00            0  "
      ]
     },
     "execution_count": 52,
     "metadata": {},
     "output_type": "execute_result"
    }
   ],
   "source": [
    "rfm_revenue_3m.drop(['Unnamed: 0'], axis=1)\n",
    "rfm_revenue_3m.head(5)"
   ]
  },
  {
   "cell_type": "code",
   "execution_count": 53,
   "metadata": {},
   "outputs": [
    {
     "name": "stdout",
     "output_type": "stream",
     "text": [
      "<class 'pandas.core.frame.DataFrame'>\n",
      "RangeIndex: 96095 entries, 0 to 96094\n",
      "Data columns (total 12 columns):\n",
      " #   Column              Non-Null Count  Dtype  \n",
      "---  ------              --------------  -----  \n",
      " 0   Unnamed: 0          96095 non-null  int64  \n",
      " 1   customer_unique_id  96095 non-null  object \n",
      " 2   recency             96095 non-null  int64  \n",
      " 3   recency_cluster     96095 non-null  int64  \n",
      " 4   frequency           96095 non-null  int64  \n",
      " 5   frequency_cluster   96095 non-null  int64  \n",
      " 6   revenue             96095 non-null  float64\n",
      " 7   revenue_cluster     96095 non-null  int64  \n",
      " 8   rfm_score           96095 non-null  int64  \n",
      " 9   Segment             96095 non-null  object \n",
      " 10  revenue_3m          96095 non-null  float64\n",
      " 11  ltv_cluster         96095 non-null  int32  \n",
      "dtypes: float64(2), int32(1), int64(7), object(2)\n",
      "memory usage: 8.4+ MB\n"
     ]
    }
   ],
   "source": [
    "rfm_revenue_3m.info()"
   ]
  },
  {
   "cell_type": "code",
   "execution_count": 54,
   "metadata": {},
   "outputs": [],
   "source": [
    "df_ML = rfm_revenue_3m.copy()\n",
    "df_ML = df_ML.drop(['Unnamed: 0'], axis=1)"
   ]
  },
  {
   "cell_type": "code",
   "execution_count": 55,
   "metadata": {},
   "outputs": [
    {
     "name": "stdout",
     "output_type": "stream",
     "text": [
      "<class 'pandas.core.frame.DataFrame'>\n",
      "RangeIndex: 96095 entries, 0 to 96094\n",
      "Data columns (total 11 columns):\n",
      " #   Column              Non-Null Count  Dtype  \n",
      "---  ------              --------------  -----  \n",
      " 0   customer_unique_id  96095 non-null  object \n",
      " 1   recency             96095 non-null  int64  \n",
      " 2   recency_cluster     96095 non-null  int64  \n",
      " 3   frequency           96095 non-null  int64  \n",
      " 4   frequency_cluster   96095 non-null  int64  \n",
      " 5   revenue             96095 non-null  float64\n",
      " 6   revenue_cluster     96095 non-null  int64  \n",
      " 7   rfm_score           96095 non-null  int64  \n",
      " 8   Segment             96095 non-null  object \n",
      " 9   revenue_3m          96095 non-null  float64\n",
      " 10  ltv_cluster         96095 non-null  int32  \n",
      "dtypes: float64(2), int32(1), int64(6), object(2)\n",
      "memory usage: 7.7+ MB\n"
     ]
    }
   ],
   "source": [
    "df_ML.info()"
   ]
  },
  {
   "cell_type": "code",
   "execution_count": 56,
   "metadata": {},
   "outputs": [],
   "source": [
    "#Categorical columns\n",
    "for i in [\"customer_unique_id\",\"recency_cluster\",\"frequency_cluster\", \"revenue_cluster\", \"Segment\", \"ltv_cluster\"]:\n",
    "    df_ML[i]= df_ML[i].astype('object')"
   ]
  },
  {
   "cell_type": "code",
   "execution_count": 57,
   "metadata": {},
   "outputs": [
    {
     "data": {
      "text/plain": [
       "['recency', 'frequency', 'revenue', 'rfm_score', 'revenue_3m']"
      ]
     },
     "execution_count": 57,
     "metadata": {},
     "output_type": "execute_result"
    }
   ],
   "source": [
    "#Numerical columns\n",
    "Num= df_ML.select_dtypes(exclude='object').columns.tolist()\n",
    "Num"
   ]
  },
  {
   "cell_type": "code",
   "execution_count": 58,
   "metadata": {},
   "outputs": [],
   "source": [
    "#Apply StandardScaler for numerical columns\n",
    "from sklearn.preprocessing import StandardScaler \n",
    "scalerNum = StandardScaler()\n",
    "\n",
    "for cols in Num:\n",
    "    df_ML[cols] = scalerNum.fit_transform(df_ML[[cols]])"
   ]
  },
  {
   "cell_type": "markdown",
   "metadata": {},
   "source": [
    "Categorical columns:"
   ]
  },
  {
   "cell_type": "code",
   "execution_count": 59,
   "metadata": {},
   "outputs": [
    {
     "data": {
      "text/plain": [
       "['customer_unique_id',\n",
       " 'recency_cluster',\n",
       " 'frequency_cluster',\n",
       " 'revenue_cluster',\n",
       " 'Segment',\n",
       " 'ltv_cluster']"
      ]
     },
     "execution_count": 59,
     "metadata": {},
     "output_type": "execute_result"
    }
   ],
   "source": [
    "Cat = df_ML.select_dtypes(include='object').columns.tolist()\n",
    "Cat"
   ]
  },
  {
   "cell_type": "code",
   "execution_count": 60,
   "metadata": {},
   "outputs": [
    {
     "data": {
      "text/html": [
       "<div>\n",
       "<style scoped>\n",
       "    .dataframe tbody tr th:only-of-type {\n",
       "        vertical-align: middle;\n",
       "    }\n",
       "\n",
       "    .dataframe tbody tr th {\n",
       "        vertical-align: top;\n",
       "    }\n",
       "\n",
       "    .dataframe thead th {\n",
       "        text-align: right;\n",
       "    }\n",
       "</style>\n",
       "<table border=\"1\" class=\"dataframe\">\n",
       "  <thead>\n",
       "    <tr style=\"text-align: right;\">\n",
       "      <th></th>\n",
       "      <th>customer_unique_id</th>\n",
       "      <th>recency</th>\n",
       "      <th>recency_cluster</th>\n",
       "      <th>frequency</th>\n",
       "      <th>frequency_cluster</th>\n",
       "      <th>revenue</th>\n",
       "      <th>revenue_cluster</th>\n",
       "      <th>rfm_score</th>\n",
       "      <th>Segment</th>\n",
       "      <th>revenue_3m</th>\n",
       "      <th>ltv_cluster</th>\n",
       "    </tr>\n",
       "  </thead>\n",
       "  <tbody>\n",
       "    <tr>\n",
       "      <th>0</th>\n",
       "      <td>0</td>\n",
       "      <td>-0.832626</td>\n",
       "      <td>3</td>\n",
       "      <td>-0.162369</td>\n",
       "      <td>0</td>\n",
       "      <td>-0.106704</td>\n",
       "      <td>0</td>\n",
       "      <td>0.907579</td>\n",
       "      <td>1</td>\n",
       "      <td>-0.178923</td>\n",
       "      <td>0</td>\n",
       "    </tr>\n",
       "    <tr>\n",
       "      <th>1</th>\n",
       "      <td>1</td>\n",
       "      <td>-0.813071</td>\n",
       "      <td>3</td>\n",
       "      <td>-0.162369</td>\n",
       "      <td>0</td>\n",
       "      <td>-0.602366</td>\n",
       "      <td>0</td>\n",
       "      <td>0.907579</td>\n",
       "      <td>1</td>\n",
       "      <td>-0.178923</td>\n",
       "      <td>0</td>\n",
       "    </tr>\n",
       "    <tr>\n",
       "      <th>2</th>\n",
       "      <td>19</td>\n",
       "      <td>-1.132482</td>\n",
       "      <td>3</td>\n",
       "      <td>-0.162369</td>\n",
       "      <td>0</td>\n",
       "      <td>-0.381001</td>\n",
       "      <td>0</td>\n",
       "      <td>0.907579</td>\n",
       "      <td>1</td>\n",
       "      <td>-0.178923</td>\n",
       "      <td>0</td>\n",
       "    </tr>\n",
       "    <tr>\n",
       "      <th>3</th>\n",
       "      <td>20</td>\n",
       "      <td>-1.504043</td>\n",
       "      <td>3</td>\n",
       "      <td>-0.162369</td>\n",
       "      <td>0</td>\n",
       "      <td>-0.599946</td>\n",
       "      <td>0</td>\n",
       "      <td>0.907579</td>\n",
       "      <td>1</td>\n",
       "      <td>0.111476</td>\n",
       "      <td>0</td>\n",
       "    </tr>\n",
       "    <tr>\n",
       "      <th>4</th>\n",
       "      <td>21</td>\n",
       "      <td>-0.897812</td>\n",
       "      <td>3</td>\n",
       "      <td>-0.162369</td>\n",
       "      <td>0</td>\n",
       "      <td>-0.630193</td>\n",
       "      <td>0</td>\n",
       "      <td>0.907579</td>\n",
       "      <td>1</td>\n",
       "      <td>-0.178923</td>\n",
       "      <td>0</td>\n",
       "    </tr>\n",
       "  </tbody>\n",
       "</table>\n",
       "</div>"
      ],
      "text/plain": [
       "   customer_unique_id   recency  recency_cluster  frequency  \\\n",
       "0                   0 -0.832626                3  -0.162369   \n",
       "1                   1 -0.813071                3  -0.162369   \n",
       "2                  19 -1.132482                3  -0.162369   \n",
       "3                  20 -1.504043                3  -0.162369   \n",
       "4                  21 -0.897812                3  -0.162369   \n",
       "\n",
       "   frequency_cluster   revenue  revenue_cluster  rfm_score  Segment  \\\n",
       "0                  0 -0.106704                0   0.907579        1   \n",
       "1                  0 -0.602366                0   0.907579        1   \n",
       "2                  0 -0.381001                0   0.907579        1   \n",
       "3                  0 -0.599946                0   0.907579        1   \n",
       "4                  0 -0.630193                0   0.907579        1   \n",
       "\n",
       "   revenue_3m  ltv_cluster  \n",
       "0   -0.178923            0  \n",
       "1   -0.178923            0  \n",
       "2   -0.178923            0  \n",
       "3    0.111476            0  \n",
       "4   -0.178923            0  "
      ]
     },
     "execution_count": 60,
     "metadata": {},
     "output_type": "execute_result"
    }
   ],
   "source": [
    "#Apply LabelEncoder for categorical columns\n",
    "from sklearn.preprocessing import LabelEncoder\n",
    "df_ML = df_ML.apply(lambda x: LabelEncoder().fit_transform(x) if x.dtype == 'object' else x)\n",
    "df_ML.head()"
   ]
  },
  {
   "cell_type": "markdown",
   "metadata": {},
   "source": [
    "# Data preparation"
   ]
  },
  {
   "cell_type": "code",
   "execution_count": 61,
   "metadata": {},
   "outputs": [],
   "source": [
    "#Create X, y with X for feature set and y for lable set - CLV\n",
    "X = df_ML.drop(['ltv_cluster', 'revenue_3m'], axis = 1)\n",
    "y = df_ML['ltv_cluster']"
   ]
  },
  {
   "cell_type": "code",
   "execution_count": 71,
   "metadata": {},
   "outputs": [],
   "source": [
    "#Train Test Split\n",
    "from sklearn.model_selection import KFold, cross_val_score, train_test_split\n",
    "X_train, X_test, y_train, y_test = train_test_split(X, y, test_size = 0.33, random_state =0 )"
   ]
  },
  {
   "cell_type": "code",
   "execution_count": 72,
   "metadata": {},
   "outputs": [],
   "source": [
    "from sklearn.neighbors import KNeighborsClassifier\n",
    "from sklearn.linear_model import LogisticRegression\n",
    "from sklearn.svm import SVC\n",
    "from sklearn.ensemble import RandomForestClassifier\n",
    "from sklearn.ensemble import GradientBoostingClassifier \n",
    "import xgboost as xgb"
   ]
  },
  {
   "cell_type": "markdown",
   "metadata": {},
   "source": [
    "# Model training"
   ]
  },
  {
   "cell_type": "code",
   "execution_count": 73,
   "metadata": {},
   "outputs": [],
   "source": [
    "models = {\n",
    "    'K-Nearest Neighbors' : KNeighborsClassifier(),\n",
    "    'Logistic Regression' : LogisticRegression(),\n",
    "    'Random Forest' : RandomForestClassifier(),\n",
    "    'Gradient Boosting' : GradientBoostingClassifier(),\n",
    "    'XG Boosting' : xgb.XGBClassifier()\n",
    "}"
   ]
  },
  {
   "cell_type": "code",
   "execution_count": 74,
   "metadata": {},
   "outputs": [
    {
     "name": "stdout",
     "output_type": "stream",
     "text": [
      "K-Nearest Neighbors training started\n",
      "K-Nearest Neighbors trained\n",
      "****************************************\n",
      "Logistic Regression training started\n"
     ]
    },
    {
     "name": "stderr",
     "output_type": "stream",
     "text": [
      "/Users/phuongnguyen/Library/Python/3.9/lib/python/site-packages/sklearn/linear_model/_logistic.py:465: ConvergenceWarning: lbfgs failed to converge (status=1):\n",
      "STOP: TOTAL NO. of ITERATIONS REACHED LIMIT.\n",
      "\n",
      "Increase the number of iterations (max_iter) or scale the data as shown in:\n",
      "    https://scikit-learn.org/stable/modules/preprocessing.html\n",
      "Please also refer to the documentation for alternative solver options:\n",
      "    https://scikit-learn.org/stable/modules/linear_model.html#logistic-regression\n",
      "  n_iter_i = _check_optimize_result(\n"
     ]
    },
    {
     "name": "stdout",
     "output_type": "stream",
     "text": [
      "Logistic Regression trained\n",
      "****************************************\n",
      "Random Forest training started\n",
      "Random Forest trained\n",
      "****************************************\n",
      "Gradient Boosting training started\n",
      "Gradient Boosting trained\n",
      "****************************************\n",
      "XG Boosting training started\n",
      "XG Boosting trained\n",
      "****************************************\n",
      "FINISHED\n",
      "CPU times: user 31.4 s, sys: 1.77 s, total: 33.2 s\n",
      "Wall time: 23.9 s\n"
     ]
    }
   ],
   "source": [
    "%%time\n",
    "for name, model in models.items():\n",
    "    print(f'{name} training started')\n",
    "    model.fit(X_train, y_train)\n",
    "    print(f'{name} trained')\n",
    "    print(\"*\"*40)\n",
    "print(\"FINISHED\")"
   ]
  },
  {
   "cell_type": "markdown",
   "metadata": {},
   "source": [
    "# Evaluation"
   ]
  },
  {
   "cell_type": "code",
   "execution_count": 75,
   "metadata": {},
   "outputs": [],
   "source": [
    "from sklearn.metrics import accuracy_score \n",
    "from sklearn.metrics import confusion_matrix as CM\n",
    "from sklearn.metrics import classification_report\n",
    "\n",
    "from sklearn.metrics import roc_curve\n",
    "from sklearn.metrics import roc_auc_score\n",
    "from sklearn.datasets import make_classification"
   ]
  },
  {
   "cell_type": "code",
   "execution_count": 76,
   "metadata": {},
   "outputs": [
    {
     "name": "stdout",
     "output_type": "stream",
     "text": [
      "K-Nearest Neighbors accuracy score :  0.959\n",
      "Logistic Regression accuracy score :  0.958\n",
      "Random Forest accuracy score :  0.998\n",
      "Gradient Boosting accuracy score :  0.997\n",
      "XG Boosting accuracy score :  0.998\n"
     ]
    }
   ],
   "source": [
    "for name in models:\n",
    "    acc_score= round(accuracy_score(y_test, models.get(name).predict(X_test)), 3)\n",
    "    print(f'{name} accuracy score :  {acc_score}')\n"
   ]
  },
  {
   "cell_type": "code",
   "execution_count": 77,
   "metadata": {},
   "outputs": [
    {
     "name": "stdout",
     "output_type": "stream",
     "text": [
      "K-Nearest Neighbors classification report\n",
      "-------------------------------\n"
     ]
    },
    {
     "name": "stderr",
     "output_type": "stream",
     "text": [
      "/Users/phuongnguyen/Library/Python/3.9/lib/python/site-packages/sklearn/metrics/_classification.py:1565: UndefinedMetricWarning: Precision is ill-defined and being set to 0.0 in labels with no predicted samples. Use `zero_division` parameter to control this behavior.\n",
      "  _warn_prf(average, modifier, f\"{metric.capitalize()} is\", len(result))\n",
      "/Users/phuongnguyen/Library/Python/3.9/lib/python/site-packages/sklearn/metrics/_classification.py:1565: UndefinedMetricWarning: Precision is ill-defined and being set to 0.0 in labels with no predicted samples. Use `zero_division` parameter to control this behavior.\n",
      "  _warn_prf(average, modifier, f\"{metric.capitalize()} is\", len(result))\n",
      "/Users/phuongnguyen/Library/Python/3.9/lib/python/site-packages/sklearn/metrics/_classification.py:1565: UndefinedMetricWarning: Precision is ill-defined and being set to 0.0 in labels with no predicted samples. Use `zero_division` parameter to control this behavior.\n",
      "  _warn_prf(average, modifier, f\"{metric.capitalize()} is\", len(result))\n"
     ]
    },
    {
     "name": "stdout",
     "output_type": "stream",
     "text": [
      "              precision    recall  f1-score   support\n",
      "\n",
      "           0       0.96      1.00      0.98     30429\n",
      "           1       0.00      0.00      0.00        41\n",
      "           2       0.14      0.00      0.00      1242\n",
      "\n",
      "    accuracy                           0.96     31712\n",
      "   macro avg       0.37      0.33      0.33     31712\n",
      "weighted avg       0.93      0.96      0.94     31712\n",
      "\n",
      "******************************\n",
      " \n",
      "Logistic Regression classification report\n",
      "-------------------------------\n",
      "              precision    recall  f1-score   support\n",
      "\n",
      "           0       0.96      1.00      0.98     30429\n",
      "           1       0.20      0.07      0.11        41\n",
      "           2       0.30      0.05      0.08      1242\n",
      "\n",
      "    accuracy                           0.96     31712\n",
      "   macro avg       0.49      0.37      0.39     31712\n",
      "weighted avg       0.94      0.96      0.94     31712\n",
      "\n",
      "******************************\n",
      " \n",
      "Random Forest classification report\n",
      "-------------------------------\n",
      "              precision    recall  f1-score   support\n",
      "\n",
      "           0       1.00      1.00      1.00     30429\n",
      "           1       1.00      1.00      1.00        41\n",
      "           2       0.98      0.98      0.98      1242\n",
      "\n",
      "    accuracy                           1.00     31712\n",
      "   macro avg       0.99      0.99      0.99     31712\n",
      "weighted avg       1.00      1.00      1.00     31712\n",
      "\n",
      "******************************\n",
      " \n",
      "Gradient Boosting classification report\n",
      "-------------------------------\n",
      "              precision    recall  f1-score   support\n",
      "\n",
      "           0       1.00      1.00      1.00     30429\n",
      "           1       1.00      0.15      0.26        41\n",
      "           2       0.97      0.98      0.98      1242\n",
      "\n",
      "    accuracy                           1.00     31712\n",
      "   macro avg       0.99      0.71      0.74     31712\n",
      "weighted avg       1.00      1.00      1.00     31712\n",
      "\n",
      "******************************\n",
      " \n",
      "XG Boosting classification report\n",
      "-------------------------------\n",
      "              precision    recall  f1-score   support\n",
      "\n",
      "           0       1.00      1.00      1.00     30429\n",
      "           1       0.97      0.85      0.91        41\n",
      "           2       0.97      0.97      0.97      1242\n",
      "\n",
      "    accuracy                           1.00     31712\n",
      "   macro avg       0.98      0.94      0.96     31712\n",
      "weighted avg       1.00      1.00      1.00     31712\n",
      "\n",
      "******************************\n",
      " \n"
     ]
    }
   ],
   "source": [
    "for name in models:\n",
    "    print(f'{name} classification report')\n",
    "    print(\"-------------------------------\")\n",
    "    print(classification_report(y_test, models.get(name).predict(X_test)))\n",
    "    print(\"******************************\")\n",
    "    print(\" \")"
   ]
  },
  {
   "cell_type": "markdown",
   "metadata": {},
   "source": [
    "Reference:\n",
    "- Kaggle notebook: https://www.kaggle.com/code/yaseminturker/customer-lifetime-value-clv-prediction"
   ]
  }
 ],
 "metadata": {
  "kernelspec": {
   "display_name": "Python 3",
   "language": "python",
   "name": "python3"
  },
  "language_info": {
   "codemirror_mode": {
    "name": "ipython",
    "version": 3
   },
   "file_extension": ".py",
   "mimetype": "text/x-python",
   "name": "python",
   "nbconvert_exporter": "python",
   "pygments_lexer": "ipython3",
   "version": "3.9.6"
  }
 },
 "nbformat": 4,
 "nbformat_minor": 2
}
